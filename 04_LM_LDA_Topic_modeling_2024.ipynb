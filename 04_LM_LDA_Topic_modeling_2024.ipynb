{
  "nbformat": 4,
  "nbformat_minor": 0,
  "metadata": {
    "colab": {
      "provenance": [],
      "toc_visible": true,
      "include_colab_link": true
    },
    "kernelspec": {
      "name": "python3",
      "display_name": "Python 3"
    }
  },
  "cells": [
    {
      "cell_type": "markdown",
      "metadata": {
        "id": "view-in-github",
        "colab_type": "text"
      },
      "source": [
        "<a href=\"https://colab.research.google.com/github/polinauni/IntroToML/blob/main/04_LM_LDA_Topic_modeling_2024.ipynb\" target=\"_parent\"><img src=\"https://colab.research.google.com/assets/colab-badge.svg\" alt=\"Open In Colab\"/></a>"
      ]
    },
    {
      "cell_type": "markdown",
      "source": [
        "# Clustering Documents"
      ],
      "metadata": {
        "id": "0QCMG-L_oPQ6"
      }
    },
    {
      "cell_type": "markdown",
      "metadata": {
        "id": "nzhvlugtZytc"
      },
      "source": [
        "In this notebook, you'll learn about **Latent Dirichlet Allocation** (LDA) algorithm, and how to use it to cluster documents based on automatically generated topics, made out of their content words.\n",
        "\n",
        "Key-learning:\n",
        "- Unsupervised machine learning for NLP\n",
        "- Clustering Documents\n",
        "- LDA\n",
        "- python packages: *pandas*, [*gensim*](https://pypi.org/project/gensim/)\n",
        "\n",
        "Terms in this notebook:\n",
        "- Bag of Words (BoW)\n",
        "- LDA\n",
        "- Clustering\n",
        "- TF/IDF\n",
        "\n",
        "This notebook includes two recommended videos (total length: 25min).\n",
        "\n",
        "Estimated reading duration: 1-2h.\n"
      ]
    },
    {
      "cell_type": "markdown",
      "metadata": {
        "id": "LuFLTklaSGqw"
      },
      "source": [
        "# Setup"
      ]
    },
    {
      "cell_type": "markdown",
      "metadata": {
        "id": "ncCmcyBB_KyW"
      },
      "source": [
        "We start by importing [pandas](https://pandas.pydata.org/) - an essential tool for data scientists!\n",
        "\n",
        "We load a .CSV (Comma Seperated Values) file of German news articles from https://github.com/tblock/10kGNAD\n"
      ]
    },
    {
      "cell_type": "code",
      "source": [
        "from IPython.display import YouTubeVideo"
      ],
      "metadata": {
        "id": "9e5gBKX3pFlC"
      },
      "execution_count": 1,
      "outputs": []
    },
    {
      "cell_type": "code",
      "metadata": {
        "id": "KfprTyMF4BG1",
        "outputId": "b3ad4d76-4332-4cfb-d6da-ce1c5da72f86",
        "colab": {
          "base_uri": "https://localhost:8080/"
        }
      },
      "source": [
        "import pandas as pd\n",
        "\n",
        "import nltk\n",
        "nltk.download('punkt')\n",
        "nltk.download('stopwords')\n",
        "nltk.download('averaged_perceptron_tagger')\n",
        "nltk.download('universal_tagset')\n",
        "\n"
      ],
      "execution_count": 2,
      "outputs": [
        {
          "output_type": "stream",
          "name": "stderr",
          "text": [
            "[nltk_data] Downloading package punkt to /root/nltk_data...\n",
            "[nltk_data]   Unzipping tokenizers/punkt.zip.\n",
            "[nltk_data] Downloading package stopwords to /root/nltk_data...\n",
            "[nltk_data]   Unzipping corpora/stopwords.zip.\n",
            "[nltk_data] Downloading package averaged_perceptron_tagger to\n",
            "[nltk_data]     /root/nltk_data...\n",
            "[nltk_data]   Unzipping taggers/averaged_perceptron_tagger.zip.\n",
            "[nltk_data] Downloading package universal_tagset to /root/nltk_data...\n",
            "[nltk_data]   Unzipping taggers/universal_tagset.zip.\n"
          ]
        },
        {
          "output_type": "execute_result",
          "data": {
            "text/plain": [
              "True"
            ]
          },
          "metadata": {},
          "execution_count": 2
        }
      ]
    },
    {
      "cell_type": "markdown",
      "source": [
        "Pandas is a useful package to load CSV files and to parse them. It can also parse TSV - separated by tabs, or as in our case, separated by a `;`.  \n",
        "Pandas is often used as the first-step for data scientists to load and analyze data."
      ],
      "metadata": {
        "id": "v62qoMC7U7W-"
      }
    },
    {
      "cell_type": "code",
      "metadata": {
        "id": "ieItNWA44BEA"
      },
      "source": [
        "df_articles = pd.read_csv('https://raw.githubusercontent.com/tblock/10kGNAD/master/articles.csv',\n",
        "                 sep=';',       # this file is actually a TSV, separated by \";\"\n",
        "                 on_bad_lines='skip',\n",
        "                 header=None,   # There is no header line for this CSV...\n",
        "                 # .. so we define the column names here:\n",
        "                 names=['article_category', 'content'],\n",
        "                 # And by specifiying the column as a Categorical type,\n",
        "                 # we can save computer memory! Yay!\n",
        "                 dtype={'article_category': 'category'})"
      ],
      "execution_count": 3,
      "outputs": []
    },
    {
      "cell_type": "markdown",
      "source": [
        "**Note:** Specifying a column with repeated strings as a category is a good Pandas' trick to be aware of. Often the dataset can't fit into the memory, and by specifiying columns as a categorical column when loading the data (`pd.read_csv`), we get to spare memory and allow the dataset to fit the working memory better."
      ],
      "metadata": {
        "id": "SVusBTWghIkz"
      }
    },
    {
      "cell_type": "code",
      "source": [
        "df_articles"
      ],
      "metadata": {
        "id": "XyYuGSLJSNCA",
        "outputId": "481d04ee-2c58-4a86-b5fd-f288fcb242bb",
        "colab": {
          "base_uri": "https://localhost:8080/",
          "height": 423
        }
      },
      "execution_count": 5,
      "outputs": [
        {
          "output_type": "execute_result",
          "data": {
            "text/plain": [
              "     article_category                                            content\n",
              "0                Etat  Die ARD-Tochter Degeto hat sich verpflichtet, ...\n",
              "1                Etat  App sei nicht so angenommen worden wie geplant...\n",
              "2                Etat  Mitarbeiter überreichten Eigentümervertretern ...\n",
              "3                Etat  Service: Jobwechsel in der Kommunikationsbranc...\n",
              "4                Etat  Was Sie über diese Woche wissen sollten - und ...\n",
              "...               ...                                                ...\n",
              "9571     Wissenschaft  Die Fundstelle in Südengland ist Unesco-Weltku...\n",
              "9572     Wissenschaft  Im Team arbeitet auch ein Inspektor der sudane...\n",
              "9573     Wissenschaft  Die zentrale Frage des Projekts: Siedelten Ägy...\n",
              "9574     Wissenschaft  Klimatische Verschlechterungen dürften zur Auf...\n",
              "9575     Wissenschaft  Knochen können zum Verständnis des Lebens in d...\n",
              "\n",
              "[9576 rows x 2 columns]"
            ],
            "text/html": [
              "\n",
              "  <div id=\"df-ef76f055-03d7-49db-9ba4-2273b42f6028\" class=\"colab-df-container\">\n",
              "    <div>\n",
              "<style scoped>\n",
              "    .dataframe tbody tr th:only-of-type {\n",
              "        vertical-align: middle;\n",
              "    }\n",
              "\n",
              "    .dataframe tbody tr th {\n",
              "        vertical-align: top;\n",
              "    }\n",
              "\n",
              "    .dataframe thead th {\n",
              "        text-align: right;\n",
              "    }\n",
              "</style>\n",
              "<table border=\"1\" class=\"dataframe\">\n",
              "  <thead>\n",
              "    <tr style=\"text-align: right;\">\n",
              "      <th></th>\n",
              "      <th>article_category</th>\n",
              "      <th>content</th>\n",
              "    </tr>\n",
              "  </thead>\n",
              "  <tbody>\n",
              "    <tr>\n",
              "      <th>0</th>\n",
              "      <td>Etat</td>\n",
              "      <td>Die ARD-Tochter Degeto hat sich verpflichtet, ...</td>\n",
              "    </tr>\n",
              "    <tr>\n",
              "      <th>1</th>\n",
              "      <td>Etat</td>\n",
              "      <td>App sei nicht so angenommen worden wie geplant...</td>\n",
              "    </tr>\n",
              "    <tr>\n",
              "      <th>2</th>\n",
              "      <td>Etat</td>\n",
              "      <td>Mitarbeiter überreichten Eigentümervertretern ...</td>\n",
              "    </tr>\n",
              "    <tr>\n",
              "      <th>3</th>\n",
              "      <td>Etat</td>\n",
              "      <td>Service: Jobwechsel in der Kommunikationsbranc...</td>\n",
              "    </tr>\n",
              "    <tr>\n",
              "      <th>4</th>\n",
              "      <td>Etat</td>\n",
              "      <td>Was Sie über diese Woche wissen sollten - und ...</td>\n",
              "    </tr>\n",
              "    <tr>\n",
              "      <th>...</th>\n",
              "      <td>...</td>\n",
              "      <td>...</td>\n",
              "    </tr>\n",
              "    <tr>\n",
              "      <th>9571</th>\n",
              "      <td>Wissenschaft</td>\n",
              "      <td>Die Fundstelle in Südengland ist Unesco-Weltku...</td>\n",
              "    </tr>\n",
              "    <tr>\n",
              "      <th>9572</th>\n",
              "      <td>Wissenschaft</td>\n",
              "      <td>Im Team arbeitet auch ein Inspektor der sudane...</td>\n",
              "    </tr>\n",
              "    <tr>\n",
              "      <th>9573</th>\n",
              "      <td>Wissenschaft</td>\n",
              "      <td>Die zentrale Frage des Projekts: Siedelten Ägy...</td>\n",
              "    </tr>\n",
              "    <tr>\n",
              "      <th>9574</th>\n",
              "      <td>Wissenschaft</td>\n",
              "      <td>Klimatische Verschlechterungen dürften zur Auf...</td>\n",
              "    </tr>\n",
              "    <tr>\n",
              "      <th>9575</th>\n",
              "      <td>Wissenschaft</td>\n",
              "      <td>Knochen können zum Verständnis des Lebens in d...</td>\n",
              "    </tr>\n",
              "  </tbody>\n",
              "</table>\n",
              "<p>9576 rows × 2 columns</p>\n",
              "</div>\n",
              "    <div class=\"colab-df-buttons\">\n",
              "\n",
              "  <div class=\"colab-df-container\">\n",
              "    <button class=\"colab-df-convert\" onclick=\"convertToInteractive('df-ef76f055-03d7-49db-9ba4-2273b42f6028')\"\n",
              "            title=\"Convert this dataframe to an interactive table.\"\n",
              "            style=\"display:none;\">\n",
              "\n",
              "  <svg xmlns=\"http://www.w3.org/2000/svg\" height=\"24px\" viewBox=\"0 -960 960 960\">\n",
              "    <path d=\"M120-120v-720h720v720H120Zm60-500h600v-160H180v160Zm220 220h160v-160H400v160Zm0 220h160v-160H400v160ZM180-400h160v-160H180v160Zm440 0h160v-160H620v160ZM180-180h160v-160H180v160Zm440 0h160v-160H620v160Z\"/>\n",
              "  </svg>\n",
              "    </button>\n",
              "\n",
              "  <style>\n",
              "    .colab-df-container {\n",
              "      display:flex;\n",
              "      gap: 12px;\n",
              "    }\n",
              "\n",
              "    .colab-df-convert {\n",
              "      background-color: #E8F0FE;\n",
              "      border: none;\n",
              "      border-radius: 50%;\n",
              "      cursor: pointer;\n",
              "      display: none;\n",
              "      fill: #1967D2;\n",
              "      height: 32px;\n",
              "      padding: 0 0 0 0;\n",
              "      width: 32px;\n",
              "    }\n",
              "\n",
              "    .colab-df-convert:hover {\n",
              "      background-color: #E2EBFA;\n",
              "      box-shadow: 0px 1px 2px rgba(60, 64, 67, 0.3), 0px 1px 3px 1px rgba(60, 64, 67, 0.15);\n",
              "      fill: #174EA6;\n",
              "    }\n",
              "\n",
              "    .colab-df-buttons div {\n",
              "      margin-bottom: 4px;\n",
              "    }\n",
              "\n",
              "    [theme=dark] .colab-df-convert {\n",
              "      background-color: #3B4455;\n",
              "      fill: #D2E3FC;\n",
              "    }\n",
              "\n",
              "    [theme=dark] .colab-df-convert:hover {\n",
              "      background-color: #434B5C;\n",
              "      box-shadow: 0px 1px 3px 1px rgba(0, 0, 0, 0.15);\n",
              "      filter: drop-shadow(0px 1px 2px rgba(0, 0, 0, 0.3));\n",
              "      fill: #FFFFFF;\n",
              "    }\n",
              "  </style>\n",
              "\n",
              "    <script>\n",
              "      const buttonEl =\n",
              "        document.querySelector('#df-ef76f055-03d7-49db-9ba4-2273b42f6028 button.colab-df-convert');\n",
              "      buttonEl.style.display =\n",
              "        google.colab.kernel.accessAllowed ? 'block' : 'none';\n",
              "\n",
              "      async function convertToInteractive(key) {\n",
              "        const element = document.querySelector('#df-ef76f055-03d7-49db-9ba4-2273b42f6028');\n",
              "        const dataTable =\n",
              "          await google.colab.kernel.invokeFunction('convertToInteractive',\n",
              "                                                    [key], {});\n",
              "        if (!dataTable) return;\n",
              "\n",
              "        const docLinkHtml = 'Like what you see? Visit the ' +\n",
              "          '<a target=\"_blank\" href=https://colab.research.google.com/notebooks/data_table.ipynb>data table notebook</a>'\n",
              "          + ' to learn more about interactive tables.';\n",
              "        element.innerHTML = '';\n",
              "        dataTable['output_type'] = 'display_data';\n",
              "        await google.colab.output.renderOutput(dataTable, element);\n",
              "        const docLink = document.createElement('div');\n",
              "        docLink.innerHTML = docLinkHtml;\n",
              "        element.appendChild(docLink);\n",
              "      }\n",
              "    </script>\n",
              "  </div>\n",
              "\n",
              "\n",
              "<div id=\"df-df143424-9ea2-48a6-bd93-6b1cdcfc4039\">\n",
              "  <button class=\"colab-df-quickchart\" onclick=\"quickchart('df-df143424-9ea2-48a6-bd93-6b1cdcfc4039')\"\n",
              "            title=\"Suggest charts\"\n",
              "            style=\"display:none;\">\n",
              "\n",
              "<svg xmlns=\"http://www.w3.org/2000/svg\" height=\"24px\"viewBox=\"0 0 24 24\"\n",
              "     width=\"24px\">\n",
              "    <g>\n",
              "        <path d=\"M19 3H5c-1.1 0-2 .9-2 2v14c0 1.1.9 2 2 2h14c1.1 0 2-.9 2-2V5c0-1.1-.9-2-2-2zM9 17H7v-7h2v7zm4 0h-2V7h2v10zm4 0h-2v-4h2v4z\"/>\n",
              "    </g>\n",
              "</svg>\n",
              "  </button>\n",
              "\n",
              "<style>\n",
              "  .colab-df-quickchart {\n",
              "      --bg-color: #E8F0FE;\n",
              "      --fill-color: #1967D2;\n",
              "      --hover-bg-color: #E2EBFA;\n",
              "      --hover-fill-color: #174EA6;\n",
              "      --disabled-fill-color: #AAA;\n",
              "      --disabled-bg-color: #DDD;\n",
              "  }\n",
              "\n",
              "  [theme=dark] .colab-df-quickchart {\n",
              "      --bg-color: #3B4455;\n",
              "      --fill-color: #D2E3FC;\n",
              "      --hover-bg-color: #434B5C;\n",
              "      --hover-fill-color: #FFFFFF;\n",
              "      --disabled-bg-color: #3B4455;\n",
              "      --disabled-fill-color: #666;\n",
              "  }\n",
              "\n",
              "  .colab-df-quickchart {\n",
              "    background-color: var(--bg-color);\n",
              "    border: none;\n",
              "    border-radius: 50%;\n",
              "    cursor: pointer;\n",
              "    display: none;\n",
              "    fill: var(--fill-color);\n",
              "    height: 32px;\n",
              "    padding: 0;\n",
              "    width: 32px;\n",
              "  }\n",
              "\n",
              "  .colab-df-quickchart:hover {\n",
              "    background-color: var(--hover-bg-color);\n",
              "    box-shadow: 0 1px 2px rgba(60, 64, 67, 0.3), 0 1px 3px 1px rgba(60, 64, 67, 0.15);\n",
              "    fill: var(--button-hover-fill-color);\n",
              "  }\n",
              "\n",
              "  .colab-df-quickchart-complete:disabled,\n",
              "  .colab-df-quickchart-complete:disabled:hover {\n",
              "    background-color: var(--disabled-bg-color);\n",
              "    fill: var(--disabled-fill-color);\n",
              "    box-shadow: none;\n",
              "  }\n",
              "\n",
              "  .colab-df-spinner {\n",
              "    border: 2px solid var(--fill-color);\n",
              "    border-color: transparent;\n",
              "    border-bottom-color: var(--fill-color);\n",
              "    animation:\n",
              "      spin 1s steps(1) infinite;\n",
              "  }\n",
              "\n",
              "  @keyframes spin {\n",
              "    0% {\n",
              "      border-color: transparent;\n",
              "      border-bottom-color: var(--fill-color);\n",
              "      border-left-color: var(--fill-color);\n",
              "    }\n",
              "    20% {\n",
              "      border-color: transparent;\n",
              "      border-left-color: var(--fill-color);\n",
              "      border-top-color: var(--fill-color);\n",
              "    }\n",
              "    30% {\n",
              "      border-color: transparent;\n",
              "      border-left-color: var(--fill-color);\n",
              "      border-top-color: var(--fill-color);\n",
              "      border-right-color: var(--fill-color);\n",
              "    }\n",
              "    40% {\n",
              "      border-color: transparent;\n",
              "      border-right-color: var(--fill-color);\n",
              "      border-top-color: var(--fill-color);\n",
              "    }\n",
              "    60% {\n",
              "      border-color: transparent;\n",
              "      border-right-color: var(--fill-color);\n",
              "    }\n",
              "    80% {\n",
              "      border-color: transparent;\n",
              "      border-right-color: var(--fill-color);\n",
              "      border-bottom-color: var(--fill-color);\n",
              "    }\n",
              "    90% {\n",
              "      border-color: transparent;\n",
              "      border-bottom-color: var(--fill-color);\n",
              "    }\n",
              "  }\n",
              "</style>\n",
              "\n",
              "  <script>\n",
              "    async function quickchart(key) {\n",
              "      const quickchartButtonEl =\n",
              "        document.querySelector('#' + key + ' button');\n",
              "      quickchartButtonEl.disabled = true;  // To prevent multiple clicks.\n",
              "      quickchartButtonEl.classList.add('colab-df-spinner');\n",
              "      try {\n",
              "        const charts = await google.colab.kernel.invokeFunction(\n",
              "            'suggestCharts', [key], {});\n",
              "      } catch (error) {\n",
              "        console.error('Error during call to suggestCharts:', error);\n",
              "      }\n",
              "      quickchartButtonEl.classList.remove('colab-df-spinner');\n",
              "      quickchartButtonEl.classList.add('colab-df-quickchart-complete');\n",
              "    }\n",
              "    (() => {\n",
              "      let quickchartButtonEl =\n",
              "        document.querySelector('#df-df143424-9ea2-48a6-bd93-6b1cdcfc4039 button');\n",
              "      quickchartButtonEl.style.display =\n",
              "        google.colab.kernel.accessAllowed ? 'block' : 'none';\n",
              "    })();\n",
              "  </script>\n",
              "</div>\n",
              "\n",
              "  <div id=\"id_de23da42-055f-4bb8-801b-c15fb235c71d\">\n",
              "    <style>\n",
              "      .colab-df-generate {\n",
              "        background-color: #E8F0FE;\n",
              "        border: none;\n",
              "        border-radius: 50%;\n",
              "        cursor: pointer;\n",
              "        display: none;\n",
              "        fill: #1967D2;\n",
              "        height: 32px;\n",
              "        padding: 0 0 0 0;\n",
              "        width: 32px;\n",
              "      }\n",
              "\n",
              "      .colab-df-generate:hover {\n",
              "        background-color: #E2EBFA;\n",
              "        box-shadow: 0px 1px 2px rgba(60, 64, 67, 0.3), 0px 1px 3px 1px rgba(60, 64, 67, 0.15);\n",
              "        fill: #174EA6;\n",
              "      }\n",
              "\n",
              "      [theme=dark] .colab-df-generate {\n",
              "        background-color: #3B4455;\n",
              "        fill: #D2E3FC;\n",
              "      }\n",
              "\n",
              "      [theme=dark] .colab-df-generate:hover {\n",
              "        background-color: #434B5C;\n",
              "        box-shadow: 0px 1px 3px 1px rgba(0, 0, 0, 0.15);\n",
              "        filter: drop-shadow(0px 1px 2px rgba(0, 0, 0, 0.3));\n",
              "        fill: #FFFFFF;\n",
              "      }\n",
              "    </style>\n",
              "    <button class=\"colab-df-generate\" onclick=\"generateWithVariable('df_articles')\"\n",
              "            title=\"Generate code using this dataframe.\"\n",
              "            style=\"display:none;\">\n",
              "\n",
              "  <svg xmlns=\"http://www.w3.org/2000/svg\" height=\"24px\"viewBox=\"0 0 24 24\"\n",
              "       width=\"24px\">\n",
              "    <path d=\"M7,19H8.4L18.45,9,17,7.55,7,17.6ZM5,21V16.75L18.45,3.32a2,2,0,0,1,2.83,0l1.4,1.43a1.91,1.91,0,0,1,.58,1.4,1.91,1.91,0,0,1-.58,1.4L9.25,21ZM18.45,9,17,7.55Zm-12,3A5.31,5.31,0,0,0,4.9,8.1,5.31,5.31,0,0,0,1,6.5,5.31,5.31,0,0,0,4.9,4.9,5.31,5.31,0,0,0,6.5,1,5.31,5.31,0,0,0,8.1,4.9,5.31,5.31,0,0,0,12,6.5,5.46,5.46,0,0,0,6.5,12Z\"/>\n",
              "  </svg>\n",
              "    </button>\n",
              "    <script>\n",
              "      (() => {\n",
              "      const buttonEl =\n",
              "        document.querySelector('#id_de23da42-055f-4bb8-801b-c15fb235c71d button.colab-df-generate');\n",
              "      buttonEl.style.display =\n",
              "        google.colab.kernel.accessAllowed ? 'block' : 'none';\n",
              "\n",
              "      buttonEl.onclick = () => {\n",
              "        google.colab.notebook.generateWithVariable('df_articles');\n",
              "      }\n",
              "      })();\n",
              "    </script>\n",
              "  </div>\n",
              "\n",
              "    </div>\n",
              "  </div>\n"
            ],
            "application/vnd.google.colaboratory.intrinsic+json": {
              "type": "dataframe",
              "variable_name": "df_articles",
              "summary": "{\n  \"name\": \"df_articles\",\n  \"rows\": 9576,\n  \"fields\": [\n    {\n      \"column\": \"article_category\",\n      \"properties\": {\n        \"dtype\": \"category\",\n        \"num_unique_values\": 9,\n        \"samples\": [\n          \"Wirtschaft\",\n          \"Inland\",\n          \"Sport\"\n        ],\n        \"semantic_type\": \"\",\n        \"description\": \"\"\n      }\n    },\n    {\n      \"column\": \"content\",\n      \"properties\": {\n        \"dtype\": \"string\",\n        \"num_unique_values\": 9574,\n        \"samples\": [\n          \"Von dem E3-Showdeb\\u00fct des US-Herstellers kann sich die Branche eine Scheibe abschneiden. Es war Bethesdas erste eigene E3-Pressekonferenz und den Reaktionen der Journalisten und Zuseher zufolge hat der US-Herausgeber bei seinem Show-Deb\\u00fct sehr viel richtig gemacht. Erstmals in der Unternehmsgeschichte b\\u00fcndelte man seine prestigetr\\u00e4chtigen Kernmarken, um den Fans und der Konkurrenz zu zeigen, dass die Spielwelt mit einem weiteren Schwergewicht zu rechnen hat. Gleichzeitig machte der privat gef\\u00fchrte Mutterkonzern Zenimax damit ein klares Zugest\\u00e4ndnis zum teuren und in den letzten Jahren von vielen Branchenfehlschl\\u00e4gen gezeichneten AAA-Segment. Einerseits beeindruckte Bethesda mit einem ambitioniert angelegten Fahrplan, der in den folgenden 12 Monaten bis Ende Fr\\u00fchjahr 2016 die Ver\\u00f6ffentlichung von gleich drei Blockbustern vorsieht: Fallout 4, Doom und Dishonored 2. Jedes dieser Games wurde auf der E3 pr\\u00e4sentiert und bedient ein Millionenpublikum eingeschworener Fans. Andererseits ist es erfreulich zu sehen, dass es neben den wenigen Milliardenkonzernen rund um Activision und EA noch private Hersteller gibt, die ihr Kapital vorrangig in Hochglanzproduktionen investieren und auch daran festhalten. In Zeiten, in denen (einstige) Kolosse wie Konami oder Sega vom Zukunftsmarkt Mobile schw\\u00e4rmen, b\\u00f6rsennotierte Big Player ihre Franchises nach Gesch\\u00e4ftsquartalen richten und einander mit Marketingmillionen \\u00fcberbieten, ist dies alles andere als eine Selbstverst\\u00e4ndlichkeit. Mit der Vorstellungen des neuen Doom, eine moderne Interpretation des 1993 erschienenen Kult-Shooters, beweist Bethesda zudem, dass es gewillt ist, seinen Marken Zeit zu geben. Das mehrfach verschobene Projekt wurde vor ein paar Jahren komplett neu angefangen, nachdem die Produktion den internen Erwartungen des Studios id Software nicht gerecht wurde. Eine kostspielige Entscheidung, die jedoch sicherstellen sollte, dass derart wertvolle Marken langfristig nicht an Ansehen und Popularit\\u00e4t verlieren. Gleiches gilt f\\u00fcr Bethesdas andere Schl\\u00fcsselfranchises: Fallout 4 erscheint sage und schreibe sieben Jahre nach Teil 3 und der 2012 erschienene \\u00dcberraschungshit Dishonored wird erst vier Jahre sp\\u00e4ter eine Fortsetzung erhalten. Nach den heutigen Ma\\u00dfst\\u00e4ben annualisierter Spieleserien eine kleine Ewigkeit, die nicht gerade nach Profitmaximierung schreit. Und so aufregend es war, nach vielen Jahren einen neuen Big Player im Rampenlicht der E3 zu sehen, so beruhigt es als Videospielfan umso mehr, dass eine Wiederholung des Bethesda-Spektakels im n\\u00e4chsten Jahr alles andere als sicher ist. Denn w\\u00e4hrend nicht nur die eine oder andere vergangene Pressekonferenz mit farblosen L\\u00fcckenf\\u00fcllern oder leeren Ank\\u00fcndigungen nicht einmal Jahre sp\\u00e4ter erschienener oder auch wieder eingestellter Games gespickt war, hat Bethesda solange geschwiegen, bis es etwas Handfestes zu zeigen hatte. Auch davon kann sich die Branche eine Scheibe abschneiden.\",\n          \"Domain wieder erreichbar \\u2013 Unternehmen verweist auf IT-Probleme. Bei den \\u00d6BB hat eine Zugangs-Sperre bei Computern des Unternehmens f\\u00fcr die Internetseite norberthofer.at f\\u00fcr Aufregung gesorgt. Wie die Krone berichtete, konnte die Website von FP\\u00d6-Kandidat Norbert Hofer von Tausenden Computern der \\u00d6BB aus tagelang nicht aufgerufen werden \\u2013 jene von Alexander Van der Bellen (vanderbellen.at) hingegen schon. FP\\u00d6-Abgeordneter Christian H\\u00f6bart sprach von einer Frechheit. Die \\u00d6BB-Generaldirektion dementierte den Versuch einer politischen Beeinflussung: Die Ursache f\\u00fcr die Sperre war ein Fehler unseres IT-Lieferanten. Da diese Domain nicht unmittelbar nach ihrer Reservierung mit Inhalt bef\\u00fcllt war, wurde sie weggefiltert, zitierte die Krone ein entsprechendes Schreiben. Kurz nach der Anfrage der Zeitung war die Domain norberthofer.at von \\u00d6BB-PCs wieder erreichbar, so der Bericht.\",\n          \"Geb\\u00fcrtiger Bosnier kommt abl\\u00f6sefrei aus Kasachstan. Altach \\u2013 Der SCR Altach hat Mittelst\\u00fcrmer Mihret Topcagic verpflichtet. Der geb\\u00fcrtige Bosnier mit \\u00f6sterreichischer Staatsb\\u00fcrgerschaft spielte zuletzt zwei Jahre f\\u00fcr den kasachischen Klub Schachtjor Karagandy, er kommt abl\\u00f6sefrei. In Vorarlberg erh\\u00e4lt der 27-J\\u00e4hrige einen Vertrag bis Sommer 2017. Er hat beim WAC und bei der Admira bereits Bundesliga-Erfahrung gesammelt.\"\n        ],\n        \"semantic_type\": \"\",\n        \"description\": \"\"\n      }\n    }\n  ]\n}"
            }
          },
          "metadata": {},
          "execution_count": 5
        }
      ]
    },
    {
      "cell_type": "markdown",
      "source": [
        "Our corpus contains 9 categories, as seen below.  \n",
        "However, our plan now is to **ignore them**, and instead, use an **un**supervised algorithm to deduct the topics only by the articles content.   \n",
        "Or in other words: we will *cluster* those documents based on their content."
      ],
      "metadata": {
        "id": "eJtNm2v7V38-"
      }
    },
    {
      "cell_type": "code",
      "source": [
        "df_articles['article_category'].cat.categories"
      ],
      "metadata": {
        "colab": {
          "base_uri": "https://localhost:8080/"
        },
        "id": "KGgnGvdLVLkh",
        "outputId": "37bd8531-8944-436c-f1c6-90d8f6f9892e"
      },
      "execution_count": 6,
      "outputs": [
        {
          "output_type": "execute_result",
          "data": {
            "text/plain": [
              "Index(['Etat', 'Inland', 'International', 'Kultur', 'Panorama', 'Sport', 'Web',\n",
              "       'Wirtschaft', 'Wissenschaft'],\n",
              "      dtype='object')"
            ]
          },
          "metadata": {},
          "execution_count": 6
        }
      ]
    },
    {
      "cell_type": "markdown",
      "metadata": {
        "id": "lMnZgp90-Y7R"
      },
      "source": [
        "# Clustering with Latent Dirichlet Allocation (LDA)"
      ]
    },
    {
      "cell_type": "markdown",
      "metadata": {
        "id": "uvF0AlS6-dqA"
      },
      "source": [
        "## Introduction\n",
        "\n",
        "We start by clustering our data as an unsupervised learning task: **topic modeling**.\n",
        "\n",
        "There are many different methods to cluster documents. One of these methods is *topic modeling* - where an algorithm assigns a *topic* to each document and clusters these documents by these topics.\n",
        "\n",
        "Documents can be represented as a distribution of their words: their occurrences and frequencies. A set of words, which are relatively not frequent but are common to several documents, can express a document topic.  \n",
        "For example, suppose we locate documents with the words 'Android', 'OnePlus' and 'iPhone' in them. Based on the frequency of these words, we could assume that these documents are related to mobile phones.\n",
        "\n",
        "[Dirichlet](https://en.wikipedia.org/wiki/Dirichlet_distribution) is a distribution on probability distributions. In other words, it can handle the frequency of which a set of words appear (which have by themselves, each one, a frequency).\n",
        "\n",
        "For a deeper mathematical explanation of this distribution, watch this recommended video: https://www.youtube.com/watch?v=nfBNOWv1pgE"
      ]
    },
    {
      "cell_type": "code",
      "source": [
        "YouTubeVideo('nfBNOWv1pgE')"
      ],
      "metadata": {
        "colab": {
          "base_uri": "https://localhost:8080/",
          "height": 376
        },
        "id": "tHzU2nNmpKbp",
        "outputId": "e96cac65-93ee-4b4d-c8c9-58dd8b652a61"
      },
      "execution_count": null,
      "outputs": [
        {
          "output_type": "stream",
          "name": "stderr",
          "text": [
            "/usr/local/lib/python3.10/dist-packages/ipykernel/ipkernel.py:283: DeprecationWarning: `should_run_async` will not call `transform_cell` automatically in the future. Please pass the result to `transformed_cell` argument and any exception that happen during thetransform in `preprocessing_exc_tuple` in IPython 7.17 and above.\n",
            "  and should_run_async(code)\n"
          ]
        },
        {
          "output_type": "execute_result",
          "data": {
            "text/plain": [
              "<IPython.lib.display.YouTubeVideo at 0x7d3960584df0>"
            ],
            "text/html": [
              "\n",
              "        <iframe\n",
              "            width=\"400\"\n",
              "            height=\"300\"\n",
              "            src=\"https://www.youtube.com/embed/nfBNOWv1pgE\"\n",
              "            frameborder=\"0\"\n",
              "            allowfullscreen\n",
              "            \n",
              "        ></iframe>\n",
              "        "
            ],
            "image/jpeg": "[encoded data removed]"
          },
          "metadata": {},
          "execution_count": 53
        }
      ]
    },
    {
      "cell_type": "markdown",
      "source": [
        "LDA is an unsupervised algorithm that assigns topics to every document. These topics are described as a set of words.  \n",
        "Each document can contain several topics - more than just one topic.  \n",
        "For example, some article about Apple can be 80% mobile phones and 20% about business innovations or income.\n",
        "\n",
        "The [LDA paper](https://www.jmlr.org/papers/volume3/blei03a/blei03a.pdf) is a milestone in NLP and one of the recommended readings.\n",
        "\n",
        "If you're interested to learn more about the algorithm method, watch this video: https://www.youtube.com/watch?v=DWJYZq_fQ2A."
      ],
      "metadata": {
        "id": "EtlPh-CJpiM2"
      }
    },
    {
      "cell_type": "code",
      "source": [
        "YouTubeVideo('DWJYZq_fQ2A')"
      ],
      "metadata": {
        "colab": {
          "base_uri": "https://localhost:8080/",
          "height": 322
        },
        "id": "1x0Hfl2LpmQ0",
        "outputId": "8c5887f5-347e-43bd-8fc8-cec64450204e"
      },
      "execution_count": 7,
      "outputs": [
        {
          "output_type": "execute_result",
          "data": {
            "text/plain": [
              "<IPython.lib.display.YouTubeVideo at 0x7ee4579f1630>"
            ],
            "text/html": [
              "\n",
              "        <iframe\n",
              "            width=\"400\"\n",
              "            height=\"300\"\n",
              "            src=\"https://www.youtube.com/embed/DWJYZq_fQ2A\"\n",
              "            frameborder=\"0\"\n",
              "            allowfullscreen\n",
              "            \n",
              "        ></iframe>\n",
              "        "
            ],
            "image/jpeg": "[encoded data removed]"
          },
          "metadata": {},
          "execution_count": 7
        }
      ]
    },
    {
      "cell_type": "markdown",
      "source": [
        "Now, let's examine our German data set with LDA:"
      ],
      "metadata": {
        "id": "nXYgZ4M9plG8"
      }
    },
    {
      "cell_type": "markdown",
      "metadata": {
        "id": "ZjX33ZXRfsM4"
      },
      "source": [
        "In previous exercises, you got to know NLTK.\n",
        "\n",
        "### Stemming\n",
        "Here we will also use NLTK's methods of **stemming** the words. By returning to the root of the word, its stem, we reduce the dimensionality: the number of words in the vocabulary decreases. For example, instead of having different words for the singular and plural form - 'word' <--> 'words' or 'Kanzler', 'Kanzlers', 'Kanzlei', etc., we trim those words into 'Kanzl'. Hence we can reduce the size of the vocabulary by at least half.\n",
        "\n",
        "### Stop Words\n",
        "We will also remove `stopwords` from our text. In English, words such as: `a`, `an`, and `the` will be removed, as they don't add much to the meaning of the sentence. For each language, there is a different curated list of such words, and NLTK is a great source for those.\n",
        "\n",
        "### GenSim\n",
        "In this exercise, you'll be introduced to another package, specialized in topic modeling, called `gensim`:\n",
        "https://radimrehurek.com/gensim/\n",
        "\n"
      ]
    },
    {
      "cell_type": "code",
      "source": [
        "%pip install -U gensim --quiet"
      ],
      "metadata": {
        "id": "wXiy7e3wvTfP"
      },
      "execution_count": 8,
      "outputs": []
    },
    {
      "cell_type": "code",
      "metadata": {
        "id": "dA1Ek-yR4BBG"
      },
      "source": [
        "from pprint import pprint # for printing objects nicely\n",
        "\n",
        "from gensim import corpora, models\n",
        "from gensim.utils import simple_preprocess\n",
        "\n",
        "## Instead of the gensim English stopwords...\n",
        "# from gensim.parsing.preprocessing import STOPWORDS\n",
        "## ...we use nltk's German stopwords:\n",
        "from nltk.corpus import stopwords\n",
        "\n",
        "from nltk.stem.snowball import SnowballStemmer\n",
        "from nltk.stem.porter import *\n",
        "\n",
        "import numpy as np\n",
        "\n",
        "from random import choice\n",
        "\n",
        "np.random.seed(1234)"
      ],
      "execution_count": 9,
      "outputs": []
    },
    {
      "cell_type": "code",
      "source": [
        "# Initialize the Stemmers\n",
        "stemmer = SnowballStemmer('german')\n",
        "german_stop_words = set(stopwords.words('german'))\n",
        "\n",
        "\n",
        "def lemmatize_stemming(text):\n",
        "  \"\"\"lemmatize and stem a word\"\"\"\n",
        "  return stemmer.stem(text)\n",
        "\n",
        "\n",
        "def preprocess(text):\n",
        "  \"\"\"lemmatize and remove stopwords\"\"\"\n",
        "  result = [lemmatize_stemming(token)\n",
        "            for token in simple_preprocess(text)\n",
        "            if token not in german_stop_words and len(token) > 3]\n",
        "  return result\n"
      ],
      "metadata": {
        "id": "2zkoH-LZjmg6"
      },
      "execution_count": 10,
      "outputs": []
    },
    {
      "cell_type": "markdown",
      "metadata": {
        "id": "H9FeFqUmk7hJ"
      },
      "source": [
        "In our DataFrame, we have a table contains the articles and their topics.\n",
        "\n",
        "We only need the articles for this tasks - we will create our own topics. So, let's start by converting the articles column into a ist of all the articles:"
      ]
    },
    {
      "cell_type": "code",
      "metadata": {
        "id": "5Yk3kIqSjY6C",
        "outputId": "c790c132-befb-420c-928d-cff1bdfdd184",
        "colab": {
          "base_uri": "https://localhost:8080/"
        }
      },
      "source": [
        "all_articles = df_articles['content'].to_list()\n",
        "all_articles[:5]"
      ],
      "execution_count": 11,
      "outputs": [
        {
          "output_type": "execute_result",
          "data": {
            "text/plain": [
              "['Die ARD-Tochter Degeto hat sich verpflichtet, ab August einer Quotenregelung zu folgen, die für die Gleichstellung von Regisseurinnen sorgen soll. In mindestens 20 Prozent der Filme, die die ARD-Tochter Degeto produziert oder mitfinanziert, sollen ab Mitte August Frauen Regie führen. Degeto-Chefin Christine Strobl folgt mit dieser Selbstverpflichtung der Forderung von Pro Quote Regie. Die Vereinigung von Regisseurinnen hatte im vergangenen Jahr eine Quotenregelung gefordert, um den weiblichen Filmschaffenden mehr Gehör und ökonomische Gleichstellung zu verschaffen. Pro Quote Regie kritisiert, dass, während rund 50 Prozent der Regie-Studierenden weiblich seien, der Anteil der Regisseurinnen bei Fernsehfilmen nur bei 13 bis 15 Prozent liege. In Österreich sieht die Situation ähnlich aus, auch hier wird von unterschiedlichen Seiten Handlungsbedarf angemahnt. Aber wie soll dieser aussehen? Ist die Einführung der Quotenregelung auch für die österreichische Film- und Fernsehlandschaft sinnvoll? Diskutieren Sie im Forum.',\n",
              " 'App sei nicht so angenommen worden wie geplant. Wegen zu geringer Nutzung schaltet Spiegel Online nach zwei Jahren die Fußball-App aus, die App sei nicht so genutzt worden, wie man sich das vorgestellt habe. Dafür soll der Live-Fußball-Bereich in der News-App ausgebaut werden.',\n",
              " 'Mitarbeiter überreichten Eigentümervertretern Petition gegen Personalabbau. Wien – Mehrere hundert APA-Mitarbeiter haben laut dem Betriebsrat eine Resolution unterschrieben, die am Mittwoch den Eigentümervertretern übergeben wurde. Inhalt ist ein deutlicher Protest gegen den geplanten Personalabbau (DER STANDARD berichtete) und für eine Gleichstellung der Mitarbeiter von APA-Tochterunternehmen bei automatischen Gehaltsanpassungen. Ich lehne erneute Personalkürzungen oder gar Kündigungen, wie sie derzeit insbesondere in der Redaktion geplant sind, ab und unterstütze die Forderung nach einer verpflichtenden Weitergabe der jährlichen Ist-Erhöhung der Gehälter für alle MitarbeiterInnen der APA-Gruppe, heißt es in der Resolution. Sie wurde den Teilnehmern von Aufsichtsrats- und Vorstandssitzung von denen der zeitgleich stattfindenden Betriebsversammlung übergeben. Hauptkritikpunkt der Belegschaft ist, dass Sparmaßnahmen angekündigt würden, obwohl die APA seit Jahren Gewinne schreibe. Die als Genossenschaft organisierte Agentur gehört zu 45 Prozent dem ORF, den Rest teilen sich 13 Tageszeitungen. Ihnen wirft der Betriebsrat vor, Gewinne einzustreifen und gleichzeitig Sparprogramme zu verordnen. Peter Kropsch, Vorsitzender der APA-Geschäftsführung, versteht die Aufregung nicht vollends. Die APA sei ein gewinnorientiertes Unternehmen, das auch in Zukunft stabil aufgestellt sein müsse, sagt er zum STANDARD. Der Betriebsrat glaubt, dass man die Kosten einfach unbegrenzt weiterlaufen lassen kann, so Kropsch. Für 2016 steige das Personalbudget sogar, allerdings würden automatische Gehaltserhöhungen die Kosten für den einzelnen Mitarbeiter steigen lassen. Ob die APA die Qualität auch mit weniger Mitarbeitern aufrechterhalten könne? Na klar, sagt Kropsch – unter vergleichbaren Agenturen in Europa sei man am breitesten aufgestellt, da habe ich keine Angst. Persönlich habe er außerdem nur eine geringe Beteiligung an der Betriebsversammlung wahrgenommen.',\n",
              " 'Service: Jobwechsel in der Kommunikationsbranche im Überblick. Hier liefert derStandard.at/Etat Jobwechsel in der Kommunikationsbranche im Überblick. Grob sortiert nach Kalenderwochen, in denen die Infos einlangten. Quellen: Presse- und eigene Infos, andere Branchendienste wie Horizont.at und medianet.at. Wenn Sie Infos für uns haben, bitte ein Mail an etat@derstandard.at schicken. Woche 15 / 2017 Woche 14 / 2017 Woche 13 / 2017 Woche 12 / 2017 Woche 9 / 2017 Woche 8 / 2017 Woche 7 / 2017 Spannende neue Aufgaben voraus: ich mach ab Februar die Nachrichten auf @kurierat. Ich freu mich auch. https://t.co/0zC6EsrXe3 Woche 2 / 2017 Freu mich: Die ausgezeichnete Journalistin Münire Inam vom #ORFreport moderiert (alternierend mit Martina Rupp) ab 23.1. heute konkret! Wie es im kommenden Jahr weitergeht, lasse ich euch bald wissen. Es warten spannende neue Herausforderungen. Woche 45 / 2016 Stefan Huber wechselt von Media in Progress zu content garden technologies und übernimmt den Ausbau der Content Management Unit. Mich interessieren vor allem die Möglichkeiten, die sich aus der Kombination von Content und Technologie ergeben, sagt er.  Woche 43 / 2016 Woche 41 / 2016 Woche 38 / 2016 Woche 37 / 2016 Woche 33 / 2016  Woche 31 / 2016 Woche 30 / 2016 Krone-Anzeigenvermarktung: Thomas Kreuzer leitet die Branchenvermarktung Special Account, Thomas Grojer übernimmt die Regionalleitung Wien und Stammausgabe. Sie folgen in ihren neuen Funktionen Friedrich Dungl nach, der als Geschäftsführer in das Niederösterreichische Pressehaus wechselt. Woche 18 /2016 Vielen Dank! Ich verspreche auch, nicht über die Alpenrepublik und das Schnitzelland zu schreiben. https://t.co/zqj0HXZ7dD Andreas Csar wechselt vom Verband Österreichischer Zeitungen (VÖZ) als Leiter der Presse- und Öffentlichkeitsarbeit zur Stelle des Pressesprechers bei ecoplus (Wirtschaftsagentur des Landes Niederösterreichs). Woche 11 / 2016 Woche 6 / 2016 Woche 5 / 2016 Woche 4 / 2016 Die ÖBB holen Sven Pusswald von der OMV als Leiter der Konzernkommunikation & Public Affairs.',\n",
              " 'Was Sie über diese Woche wissen sollten - und was Sie gleich wieder vergessen können. Wien - Was hat sich diese Woche getan in der Medienwelt? Ist Ihnen da  nichts entgangen? Besser noch einmal durchchecken – im  Etat.at-Wochenquiz. Wir wünschen viel Spaß beim Mitmachen! Und für alle, die vorige Woche nicht so viel Zeit hatten, Medien-Nachrichten zu lesen: ein nützlicher Link.']"
            ]
          },
          "metadata": {},
          "execution_count": 11
        }
      ]
    },
    {
      "cell_type": "markdown",
      "metadata": {
        "id": "LNnJfuDllNhz"
      },
      "source": [
        "## Preprocessing\n",
        "\n",
        "Let's see an example, what happens when we pre-process a document.\n",
        "\n",
        "Look at the output of this cell, and compare the tokenized original document, to the lemmatized document:"
      ]
    },
    {
      "cell_type": "code",
      "metadata": {
        "id": "oVI6_TKjjm2B",
        "outputId": "c00db08b-2cd3-44b8-9e7d-bfb77f1b49d2",
        "colab": {
          "base_uri": "https://localhost:8080/"
        }
      },
      "source": [
        "print('original document: ')\n",
        "article = choice(all_articles)\n",
        "print(article, \"\\n\")\n",
        "\n",
        "# This time, we don't care about punctuations as tokens (Can you think why?):\n",
        "print('original document, broken into words: ')\n",
        "words = [word for word in article.split(' ')]\n",
        "print(words, \"\\n\")\n",
        "print(\"Vocabulary size of the original article:\", len(set(words)))\n",
        "\n",
        "# now let's see what happens when we pass the article into our preprocessing\n",
        "# method:\n",
        "print('\\n\\n tokenized and lemmatized document: ')\n",
        "preprocessed_article = preprocess(article)\n",
        "print(preprocessed_article, '\\n')\n",
        "print(\"Vocabulary size after preprocessing:\", len(set(preprocessed_article)))\n"
      ],
      "execution_count": 12,
      "outputs": [
        {
          "output_type": "stream",
          "name": "stdout",
          "text": [
            "original document: \n",
            "Fleischhacker hielt Projekt für \"unproblematisch\", spricht aber von einer \"Fehleinschätzung\". Mit der NZZ-Führung sei es nicht abgesprochen gewesen – NZZ: \"Entspricht nicht der offiziellen Policy\". Wien – Am auffälligsten, wenn man den i3 das erste Mal öffnet, ist, dass er – obwohl er relativ klein und kompakt ist – ein unglaublich großes Raumgefühl vermittelt: Das sagt ein Testimonial über den neuen BMW i3. Der Name des Testimonials: Michael Fleischhacker, Chefredakteur von NZZ.at. In der BMW-Kampagne Stories of Life – inspired by BMW i preist Fleischhacker die Vorzüge des BMW i3, das Video zeigt ihn auch in den Räumen von NZZ.at – gemeinsam mit Redakteuren. Fleischhacker lieferte auch Blogbeiträge für die BMW-Seite storiesoflife.at. Am Dienstag waren das Video und die Blogbeiträge (29.3.: Ich mag ihn wirklich sehr, unseren BMW i3, aber der größte lebende BMW-i3-Fan ist mit Sicherheit mein Sohn, 8.4.: Glaubensfragen – Beschleunigung schlägt ökologischen Schweinehund) noch auf storiesoflife.at abrufbar, am Mittwoch waren der Film und die Beiträge dort nicht mehr zu finden. Das Video war von mir nicht freigegeben, also wurde es wieder vom Netz genommen, sagt Fleischhacker darüber zum STANDARD. Ob die Tätigkeit als BMW-Werbeträger mit der Position als NZZ.at-Chefredakteur vereinbar sei, beantwortet Fleischhacker so: Nachdem es sich um ein Projekt handelt, das ich mit der Agentur als Privatperson vereinbart habe, ohne jedes Honorar und ohne jede Geschäftsbeziehung zwischen BMW und NZZ.at, hielt ich es für unproblematisch. Eine Fehleinschätzung, wie ich heute weiß. Er habe weder Geld noch eine andere Gegenleistung dafür bekommen, sagt Fleischhacker. Und für den Drehtag habe ich mir selbstverständlich Urlaub genommen. Mit der Leitung der Neuen Zürcher Zeitung sei das Projekt nicht abgesprochen gewesen. Er habe es für nicht genehmigungspflichtig gehalten. BMW wollte keine Stellungnahme abgeben und verweist auf die betreuende Agentur Vice. Dort bestätigt man dem STANDARD, dass das Video auf Wunsch Fleischhackers offline genommen wurde, weil es von ihm nicht freigegeben gewesen sei. Online war es seit 14. April. Ob Fleischhacker mit arbeitsrechtlichen Konsequenzen rechnen muss, will Myriam Käser, Sprecherin der Neuen Zürcher Zeitung, dem STANDARD nicht sagen. Sein Auftritt für BMW entspreche jedenfalls nicht der offiziellen Policy. Derzeit würden in Zürich neue, detaillierte Guidelines erarbeitet, um eine klare Trennung zwischen Werbung und Redaktion auch in Zukunft sicherzustellen. Festgehalten werden soll darin, welche Formate für uns in Frage kommen und welche nicht. Auch Werbeauftritte werden wir in diesem Rahmen regeln. Die Guidelines werden wir Werbekunden zur Verfügung stellen, aber auch unseren Lesern und anderen Interessierten zugänglich machen. Mit Fleischhacker und seiner Werbung für BMW habe das nichts zu tun, Anlass sei die Tatsache, dass es immer wieder neue Werbeformate gibt.  (ae, 28.4.2016) \n",
            "\n",
            "original document, broken into words: \n",
            "['Fleischhacker', 'hielt', 'Projekt', 'für', '\"unproblematisch\",', 'spricht', 'aber', 'von', 'einer', '\"Fehleinschätzung\".', 'Mit', 'der', 'NZZ-Führung', 'sei', 'es', 'nicht', 'abgesprochen', 'gewesen', '–', 'NZZ:', '\"Entspricht', 'nicht', 'der', 'offiziellen', 'Policy\".', 'Wien', '–', 'Am', 'auffälligsten,', 'wenn', 'man', 'den', 'i3', 'das', 'erste', 'Mal', 'öffnet,', 'ist,', 'dass', 'er', '–', 'obwohl', 'er', 'relativ', 'klein', 'und', 'kompakt', 'ist', '–', 'ein', 'unglaublich', 'großes', 'Raumgefühl', 'vermittelt:', 'Das', 'sagt', 'ein', 'Testimonial', 'über', 'den', 'neuen', 'BMW', 'i3.', 'Der', 'Name', 'des', 'Testimonials:', 'Michael', 'Fleischhacker,', 'Chefredakteur', 'von', 'NZZ.at.', 'In', 'der', 'BMW-Kampagne', 'Stories', 'of', 'Life', '–', 'inspired', 'by', 'BMW', 'i', 'preist', 'Fleischhacker', 'die', 'Vorzüge', 'des', 'BMW', 'i3,', 'das', 'Video', 'zeigt', 'ihn', 'auch', 'in', 'den', 'Räumen', 'von', 'NZZ.at', '–', 'gemeinsam', 'mit', 'Redakteuren.', 'Fleischhacker', 'lieferte', 'auch', 'Blogbeiträge', 'für', 'die', 'BMW-Seite', 'storiesoflife.at.', 'Am', 'Dienstag', 'waren', 'das', 'Video', 'und', 'die', 'Blogbeiträge', '(29.3.:', 'Ich', 'mag', 'ihn', 'wirklich', 'sehr,', 'unseren', 'BMW', 'i3,', 'aber', 'der', 'größte', 'lebende', 'BMW-i3-Fan', 'ist', 'mit', 'Sicherheit', 'mein', 'Sohn,', '8.4.:', 'Glaubensfragen', '–', 'Beschleunigung', 'schlägt', 'ökologischen', 'Schweinehund)', 'noch', 'auf', 'storiesoflife.at', 'abrufbar,', 'am', 'Mittwoch', 'waren', 'der', 'Film', 'und', 'die', 'Beiträge', 'dort', 'nicht', 'mehr', 'zu', 'finden.', 'Das', 'Video', 'war', 'von', 'mir', 'nicht', 'freigegeben,', 'also', 'wurde', 'es', 'wieder', 'vom', 'Netz', 'genommen,', 'sagt', 'Fleischhacker', 'darüber', 'zum', 'STANDARD.', 'Ob', 'die', 'Tätigkeit', 'als', 'BMW-Werbeträger', 'mit', 'der', 'Position', 'als', 'NZZ.at-Chefredakteur', 'vereinbar', 'sei,', 'beantwortet', 'Fleischhacker', 'so:', 'Nachdem', 'es', 'sich', 'um', 'ein', 'Projekt', 'handelt,', 'das', 'ich', 'mit', 'der', 'Agentur', 'als', 'Privatperson', 'vereinbart', 'habe,', 'ohne', 'jedes', 'Honorar', 'und', 'ohne', 'jede', 'Geschäftsbeziehung', 'zwischen', 'BMW', 'und', 'NZZ.at,', 'hielt', 'ich', 'es', 'für', 'unproblematisch.', 'Eine', 'Fehleinschätzung,', 'wie', 'ich', 'heute', 'weiß.', 'Er', 'habe', 'weder', 'Geld', 'noch', 'eine', 'andere', 'Gegenleistung', 'dafür', 'bekommen,', 'sagt', 'Fleischhacker.', 'Und', 'für', 'den', 'Drehtag', 'habe', 'ich', 'mir', 'selbstverständlich', 'Urlaub', 'genommen.', 'Mit', 'der', 'Leitung', 'der', 'Neuen', 'Zürcher', 'Zeitung', 'sei', 'das', 'Projekt', 'nicht', 'abgesprochen', 'gewesen.', 'Er', 'habe', 'es', 'für', 'nicht', 'genehmigungspflichtig', 'gehalten.', 'BMW', 'wollte', 'keine', 'Stellungnahme', 'abgeben', 'und', 'verweist', 'auf', 'die', 'betreuende', 'Agentur', 'Vice.', 'Dort', 'bestätigt', 'man', 'dem', 'STANDARD,', 'dass', 'das', 'Video', 'auf', 'Wunsch', 'Fleischhackers', 'offline', 'genommen', 'wurde,', 'weil', 'es', 'von', 'ihm', 'nicht', 'freigegeben', 'gewesen', 'sei.', 'Online', 'war', 'es', 'seit', '14.', 'April.', 'Ob', 'Fleischhacker', 'mit', 'arbeitsrechtlichen', 'Konsequenzen', 'rechnen', 'muss,', 'will', 'Myriam', 'Käser,', 'Sprecherin', 'der', 'Neuen', 'Zürcher', 'Zeitung,', 'dem', 'STANDARD', 'nicht', 'sagen.', 'Sein', 'Auftritt', 'für', 'BMW', 'entspreche', 'jedenfalls', 'nicht', 'der', 'offiziellen', 'Policy.', 'Derzeit', 'würden', 'in', 'Zürich', 'neue,', 'detaillierte', 'Guidelines', 'erarbeitet,', 'um', 'eine', 'klare', 'Trennung', 'zwischen', 'Werbung', 'und', 'Redaktion', 'auch', 'in', 'Zukunft', 'sicherzustellen.', 'Festgehalten', 'werden', 'soll', 'darin,', 'welche', 'Formate', 'für', 'uns', 'in', 'Frage', 'kommen', 'und', 'welche', 'nicht.', 'Auch', 'Werbeauftritte', 'werden', 'wir', 'in', 'diesem', 'Rahmen', 'regeln.', 'Die', 'Guidelines', 'werden', 'wir', 'Werbekunden', 'zur', 'Verfügung', 'stellen,', 'aber', 'auch', 'unseren', 'Lesern', 'und', 'anderen', 'Interessierten', 'zugänglich', 'machen.', 'Mit', 'Fleischhacker', 'und', 'seiner', 'Werbung', 'für', 'BMW', 'habe', 'das', 'nichts', 'zu', 'tun,', 'Anlass', 'sei', 'die', 'Tatsache,', 'dass', 'es', 'immer', 'wieder', 'neue', 'Werbeformate', 'gibt.', '', '(ae,', '28.4.2016)'] \n",
            "\n",
            "Vocabulary size of the original article: 278\n",
            "\n",
            "\n",
            " tokenized and lemmatized document: \n",
            "['fleischhack', 'hielt', 'projekt', 'unproblemat', 'spricht', 'fuhrung', 'abgesproch', 'entspricht', 'offiziell', 'policy', 'wien', 'auffall', 'erst', 'offnet', 'obwohl', 'relativ', 'klein', 'kompakt', 'unglaub', 'gross', 'raumgefuhl', 'vermittelt', 'sagt', 'testimonial', 'neu', 'nam', 'testimonial', 'michael', 'fleischhack', 'chefredakteur', 'kampagn', 'stori', 'lif', 'inspired', 'preist', 'fleischhack', 'vorzug', 'video', 'zeigt', 'raum', 'gemeinsam', 'redakteur', 'fleischhack', 'liefert', 'blogbeitrag', 'seit', 'storiesoflif', 'dienstag', 'video', 'blogbeitrag', 'wirklich', 'grosst', 'lebend', 'sich', 'sohn', 'glaubensfrag', 'beschleun', 'schlagt', 'okolog', 'schweinehund', 'storiesoflif', 'abrufbar', 'mittwoch', 'film', 'beitrag', 'mehr', 'find', 'video', 'freigegeb', 'wurd', 'netz', 'genomm', 'sagt', 'fleischhack', 'darub', 'standard', 'tatig', 'werbetrag', 'position', 'chefredakteur', 'vereinbar', 'beantwortet', 'fleischhack', 'nachd', 'projekt', 'handelt', 'agentur', 'privatperson', 'vereinbart', 'honorar', 'hielt', 'unproblemat', 'heut', 'weiss', 'wed', 'geld', 'gegenleist', 'dafur', 'bekomm', 'sagt', 'fleischhack', 'drehtag', 'urlaub', 'genomm', 'leitung', 'neu', 'zurch', 'zeitung', 'projekt', 'abgesproch', 'gehalt', 'stellungnahm', 'abgeb', 'verweist', 'betreu', 'agentur', 'vic', 'bestatigt', 'standard', 'video', 'wunsch', 'fleischhack', 'offlin', 'genomm', 'wurd', 'freigegeb', 'onlin', 'seit', 'april', 'fleischhack', 'konsequenz', 'rechn', 'myriam', 'kas', 'sprecherin', 'neu', 'zurch', 'zeitung', 'standard', 'sag', 'auftritt', 'entsprech', 'jedenfall', 'offiziell', 'policy', 'derzeit', 'zurich', 'neu', 'detailliert', 'guidelin', 'erarbeitet', 'klar', 'trennung', 'werbung', 'redaktion', 'zukunft', 'sicherzustell', 'festgehalt', 'darin', 'format', 'frag', 'komm', 'werbeauftritt', 'rahm', 'regeln', 'guidelin', 'werbekund', 'verfug', 'stell', 'les', 'interessiert', 'zugang', 'fleischhack', 'werbung', 'anlass', 'tatsach', 'imm', 'neu', 'werbeformat', 'gibt'] \n",
            "\n",
            "Vocabulary size after preprocessing: 139\n"
          ]
        }
      ]
    },
    {
      "cell_type": "markdown",
      "metadata": {
        "id": "DDVOwyaIlL52"
      },
      "source": [
        "Now let's pre-process all the documents.  \n",
        "This is a heavy procedure, and may take a bit ;)"
      ]
    },
    {
      "cell_type": "code",
      "metadata": {
        "id": "2pQYw_aYkq-_",
        "outputId": "fa48b17f-91c9-4ac7-fe41-3abfeb40e1eb",
        "colab": {
          "base_uri": "https://localhost:8080/"
        }
      },
      "source": [
        "processed_docs = list(map(preprocess, all_articles))\n",
        "processed_docs[:10]"
      ],
      "execution_count": 13,
      "outputs": [
        {
          "output_type": "execute_result",
          "data": {
            "text/plain": [
              "[['tocht',\n",
              "  'degeto',\n",
              "  'verpflichtet',\n",
              "  'august',\n",
              "  'quotenregel',\n",
              "  'folg',\n",
              "  'gleichstell',\n",
              "  'regisseurinn',\n",
              "  'sorg',\n",
              "  'mindest',\n",
              "  'prozent',\n",
              "  'film',\n",
              "  'tocht',\n",
              "  'degeto',\n",
              "  'produziert',\n",
              "  'mitfinanziert',\n",
              "  'soll',\n",
              "  'mitt',\n",
              "  'august',\n",
              "  'frau',\n",
              "  'regi',\n",
              "  'fuhr',\n",
              "  'degeto',\n",
              "  'chefin',\n",
              "  'christin',\n",
              "  'strobl',\n",
              "  'folgt',\n",
              "  'forder',\n",
              "  'quot',\n",
              "  'regi',\n",
              "  'verein',\n",
              "  'regisseurinn',\n",
              "  'vergang',\n",
              "  'jahr',\n",
              "  'quotenregel',\n",
              "  'gefordert',\n",
              "  'weiblich',\n",
              "  'filmschaff',\n",
              "  'mehr',\n",
              "  'gehor',\n",
              "  'okonom',\n",
              "  'gleichstell',\n",
              "  'verschaff',\n",
              "  'quot',\n",
              "  'regi',\n",
              "  'kritisiert',\n",
              "  'rund',\n",
              "  'prozent',\n",
              "  'regi',\n",
              "  'studier',\n",
              "  'weiblich',\n",
              "  'seien',\n",
              "  'anteil',\n",
              "  'regisseurinn',\n",
              "  'fernsehfilm',\n",
              "  'prozent',\n",
              "  'lieg',\n",
              "  'osterreich',\n",
              "  'sieht',\n",
              "  'situation',\n",
              "  'ahnlich',\n",
              "  'seit',\n",
              "  'handlungsbedarf',\n",
              "  'angemahnt',\n",
              "  'ausseh',\n",
              "  'einfuhr',\n",
              "  'quotenregel',\n",
              "  'osterreich',\n",
              "  'film',\n",
              "  'sinnvoll',\n",
              "  'diskuti',\n",
              "  'forum'],\n",
              " ['angenomm',\n",
              "  'word',\n",
              "  'geplant',\n",
              "  'weg',\n",
              "  'gering',\n",
              "  'nutzung',\n",
              "  'schaltet',\n",
              "  'spiegel',\n",
              "  'onlin',\n",
              "  'zwei',\n",
              "  'jahr',\n",
              "  'fussball',\n",
              "  'genutzt',\n",
              "  'word',\n",
              "  'vorgestellt',\n",
              "  'dafur',\n",
              "  'liv',\n",
              "  'fussball',\n",
              "  'bereich',\n",
              "  'news',\n",
              "  'ausgebaut'],\n",
              " ['mitarbeit',\n",
              "  'uberreicht',\n",
              "  'petition',\n",
              "  'personalabbau',\n",
              "  'wien',\n",
              "  'mehr',\n",
              "  'hundert',\n",
              "  'mitarbeit',\n",
              "  'laut',\n",
              "  'betriebsrat',\n",
              "  'resolution',\n",
              "  'unterschrieb',\n",
              "  'mittwoch',\n",
              "  'ubergeb',\n",
              "  'wurd',\n",
              "  'inhalt',\n",
              "  'deutlich',\n",
              "  'prot',\n",
              "  'geplant',\n",
              "  'personalabbau',\n",
              "  'standard',\n",
              "  'berichtet',\n",
              "  'gleichstell',\n",
              "  'mitarbeit',\n",
              "  'automat',\n",
              "  'lehn',\n",
              "  'erneut',\n",
              "  'kundig',\n",
              "  'derzeit',\n",
              "  'insbesond',\n",
              "  'redaktion',\n",
              "  'geplant',\n",
              "  'unterstutz',\n",
              "  'forder',\n",
              "  'verpflicht',\n",
              "  'weitergab',\n",
              "  'jahrlich',\n",
              "  'erhoh',\n",
              "  'gehalt',\n",
              "  'grupp',\n",
              "  'heisst',\n",
              "  'resolution',\n",
              "  'wurd',\n",
              "  'teilnehm',\n",
              "  'aufsichtsrat',\n",
              "  'den',\n",
              "  'zeitgleich',\n",
              "  'stattfind',\n",
              "  'ubergeb',\n",
              "  'belegschaft',\n",
              "  'sparmassnahm',\n",
              "  'angekundigt',\n",
              "  'obwohl',\n",
              "  'seit',\n",
              "  'jahr',\n",
              "  'gewinn',\n",
              "  'schreib',\n",
              "  'genossenschaft',\n",
              "  'organisiert',\n",
              "  'agentur',\n",
              "  'gehort',\n",
              "  'prozent',\n",
              "  'rest',\n",
              "  'teil',\n",
              "  'tageszeit',\n",
              "  'wirft',\n",
              "  'betriebsrat',\n",
              "  'gewinn',\n",
              "  'einzustreif',\n",
              "  'gleichzeit',\n",
              "  'sparprogramm',\n",
              "  'verordn',\n",
              "  'pet',\n",
              "  'kropsch',\n",
              "  'vorsitz',\n",
              "  'versteht',\n",
              "  'aufreg',\n",
              "  'vollend',\n",
              "  'unternehm',\n",
              "  'zukunft',\n",
              "  'stabil',\n",
              "  'aufgestellt',\n",
              "  'muss',\n",
              "  'sagt',\n",
              "  'standard',\n",
              "  'betriebsrat',\n",
              "  'glaubt',\n",
              "  'kost',\n",
              "  'einfach',\n",
              "  'unbegrenzt',\n",
              "  'weiterlauf',\n",
              "  'lass',\n",
              "  'kropsch',\n",
              "  'steig',\n",
              "  'personalbudget',\n",
              "  'sogar',\n",
              "  'allerding',\n",
              "  'automat',\n",
              "  'kost',\n",
              "  'einzeln',\n",
              "  'mitarbeit',\n",
              "  'steig',\n",
              "  'lass',\n",
              "  'qualitat',\n",
              "  'wenig',\n",
              "  'mitarbeit',\n",
              "  'konn',\n",
              "  'klar',\n",
              "  'sagt',\n",
              "  'kropsch',\n",
              "  'vergleichbar',\n",
              "  'agentur',\n",
              "  'europa',\n",
              "  'breit',\n",
              "  'aufgestellt',\n",
              "  'angst',\n",
              "  'person',\n",
              "  'ausserd',\n",
              "  'gering',\n",
              "  'beteil',\n",
              "  'wahrgenomm'],\n",
              " ['servic',\n",
              "  'jobwechsel',\n",
              "  'uberblick',\n",
              "  'liefert',\n",
              "  'derstandard',\n",
              "  'etat',\n",
              "  'jobwechsel',\n",
              "  'uberblick',\n",
              "  'grob',\n",
              "  'sortiert',\n",
              "  'kalenderwoch',\n",
              "  'den',\n",
              "  'infos',\n",
              "  'einlangt',\n",
              "  'quell',\n",
              "  'press',\n",
              "  'eig',\n",
              "  'infos',\n",
              "  'branchendien',\n",
              "  'horizont',\n",
              "  'medianet',\n",
              "  'infos',\n",
              "  'bitt',\n",
              "  'mail',\n",
              "  'etat',\n",
              "  'derstandard',\n",
              "  'schick',\n",
              "  'woch',\n",
              "  'woch',\n",
              "  'woch',\n",
              "  'woch',\n",
              "  'woch',\n",
              "  'woch',\n",
              "  'woch',\n",
              "  'spannend',\n",
              "  'neu',\n",
              "  'aufgab',\n",
              "  'voraus',\n",
              "  'mach',\n",
              "  'februar',\n",
              "  'nachricht',\n",
              "  'kurierat',\n",
              "  'freu',\n",
              "  'https',\n",
              "  'esrx',\n",
              "  'woch',\n",
              "  'freu',\n",
              "  'ausgezeichnet',\n",
              "  'journalistin',\n",
              "  'munir',\n",
              "  'inam',\n",
              "  'orfreport',\n",
              "  'moderiert',\n",
              "  'alternier',\n",
              "  'martina',\n",
              "  'rupp',\n",
              "  'heut',\n",
              "  'konkret',\n",
              "  'kommend',\n",
              "  'jahr',\n",
              "  'weitergeht',\n",
              "  'lass',\n",
              "  'bald',\n",
              "  'wiss',\n",
              "  'wart',\n",
              "  'spannend',\n",
              "  'neu',\n",
              "  'woch',\n",
              "  'stefan',\n",
              "  'hub',\n",
              "  'wechselt',\n",
              "  'media',\n",
              "  'progress',\n",
              "  'content',\n",
              "  'gard',\n",
              "  'technologi',\n",
              "  'ubernimmt',\n",
              "  'ausbau',\n",
              "  'content',\n",
              "  'management',\n",
              "  'unit',\n",
              "  'interessi',\n",
              "  'moglich',\n",
              "  'kombination',\n",
              "  'content',\n",
              "  'technologi',\n",
              "  'ergeb',\n",
              "  'sagt',\n",
              "  'woch',\n",
              "  'woch',\n",
              "  'woch',\n",
              "  'woch',\n",
              "  'woch',\n",
              "  'woch',\n",
              "  'woch',\n",
              "  'kron',\n",
              "  'thomas',\n",
              "  'kreuz',\n",
              "  'leitet',\n",
              "  'special',\n",
              "  'account',\n",
              "  'thomas',\n",
              "  'groj',\n",
              "  'ubernimmt',\n",
              "  'regionalleit',\n",
              "  'wien',\n",
              "  'stammausgab',\n",
              "  'folg',\n",
              "  'neu',\n",
              "  'funktion',\n",
              "  'friedrich',\n",
              "  'dungl',\n",
              "  'geschaftsfuhr',\n",
              "  'pressehaus',\n",
              "  'wechselt',\n",
              "  'woch',\n",
              "  'viel',\n",
              "  'dank',\n",
              "  'versprech',\n",
              "  'alpenrepubl',\n",
              "  'schnitzelland',\n",
              "  'schreib',\n",
              "  'https',\n",
              "  'andreas',\n",
              "  'csar',\n",
              "  'wechselt',\n",
              "  'verband',\n",
              "  'zeitung',\n",
              "  'leit',\n",
              "  'press',\n",
              "  'stell',\n",
              "  'pressesprech',\n",
              "  'ecoplus',\n",
              "  'land',\n",
              "  'woch',\n",
              "  'woch',\n",
              "  'woch',\n",
              "  'woch',\n",
              "  'hol',\n",
              "  'sven',\n",
              "  'pusswald',\n",
              "  'leit',\n",
              "  'public',\n",
              "  'affair'],\n",
              " ['woch',\n",
              "  'wiss',\n",
              "  'sollt',\n",
              "  'gleich',\n",
              "  'vergess',\n",
              "  'wien',\n",
              "  'woch',\n",
              "  'getan',\n",
              "  'medienwelt',\n",
              "  'entgang',\n",
              "  'bess',\n",
              "  'durchcheck',\n",
              "  'etat',\n",
              "  'wochenquiz',\n",
              "  'wunsch',\n",
              "  'spass',\n",
              "  'beim',\n",
              "  'mitmach',\n",
              "  'vorig',\n",
              "  'woch',\n",
              "  'zeit',\n",
              "  'medi',\n",
              "  'nachricht',\n",
              "  'les',\n",
              "  'nutzlich',\n",
              "  'link'],\n",
              " ['woch',\n",
              "  'wiss',\n",
              "  'sollt',\n",
              "  'gleich',\n",
              "  'vergess',\n",
              "  'wien',\n",
              "  'woch',\n",
              "  'getan',\n",
              "  'medienwelt',\n",
              "  'entgang',\n",
              "  'bess',\n",
              "  'durchcheck',\n",
              "  'etat',\n",
              "  'wochenquiz',\n",
              "  'wunsch',\n",
              "  'spass',\n",
              "  'beim',\n",
              "  'mitmach',\n",
              "  'vorig',\n",
              "  'woch',\n",
              "  'zeit',\n",
              "  'medi',\n",
              "  'nachricht',\n",
              "  'les',\n",
              "  'nutzlich',\n",
              "  'link'],\n",
              " ['mocht',\n",
              "  'eig',\n",
              "  'plattform',\n",
              "  'aufbau',\n",
              "  'les',\n",
              "  'unterstutzt',\n",
              "  'irgendwas',\n",
              "  'medi',\n",
              "  'recht',\n",
              "  'vag',\n",
              "  'stefan',\n",
              "  'niggemei',\n",
              "  'plant',\n",
              "  'jedenfall',\n",
              "  'deutsch',\n",
              "  'onlinemagazin',\n",
              "  'krautreport',\n",
              "  'verlasst',\n",
              "  'niggemei',\n",
              "  'herausgeb',\n",
              "  'initiator',\n",
              "  'kritisch',\n",
              "  'bild',\n",
              "  'blog',\n",
              "  'kundigt',\n",
              "  'neu',\n",
              "  'plattform',\n",
              "  'medienkrit',\n",
              "  'einbezieh',\n",
              "  'les',\n",
              "  'blog',\n",
              "  'schreibt',\n",
              "  'niggemei',\n",
              "  'projekt',\n",
              "  'krautreport',\n",
              "  'richtig',\n",
              "  'findet',\n",
              "  'umsetz',\n",
              "  'vorstell',\n",
              "  'verlief',\n",
              "  'grosst',\n",
              "  'einzeln',\n",
              "  'fehl',\n",
              "  'meinung',\n",
              "  'eig',\n",
              "  'softwar',\n",
              "  'programmi',\n",
              "  'lass',\n",
              "  'zeit',\n",
              "  'geld',\n",
              "  'nerv',\n",
              "  'gekostet',\n",
              "  'teilweis',\n",
              "  'richtig',\n",
              "  'funktioniert',\n",
              "  'zentral',\n",
              "  'probl',\n",
              "  'verortet',\n",
              "  'redaktionell',\n",
              "  'bereich',\n",
              "  'rot',\n",
              "  'fad',\n",
              "  'gefehlt',\n",
              "  'trieb',\n",
              "  'lust',\n",
              "  'neu',\n",
              "  'geschaftsmodell',\n",
              "  'auszuprobi',\n",
              "  'unbedingt',\n",
              "  'gemeinsam',\n",
              "  'redaktionell',\n",
              "  'ide',\n",
              "  'tat',\n",
              "  'schwer',\n",
              "  'defini',\n",
              "  'worub',\n",
              "  'bericht',\n",
              "  'niggemei',\n",
              "  'verliert',\n",
              "  'krautreport',\n",
              "  'bekannt',\n",
              "  'journalist',\n",
              "  'portal',\n",
              "  'wurd',\n",
              "  'jahr',\n",
              "  'erfolgreich',\n",
              "  'crowdfunding',\n",
              "  'tauf',\n",
              "  'gehob',\n",
              "  'finanzier',\n",
              "  'gelang',\n",
              "  'nachd',\n",
              "  'mitglied',\n",
              "  'jahresabo',\n",
              "  'euro',\n",
              "  'abschloss',\n",
              "  'krautreport',\n",
              "  'weitergeht',\n",
              "  'nach',\n",
              "  'woch',\n",
              "  'zeig',\n",
              "  'mitglied',\n",
              "  'muss',\n",
              "  'namlich',\n",
              "  'verlang',\n",
              "  'zweit',\n",
              "  'jahr',\n",
              "  'geh'],\n",
              " ['fest',\n",
              "  'redaktion',\n",
              "  'umwandl',\n",
              "  'genossenschaft',\n",
              "  'steht',\n",
              "  'kurz',\n",
              "  'bevor',\n",
              "  'berlin',\n",
              "  'wien',\n",
              "  'angesagt',\n",
              "  'revolution',\n",
              "  'verandert',\n",
              "  'form',\n",
              "  'fortgesetzt',\n",
              "  'krautreport',\n",
              "  'genossenschaft',\n",
              "  'umgewandelt',\n",
              "  'muss',\n",
              "  'gefund',\n",
              "  'einlag',\n",
              "  'zumind',\n",
              "  'euro',\n",
              "  'beteil',\n",
              "  'erst',\n",
              "  'zahl',\n",
              "  'erreicht',\n",
              "  'genossenschaft',\n",
              "  'eingetrag',\n",
              "  'daran',\n",
              "  'scheit',\n",
              "  'plattform',\n",
              "  'bish',\n",
              "  'gesellschaft',\n",
              "  'beschrankt',\n",
              "  'haftung',\n",
              "  'weitergefuhrt',\n",
              "  'mitglied',\n",
              "  'haft',\n",
              "  'hoh',\n",
              "  'einlag',\n",
              "  'besteht',\n",
              "  'unabhang',\n",
              "  'einlagenhoh',\n",
              "  'mitglied',\n",
              "  'stimm',\n",
              "  'erhalt',\n",
              "  'eingenomm',\n",
              "  'euro',\n",
              "  'soll',\n",
              "  'verwendet',\n",
              "  'besteh',\n",
              "  'portal',\n",
              "  'journalismus',\n",
              "  'crowdfunding',\n",
              "  'plattform',\n",
              "  'erweit',\n",
              "  'erst',\n",
              "  'jahr',\n",
              "  'besteh',\n",
              "  'krautreport',\n",
              "  'uneingeschrankt',\n",
              "  'zufried',\n",
              "  'text',\n",
              "  'bish',\n",
              "  'erschi',\n",
              "  'wenig',\n",
              "  'anfang',\n",
              "  'geplant',\n",
              "  'stefan',\n",
              "  'niggermei',\n",
              "  'kritisiert',\n",
              "  'austritt',\n",
              "  'kollektiv',\n",
              "  'fehlend',\n",
              "  'redaktionell',\n",
              "  'lini',\n",
              "  'geschaff',\n",
              "  'fest',\n",
              "  'redaktion',\n",
              "  'vorteil',\n",
              "  'mitgliedschaft',\n",
              "  'abseit',\n",
              "  'genossenschaft',\n",
              "  'soll',\n",
              "  'ausgebaut',\n",
              "  'planung',\n",
              "  'beispielsweis',\n",
              "  'mitglied',\n",
              "  'lauf',\n",
              "  'oktob',\n",
              "  'davon',\n",
              "  'ziel',\n",
              "  'gesetzt',\n",
              "  'soll',\n",
              "  'zumind',\n",
              "  'verlangert',\n",
              "  'eig',\n",
              "  'angab',\n",
              "  'benotigt',\n",
              "  'plattform',\n",
              "  'mindest',\n",
              "  'unterstutz',\n",
              "  'fortgefuhrt'],\n",
              " ['nachricht',\n",
              "  'drei',\n",
              "  'jahr',\n",
              "  'finanzier',\n",
              "  'gescheitert',\n",
              "  'york',\n",
              "  'news',\n",
              "  'circa',\n",
              "  'speziell',\n",
              "  'smartphon',\n",
              "  'drei',\n",
              "  'jahr',\n",
              "  'end',\n",
              "  'team',\n",
              "  'geld',\n",
              "  'ausgegang',\n",
              "  'betrieb',\n",
              "  'weit',\n",
              "  'eingestellt',\n",
              "  'erklart',\n",
              "  'mitgrund',\n",
              "  'matt',\n",
              "  'galligan',\n",
              "  'mittwoch',\n",
              "  'konzept',\n",
              "  'circa',\n",
              "  'klein',\n",
              "  'happch',\n",
              "  'runterzubrech',\n",
              "  'smartphon',\n",
              "  'bildschirm',\n",
              "  'pass',\n",
              "  'nutz',\n",
              "  'updat',\n",
              "  'aktuell',\n",
              "  'entwickl',\n",
              "  'laufend',\n",
              "  'halt',\n",
              "  'ide',\n",
              "  'mach',\n",
              "  'laut',\n",
              "  'medienbericht',\n",
              "  'rund',\n",
              "  'funf',\n",
              "  'million',\n",
              "  'dollar',\n",
              "  'investor',\n",
              "  'eingesammelt',\n",
              "  'mehr',\n",
              "  'etabliert',\n",
              "  'journalist',\n",
              "  'angeworb',\n",
              "  'circa',\n",
              "  'gelung',\n",
              "  'weit',\n",
              "  'investment',\n",
              "  'einzufadeln',\n",
              "  'bevor',\n",
              "  'ressourc',\n",
              "  'knapp',\n",
              "  'geword',\n",
              "  'seien',\n",
              "  'schrieb',\n",
              "  'galligan',\n",
              "  'blog',\n",
              "  'plattform',\n",
              "  'medium',\n",
              "  'hatt',\n",
              "  'versuch',\n",
              "  'werbung',\n",
              "  'gebuhr',\n",
              "  'rund',\n",
              "  'komm',\n",
              "  'raumt',\n",
              "  'hatt',\n",
              "  'vision',\n",
              "  'dien',\n",
              "  'widersproch',\n",
              "  'wohl',\n",
              "  'genug',\n",
              "  'eingebracht',\n",
              "  'sagt',\n",
              "  'galligan',\n",
              "  'circa',\n",
              "  'bereit',\n",
              "  'seit',\n",
              "  'montag',\n",
              "  'mehr',\n",
              "  'veroffentlicht'],\n",
              " ['news',\n",
              "  'interess',\n",
              "  'les',\n",
              "  'ausgeliefert',\n",
              "  'wien',\n",
              "  'london',\n",
              "  'britisch',\n",
              "  'bringt',\n",
              "  'neu',\n",
              "  'international',\n",
              "  'news',\n",
              "  'android',\n",
              "  'auf',\n",
              "  'handy',\n",
              "  'ansatz',\n",
              "  'soll',\n",
              "  'nachricht',\n",
              "  'praferenz',\n",
              "  'les',\n",
              "  'lief',\n",
              "  'biet',\n",
              "  'kombination',\n",
              "  'stori',\n",
              "  'meist',\n",
              "  'geles',\n",
              "  'geschicht',\n",
              "  'person',\n",
              "  'ausgewahlt',\n",
              "  'empfohl',\n",
              "  'them',\n",
              "  'gebiet',\n",
              "  'bereich',\n",
              "  'news',\n",
              "  'gelang',\n",
              "  'les',\n",
              "  'geschicht',\n",
              "  'meist',\n",
              "  'interessi',\n",
              "  'konnt',\n",
              "  'anhand',\n",
              "  'list',\n",
              "  'basier',\n",
              "  'geles',\n",
              "  'artikel',\n",
              "  'eingab',\n",
              "  'suchfeld',\n",
              "  'benutz',\n",
              "  'them',\n",
              "  'innerhalb',\n",
              "  'artikel',\n",
              "  'folg',\n",
              "  'wirklich',\n",
              "  'person',\n",
              "  'servic',\n",
              "  'schaff',\n",
              "  'geschicht',\n",
              "  'themat',\n",
              "  'chronolog',\n",
              "  'geordnet',\n",
              "  'heisst',\n",
              "  'aussend',\n",
              "  'seit',\n",
              "  'start',\n",
              "  'freitag',\n",
              "  'bereit',\n",
              "  'million',\n",
              "  'heruntergelad',\n",
              "  'word',\n",
              "  'laut',\n",
              "  'konsumi',\n",
              "  'mittlerweil',\n",
              "  'prozent',\n",
              "  'nutz',\n",
              "  'news',\n",
              "  'smartphon',\n",
              "  'tablet',\n",
              "  'erst',\n",
              "  'prozent']]"
            ]
          },
          "metadata": {},
          "execution_count": 13
        }
      ]
    },
    {
      "cell_type": "markdown",
      "metadata": {
        "id": "T8LndhI5mAGP"
      },
      "source": [
        "## Setting Up The Dictionary\n",
        "\n",
        "Our preprocessing is complete.\n",
        "\n",
        "We now need to calculate the occurance frequencies of each of our stemmed words. But first, we will create a vocabulary dictionary where every word appears once. Every article would be represented as a [bag-of-words](https://en.wikipedia.org/wiki/Bag-of-words_model), an unordered set of words that the article contain.\n",
        "\n",
        "---\n",
        "\n",
        "Q: Why is it called bag-of-words?\n",
        "\n",
        "Hint: Think about your probability lessons - where you had randomly picked out white or black balls out of a bag..."
      ]
    },
    {
      "cell_type": "code",
      "metadata": {
        "id": "pj6CI60KlF0N"
      },
      "source": [
        "dictionary = corpora.Dictionary(processed_docs)\n"
      ],
      "execution_count": 14,
      "outputs": []
    },
    {
      "cell_type": "markdown",
      "metadata": {
        "id": "KiaCJuuXmkDV"
      },
      "source": [
        "Let's take a look:"
      ]
    },
    {
      "cell_type": "code",
      "metadata": {
        "id": "F0DJqlhimfns",
        "outputId": "45cbbda3-fba2-4407-ef4b-adbd3e75a844",
        "colab": {
          "base_uri": "https://localhost:8080/"
        }
      },
      "source": [
        "for idx, (k, v) in enumerate(dictionary.iteritems()):\n",
        "    print(k, v)\n",
        "    if idx >= 10:\n",
        "        break\n",
        "\n",
        "\n",
        "### BTW: `enumerate` is a great python function!\n",
        "### It automatically creates an index, an auto-incremented counter variable,\n",
        "### that represents the position of every object in the collection.\n",
        "\n",
        "### Read more about it here: https://realpython.com/python-enumerate/"
      ],
      "execution_count": 15,
      "outputs": [
        {
          "output_type": "stream",
          "name": "stdout",
          "text": [
            "0 ahnlich\n",
            "1 angemahnt\n",
            "2 anteil\n",
            "3 august\n",
            "4 ausseh\n",
            "5 chefin\n",
            "6 christin\n",
            "7 degeto\n",
            "8 diskuti\n",
            "9 einfuhr\n",
            "10 fernsehfilm\n"
          ]
        }
      ]
    },
    {
      "cell_type": "markdown",
      "metadata": {
        "id": "XLT9Y9LImtv_"
      },
      "source": [
        "Second, we filter the tokens that may appear to often.\n",
        "\n",
        "We have full control on the process."
      ]
    },
    {
      "cell_type": "markdown",
      "metadata": {
        "id": "8LtlVAJEa6vp"
      },
      "source": [
        "### Model Hyperparameter tuning"
      ]
    },
    {
      "cell_type": "markdown",
      "source": [
        "### Your Turn:\n",
        "#### Exercise 1 - Hyperparameter effect on the model output:\n",
        "**Q:** How would changing these parameters influence the result?  \n",
        "After running this example, please return here to change them and try them out."
      ],
      "metadata": {
        "id": "yHsgesK9dW7j"
      }
    },
    {
      "cell_type": "code",
      "metadata": {
        "id": "KSwEk-wcBKEg"
      },
      "source": [
        "## Model hyper parameters:\n",
        "\n",
        "## These are the dictionary preparation parameters:\n",
        "filter_tokens_if_container_documents_are_less_than = 15\n",
        "filter_tokens_if_appeared_percentage_more_than = 0.5\n",
        "keep_the_first_n_tokens=100000\n",
        "\n",
        "## and the LDA Parameters:\n",
        "num_of_topics = 10"
      ],
      "execution_count": 16,
      "outputs": []
    },
    {
      "cell_type": "code",
      "metadata": {
        "id": "zelcg-UUmiVx"
      },
      "source": [
        "dictionary.filter_extremes(\n",
        "    no_below=filter_tokens_if_container_documents_are_less_than,\n",
        "    no_above=filter_tokens_if_appeared_percentage_more_than,\n",
        "    keep_n=keep_the_first_n_tokens)\n"
      ],
      "execution_count": 17,
      "outputs": []
    },
    {
      "cell_type": "markdown",
      "metadata": {
        "id": "EsknGryxnx0X"
      },
      "source": [
        "We now create a [bag-of-words](https://en.wikipedia.org/wiki/Bag-of-words_model) (BOW) dictionary for each document, using [gensim's dictionary](https://radimrehurek.com/gensim/corpora/dictionary.html) tool.\n",
        "\n",
        "It will be in the format of:\n",
        "\n",
        "```{ 'word_id': count }```\n"
      ]
    },
    {
      "cell_type": "code",
      "metadata": {
        "id": "u1CsbhJcntUW"
      },
      "source": [
        "bow_corpus = [dictionary.doc2bow(doc) for doc in processed_docs]"
      ],
      "execution_count": 18,
      "outputs": []
    },
    {
      "cell_type": "markdown",
      "metadata": {
        "id": "RmHQyMKXokyq"
      },
      "source": [
        "Let's take a look at the result.\n",
        "\n",
        "Our corpus contains now only word_ids, not the words themselves, so we have to peek into the dictionary to know which word that id represents:"
      ]
    },
    {
      "cell_type": "code",
      "metadata": {
        "id": "dD6n6MNnoSBH",
        "outputId": "cf0de946-7bd4-4499-f880-926da4678eb9",
        "colab": {
          "base_uri": "https://localhost:8080/"
        }
      },
      "source": [
        "# randomly choose an article from the corpus:\n",
        "sample_bow_doc = choice(bow_corpus)\n",
        "\n",
        "print('The processed bag-of-word document is just pairs of (word_id, # of occurnces) and looks like this:')\n",
        "print(sample_bow_doc, '\\n\\n')\n",
        "\n",
        "print ('We peek in the dictionary: for each word_id, we get its assigned word:')\n",
        "for word_id, word_freq in sample_bow_doc:\n",
        "  real_word = dictionary[word_id]\n",
        "  print(f'Word #{word_id} (\"{real_word}\") appears {word_freq} time.')\n"
      ],
      "execution_count": 19,
      "outputs": [
        {
          "output_type": "stream",
          "name": "stdout",
          "text": [
            "The processed bag-of-word document is just pairs of (word_id, # of occurnces) and looks like this:\n",
            "[(31, 1), (36, 1), (62, 1), (79, 1), (82, 1), (102, 1), (108, 1), (109, 1), (123, 1), (144, 1), (245, 2), (263, 1), (288, 1), (360, 1), (366, 1), (376, 1), (378, 1), (413, 1), (433, 1), (441, 1), (484, 2), (556, 1), (656, 1), (683, 1), (684, 1), (696, 1), (702, 1), (722, 1), (788, 1), (861, 1), (886, 1), (982, 1), (987, 1), (1079, 1), (1143, 1), (1187, 1), (1243, 1), (1247, 1), (1365, 1), (1462, 1), (1465, 1), (1567, 1), (1623, 2), (1633, 1), (1674, 1), (1714, 1), (1801, 1), (1830, 1), (1864, 1), (1875, 1), (1886, 1), (1944, 1), (1946, 2), (1971, 2), (2097, 1), (2171, 2), (2179, 1), (2316, 2), (2336, 1), (2362, 1), (2530, 1), (2652, 1), (2735, 1), (2979, 1), (3026, 1), (3104, 1), (3276, 2), (3357, 1), (3451, 1), (3588, 1), (3709, 1), (3799, 1), (3855, 1), (3901, 1), (4184, 1), (4203, 3), (4222, 1), (4378, 2), (4437, 1), (4466, 4), (5448, 1), (5503, 1), (5556, 1), (5867, 2), (6077, 3), (7082, 1), (7383, 1), (7602, 2), (7885, 1), (8056, 1), (8192, 1), (8868, 1), (9347, 1), (9520, 1), (9598, 1)] \n",
            "\n",
            "\n",
            "We peek in the dictionary: for each word_id, we get its assigned word:\n",
            "Word #31 (\"seien\") appears 1 time.\n",
            "Word #36 (\"soll\") appears 1 time.\n",
            "Word #62 (\"word\") appears 1 time.\n",
            "Word #79 (\"derzeit\") appears 1 time.\n",
            "Word #82 (\"einzeln\") appears 1 time.\n",
            "Word #102 (\"laut\") appears 1 time.\n",
            "Word #108 (\"organisiert\") appears 1 time.\n",
            "Word #109 (\"person\") appears 1 time.\n",
            "Word #123 (\"standard\") appears 1 time.\n",
            "Word #144 (\"wien\") appears 1 time.\n",
            "Word #245 (\"euro\") appears 2 time.\n",
            "Word #263 (\"jedenfall\") appears 1 time.\n",
            "Word #288 (\"tat\") appears 1 time.\n",
            "Word #360 (\"zahl\") appears 1 time.\n",
            "Word #366 (\"bereit\") appears 1 time.\n",
            "Word #376 (\"end\") appears 1 time.\n",
            "Word #378 (\"erklart\") appears 1 time.\n",
            "Word #413 (\"weit\") appears 1 time.\n",
            "Word #433 (\"gebiet\") appears 1 time.\n",
            "Word #441 (\"international\") appears 1 time.\n",
            "Word #484 (\"exemplar\") appears 2 time.\n",
            "Word #556 (\"grund\") appears 1 time.\n",
            "Word #656 (\"zuerst\") appears 1 time.\n",
            "Word #683 (\"zeigt\") appears 1 time.\n",
            "Word #684 (\"alt\") appears 1 time.\n",
            "Word #696 (\"durft\") appears 1 time.\n",
            "Word #702 (\"gilt\") appears 1 time.\n",
            "Word #722 (\"ausgesproch\") appears 1 time.\n",
            "Word #788 (\"gesprach\") appears 1 time.\n",
            "Word #861 (\"verdacht\") appears 1 time.\n",
            "Word #886 (\"entscheid\") appears 1 time.\n",
            "Word #982 (\"liegt\") appears 1 time.\n",
            "Word #987 (\"natur\") appears 1 time.\n",
            "Word #1079 (\"angezeigt\") appears 1 time.\n",
            "Word #1143 (\"washington\") appears 1 time.\n",
            "Word #1187 (\"jahrelang\") appears 1 time.\n",
            "Word #1243 (\"freier\") appears 1 time.\n",
            "Word #1247 (\"haltung\") appears 1 time.\n",
            "Word #1365 (\"verfall\") appears 1 time.\n",
            "Word #1462 (\"genau\") appears 1 time.\n",
            "Word #1465 (\"jeweil\") appears 1 time.\n",
            "Word #1567 (\"desto\") appears 1 time.\n",
            "Word #1623 (\"illegal\") appears 2 time.\n",
            "Word #1633 (\"ring\") appears 1 time.\n",
            "Word #1674 (\"nenn\") appears 1 time.\n",
            "Word #1714 (\"offenbar\") appears 1 time.\n",
            "Word #1801 (\"vorwurf\") appears 1 time.\n",
            "Word #1830 (\"professionell\") appears 1 time.\n",
            "Word #1864 (\"befind\") appears 1 time.\n",
            "Word #1875 (\"europaweit\") appears 1 time.\n",
            "Word #1886 (\"preis\") appears 1 time.\n",
            "Word #1944 (\"dienstag\") appears 1 time.\n",
            "Word #1946 (\"gehandelt\") appears 2 time.\n",
            "Word #1971 (\"droh\") appears 2 time.\n",
            "Word #2097 (\"grundsatz\") appears 1 time.\n",
            "Word #2171 (\"polt\") appears 2 time.\n",
            "Word #2179 (\"verfahr\") appears 1 time.\n",
            "Word #2316 (\"geschutzt\") appears 2 time.\n",
            "Word #2336 (\"spur\") appears 1 time.\n",
            "Word #2362 (\"verbleib\") appears 1 time.\n",
            "Word #2530 (\"samt\") appears 1 time.\n",
            "Word #2652 (\"divers\") appears 1 time.\n",
            "Word #2735 (\"identitat\") appears 1 time.\n",
            "Word #2979 (\"reicht\") appears 1 time.\n",
            "Word #3026 (\"krem\") appears 1 time.\n",
            "Word #3104 (\"verbind\") appears 1 time.\n",
            "Word #3276 (\"tier\") appears 2 time.\n",
            "Word #3357 (\"population\") appears 1 time.\n",
            "Word #3451 (\"zuruckweis\") appears 1 time.\n",
            "Word #3588 (\"roland\") appears 1 time.\n",
            "Word #3709 (\"ausserst\") appears 1 time.\n",
            "Word #3799 (\"umgebaut\") appears 1 time.\n",
            "Word #3855 (\"beschuldigt\") appears 1 time.\n",
            "Word #3901 (\"befand\") appears 1 time.\n",
            "Word #4184 (\"behord\") appears 1 time.\n",
            "Word #4203 (\"selt\") appears 3 time.\n",
            "Word #4222 (\"handeln\") appears 1 time.\n",
            "Word #4378 (\"beschlagnahmt\") appears 2 time.\n",
            "Word #4437 (\"genehm\") appears 1 time.\n",
            "Word #4466 (\"vogel\") appears 4 time.\n",
            "Word #5448 (\"abkomm\") appears 1 time.\n",
            "Word #5503 (\"handel\") appears 1 time.\n",
            "Word #5556 (\"besorgt\") appears 1 time.\n",
            "Word #5867 (\"portugal\") appears 2 time.\n",
            "Word #6077 (\"brasili\") appears 3 time.\n",
            "Word #7082 (\"wahrenddess\") appears 1 time.\n",
            "Word #7383 (\"begrenzt\") appears 1 time.\n",
            "Word #7602 (\"haftstraf\") appears 2 time.\n",
            "Word #7885 (\"neustadt\") appears 1 time.\n",
            "Word #8056 (\"wertvoll\") appears 1 time.\n",
            "Word #8192 (\"modus\") appears 1 time.\n",
            "Word #8868 (\"lebensraum\") appears 1 time.\n",
            "Word #9347 (\"eier\") appears 1 time.\n",
            "Word #9520 (\"schlupf\") appears 1 time.\n",
            "Word #9598 (\"aufgezog\") appears 1 time.\n"
          ]
        }
      ]
    },
    {
      "cell_type": "markdown",
      "metadata": {
        "id": "jdEpXnWNrR4H"
      },
      "source": [
        "## LDA model using Bag-of-words\n",
        "\n",
        "Let's start by applying the LDA model using the bag-of-words (Warning: this could take a while):"
      ]
    },
    {
      "cell_type": "code",
      "metadata": {
        "id": "84CchtGap73H"
      },
      "source": [
        "lda_model = models.LdaMulticore(bow_corpus,\n",
        "                                num_topics=num_of_topics,\n",
        "                                id2word=dictionary,\n",
        "                                passes=5,\n",
        "                                workers=2)"
      ],
      "execution_count": 20,
      "outputs": []
    },
    {
      "cell_type": "markdown",
      "metadata": {
        "id": "oqm3NWaGrYzC"
      },
      "source": [
        "It is done!\n",
        "\n",
        "Now we can observe which topics the model had extracted from the documents.\n",
        "\n",
        "- *Topics* are made of sets of words and their distribution for that topic, representing their weight in that topic.\n",
        "- Every document may be composed of multiple topics, with different weights representing the relation to each topics.\n",
        "\n",
        "We will loop over the extracted topics and examine the words that construct them."
      ]
    },
    {
      "cell_type": "code",
      "metadata": {
        "id": "N83rLkRRrYYz",
        "outputId": "7c28f144-547c-4780-d519-225a6f3ef9ef",
        "colab": {
          "base_uri": "https://localhost:8080/"
        }
      },
      "source": [
        "for idx, topic in lda_model.print_topics(num_of_topics):\n",
        "    print(f'Topic: {idx} \\t Words: {topic}')\n"
      ],
      "execution_count": 21,
      "outputs": [
        {
          "output_type": "stream",
          "name": "stdout",
          "text": [
            "Topic: 0 \t Words: 0.007*\"polit\" + 0.007*\"sagt\" + 0.007*\"wien\" + 0.006*\"grun\" + 0.006*\"partei\" + 0.005*\"wahl\" + 0.004*\"regier\" + 0.004*\"seit\" + 0.004*\"prasident\" + 0.004*\"neu\"\n",
            "Topic: 1 \t Words: 0.014*\"standard\" + 0.014*\"osterreich\" + 0.013*\"prozent\" + 0.010*\"jahr\" + 0.009*\"mensch\" + 0.008*\"gibt\" + 0.007*\"wenig\" + 0.006*\"viel\" + 0.005*\"land\" + 0.005*\"imm\"\n",
            "Topic: 2 \t Words: 0.022*\"euro\" + 0.021*\"prozent\" + 0.012*\"jahr\" + 0.011*\"million\" + 0.010*\"wien\" + 0.007*\"unternehm\" + 0.007*\"osterreich\" + 0.006*\"rund\" + 0.005*\"seit\" + 0.005*\"milliard\"\n",
            "Topic: 3 \t Words: 0.009*\"jahr\" + 0.008*\"wien\" + 0.007*\"forsch\" + 0.006*\"gross\" + 0.005*\"wissenschaft\" + 0.005*\"sagt\" + 0.005*\"neu\" + 0.005*\"etwa\" + 0.005*\"erst\" + 0.004*\"schon\"\n",
            "Topic: 4 \t Words: 0.014*\"spiel\" + 0.010*\"erst\" + 0.006*\"salzburg\" + 0.005*\"schon\" + 0.005*\"zwei\" + 0.005*\"rapid\" + 0.004*\"wien\" + 0.004*\"minut\" + 0.004*\"gross\" + 0.004*\"zweit\"\n",
            "Topic: 5 \t Words: 0.009*\"neu\" + 0.008*\"sagt\" + 0.006*\"griechenland\" + 0.006*\"europa\" + 0.005*\"soll\" + 0.005*\"land\" + 0.005*\"griechisch\" + 0.005*\"euro\" + 0.004*\"bereit\" + 0.004*\"weit\"\n",
            "Topic: 6 \t Words: 0.018*\"fluchtling\" + 0.009*\"sagt\" + 0.008*\"russland\" + 0.008*\"mensch\" + 0.008*\"russisch\" + 0.008*\"grenz\" + 0.006*\"ukrain\" + 0.006*\"seit\" + 0.006*\"turkei\" + 0.006*\"syri\"\n",
            "Topic: 7 \t Words: 0.009*\"erst\" + 0.008*\"spiel\" + 0.006*\"sieg\" + 0.005*\"minut\" + 0.005*\"beim\" + 0.005*\"israel\" + 0.005*\"jahr\" + 0.005*\"jahrig\" + 0.005*\"zwei\" + 0.005*\"steht\"\n",
            "Topic: 8 \t Words: 0.011*\"jahr\" + 0.010*\"word\" + 0.008*\"sagt\" + 0.006*\"mann\" + 0.006*\"jahrig\" + 0.006*\"polizei\" + 0.005*\"zwei\" + 0.005*\"wien\" + 0.005*\"weg\" + 0.004*\"laut\"\n",
            "Topic: 9 \t Words: 0.013*\"jahr\" + 0.011*\"china\" + 0.009*\"chines\" + 0.007*\"erst\" + 0.006*\"japan\" + 0.006*\"sagt\" + 0.005*\"jahrig\" + 0.005*\"zwei\" + 0.005*\"seit\" + 0.005*\"neu\"\n"
          ]
        }
      ]
    },
    {
      "cell_type": "markdown",
      "metadata": {
        "id": "CgCkLEelplF8"
      },
      "source": [
        "## TF / IDF\n",
        "\n",
        "Let's take it one step further. We will cluster our document by running the LDA using [TF/IDF](https://en.wikipedia.org/wiki/Tf%E2%80%93idf).\n",
        "\n",
        "We start with TF/IDF calculation on our bag-of-words.\n",
        "TF/IDF accepts a dictionary of word frequencies as an input, and it calculates the term frequency and the inversed document frequency accordingly.\n",
        "\n",
        "Its output is a re-weighted dictionary of the documents term frequencies:"
      ]
    },
    {
      "cell_type": "code",
      "metadata": {
        "id": "Xhj6Df56os0j",
        "outputId": "472832e5-9e65-421e-9713-bacc48784af2",
        "colab": {
          "base_uri": "https://localhost:8080/"
        }
      },
      "source": [
        "# initialize a tfidf from our corpus\n",
        "tfidf = models.TfidfModel(bow_corpus)\n",
        "\n",
        "# apply it on our corpus\n",
        "tfidf_corpus = tfidf[bow_corpus]\n",
        "\n",
        "pprint(tfidf_corpus[0][:10])"
      ],
      "execution_count": 22,
      "outputs": [
        {
          "output_type": "stream",
          "name": "stdout",
          "text": [
            "[(0, 0.07624324224596976),\n",
            " (1, 0.09765147703315807),\n",
            " (2, 0.17806134714371552),\n",
            " (3, 0.12554321379384176),\n",
            " (4, 0.12114843374003081),\n",
            " (5, 0.14917128474504127),\n",
            " (6, 0.11948454964321391),\n",
            " (7, 0.10815383759404282),\n",
            " (8, 0.19221567840914694),\n",
            " (9, 0.0625612949812136)]\n"
          ]
        }
      ]
    },
    {
      "cell_type": "code",
      "source": [
        "# the new tfidf corpus is just our corpus - but transformed. It has the same size of documents:\n",
        "assert len(bow_corpus) == len(tfidf_corpus)"
      ],
      "metadata": {
        "id": "OdllL8StNLm2"
      },
      "execution_count": 23,
      "outputs": []
    },
    {
      "cell_type": "markdown",
      "metadata": {
        "id": "UZ-9a3gcsYts"
      },
      "source": [
        "Now let's apply LDA on the tfidf corpus, with the same amount of topics.\n",
        "\n",
        "You can play with the # of passes, if the model doesn't converge properly"
      ]
    },
    {
      "cell_type": "code",
      "metadata": {
        "id": "ihxND83irVSf",
        "outputId": "52c45bd4-035c-4424-b0c9-b5eb790e450f",
        "colab": {
          "base_uri": "https://localhost:8080/"
        }
      },
      "source": [
        "lda_model_tfidf = models.LdaMulticore(tfidf_corpus,\n",
        "                                      num_topics=num_of_topics,\n",
        "                                      id2word=dictionary,\n",
        "                                      passes=5,\n",
        "                                      workers=4)"
      ],
      "execution_count": 24,
      "outputs": [
        {
          "output_type": "stream",
          "name": "stderr",
          "text": [
            "WARNING:gensim.models.ldamulticore:too few updates, training might not converge; consider increasing the number of passes or iterations to improve accuracy\n"
          ]
        }
      ]
    },
    {
      "cell_type": "code",
      "source": [
        "for idx, topic in lda_model_tfidf.print_topics(num_of_topics):\n",
        "    print(f'Topic: {idx} \\t Word: {topic}')"
      ],
      "metadata": {
        "id": "adACX8kGihtG",
        "outputId": "f648844b-01d1-4300-a33a-0b9a904bb0b0",
        "colab": {
          "base_uri": "https://localhost:8080/"
        }
      },
      "execution_count": 25,
      "outputs": [
        {
          "output_type": "stream",
          "name": "stdout",
          "text": [
            "Topic: 0 \t Word: 0.005*\"prozent\" + 0.004*\"zielpunkt\" + 0.003*\"euro\" + 0.003*\"unternehm\" + 0.002*\"million\" + 0.002*\"pfeiff\" + 0.002*\"dollar\" + 0.002*\"forsch\" + 0.002*\"bank\" + 0.002*\"wien\"\n",
            "Topic: 1 \t Word: 0.003*\"euro\" + 0.002*\"prozent\" + 0.002*\"europa\" + 0.002*\"million\" + 0.002*\"kommission\" + 0.002*\"osterreich\" + 0.002*\"jahr\" + 0.002*\"milliard\" + 0.002*\"konz\" + 0.002*\"unternehm\"\n",
            "Topic: 2 \t Word: 0.003*\"fluchtling\" + 0.003*\"griechenland\" + 0.002*\"griechisch\" + 0.002*\"word\" + 0.002*\"regier\" + 0.002*\"ath\" + 0.002*\"sagt\" + 0.002*\"mensch\" + 0.002*\"land\" + 0.002*\"euro\"\n",
            "Topic: 3 \t Word: 0.015*\"volltext\" + 0.014*\"basier\" + 0.012*\"artikel\" + 0.011*\"rechtlich\" + 0.009*\"verfug\" + 0.008*\"grund\" + 0.007*\"steht\" + 0.003*\"prozent\" + 0.003*\"euro\" + 0.002*\"forsch\"\n",
            "Topic: 4 \t Word: 0.004*\"prozent\" + 0.003*\"euro\" + 0.002*\"milliard\" + 0.002*\"osterreich\" + 0.002*\"million\" + 0.002*\"unternehm\" + 0.002*\"wien\" + 0.001*\"jahr\" + 0.001*\"neu\" + 0.001*\"rapid\"\n",
            "Topic: 5 \t Word: 0.004*\"prozent\" + 0.003*\"euro\" + 0.002*\"tsipras\" + 0.002*\"ath\" + 0.002*\"griechenland\" + 0.002*\"milliard\" + 0.002*\"forsch\" + 0.002*\"griechisch\" + 0.002*\"wien\" + 0.002*\"europa\"\n",
            "Topic: 6 \t Word: 0.002*\"prozent\" + 0.002*\"wien\" + 0.002*\"standard\" + 0.002*\"osterreich\" + 0.001*\"spiel\" + 0.001*\"euro\" + 0.001*\"jahr\" + 0.001*\"neu\" + 0.001*\"erst\" + 0.001*\"gross\"\n",
            "Topic: 7 \t Word: 0.006*\"prozent\" + 0.003*\"euro\" + 0.002*\"griechisch\" + 0.002*\"osterreich\" + 0.002*\"oecd\" + 0.002*\"streik\" + 0.002*\"milliard\" + 0.002*\"telekom\" + 0.002*\"verdi\" + 0.002*\"wachstum\"\n",
            "Topic: 8 \t Word: 0.004*\"prozent\" + 0.003*\"lufthansa\" + 0.003*\"euro\" + 0.002*\"million\" + 0.002*\"forsch\" + 0.002*\"jahr\" + 0.002*\"wien\" + 0.002*\"osterreich\" + 0.002*\"unternehm\" + 0.001*\"land\"\n",
            "Topic: 9 \t Word: 0.003*\"forsch\" + 0.002*\"prozent\" + 0.002*\"euro\" + 0.002*\"tier\" + 0.002*\"studi\" + 0.002*\"million\" + 0.002*\"bors\" + 0.002*\"europa\" + 0.002*\"jahr\" + 0.001*\"sagt\"\n"
          ]
        }
      ]
    },
    {
      "cell_type": "markdown",
      "metadata": {
        "id": "f9HswwLLsw0X"
      },
      "source": [
        "## Inference\n",
        "\n",
        "Now that we have a topic-modeler, let's use it on one of the articles."
      ]
    },
    {
      "cell_type": "code",
      "metadata": {
        "id": "tQlSUn_CsbcX",
        "outputId": "9df7149d-28c4-4f48-f114-9b11bd8b7356",
        "colab": {
          "base_uri": "https://localhost:8080/"
        }
      },
      "source": [
        "# randomly pick an article:\n",
        "test_doc = choice(range(len(processed_docs)))\n",
        "processed_docs[test_doc][:50]"
      ],
      "execution_count": 26,
      "outputs": [
        {
          "output_type": "execute_result",
          "data": {
            "text/plain": [
              "['initiativ',\n",
              " 'link',\n",
              " 'rand',\n",
              " 'polit',\n",
              " 'spektrum',\n",
              " 'fordert',\n",
              " 'aufbruch',\n",
              " 'syst',\n",
              " 'verand',\n",
              " 'wien',\n",
              " 'link',\n",
              " 'rand',\n",
              " 'polit',\n",
              " 'spektrum',\n",
              " 'weit',\n",
              " 'initiativ',\n",
              " 'gegrundet',\n",
              " 'word',\n",
              " 'anlieg',\n",
              " 'nam',\n",
              " 'gemacht',\n",
              " 'aufbruch',\n",
              " 'nennt',\n",
              " 'beweg',\n",
              " 'juni',\n",
              " 'abhalt',\n",
              " 'kurz',\n",
              " 'gesagt',\n",
              " 'geht',\n",
              " 'folgend',\n",
              " 'zukunft',\n",
              " 'zementiert',\n",
              " 'global',\n",
              " 'ungerecht',\n",
              " 'schluss',\n",
              " 'motto',\n",
              " 'bish',\n",
              " 'weitergeh',\n",
              " 'zahlreich',\n",
              " 'mehrheit',\n",
              " 'link',\n",
              " 'lag',\n",
              " 'innerhalb',\n",
              " 'ausserhalb',\n",
              " 'grun',\n",
              " 'komm',\n",
              " 'such',\n",
              " 'weit',\n",
              " 'mitstreit',\n",
              " 'ausgangslag']"
            ]
          },
          "metadata": {},
          "execution_count": 26
        }
      ]
    },
    {
      "cell_type": "markdown",
      "metadata": {
        "id": "Jt6oJJL8tiO_"
      },
      "source": [
        "Using the original BOW model:"
      ]
    },
    {
      "cell_type": "code",
      "metadata": {
        "id": "ZBbrSNDVszGW",
        "outputId": "a9d50987-2ed7-4fe4-be7a-33de8d9fbd31",
        "colab": {
          "base_uri": "https://localhost:8080/"
        }
      },
      "source": [
        "for index, score in sorted(lda_model[bow_corpus[test_doc]], key=lambda tup: -1*tup[1]):\n",
        "    print(f\"Topic match score: {score} \\nTopic: {lda_model.print_topic(index, num_of_topics)}\")\n"
      ],
      "execution_count": 27,
      "outputs": [
        {
          "output_type": "stream",
          "name": "stdout",
          "text": [
            "Topic match score: 0.6632601618766785 \n",
            "Topic: 0.007*\"polit\" + 0.007*\"sagt\" + 0.007*\"wien\" + 0.006*\"grun\" + 0.006*\"partei\" + 0.005*\"wahl\" + 0.004*\"regier\" + 0.004*\"seit\" + 0.004*\"prasident\" + 0.004*\"neu\"\n",
            "Topic match score: 0.3052659332752228 \n",
            "Topic: 0.014*\"standard\" + 0.014*\"osterreich\" + 0.013*\"prozent\" + 0.010*\"jahr\" + 0.009*\"mensch\" + 0.008*\"gibt\" + 0.007*\"wenig\" + 0.006*\"viel\" + 0.005*\"land\" + 0.005*\"imm\"\n",
            "Topic match score: 0.02453368902206421 \n",
            "Topic: 0.018*\"fluchtling\" + 0.009*\"sagt\" + 0.008*\"russland\" + 0.008*\"mensch\" + 0.008*\"russisch\" + 0.008*\"grenz\" + 0.006*\"ukrain\" + 0.006*\"seit\" + 0.006*\"turkei\" + 0.006*\"syri\"\n"
          ]
        }
      ]
    },
    {
      "cell_type": "markdown",
      "metadata": {
        "id": "hdz9qz-Atj3A"
      },
      "source": [
        "And with the TF/IDF model:"
      ]
    },
    {
      "cell_type": "code",
      "metadata": {
        "id": "XWHTDQjVtTyO",
        "outputId": "1412aae4-bf2c-4d8c-960a-830854d05e06",
        "colab": {
          "base_uri": "https://localhost:8080/"
        }
      },
      "source": [
        "for index, score in sorted(lda_model_tfidf[bow_corpus[test_doc]], key=lambda tup: -1*tup[1]):\n",
        "    print(\"Topic match score: {}\\t \\nTopic: {}\".format(score, lda_model_tfidf.print_topic(index, num_of_topics)))"
      ],
      "execution_count": 28,
      "outputs": [
        {
          "output_type": "stream",
          "name": "stdout",
          "text": [
            "Topic match score: 0.7673864364624023\t \n",
            "Topic: 0.002*\"prozent\" + 0.002*\"wien\" + 0.002*\"standard\" + 0.002*\"osterreich\" + 0.001*\"spiel\" + 0.001*\"euro\" + 0.001*\"jahr\" + 0.001*\"neu\" + 0.001*\"erst\" + 0.001*\"gross\"\n",
            "Topic match score: 0.2246445268392563\t \n",
            "Topic: 0.003*\"fluchtling\" + 0.003*\"griechenland\" + 0.002*\"griechisch\" + 0.002*\"word\" + 0.002*\"regier\" + 0.002*\"ath\" + 0.002*\"sagt\" + 0.002*\"mensch\" + 0.002*\"land\" + 0.002*\"euro\"\n"
          ]
        }
      ]
    },
    {
      "cell_type": "markdown",
      "source": [
        "Calculating the [perplexity score](https://towardsdatascience.com/perplexity-in-language-models-87a196019a94) (lower is better):"
      ],
      "metadata": {
        "id": "Y6hgkxQ4RIzf"
      }
    },
    {
      "cell_type": "code",
      "source": [
        "print('Perplexity: ', lda_model.log_perplexity(bow_corpus))\n",
        "print('Perplexity TFIDF: ', lda_model_tfidf.log_perplexity(bow_corpus))"
      ],
      "metadata": {
        "colab": {
          "base_uri": "https://localhost:8080/"
        },
        "id": "hHtIgzTlw-gN",
        "outputId": "37108ace-a5ab-46c4-f187-d7073b08b83c"
      },
      "execution_count": 29,
      "outputs": [
        {
          "output_type": "stream",
          "name": "stdout",
          "text": [
            "Perplexity:  -7.992576509946091\n",
            "Perplexity TFIDF:  -8.47704606263198\n"
          ]
        }
      ]
    },
    {
      "cell_type": "markdown",
      "metadata": {
        "id": "NZGXqV-TtyTm"
      },
      "source": [
        "### Exercise - inference\n",
        "\n",
        "Now please try it on a new document!\n",
        "\n",
        "Go to a news website, such as [orf.at](https://orf.at/) and copy an article of your choice here:"
      ]
    },
    {
      "cell_type": "code",
      "metadata": {
        "id": "Srd1NWjFtlqM",
        "outputId": "b72bdd58-b0d8-4260-9b67-4b3e53164dcc",
        "colab": {
          "base_uri": "https://localhost:8080/"
        }
      },
      "source": [
        "unseen_document = \"\"\"Kritik nach Nein zu Forchet-Schutzgebiet\n",
        "Nach dem knappen Nein des Haiminger Gemeinderats zu einem Schutzgebiet für das Waldgebiet Forchet gibt es Kritik an dem Beschluss. Die Bürgerinitiative „Schützt das Forchet“ sieht den Grund für die Ablehnung auch in taktischen Polit-Spielen. Beim Land zeigt man sich ebenfalls enttäuscht.\n",
        "Jahrelang war die Unterschutzstellung des laut Bürgerinitiative „letzten Talwaldes im Inntal“ vorbereitet worden. Diskussionen hatte es in der Vergangenheit über die Größe des geplanten Schutzgebietes gegeben. Vor allem die größte Gemeinderatsfraktion rund um Vizebürgermeister Christian Köfler (Allgemeine Liste) wollte ein kleineres Schutzgebiet. Das Land hatte deshalb bereits eine abgespeckte Variante ausgearbeitet, dort zeigte man sich am Montag enttäuscht über das Nein im Haiminger Gemeinderat. Die Abstimmung ging dort bei der Sitzung vergangene Woche mit 9:8 gegen die Unterschutzstellung des Forchet aus.\n",
        "Die Bürgerinitiative sah dabei weniger die inhaltlichen Einwände ausschlaggebend für die Ablehnung. Vielmehr sei die politische Situation der Gemeinde verfahren: Gegner von Bürgermeisterin Michaela Ofner, die mit ihrer Neuen Bürgerliste keine Mehrheit im Gemeinderat hat, hätten sich aus Prinzip quergelegt. Ofner hatte sich vor ihrer Wahl besonders für die Unterschutzstellung des Forchet stark gemacht. Grundsätzlich hatten sich aber auch die anderen Listen vor der Gemeinderatswahl für ein Schutzgebiet ausgesprochen. „Die Liebe zum Forchet war wohl nur vorübergehend“, kritisierten deshalb die Tiroler Grünen die jetzige Entscheidung der Gemeinderatsmehrheit in Haiming. Das Gebiet des Forchet werde ohnehin ständig „angeknabbert“. Die SPÖ ihrerseits sprach von „Parteispielchen im Haiminger Gemeinderat auf Kosten des Lebens- und Naturraums“.\n",
        "Bürgerinitiative will trotz Ablehnung nicht aufgeben\n",
        "Die Bürgerinitiative „Schützt das Forchet“ ist überzeugt, dass trotz des Neins des Gemeinderats eine Mehrheit der Bevölkerung für ein Schutzgebiet ist. Sie will deshalb weiter dafür kämpfen. „Im Naturschutz braucht man einen langen Atem“, meint Sprecherin Marianne Götsch in einer Aussendung. Sie kritisiert, dass die Fläche für die geplante Unterschutzstellung ohnehin verkleinert wurde, um Einwände aus Haiming zu berücksichtigen. Über die Jahre seien bereits mehr als zehn Hektar des Forchetwalds gerodet worden, für viele weitere Hektar gebe es bereits Umwidmungen.\n",
        "Das Forchet ist auch ein wichtiges Naherholungsgebiet für die Bevölkerung\n",
        "Enttäuschung beim Land nach jahrelanger Vorarbeit\n",
        "Beim Land betont man nach der Ablehnung durch den Haiminger Gemeinderat, dass es „geübte und erfolgreiche Praxis“ sei, ein solches Schutzgebiet nur in enger Abstimmung mit den betroffenen Gemeinden zu erlassen. Das Land habe seine Aufgaben in diesem Zusammenhang gemacht, heißt es von Seiten des zuständigen Umweltlandesrats Rene Zumtobel (SPÖ): „Das gemeinsame Ziel war es, diesen für Pflanzen und Tiere so bedeutenden Talwald unter Schutz zu stellen. Den nun negativen Gemeinderatsbeschluss nehme ich enttäuscht zur Kenntnis. Aus vielen persönlichen Gesprächen weiß ich, wie wichtig das Haiminger Forchet den Menschen als Naherholungsgebiet ist.“ Das vom Land vorbereitete Projekt hätte eine Unterschutzstellung von 93 Hektar Wald vorgesehen.\n",
        "Bürgermeisterin weiter für Schutz, Vize verneint „Racheakt“\n",
        "Bürgermeisterin Michaela Ofner versteht auch Tage nach der Gemeinderatssitzung nicht, warum eine Mehrheit gegen das Schutzgebiet gestimmt hat. Der Vorschlag des Landes sei bereits die „kleinstmögliche Variante“, die noch einen Sinn ergibt. Auch mit dem Grundeigentümern soll es offenbar schon weitgehend Übereinstimmung gegeben haben. Öfner argumentiert, dass es offenbar nicht um Sachpolitik gegangen sei. Wenn es noch eine Minimalchance für das Schutzgebiet gebe, dann werde sie das unterstützen. Eine Volksbefragung, die auch von der Bürgerinitiative als Möglichkeit in den Raum gestellt wird, habe den Nachteil, dass sie nicht bindend sei. Die Mehrheit im Gemeinderat habe sich bei ihrer Entscheidung schon diesmal nicht von der Stimmung in der Bevölkerung beeindrucken lassen, so die Bürgermeisterin.\n",
        "Der Vizebürgermeister Christian Köfler weist die Vorwürfe zurück, wonach es nur darum gegangen sei, der Orts-Chefin als deklarierter Befürworterin des Schutzgebiets keinen Erfolg zu gönnen. „Das war kein politischer Racheakt“, so Köfler gegenüber dem ORF Tirol. Für ihn sei das geplante Schutzgebiet einfach viel zu groß. Er könne sich nur die Unterschutzstellung eines Kerngebiets des Forchets vorstellen, also von 40 bis 50 Hektar. Ansonsten würde man die Entwicklungmöglichkeiten und den Entscheidungsspielraum künftiger Generationen in Haiming zu sehr einschränken, argumentiert der Listenführer der größten Fraktion im Haiminger Gemeinderat. Immerhin gehe es bei dem Schutzgebiet um ein Areal, das genau zwischen zwei Ortsteilen der Gemeinde liege.\"\"\"\n",
        "\n",
        "bow_vector = dictionary.doc2bow(preprocess(unseen_document))\n",
        "\n",
        "print(\"Simply printing the lda_model output would look like this:\")\n",
        "pprint(lda_model[bow_vector])\n",
        "\n",
        "print(\"\\n\\nSo let's make it nicer, by printing the topic contents:\")\n",
        "for index, score in sorted(lda_model[bow_vector], key=lambda tup: -1*tup[1]):\n",
        "    print(\"Score: {}\\t Topic: {}\".format(score, lda_model.print_topic(index, 5)))\n"
      ],
      "execution_count": 30,
      "outputs": [
        {
          "output_type": "stream",
          "name": "stdout",
          "text": [
            "Simply printing the lda_model output would look like this:\n",
            "[(0, 0.8217152), (3, 0.051950306), (4, 0.073144004), (8, 0.05092331)]\n",
            "\n",
            "\n",
            "So let's make it nicer, by printing the topic contents:\n",
            "Score: 0.8204343318939209\t Topic: 0.007*\"polit\" + 0.007*\"sagt\" + 0.007*\"wien\" + 0.006*\"grun\" + 0.006*\"partei\"\n",
            "Score: 0.07280618697404861\t Topic: 0.014*\"spiel\" + 0.010*\"erst\" + 0.006*\"salzburg\" + 0.005*\"schon\" + 0.005*\"zwei\"\n",
            "Score: 0.05494922772049904\t Topic: 0.009*\"jahr\" + 0.008*\"wien\" + 0.007*\"forsch\" + 0.006*\"gross\" + 0.005*\"wissenschaft\"\n",
            "Score: 0.04954322800040245\t Topic: 0.011*\"jahr\" + 0.010*\"word\" + 0.008*\"sagt\" + 0.006*\"mann\" + 0.006*\"jahrig\"\n"
          ]
        }
      ]
    },
    {
      "cell_type": "code",
      "source": [],
      "metadata": {
        "id": "dig8d3oWR6xM"
      },
      "execution_count": 30,
      "outputs": []
    },
    {
      "cell_type": "markdown",
      "source": [
        "## Visualization"
      ],
      "metadata": {
        "id": "NOl16tMOsmYd"
      }
    },
    {
      "cell_type": "markdown",
      "source": [
        "Finally, there are packages that can visulaize the results, such as [pyLDAvis](https://pypi.org/project/pyLDAvis/) and [tmplot](https://pypi.org/project/tmplot/).\n",
        "\n",
        "Let's take a look at pyLDAvis visualization result.\n",
        "\n",
        "**Please note:** this is an old and unmaintained package. It is easier to run it in Google-Colab than on your laptop. But, if you still try running it locally, please try **lowering your python version** (3.6 / 3.6 / 3.8) when you create the poetry environment for this exercise."
      ],
      "metadata": {
        "id": "Am2p_6seTOOE"
      }
    },
    {
      "cell_type": "code",
      "source": [
        "%pip install pyLDAvis"
      ],
      "metadata": {
        "id": "ERQDi99Rs6dO",
        "colab": {
          "base_uri": "https://localhost:8080/"
        },
        "outputId": "e274189b-5244-4d2f-909f-2910029de7e6"
      },
      "execution_count": 31,
      "outputs": [
        {
          "output_type": "stream",
          "name": "stdout",
          "text": [
            "Collecting pyLDAvis\n",
            "  Downloading pyLDAvis-3.4.1-py3-none-any.whl.metadata (4.2 kB)\n",
            "Requirement already satisfied: numpy>=1.24.2 in /usr/local/lib/python3.10/dist-packages (from pyLDAvis) (1.26.4)\n",
            "Requirement already satisfied: scipy in /usr/local/lib/python3.10/dist-packages (from pyLDAvis) (1.13.1)\n",
            "Requirement already satisfied: pandas>=2.0.0 in /usr/local/lib/python3.10/dist-packages (from pyLDAvis) (2.2.2)\n",
            "Requirement already satisfied: joblib>=1.2.0 in /usr/local/lib/python3.10/dist-packages (from pyLDAvis) (1.4.2)\n",
            "Requirement already satisfied: jinja2 in /usr/local/lib/python3.10/dist-packages (from pyLDAvis) (3.1.4)\n",
            "Requirement already satisfied: numexpr in /usr/local/lib/python3.10/dist-packages (from pyLDAvis) (2.10.2)\n",
            "Collecting funcy (from pyLDAvis)\n",
            "  Downloading funcy-2.0-py2.py3-none-any.whl.metadata (5.9 kB)\n",
            "Requirement already satisfied: scikit-learn>=1.0.0 in /usr/local/lib/python3.10/dist-packages (from pyLDAvis) (1.5.2)\n",
            "Requirement already satisfied: gensim in /usr/local/lib/python3.10/dist-packages (from pyLDAvis) (4.3.3)\n",
            "Requirement already satisfied: setuptools in /usr/local/lib/python3.10/dist-packages (from pyLDAvis) (75.1.0)\n",
            "Requirement already satisfied: python-dateutil>=2.8.2 in /usr/local/lib/python3.10/dist-packages (from pandas>=2.0.0->pyLDAvis) (2.8.2)\n",
            "Requirement already satisfied: pytz>=2020.1 in /usr/local/lib/python3.10/dist-packages (from pandas>=2.0.0->pyLDAvis) (2024.2)\n",
            "Requirement already satisfied: tzdata>=2022.7 in /usr/local/lib/python3.10/dist-packages (from pandas>=2.0.0->pyLDAvis) (2024.2)\n",
            "Requirement already satisfied: threadpoolctl>=3.1.0 in /usr/local/lib/python3.10/dist-packages (from scikit-learn>=1.0.0->pyLDAvis) (3.5.0)\n",
            "Requirement already satisfied: smart-open>=1.8.1 in /usr/local/lib/python3.10/dist-packages (from gensim->pyLDAvis) (7.0.5)\n",
            "Requirement already satisfied: MarkupSafe>=2.0 in /usr/local/lib/python3.10/dist-packages (from jinja2->pyLDAvis) (3.0.2)\n",
            "Requirement already satisfied: six>=1.5 in /usr/local/lib/python3.10/dist-packages (from python-dateutil>=2.8.2->pandas>=2.0.0->pyLDAvis) (1.17.0)\n",
            "Requirement already satisfied: wrapt in /usr/local/lib/python3.10/dist-packages (from smart-open>=1.8.1->gensim->pyLDAvis) (1.17.0)\n",
            "Downloading pyLDAvis-3.4.1-py3-none-any.whl (2.6 MB)\n",
            "\u001b[2K   \u001b[90m━━━━━━━━━━━━━━━━━━━━━━━━━━━━━━━━━━━━━━━━\u001b[0m \u001b[32m2.6/2.6 MB\u001b[0m \u001b[31m35.5 MB/s\u001b[0m eta \u001b[36m0:00:00\u001b[0m\n",
            "\u001b[?25hDownloading funcy-2.0-py2.py3-none-any.whl (30 kB)\n",
            "Installing collected packages: funcy, pyLDAvis\n",
            "Successfully installed funcy-2.0 pyLDAvis-3.4.1\n"
          ]
        }
      ]
    },
    {
      "cell_type": "code",
      "source": [
        "import pyLDAvis.gensim_models as gensimvis\n",
        "import pyLDAvis\n",
        "\n",
        "bow_lda_data = gensimvis.prepare(lda_model, bow_corpus, dictionary)\n",
        "\n",
        "pyLDAvis.display(bow_lda_data)"
      ],
      "metadata": {
        "colab": {
          "base_uri": "https://localhost:8080/",
          "height": 862
        },
        "id": "xwDURjMYslxZ",
        "outputId": "1d0a80a7-0d47-463b-f68c-edf0d1c2f273"
      },
      "execution_count": 32,
      "outputs": [
        {
          "output_type": "execute_result",
          "data": {
            "text/plain": [
              "<IPython.core.display.HTML object>"
            ],
            "text/html": [
              "\n",
              "<link rel=\"stylesheet\" type=\"text/css\" href=\"https://cdn.jsdelivr.net/gh/bmabey/pyLDAvis@3.4.0/pyLDAvis/js/ldavis.v1.0.0.css\">\n",
              "\n",
              "\n",
              "<div id=\"ldavis_el381139518597932624267150493\" style=\"background-color:white;\"></div>\n",
              "<script type=\"text/javascript\">\n",
              "\n",
              "var ldavis_el381139518597932624267150493_data = {\"mdsDat\": {\"x\": [-0.0509293351319305, -0.0945546892697209, -0.03526185637828379, 0.014782184227788552, -0.08114122915926307, -0.09378553106066272, -0.022692087663014893, 0.13074594590549496, 0.20138175140388076, 0.031454847125711276], \"y\": [-0.041349864849550916, 0.005686800414385358, 0.0968959743062119, -0.07199969785264515, 0.02936341687520851, 0.08160727683464768, -0.1698749941560781, 0.09653392134360761, -0.01578483432486392, -0.011077998590922594], \"topics\": [1, 2, 3, 4, 5, 6, 7, 8, 9, 10], \"cluster\": [1, 1, 1, 1, 1, 1, 1, 1, 1, 1], \"Freq\": [16.119788194916147, 12.517858235800164, 12.031356192469374, 10.968641744099882, 10.968506019927302, 9.700435741934017, 9.027560863187691, 7.887539288017929, 6.750048996690065, 4.028264722957424]}, \"tinfo\": {\"Term\": [\"prozent\", \"fluchtling\", \"euro\", \"spiel\", \"standard\", \"jahr\", \"mensch\", \"russisch\", \"china\", \"russland\", \"osterreich\", \"jahrig\", \"million\", \"griechenland\", \"word\", \"erst\", \"partei\", \"ukrain\", \"unternehm\", \"polizei\", \"forsch\", \"grenz\", \"chines\", \"sieg\", \"turkei\", \"syri\", \"grun\", \"minut\", \"wissenschaft\", \"griechisch\", \"kandidatur\", \"griss\", \"haupl\", \"khol\", \"glawischn\", \"strolz\", \"republikan\", \"trump\", \"niessl\", \"volkspartei\", \"podemos\", \"hillary\", \"puhring\", \"parteitag\", \"haimbuchn\", \"wahlergebnis\", \"irmgard\", \"wahlkampf\", \"stadtrat\", \"stichwahl\", \"gemeinderat\", \"juraczka\", \"clinton\", \"labour\", \"kandidi\", \"wahlkart\", \"stenzel\", \"spitzenkandidat\", \"landtagswahl\", \"vov\", \"vassilakou\", \"parlamentswahl\", \"strach\", \"neos\", \"partei\", \"stronach\", \"kandidat\", \"bell\", \"demokrat\", \"parteichef\", \"lopatka\", \"grun\", \"landeshauptmann\", \"wahl\", \"obama\", \"proll\", \"freiheit\", \"landtag\", \"blau\", \"burgermeist\", \"abgeordnet\", \"mandat\", \"koalition\", \"polit\", \"stimm\", \"faymann\", \"prasident\", \"mehrheit\", \"heinz\", \"parlament\", \"konservativ\", \"regier\", \"wien\", \"chef\", \"sagt\", \"standard\", \"land\", \"seit\", \"neu\", \"hatt\", \"entscheid\", \"schon\", \"recht\", \"erst\", \"jahr\", \"muss\", \"erklart\", \"bereit\", \"frag\", \"prozent\", \"gross\", \"laut\", \"fachblatt\", \"tsipras\", \"eurogrupp\", \"hilfsprogramm\", \"junck\", \"schaubl\", \"hilfspaket\", \"dijsselblo\", \"varoufakis\", \"jero\", \"nothilf\", \"draghi\", \"ath\", \"yanis\", \"phon\", \"grexit\", \"lumia\", \"spotify\", \"kommissionschef\", \"messeng\", \"lagard\", \"betriebssystem\", \"brows\", \"firefox\", \"syriza\", \"tragfah\", \"finanzhilf\", \"windows\", \"wahrungsunion\", \"betriebssyst\", \"microsoft\", \"tusk\", \"updat\", \"griechisch\", \"griechenland\", \"alexis\", \"griech\", \"appl\", \"android\", \"apps\", \"googl\", \"iphon\", \"finanzminist\", \"kommission\", \"wahrungsfond\", \"version\", \"smartphon\", \"nutz\", \"brussel\", \"vorschlag\", \"gerat\", \"einig\", \"verhandl\", \"neu\", \"europa\", \"softwar\", \"soll\", \"eurozon\", \"sagt\", \"regier\", \"land\", \"muss\", \"allerding\", \"weit\", \"euro\", \"bereit\", \"staat\", \"deutsch\", \"moglich\", \"gibt\", \"osterreich\", \"erst\", \"seit\", \"beim\", \"jahr\", \"geb\", \"unternehm\", \"schon\", \"pfeiff\", \"molekul\", \"evolutionar\", \"teilch\", \"galaxi\", \"larg\", \"dissertation\", \"biologi\", \"planck\", \"mozart\", \"gustav\", \"epoch\", \"unis\", \"fachjournal\", \"cambridg\", \"biology\", \"physik\", \"philosoph\", \"zeitgeschicht\", \"eigenschaft\", \"promoviert\", \"spezi\", \"produktivitat\", \"evolution\", \"vogeln\", \"universum\", \"workshops\", \"publikation\", \"grant\", \"reflektiert\", \"materi\", \"gen\", \"wissenschaft\", \"scienc\", \"fossil\", \"forsch\", \"biolog\", \"universitat\", \"chemisch\", \"studier\", \"art\", \"kunst\", \"genet\", \"university\", \"forschung\", \"experiment\", \"institut\", \"studi\", \"projekt\", \"tier\", \"verschied\", \"buch\", \"form\", \"gross\", \"untersucht\", \"wien\", \"natur\", \"etwa\", \"klein\", \"jahr\", \"dabei\", \"lang\", \"heut\", \"entwickelt\", \"ganz\", \"zeit\", \"neu\", \"arbeit\", \"konnt\", \"schon\", \"erst\", \"imm\", \"sagt\", \"gibt\", \"dafur\", \"viel\", \"mensch\", \"wenig\", \"weit\", \"seit\", \"ausgrab\", \"durchmess\", \"schadel\", \"princ\", \"obduktion\", \"uberr\", \"archaolog\", \"witw\", \"dilma\", \"hakenkreuz\", \"kriminalist\", \"boz\", \"rousseff\", \"molenbeek\", \"razzi\", \"fund\", \"tatverdacht\", \"hinterblieb\", \"ausgesagt\", \"belagert\", \"dreharbeit\", \"jakarta\", \"geborg\", \"tunnel\", \"kompliz\", \"eingeliefert\", \"verschuttet\", \"brandstift\", \"flamm\", \"staatsanwaltin\", \"zeitrechn\", \"bauarbeit\", \"grab\", \"flughaf\", \"antik\", \"nordrhein\", \"silvesternacht\", \"staatsanwalt\", \"angeklagt\", \"verdacht\", \"attentat\", \"tat\", \"ermittl\", \"festgenomm\", \"opf\", \"polizei\", \"zeug\", \"erdbeb\", \"entdeckt\", \"mann\", \"anschlag\", \"haft\", \"word\", \"tot\", \"bahn\", \"koln\", \"krankenhaus\", \"frau\", \"jahrig\", \"verletzt\", \"gefund\", \"weg\", \"met\", \"jahr\", \"alt\", \"kilomet\", \"stadt\", \"angab\", \"berichtet\", \"sagt\", \"zwei\", \"laut\", \"seien\", \"bekannt\", \"wien\", \"weit\", \"mensch\", \"drei\", \"rund\", \"seit\", \"bereit\", \"erst\", \"konnt\", \"fall\", \"lang\", \"etwa\", \"erklart\", \"beid\", \"geschaftsjahr\", \"aktionar\", \"umsatz\", \"ebit\", \"eigenkapital\", \"unicredit\", \"gesamtjahr\", \"aktienkur\", \"heta\", \"ebitda\", \"erwirtschaftet\", \"fiskus\", \"kapitalerhoh\", \"transaktion\", \"offshor\", \"negativzins\", \"jahresumsatz\", \"entfiel\", \"ersparnis\", \"olpreis\", \"einkunft\", \"ruckkauf\", \"diskont\", \"zukauf\", \"liegenschaft\", \"divid\", \"bawag\", \"ruckstell\", \"holding\", \"borsennotiert\", \"telekom\", \"abschreib\", \"quartal\", \"anleih\", \"akti\", \"aufsichtsrat\", \"analyst\", \"operativ\", \"gmbh\", \"euro\", \"filial\", \"ikea\", \"vorstandschef\", \"rucklauf\", \"prozent\", \"marktanteil\", \"million\", \"bank\", \"konz\", \"milliard\", \"investor\", \"unternehm\", \"vorstand\", \"geschaft\", \"eigentum\", \"verkauf\", \"dollar\", \"minus\", \"betrug\", \"kund\", \"mitarbeit\", \"firm\", \"hypo\", \"wien\", \"vorjahr\", \"anteil\", \"jahr\", \"rund\", \"plus\", \"osterreich\", \"hoh\", \"markt\", \"kost\", \"laut\", \"zahl\", \"seit\", \"neu\", \"chef\", \"erst\", \"bereit\", \"seien\", \"weit\", \"deutsch\", \"sagt\", \"land\", \"weg\", \"soll\", \"drei\", \"zwei\", \"wenig\", \"mindestlohn\", \"mittelschicht\", \"jobsuch\", \"armut\", \"berufsbild\", \"sozialstaat\", \"arbeitslos\", \"ungleich\", \"kognitiv\", \"zuwand\", \"diskrepanz\", \"demograf\", \"pflichtschul\", \"wachstumsrat\", \"sozialsyst\", \"padagog\", \"psychologi\", \"schulsyst\", \"arbeitsmarkt\", \"arbeitskraft\", \"oecd\", \"zuwander\", \"einkomm\", \"kinderbetreu\", \"skandinav\", \"sozialhilf\", \"kindergart\", \"erzieh\", \"spitzenfeld\", \"muttersprach\", \"wifo\", \"gehirn\", \"uberstund\", \"wohlstand\", \"okonom\", \"standard\", \"hassposting\", \"befragt\", \"durchschnitt\", \"arbeitnehm\", \"statist\", \"integration\", \"kind\", \"job\", \"ausbild\", \"osterreich\", \"studi\", \"sozial\", \"mensch\", \"prozent\", \"facebook\", \"wachstum\", \"gibt\", \"wenig\", \"arbeit\", \"viel\", \"sag\", \"hoh\", \"imm\", \"stark\", \"jahr\", \"zahl\", \"geht\", \"person\", \"schlecht\", \"land\", \"liegt\", \"schon\", \"etwa\", \"fluchtling\", \"frag\", \"gross\", \"muss\", \"sagt\", \"wien\", \"seit\", \"lang\", \"erst\", \"war\", \"peskow\", \"kosovo\", \"radkersburg\", \"mazedon\", \"bohmermann\", \"kosovar\", \"mazedoni\", \"idomeni\", \"kreml\", \"ostukrain\", \"putin\", \"transitland\", \"moskaus\", \"serbi\", \"dmitri\", \"libysch\", \"belgrad\", \"uberfahrt\", \"diyarbakir\", \"interfax\", \"balkanstaat\", \"poroschenko\", \"notquarti\", \"grenzubertritt\", \"slowen\", \"petro\", \"serbisch\", \"kampfjet\", \"ukrain\", \"ankara\", \"krim\", \"wladimir\", \"russisch\", \"syrisch\", \"moskau\", \"kurdisch\", \"turkisch\", \"kiew\", \"kroatisch\", \"syri\", \"turkei\", \"kroati\", \"russland\", \"ungarn\", \"ungar\", \"sloweni\", \"erdogan\", \"fluchtling\", \"irak\", \"syr\", \"grenz\", \"soldat\", \"zaun\", \"afghan\", \"kampf\", \"mensch\", \"aussenminist\", \"regier\", \"sagt\", \"staat\", \"deutschland\", \"polizei\", \"islam\", \"seit\", \"land\", \"seien\", \"osterreich\", \"word\", \"angab\", \"montag\", \"rund\", \"zwei\", \"bereit\", \"jahr\", \"admira\", \"grodig\", \"euroraum\", \"zeidl\", \"zamg\", \"meteorologi\", \"slalom\", \"altach\", \"kainz\", \"schottel\", \"geodynam\", \"barisic\", \"foda\", \"kayod\", \"lask\", \"gorgon\", \"jelic\", \"zentralanstalt\", \"edomwonyi\", \"strebing\", \"fallout\", \"grozurek\", \"avdijaj\", \"siebenhandl\", \"venuto\", \"dibon\", \"schwegl\", \"wack\", \"laim\", \"riesentorlauf\", \"weltcup\", \"pavelic\", \"celsius\", \"rapid\", \"keita\", \"pfeifenberg\", \"ried\", \"soriano\", \"schobesberg\", \"mattersburg\", \"wolk\", \"happel\", \"fink\", \"schaub\", \"grad\", \"hirsch\", \"alm\", \"mannschaft\", \"hofmann\", \"planet\", \"spiel\", \"ball\", \"sturm\", \"stadion\", \"arena\", \"temperatur\", \"salzburg\", \"sonn\", \"austria\", \"train\", \"bull\", \"bundesliga\", \"nasa\", \"minut\", \"fussball\", \"sieg\", \"erst\", \"punkt\", \"team\", \"platz\", \"zweit\", \"saison\", \"schon\", \"zwei\", \"best\", \"vier\", \"chanc\", \"wien\", \"gross\", \"drei\", \"rund\", \"beim\", \"konnt\", \"bereit\", \"sagt\", \"osterreich\", \"jahr\", \"seit\", \"neu\", \"volltext\", \"atletico\", \"stok\", \"juventus\", \"leic\", \"barca\", \"tottenham\", \"dallas\", \"chelsea\", \"neymar\", \"monchengladbach\", \"hasenhuttl\", \"suarez\", \"thiem\", \"tampa\", \"tempelberg\", \"cavali\", \"warrior\", \"lewandowski\", \"ronaldo\", \"sanaa\", \"borussia\", \"hadi\", \"aden\", \"guardiola\", \"grabn\", \"nadal\", \"leverkus\", \"houthi\", \"vidal\", \"united\", \"basier\", \"liverpool\", \"schalk\", \"werd\", \"halbfinal\", \"jerusal\", \"israel\", \"hinspiel\", \"minnesota\", \"barcelona\", \"achtelfinal\", \"palastinens\", \"dortmund\", \"leagu\", \"manch\", \"champion\", \"arnautovic\", \"bay\", \"alaba\", \"madrid\", \"city\", \"artikel\", \"tor\", \"sieg\", \"viertelfinal\", \"saison\", \"minut\", \"train\", \"niederlag\", \"spiel\", \"rechtlich\", \"punkt\", \"steht\", \"erst\", \"final\", \"verfug\", \"jahrig\", \"team\", \"zweit\", \"beim\", \"fussball\", \"grund\", \"zwei\", \"drei\", \"seit\", \"jahr\", \"rund\", \"sagt\", \"bereit\", \"schon\", \"neu\", \"vettel\", \"peking\", \"toyota\", \"hamilton\", \"mannch\", \"taiwan\", \"chinas\", \"nico\", \"jinping\", \"wang\", \"ferrari\", \"yuan\", \"blockbust\", \"volksrepubl\", \"kinofilm\", \"chines\", \"hongkong\", \"renault\", \"vollzug\", \"delhi\", \"vatikan\", \"verbuss\", \"china\", \"satellit\", \"tokio\", \"xinhua\", \"vatikanstadt\", \"christi\", \"kinostart\", \"shanghai\", \"franziskus\", \"papst\", \"formel\", \"indi\", \"notenbank\", \"japan\", \"autos\", \"volkswag\", \"motor\", \"merced\", \"bors\", \"film\", \"selbstfahr\", \"indisch\", \"fahrzeug\", \"autobau\", \"weltweit\", \"dollar\", \"jahr\", \"welt\", \"jahrig\", \"erst\", \"franzos\", \"markt\", \"zwei\", \"sagt\", \"bereit\", \"seit\", \"neu\", \"drei\", \"weit\", \"gross\", \"land\", \"prozent\", \"beim\"], \"Freq\": [6286.0, 3554.0, 5064.0, 2991.0, 3324.0, 9858.0, 4161.0, 1150.0, 786.0, 1343.0, 6023.0, 2317.0, 3029.0, 1284.0, 3571.0, 6681.0, 1424.0, 888.0, 2214.0, 1469.0, 1465.0, 1452.0, 583.0, 1112.0, 938.0, 929.0, 1695.0, 1141.0, 1049.0, 917.0, 142.24636000596465, 226.27558472192771, 305.3107990146658, 139.80799045515892, 141.20796795955056, 85.81526332506525, 239.44042655938588, 347.9612353269733, 143.26976641544147, 100.18823836578429, 50.26350178357787, 96.33526758080286, 75.45685731522687, 105.82083396087461, 60.19869088764133, 53.52228469181503, 63.77844857987522, 310.56665596523334, 63.46520453479042, 82.22162582330675, 168.19121574128513, 40.91880441190677, 195.35425095436068, 43.46292457328169, 56.98451973802346, 63.703305931690814, 43.12295636572497, 36.12937206001864, 80.31703581358614, 36.479557442669645, 113.0155615709543, 66.44976570164005, 422.33026005746495, 315.4539573941315, 1300.299266926602, 193.45006976568354, 636.99948237547, 348.7808612012472, 302.4188659730888, 161.0115139800486, 144.05939420790367, 1429.8420826757838, 329.57801403525934, 1140.5631003505493, 353.9257332914924, 170.67218310442232, 381.9840999937091, 158.07670164279875, 360.30369007261805, 475.2652130024941, 513.7164808278388, 204.64643157690827, 301.5410936828634, 1703.7130422040605, 496.8048544449492, 491.7564373130228, 936.1502195231889, 404.21881763385426, 307.53020133380187, 521.1966995659385, 255.09288412842565, 1009.8264735385962, 1530.481438308063, 656.5089587280199, 1648.6731300241263, 807.2947056698871, 895.6010161425053, 943.3011831756656, 908.634659934935, 655.8993462343656, 575.6489817607845, 759.3966960596304, 515.4522947664547, 809.0856903434167, 884.886902314937, 604.454378443132, 561.3034111339458, 641.1503161515242, 472.34754434113216, 532.5389233638815, 511.9920870705027, 491.2565228987014, 181.2993734148323, 451.15102292104984, 135.43108231240225, 124.75213107680949, 158.97349692732038, 108.62284962614223, 88.34815790804036, 84.06488719800954, 136.94544979116228, 56.285760803917384, 48.643444867566146, 64.86909175124754, 601.5778177581126, 44.60773901590734, 48.408870294396294, 101.51153241519421, 56.729252055206345, 53.454773793729665, 27.415086141960344, 51.03211162573193, 91.8592925191616, 46.82194770105159, 85.89422745739255, 22.80017022396473, 73.31500983792354, 23.620395359440018, 41.65950375244359, 470.14177899837694, 69.18949614914592, 97.46856636807986, 443.8096381829997, 70.99841418131206, 250.9421035291688, 827.3674191112963, 1131.721724105287, 157.35590456206208, 184.2455451173655, 713.161161708934, 358.3980549879442, 188.41948613138595, 605.5860701825112, 233.7928244680723, 458.5460758566179, 597.2492215697862, 158.70408382484635, 281.93230247775927, 450.2392880961877, 706.5515214017429, 415.7101107761268, 376.60577166207537, 543.1688739454074, 262.60525622870824, 419.79747070656424, 1682.9495711395757, 1095.8299824470016, 257.17188208302025, 906.0522412546939, 220.00309546409133, 1354.7089628748101, 713.5346324084962, 888.974179766797, 694.3346161599317, 626.9163682976422, 751.1630752730401, 823.0001018805403, 778.1216642651858, 529.0661290306897, 604.0499273218257, 543.9395475963436, 593.9551850183296, 647.2268457533442, 634.6036193791999, 602.2766284851418, 547.4439268428043, 605.7474494948303, 514.6071921611498, 499.13297290489584, 502.38995383510263, 150.43795564135272, 75.18171663803645, 67.11858979861623, 133.49745833413806, 76.51963269887005, 41.70839157567838, 35.7372808049168, 29.66263506861879, 76.1200841737844, 20.25646244050925, 18.8005563862786, 24.488470413871564, 41.919943453273646, 93.28499394398396, 56.62555764425571, 44.58032136313175, 190.5014553357065, 62.95467639892517, 12.83810312549877, 119.37351426418006, 19.213724576424372, 77.57583641121197, 46.86694445018407, 79.13533370541921, 53.488810345787655, 98.66992263416432, 13.753130524557525, 48.0690265179197, 42.45493330091932, 19.434197828598553, 121.88745607641539, 120.7540538365286, 901.713616844445, 173.23147493302588, 95.8278283043369, 1123.1080891071872, 128.61349721563005, 602.1354691842524, 78.85082014035102, 93.74178232850693, 169.1896395521732, 100.94520079408181, 115.7952202006687, 186.14404289882123, 233.89252020128504, 192.23364763185498, 429.54223143949235, 527.3867255876663, 416.5334616929841, 354.11739421347795, 300.4831607099903, 238.32484517290186, 256.2678178580867, 1018.3361063305687, 248.5837406410191, 1362.244106574574, 428.73916266438937, 821.9374498232543, 510.06228153126256, 1500.4359636997503, 684.4567815694717, 664.6367736824435, 450.3425450761567, 264.6678860321078, 560.7558979161894, 522.7017308808491, 855.875389168946, 472.6003316975742, 584.1972385585578, 688.9111961346632, 820.3683683666175, 556.3394998616789, 858.2626659701989, 573.337522152161, 437.8396350259847, 534.5722062628066, 521.6644003651913, 450.5164606081777, 473.36810514381324, 484.3793673669988, 93.95420422838237, 83.64227921719183, 38.404070046706714, 98.71833346662129, 27.54900891040106, 104.60043841723821, 297.41216671518697, 26.600171533408403, 16.14736175411338, 18.927323748585593, 12.514990706456732, 29.34680544571124, 62.75582219426705, 17.65081134403687, 17.876110228379332, 188.22920079585035, 43.17524956579726, 16.216211440502345, 25.556125722729004, 19.09628423083173, 14.268391221934612, 17.158113685150177, 49.64028414134251, 88.6472398472639, 17.652389220605215, 20.078483892520534, 35.48835024289291, 16.520642430865195, 37.17299113863566, 24.61408780805832, 64.2325778521304, 45.149656548507906, 227.79388114463868, 286.25978985417095, 85.13281621317523, 51.79391236433044, 54.96687621249032, 94.89546688577958, 249.69146974664739, 369.93814133626336, 170.92680831185584, 259.27313888893, 404.9526634542889, 247.810677359876, 356.1055815121226, 865.6586195389331, 150.91043164761356, 100.3602462857539, 354.45718389391436, 938.944546942828, 271.5410836044394, 215.8369878885907, 1581.5289239285382, 253.00163589086281, 180.60656118024235, 234.26423307301252, 150.1050670299177, 697.5001728645532, 915.4292609106401, 368.96350613341195, 315.2329965396314, 798.3806623841705, 326.50396040146603, 1650.3701645735566, 510.4220558269946, 339.4459776352417, 492.5118981232995, 488.88792607613345, 524.5875202450346, 1177.6767244929208, 830.6952096769134, 702.7138418733156, 604.6526985577467, 449.73542721796144, 809.6729321400146, 647.1637578553458, 646.7111535384237, 547.3452066282458, 559.3428692962042, 629.7939818332766, 566.9826375372188, 605.7185404986526, 468.2035147796841, 443.26901542067156, 453.87920470664824, 448.78833645000253, 429.5513396037844, 421.57023926627426, 63.15385131202461, 68.75537606621216, 339.44009920321577, 24.094004749104467, 35.19644306952484, 23.10451281174404, 29.375126477338195, 28.13140574398026, 49.625551272267266, 19.27885019955048, 31.39929589113438, 26.8128736094485, 20.709738524397437, 52.70798165296983, 67.2962185627077, 27.315961471185535, 26.72388201614117, 24.55250218836801, 23.557934658840168, 91.72362997753723, 16.408765858903294, 16.138906701581597, 31.878426319401946, 30.091751752404406, 15.778161154415681, 46.776712138277716, 20.121124882513215, 12.469535161858605, 94.71660589646436, 28.316582773042438, 154.26533204015197, 36.35696376577726, 243.25630514933243, 87.35607607705447, 256.7162101025427, 88.25937643331852, 94.83336731771732, 82.9859592989454, 110.94311444587888, 3394.82425902462, 145.28185312345764, 78.01645749647282, 59.31488864182901, 57.85029984428015, 3319.868716505574, 86.39802499342113, 1680.489913694363, 631.9236105651424, 391.07900062385494, 836.3367599988316, 170.6040326097846, 1157.651203608168, 185.25139811614667, 373.064798284757, 157.18954805009412, 278.4424807473703, 631.1118806407937, 196.18448814102968, 150.54420701740116, 318.8907822253281, 454.95101858574594, 221.65263308476426, 134.88548986922717, 1553.4016825849671, 293.84269383660256, 234.86139427171756, 1909.0788975499797, 991.6609344416504, 211.43995792802127, 1145.7510605059963, 661.9891384246819, 319.3700129797661, 290.03376517360783, 711.4311156064736, 531.3408970016771, 848.633829913449, 795.3756641021482, 432.16030551382954, 720.3721839147609, 576.162799312026, 483.28203464648817, 519.9719718513454, 466.17211768423664, 596.2360230084416, 490.27911011213064, 431.5744006785468, 439.0028057125298, 414.8741428318239, 410.5078019659472, 404.3838925231974, 135.70258517411037, 45.928715894677936, 39.124877243220425, 105.01140530976858, 18.3173263157788, 35.43364996757326, 261.8206376122002, 109.34974204358562, 25.451850156848423, 71.93893394396689, 29.68903759766698, 17.125502909803412, 13.034232801840062, 26.058233715468912, 18.102833755005868, 60.57606515908426, 16.37548977496461, 15.938558505311475, 329.0080956167607, 95.4789717191609, 204.65441272029003, 59.58929492312171, 186.21165402167446, 15.069251313949453, 19.179565559135245, 24.08726835612675, 106.21080684658703, 12.475847768869421, 21.019290920731642, 22.27778090618331, 133.05820065114077, 71.78025699884198, 50.96838262474588, 53.71275491773218, 308.18298875341713, 1991.326357112961, 36.996922776836286, 203.5807460462515, 85.59695197555843, 138.56309363301312, 179.32635550498637, 175.5961889779875, 611.4737072365436, 163.1508412700551, 130.64953269829036, 1904.1501855855354, 502.24344073744714, 353.63031790119317, 1288.338706244402, 1751.6860978321752, 365.9981823468812, 241.61817159615634, 1048.61855999409, 916.2830847538474, 585.0823563927195, 878.2188796463066, 318.6954492937874, 610.1364071101636, 694.3506950339972, 586.74823846484, 1332.134575563748, 520.6394481360452, 546.1109373073376, 454.8440431606457, 295.3316726310817, 712.0693409470417, 372.4900956148025, 616.0057763243668, 556.173404485842, 555.5826409914872, 419.79424830709627, 576.0225416637275, 444.5572084594902, 553.7920887859866, 499.1089741774757, 480.44768783564524, 391.43292222161057, 394.2412266753868, 380.06277375276215, 48.0368428571319, 144.62550530082967, 41.18257337580301, 103.28116048634807, 111.44970796180438, 29.283835728046245, 235.6177790127705, 52.593504509308616, 64.23614627056816, 77.75304119575746, 366.76798357609647, 23.505129935575837, 29.028584336426228, 287.5355975408566, 56.94554692939234, 43.72214963048431, 71.83371762295498, 26.13738105808229, 21.505345423131544, 28.530187856414837, 48.112550884546245, 62.227813593311204, 46.532865040408886, 34.70769227973363, 165.9111300468084, 36.93741773400028, 154.64149979615777, 28.320591734512142, 827.0965111780874, 157.43261166499937, 148.28612410849018, 162.6302561889111, 1034.5905089258076, 517.9693490404466, 590.3582788820964, 102.10510566041202, 547.9921102794316, 290.11466237599626, 174.46735697056315, 779.3779415502789, 785.6299360517336, 275.0921719572303, 1089.6714524527338, 495.0128104837283, 284.30817082541034, 318.73257448360056, 139.16332744826974, 2324.095782553644, 397.95628286481326, 205.86570653176102, 969.708080108986, 328.16839724497396, 202.69581056066096, 191.33541024729712, 492.88507373745483, 1034.667737044001, 259.6153808276303, 656.7906748299986, 1159.4928776557852, 542.4957622874844, 552.6677143434252, 458.89383214499435, 307.012667071042, 793.5099665440289, 677.1421456159802, 572.3957752577389, 751.1562889589255, 605.1281865130544, 407.6946524842411, 411.96534940444127, 474.50691348784454, 470.57893886199065, 421.6299139249114, 438.42027367294196, 204.8664298095306, 213.99006084927763, 63.66686018151498, 78.72600650967001, 51.5628362248276, 47.786726103531485, 69.93383740272823, 167.2202692426657, 94.22716766823933, 42.855742871999226, 37.119161803680726, 146.03343867143107, 37.74417329241481, 43.522624893382584, 60.04639707550178, 35.907890712515524, 48.51545963778278, 34.7062411864187, 30.874680811632103, 37.50755296947402, 43.018597862749175, 26.638142401210416, 26.606437803023297, 24.940416589029695, 30.764918233444156, 42.45442457277051, 27.395393021294893, 90.09041938223159, 28.982413446849648, 45.329786990048355, 141.64603123492367, 38.181344546957945, 99.32773836260245, 521.3195081482161, 61.16649941054367, 40.44384540685081, 149.31784877746256, 80.50473678317873, 68.01010155178487, 125.62050461812925, 88.65965920736117, 75.54357056429498, 72.69197347832268, 56.64547880186665, 357.54884872592555, 74.73401457173588, 72.74313108400318, 357.6783168203016, 135.0088303566011, 228.9276619532697, 1586.6465815132444, 210.40298136030464, 299.3559966429065, 213.45760199548718, 135.9605454649454, 161.25102928651293, 687.0718820412212, 163.94059449449335, 413.2364472720966, 361.1199119491201, 191.31457018741008, 189.97925174047077, 168.77285010572965, 435.58235178003383, 308.37746987931, 388.961691152648, 1077.138131487185, 414.99028740284155, 368.7614940349683, 374.2917886170476, 416.984935565659, 246.52433046185575, 548.950596720349, 533.7150222392703, 276.2636633160864, 348.93962708729805, 245.79524275956513, 501.9366521612933, 419.72034585872996, 376.78132758681727, 385.96041871805585, 363.69022746652576, 330.5645234629419, 357.2484092898983, 371.2951334843015, 338.33161220805965, 347.7220498374327, 326.00026811879746, 324.16454958429415, 274.78801154267416, 83.71493503590942, 68.5563961699537, 89.40696160918009, 70.26221589796752, 45.56949379333594, 51.77598850197301, 54.82416989739972, 86.90929106298202, 48.62852196047311, 39.94429904969349, 40.756165178573475, 35.43499997347741, 262.15665542247854, 30.72226990431221, 27.58247608567296, 29.21678850626564, 65.1688918333853, 37.12929658515406, 58.733301519304355, 29.641008133309874, 79.88753166387599, 26.968529161995825, 33.71817070201723, 65.12799683794807, 37.928112911070606, 82.57544869241624, 76.99688524469647, 23.901135088915858, 41.15331698850323, 121.58679347377529, 290.55401452696384, 106.92934459034153, 76.49448186265045, 63.00180506995729, 130.65001353311467, 104.68709096184413, 470.849912659581, 150.79152283953903, 59.495539107193935, 192.2363612006084, 116.362236100338, 108.23420140467843, 126.75378578089301, 420.43562198468067, 167.0224468040727, 252.30595693054997, 86.30675499927248, 367.49675291179443, 121.5230094045811, 212.73022079986396, 205.3902482699154, 311.8510909018234, 310.716852543608, 545.2963163490115, 129.33867952625312, 329.63088335124553, 501.722165492877, 344.8556085727044, 219.9652336242572, 768.7675409079266, 278.0927043554049, 422.5523280894421, 451.8241194103917, 898.4656765552052, 193.71257736310602, 304.0820969786219, 453.9701917814347, 329.58903417666687, 398.7584230911563, 489.81975733417266, 245.3637536205638, 337.0559462093342, 453.486591341293, 393.6303725186452, 428.68067271998825, 461.7586285078471, 357.38438482237973, 401.9095940928523, 335.74517348432056, 305.8678264033198, 286.1706951615066, 45.82997583444119, 255.89493773884303, 61.60811768544079, 59.30079725739915, 193.36521296177028, 39.9413506749804, 172.78432044637543, 17.73871238398512, 21.61565556679094, 39.118459446536235, 38.60915713979951, 60.85908833813923, 26.271501444454906, 51.94093024703519, 13.021554713753725, 500.8527299470105, 50.81127991755613, 39.25785277036506, 20.735782732475965, 33.28792628311445, 33.9276851988422, 12.556740867398188, 630.4648394834167, 134.58770256299988, 77.72374780611173, 14.403251050437325, 10.872732014742345, 31.687972961312664, 12.69737521553264, 22.554822901127974, 34.108968536074926, 56.31406542852858, 70.96849577891246, 185.57577401321694, 178.51531374666564, 337.0044812165339, 249.0055478996517, 196.01663040700015, 104.9852098172127, 65.33275821196467, 107.60056554132419, 180.250175286911, 54.43488666235109, 57.71133486171131, 170.31371404572758, 74.15351013084855, 171.80779342352886, 238.76195575258066, 728.1843192594564, 216.71048460574963, 279.3105776381869, 412.45516823454443, 151.17275808255744, 150.4851535765961, 269.12355342221815, 327.8109463637186, 253.70730497743725, 268.94096039401785, 263.4815253191139, 207.85036826678558, 199.30105398793037, 186.5820052291601, 177.24320521551795, 181.345921033336, 159.15635285527068], \"Total\": [6286.0, 3554.0, 5064.0, 2991.0, 3324.0, 9858.0, 4161.0, 1150.0, 786.0, 1343.0, 6023.0, 2317.0, 3029.0, 1284.0, 3571.0, 6681.0, 1424.0, 888.0, 2214.0, 1469.0, 1465.0, 1452.0, 583.0, 1112.0, 938.0, 929.0, 1695.0, 1141.0, 1049.0, 917.0, 144.10859064776244, 229.7080211634453, 310.1879874653963, 142.18141608053259, 143.7708834979231, 87.3910556623918, 243.91498785067103, 354.61306835591245, 146.25849407203123, 102.33169107771953, 51.35930228699203, 98.52065984900038, 77.17192120804053, 108.26042573033685, 61.59207801801016, 54.77575051690086, 65.34195616733615, 318.47609971597535, 65.15087627731872, 84.46505515239734, 172.85001812125316, 42.089610627815084, 201.0266924072787, 44.7698526110734, 58.724373204305074, 65.69075532797712, 44.48334055754494, 37.269542061256125, 82.87206350568958, 37.660412673094605, 116.89556803665288, 68.85280561690662, 447.79988781782583, 334.431885093039, 1424.494485978416, 204.66399265717286, 702.9022476732533, 377.8315765340232, 326.94197894666087, 171.32443860306844, 152.61748412182118, 1695.679538831604, 362.1288819864363, 1340.866516054202, 394.6792425306023, 183.95982781253124, 440.52102855556603, 169.41878667747585, 427.2200828210426, 585.7526791582511, 648.0716338082398, 228.81361106315805, 359.4188391659701, 2889.253852876914, 660.0087933691626, 679.8240022583082, 1766.281798475522, 585.6769982993347, 408.98713304996886, 900.3727741470451, 319.9591783679091, 2765.3767517976307, 6926.052419754552, 1675.397963520234, 8449.858146753142, 3324.551032142858, 4347.830919876216, 5805.964546387009, 5950.961270904655, 2637.8630394943225, 1820.2680782650157, 4293.062672555024, 1531.1199926770007, 6681.966862553523, 9858.73922447448, 3060.562000094255, 2513.173252635216, 4470.293063958572, 1848.9618483743786, 6286.776028672613, 4312.948399315543, 3466.799923030747, 182.30807035732437, 453.76232101376735, 136.62584868957427, 125.90456443531905, 160.71521155530382, 109.82092234751788, 89.42753253880508, 85.11091381040114, 138.81963551216492, 57.31139365699081, 49.75789399987386, 66.43207015561865, 616.9349594045631, 45.919454129956925, 49.839118368628284, 104.55991486202912, 58.560186119527444, 55.189299275564395, 28.473402105749077, 53.09287524929248, 95.76956415244517, 49.056587011935314, 90.09734983895129, 23.92506911962732, 76.98336620523068, 24.8135326774152, 43.80197209763508, 494.327380255718, 72.90935974954907, 102.92726550090205, 475.7309830932992, 75.02283713844825, 270.915097357534, 917.3799988948948, 1284.962039281666, 169.551642269044, 199.95169035993058, 816.248072057865, 398.67733558335436, 207.5875777629437, 752.2606889461756, 276.21135661839384, 586.5433574909306, 816.9142257838931, 188.1870849781199, 383.2664666755758, 686.9424513674581, 1258.7126012284336, 653.6005947841394, 602.8058332209823, 986.0047632293424, 376.7373698590035, 723.9082378054296, 5950.961270904655, 3178.3569491291996, 381.7910470648094, 2986.270211355093, 305.49726022782994, 8449.858146753142, 2765.3767517976307, 4347.830919876216, 3060.562000094255, 2613.638775809921, 4113.845826420525, 5064.376684352172, 4470.293063958572, 1945.3259163557846, 2950.8791284302824, 2529.942676293518, 3650.0206652640736, 6023.15916402913, 6681.966862553523, 5805.964546387009, 3185.4616048566727, 9858.73922447448, 2163.623234323737, 2214.321551444647, 4293.062672555024, 152.16338209073388, 76.35224911555316, 68.46186956038277, 137.45188670599967, 78.8641853165443, 43.609704178049704, 37.440486353637574, 31.086410600606044, 80.1519227956515, 21.726278729545736, 20.192193611814997, 26.32148705108122, 45.159959463894104, 100.80191954500087, 61.31773512486372, 48.286107529978366, 206.60300242712364, 68.29572328008334, 14.022031040565384, 130.5206849537044, 21.045178242880304, 85.2661506059907, 51.64096947943667, 88.18377864429397, 59.72999908318278, 110.27524883080685, 15.396629386482973, 53.90306255448652, 47.61406134572791, 21.823209861027394, 136.90805287491702, 137.49795809949083, 1049.3865401361682, 200.5116229688604, 109.1359621556377, 1465.7335288654838, 151.8047738758185, 792.450462903134, 92.73459571635092, 113.0772627844045, 227.48782274116687, 124.86315102522587, 147.33828221692576, 262.12928842799516, 350.21143800138105, 279.8600103509995, 763.0766979709512, 1163.0107866981575, 875.4307830763948, 771.1491034887224, 624.8017002878544, 456.0637016653769, 512.4592609064576, 4312.948399315543, 494.9055269349862, 6926.052419754552, 1148.658024825942, 3541.7561876245995, 1672.8292340020053, 9858.73922447448, 2802.51901533622, 3000.305318315639, 1496.0054690828015, 571.4308491189598, 2322.4066417628956, 2214.3905081700286, 5950.961270904655, 1843.1077727750785, 2928.065822308395, 4293.062672555024, 6681.966862553523, 3044.3137003285583, 8449.858146753142, 3650.0206652640736, 1986.513839387237, 3448.852884438306, 4161.34509703636, 3310.102907596193, 4113.845826420525, 5805.964546387009, 95.98415442676307, 85.57632593531882, 39.89734905234072, 103.21838680257696, 28.978993147147243, 111.88769475892997, 318.6710324970522, 28.50527032977258, 17.399801554608658, 20.485380880190004, 13.623450125547924, 32.202194112035905, 68.90411903442396, 19.391908147692398, 19.644009867263094, 206.8952091224179, 47.69041960124221, 17.988435535747055, 28.41010200175026, 21.31329967846403, 15.959852339041834, 19.221325802258708, 55.675178999902975, 99.42627548099783, 19.847995972082675, 22.587563158779005, 40.25906526891724, 18.890378928013295, 42.77126155651828, 28.333593992485145, 74.30121617461779, 52.27605817973883, 278.4690969684811, 353.41411773052994, 101.7665893508948, 60.910306870118426, 65.18237465146542, 116.76827754694659, 328.37831499411664, 512.7440052235312, 222.95699368108828, 352.3562925801128, 583.626708771125, 347.8738774129358, 540.9804920678255, 1469.4021875718054, 207.5735606082026, 130.93544513993834, 571.3506793481594, 1782.0232136285997, 421.0871595226573, 323.9633830778845, 3571.8368241834355, 409.35959413810554, 270.55733406933297, 377.69910254023785, 218.05281699986386, 1604.5103833186756, 2317.9614049391153, 716.9475847639582, 595.1932810190729, 2556.5313997448684, 678.1018667589078, 9858.73922447448, 1483.9323706143548, 769.7610265806084, 1444.2002843391303, 1449.19724919995, 1653.2908820674973, 8449.858146753142, 4478.915523994921, 3466.799923030747, 2907.293548495677, 1493.6342643801088, 6926.052419754552, 4113.845826420525, 4161.34509703636, 3094.443067980104, 3878.7885761775565, 5805.964546387009, 4470.293063958572, 6681.966862553523, 2928.065822308395, 2269.897830766279, 3000.305318315639, 3541.7561876245995, 2513.173252635216, 2250.5739995054178, 64.46505924184896, 71.0670059350882, 351.0291337597675, 25.1594514723175, 37.02299312020258, 24.315414574051896, 30.936341654465338, 29.631009408858876, 52.365655265766065, 20.353513340825604, 33.16238278393128, 28.3517618198994, 21.90413298130447, 55.91071332439046, 71.6022030575952, 29.115771876897643, 28.59157484763649, 26.32733747378329, 25.33404758321614, 98.87379747267012, 17.759217114924372, 17.51158278215002, 34.727023289488145, 32.8639166631907, 17.326674677402693, 51.45159398598267, 22.14321830655232, 13.74129178717764, 104.40811770697086, 31.260062905058003, 170.83553001816102, 40.20397293098663, 274.7177814310951, 98.68724781359352, 300.1598676619995, 100.0754447857307, 109.11635709151632, 95.65994794079865, 130.53448883474198, 5064.376684352172, 175.9367720145744, 90.19454185063645, 67.73132309115807, 66.57331781539823, 6286.776028672613, 105.15818565437195, 3029.723029712306, 1028.2749694438953, 601.7191276360536, 1449.471307155744, 235.8579415743331, 2214.321551444647, 259.89170589594437, 595.6301102725237, 214.95356984569213, 434.0890027680992, 1206.0733329855802, 296.94394072677545, 216.2889299168331, 621.6573149210332, 1045.731172489235, 380.7008054326281, 189.9556707670234, 6926.052419754552, 597.7144714918144, 429.5087913972808, 9858.73922447448, 3878.7885761775565, 375.63233757076375, 6023.15916402913, 2459.3238557784102, 747.8900686045299, 650.6292455715592, 3466.799923030747, 2079.432388292944, 5805.964546387009, 5950.961270904655, 1675.397963520234, 6681.966862553523, 4470.293063958572, 2907.293548495677, 4113.845826420525, 2950.8791284302824, 8449.858146753142, 4347.830919876216, 2556.5313997448684, 2986.270211355093, 3094.443067980104, 4478.915523994921, 3310.102907596193, 142.43502550170246, 48.643320431768025, 43.23884834659419, 116.1526124723018, 20.377271735638512, 39.573736870990466, 294.8464057246909, 123.64103194403256, 29.60532146913735, 84.17098170655221, 34.92113489569741, 20.23591582578688, 15.41868648577988, 31.085513451455945, 21.692394656097665, 72.71337242549434, 19.68372164724126, 19.244832060782617, 397.88343474072656, 115.87177795469891, 249.9277211927166, 72.84473906224204, 227.83513105504332, 18.705402102097313, 23.919926483572556, 30.098325973753205, 133.6680441631971, 15.982701632118117, 27.018127625004066, 28.652689082893733, 171.7207975716136, 93.43181512140117, 66.33283263799615, 70.22465392015725, 453.5983936827404, 3324.551032142858, 48.33103554992498, 318.73213530438505, 122.70480029331993, 211.27382319531927, 288.00740623506215, 295.02664439296717, 1311.134168873415, 288.73042815644527, 220.23199389786768, 6023.15916402913, 1163.0107866981575, 766.1271791951367, 4161.34509703636, 6286.776028672613, 824.2848740007809, 496.52277109159354, 3650.0206652640736, 3310.102907596193, 1843.1077727750785, 3448.852884438306, 855.8568804913472, 2459.3238557784102, 3044.3137003285583, 2420.280428792614, 9858.73922447448, 2079.432388292944, 2384.7569898377224, 1717.9678782239798, 778.5235215757687, 4347.830919876216, 1281.160787019783, 4293.062672555024, 3541.7561876245995, 3554.8739239975766, 1848.9618483743786, 4312.948399315543, 3060.562000094255, 8449.858146753142, 6926.052419754552, 5805.964546387009, 3000.305318315639, 6681.966862553523, 2128.6084632715174, 49.27258237410149, 148.91143318577392, 42.58591758556933, 106.92315572896628, 115.449199944699, 30.40709112102401, 244.71779123077314, 54.79751668499963, 67.02641743518443, 81.49527266231526, 385.80590575228814, 24.78431699816502, 30.622173257477794, 303.53001491689906, 60.156488361256095, 46.21786655271079, 76.07184971971122, 27.707363824958925, 22.797986114422503, 30.273417603455073, 51.17179328727807, 66.32265035654937, 49.61228494547146, 37.02004542073072, 177.32212884726255, 39.518484899873165, 165.59680804200806, 30.42831136820551, 888.9411547335707, 169.3809148211797, 160.34542024373243, 176.0686086463592, 1150.7515400319915, 569.3724225201785, 659.4899180007837, 110.69166647733806, 625.0307942922418, 326.4080115824874, 193.37716495755518, 929.4771034119932, 938.6304348230341, 314.6837022069845, 1343.5069551336278, 603.1837303308758, 335.6610333879287, 382.3944197568042, 157.81581366398686, 3554.8739239975766, 508.52941636493546, 246.20752076882314, 1452.2870248577403, 434.75454739596756, 253.1416443918791, 255.37943002435884, 1176.732818320095, 4161.34509703636, 437.1787697163773, 2765.3767517976307, 8449.858146753142, 1945.3259163557846, 2146.743286861187, 1469.4021875718054, 630.9093633547142, 5805.964546387009, 4347.830919876216, 2907.293548495677, 6023.15916402913, 3571.8368241834355, 1449.19724919995, 1825.2882475989709, 3878.7885761775565, 4478.915523994921, 4470.293063958572, 9858.73922447448, 207.49679473908415, 217.11771809011915, 64.72439007122387, 80.20607667622845, 52.63941607826152, 48.85829987901346, 71.9160180145604, 171.96749000174552, 96.95541968833267, 44.10529109897411, 38.21765043367858, 150.35544456387402, 38.931735356936606, 44.94500157084975, 62.142219779795624, 37.191911544134975, 50.26769677755953, 35.99662511036534, 32.05672067252983, 39.02697067518187, 44.76626203325149, 27.75637588170513, 27.74545130443612, 26.019256647371126, 32.09897008242076, 44.31919155069811, 28.607308993259206, 94.16562959319386, 30.30423605114536, 47.40780998635095, 148.2375441700202, 39.99373920047533, 105.37623507896944, 573.9523932429593, 64.60804808452926, 42.40117617252134, 161.88748633768537, 85.64875087949795, 72.49694846894032, 137.50542821467786, 96.1794462557996, 81.55015521653455, 78.51003182236518, 60.33140930959088, 455.2793575413923, 82.21821421519836, 80.06936576788748, 476.539129263562, 159.91469718501378, 304.6480951417149, 2991.9412357924793, 289.29102099609804, 450.0418335731637, 298.4298064109232, 173.9935466198692, 218.73360694446498, 1455.0679954923855, 235.51794982934143, 853.4116859051032, 727.0064458618981, 300.2828797600116, 298.6297040128603, 254.0548823891446, 1141.7732462260092, 667.7830710533033, 1112.9394436451837, 6681.966862553523, 1322.9377492430676, 1195.3059138687656, 1411.4906174940531, 1897.1190910869896, 623.069308588417, 4293.062672555024, 4478.915523994921, 918.7427833661818, 1906.160423563968, 743.6334696996744, 6926.052419754552, 4312.948399315543, 3094.443067980104, 3878.7885761775565, 3185.4616048566727, 2928.065822308395, 4470.293063958572, 8449.858146753142, 6023.15916402913, 9858.73922447448, 5805.964546387009, 5950.961270904655, 276.2841019056981, 85.2094724792933, 70.04361065159375, 91.57221531533264, 71.99840541722536, 46.79476012417246, 53.24432449106057, 56.40844064340405, 89.46862780060574, 50.214896500621286, 41.3086721121516, 42.212993985557596, 36.72807262458, 271.7552516705353, 31.874560355519165, 28.631825664601344, 30.33811037718412, 67.67651313884376, 38.57196789870069, 61.11108541252666, 30.87778289006194, 83.2676320212648, 28.119330244129088, 35.17385856453644, 67.99865113022632, 39.614812378852726, 86.38429901151974, 80.56457023235933, 25.041624075577843, 43.12317413180502, 128.7683344977624, 314.51320363217025, 114.41584764310828, 81.45992471900287, 67.17368121045207, 143.876810090259, 114.59031934354516, 566.2395966805515, 170.00961961145072, 63.77607483230472, 225.55902788642783, 132.58658786529858, 122.68250288886922, 145.9394637015101, 548.0289421682803, 198.23131114838606, 314.42950542715164, 95.78787417290228, 512.3831125662751, 147.45873792890876, 294.4824089139573, 282.4139824122232, 492.7507154065435, 498.2433996986712, 1112.9394436451837, 164.37648053928112, 623.069308588417, 1141.7732462260092, 727.0064458618981, 392.5818441023426, 2991.9412357924793, 618.6726173361704, 1322.9377492430676, 1638.6867863518457, 6681.966862553523, 363.06439736976495, 948.7105196685701, 2317.9614049391153, 1195.3059138687656, 1897.1190910869896, 3185.4616048566727, 667.7830710533033, 1566.9307086983656, 4478.915523994921, 3094.443067980104, 5805.964546387009, 9858.73922447448, 3878.7885761775565, 8449.858146753142, 4470.293063958572, 4293.062672555024, 5950.961270904655, 47.16403437196028, 263.94873293903896, 63.63537676571978, 61.31579831682485, 203.03917677975662, 41.97185929575267, 183.85999379796942, 19.006354254990445, 23.81707665558765, 43.118922795814505, 42.89843088600696, 67.83459289773158, 29.79662884643661, 60.030796381821105, 15.099432838727175, 583.377059376349, 59.35547953403292, 46.54180014622295, 25.111717259958073, 40.62341584363662, 42.13629981828317, 15.600441598108418, 786.5457855971773, 169.65926468360328, 98.15597952888723, 18.201402843906607, 13.766798480200162, 40.70474861160936, 16.361555298599768, 29.29280361813918, 44.99469691515997, 76.14046402784754, 98.39845727420051, 275.03516225563266, 268.7710893492564, 585.1028438456144, 452.0555970028297, 374.38736832895006, 182.58424346167055, 104.5795666084925, 207.3068998957735, 442.30728357259443, 82.94660680267044, 91.92534181240558, 488.11547210238024, 139.88730715075178, 658.4290215231072, 1206.0733329855802, 9858.73922447448, 1172.196137957184, 2317.9614049391153, 6681.966862553523, 742.0521898939262, 747.8900686045299, 4478.915523994921, 8449.858146753142, 4470.293063958572, 5805.964546387009, 5950.961270904655, 3094.443067980104, 4113.845826420525, 4312.948399315543, 4347.830919876216, 6286.776028672613, 3185.4616048566727], \"Category\": [\"Default\", \"Default\", \"Default\", \"Default\", \"Default\", \"Default\", \"Default\", \"Default\", \"Default\", \"Default\", \"Default\", \"Default\", \"Default\", \"Default\", \"Default\", \"Default\", \"Default\", \"Default\", \"Default\", \"Default\", \"Default\", \"Default\", \"Default\", \"Default\", \"Default\", \"Default\", \"Default\", \"Default\", \"Default\", \"Default\", \"Topic1\", \"Topic1\", \"Topic1\", \"Topic1\", \"Topic1\", \"Topic1\", \"Topic1\", \"Topic1\", \"Topic1\", \"Topic1\", \"Topic1\", \"Topic1\", \"Topic1\", \"Topic1\", \"Topic1\", \"Topic1\", \"Topic1\", \"Topic1\", \"Topic1\", \"Topic1\", \"Topic1\", \"Topic1\", \"Topic1\", \"Topic1\", \"Topic1\", \"Topic1\", \"Topic1\", \"Topic1\", \"Topic1\", \"Topic1\", \"Topic1\", \"Topic1\", \"Topic1\", \"Topic1\", \"Topic1\", \"Topic1\", \"Topic1\", \"Topic1\", \"Topic1\", \"Topic1\", \"Topic1\", \"Topic1\", \"Topic1\", \"Topic1\", \"Topic1\", \"Topic1\", \"Topic1\", \"Topic1\", \"Topic1\", \"Topic1\", \"Topic1\", \"Topic1\", \"Topic1\", \"Topic1\", \"Topic1\", \"Topic1\", \"Topic1\", \"Topic1\", \"Topic1\", \"Topic1\", \"Topic1\", \"Topic1\", \"Topic1\", \"Topic1\", \"Topic1\", \"Topic1\", \"Topic1\", \"Topic1\", \"Topic1\", \"Topic1\", \"Topic1\", \"Topic1\", \"Topic1\", \"Topic1\", \"Topic1\", \"Topic1\", \"Topic1\", \"Topic1\", \"Topic1\", \"Topic1\", \"Topic1\", \"Topic1\", \"Topic2\", \"Topic2\", \"Topic2\", \"Topic2\", \"Topic2\", \"Topic2\", \"Topic2\", \"Topic2\", \"Topic2\", \"Topic2\", \"Topic2\", \"Topic2\", \"Topic2\", \"Topic2\", \"Topic2\", \"Topic2\", \"Topic2\", \"Topic2\", \"Topic2\", \"Topic2\", \"Topic2\", \"Topic2\", \"Topic2\", \"Topic2\", \"Topic2\", \"Topic2\", \"Topic2\", \"Topic2\", \"Topic2\", \"Topic2\", \"Topic2\", \"Topic2\", \"Topic2\", \"Topic2\", \"Topic2\", \"Topic2\", \"Topic2\", \"Topic2\", \"Topic2\", \"Topic2\", \"Topic2\", \"Topic2\", \"Topic2\", \"Topic2\", \"Topic2\", \"Topic2\", \"Topic2\", \"Topic2\", \"Topic2\", \"Topic2\", \"Topic2\", \"Topic2\", \"Topic2\", \"Topic2\", \"Topic2\", \"Topic2\", \"Topic2\", \"Topic2\", \"Topic2\", \"Topic2\", \"Topic2\", \"Topic2\", \"Topic2\", \"Topic2\", \"Topic2\", \"Topic2\", \"Topic2\", \"Topic2\", \"Topic2\", \"Topic2\", \"Topic2\", \"Topic2\", \"Topic2\", \"Topic2\", \"Topic2\", \"Topic2\", \"Topic2\", \"Topic2\", \"Topic3\", \"Topic3\", \"Topic3\", \"Topic3\", \"Topic3\", \"Topic3\", \"Topic3\", \"Topic3\", \"Topic3\", \"Topic3\", \"Topic3\", \"Topic3\", \"Topic3\", \"Topic3\", \"Topic3\", \"Topic3\", \"Topic3\", \"Topic3\", \"Topic3\", \"Topic3\", \"Topic3\", \"Topic3\", \"Topic3\", \"Topic3\", \"Topic3\", \"Topic3\", \"Topic3\", \"Topic3\", \"Topic3\", \"Topic3\", \"Topic3\", \"Topic3\", \"Topic3\", \"Topic3\", \"Topic3\", \"Topic3\", \"Topic3\", \"Topic3\", \"Topic3\", \"Topic3\", \"Topic3\", \"Topic3\", \"Topic3\", \"Topic3\", \"Topic3\", \"Topic3\", \"Topic3\", \"Topic3\", \"Topic3\", \"Topic3\", \"Topic3\", \"Topic3\", \"Topic3\", \"Topic3\", \"Topic3\", \"Topic3\", \"Topic3\", \"Topic3\", \"Topic3\", \"Topic3\", \"Topic3\", \"Topic3\", \"Topic3\", \"Topic3\", \"Topic3\", \"Topic3\", \"Topic3\", \"Topic3\", \"Topic3\", \"Topic3\", \"Topic3\", \"Topic3\", \"Topic3\", \"Topic3\", \"Topic3\", \"Topic3\", \"Topic3\", \"Topic3\", \"Topic3\", \"Topic3\", \"Topic4\", \"Topic4\", \"Topic4\", \"Topic4\", \"Topic4\", \"Topic4\", \"Topic4\", \"Topic4\", \"Topic4\", \"Topic4\", \"Topic4\", \"Topic4\", \"Topic4\", \"Topic4\", \"Topic4\", \"Topic4\", \"Topic4\", \"Topic4\", \"Topic4\", \"Topic4\", \"Topic4\", \"Topic4\", \"Topic4\", \"Topic4\", \"Topic4\", \"Topic4\", \"Topic4\", \"Topic4\", \"Topic4\", \"Topic4\", \"Topic4\", \"Topic4\", \"Topic4\", \"Topic4\", \"Topic4\", \"Topic4\", \"Topic4\", \"Topic4\", \"Topic4\", \"Topic4\", \"Topic4\", \"Topic4\", \"Topic4\", \"Topic4\", \"Topic4\", \"Topic4\", \"Topic4\", \"Topic4\", \"Topic4\", \"Topic4\", \"Topic4\", \"Topic4\", \"Topic4\", \"Topic4\", \"Topic4\", \"Topic4\", \"Topic4\", \"Topic4\", \"Topic4\", \"Topic4\", \"Topic4\", \"Topic4\", \"Topic4\", \"Topic4\", \"Topic4\", \"Topic4\", \"Topic4\", \"Topic4\", \"Topic4\", \"Topic4\", \"Topic4\", \"Topic4\", \"Topic4\", \"Topic4\", \"Topic4\", \"Topic4\", \"Topic4\", \"Topic4\", \"Topic4\", \"Topic4\", \"Topic4\", \"Topic4\", \"Topic4\", \"Topic4\", \"Topic4\", \"Topic4\", \"Topic4\", \"Topic4\", \"Topic5\", \"Topic5\", \"Topic5\", \"Topic5\", \"Topic5\", \"Topic5\", \"Topic5\", \"Topic5\", \"Topic5\", \"Topic5\", \"Topic5\", \"Topic5\", \"Topic5\", \"Topic5\", \"Topic5\", \"Topic5\", \"Topic5\", \"Topic5\", \"Topic5\", \"Topic5\", \"Topic5\", \"Topic5\", \"Topic5\", \"Topic5\", \"Topic5\", \"Topic5\", \"Topic5\", \"Topic5\", \"Topic5\", \"Topic5\", \"Topic5\", \"Topic5\", \"Topic5\", \"Topic5\", \"Topic5\", \"Topic5\", \"Topic5\", \"Topic5\", \"Topic5\", \"Topic5\", \"Topic5\", \"Topic5\", \"Topic5\", \"Topic5\", \"Topic5\", \"Topic5\", \"Topic5\", \"Topic5\", \"Topic5\", \"Topic5\", \"Topic5\", \"Topic5\", \"Topic5\", \"Topic5\", \"Topic5\", \"Topic5\", \"Topic5\", \"Topic5\", \"Topic5\", \"Topic5\", \"Topic5\", \"Topic5\", \"Topic5\", \"Topic5\", \"Topic5\", \"Topic5\", \"Topic5\", \"Topic5\", \"Topic5\", \"Topic5\", \"Topic5\", \"Topic5\", \"Topic5\", \"Topic5\", \"Topic5\", \"Topic5\", \"Topic5\", \"Topic5\", \"Topic5\", \"Topic5\", \"Topic5\", \"Topic5\", \"Topic5\", \"Topic5\", \"Topic5\", \"Topic5\", \"Topic5\", \"Topic5\", \"Topic5\", \"Topic5\", \"Topic6\", \"Topic6\", \"Topic6\", \"Topic6\", \"Topic6\", \"Topic6\", \"Topic6\", \"Topic6\", \"Topic6\", \"Topic6\", \"Topic6\", \"Topic6\", \"Topic6\", \"Topic6\", \"Topic6\", \"Topic6\", \"Topic6\", \"Topic6\", \"Topic6\", \"Topic6\", \"Topic6\", \"Topic6\", \"Topic6\", \"Topic6\", \"Topic6\", \"Topic6\", \"Topic6\", \"Topic6\", \"Topic6\", \"Topic6\", \"Topic6\", \"Topic6\", \"Topic6\", \"Topic6\", \"Topic6\", \"Topic6\", \"Topic6\", \"Topic6\", \"Topic6\", \"Topic6\", \"Topic6\", \"Topic6\", \"Topic6\", \"Topic6\", \"Topic6\", \"Topic6\", \"Topic6\", \"Topic6\", \"Topic6\", \"Topic6\", \"Topic6\", \"Topic6\", \"Topic6\", \"Topic6\", \"Topic6\", \"Topic6\", \"Topic6\", \"Topic6\", \"Topic6\", \"Topic6\", \"Topic6\", \"Topic6\", \"Topic6\", \"Topic6\", \"Topic6\", \"Topic6\", \"Topic6\", \"Topic6\", \"Topic6\", \"Topic6\", \"Topic6\", \"Topic6\", \"Topic6\", \"Topic6\", \"Topic6\", \"Topic6\", \"Topic6\", \"Topic6\", \"Topic6\", \"Topic7\", \"Topic7\", \"Topic7\", \"Topic7\", \"Topic7\", \"Topic7\", \"Topic7\", \"Topic7\", \"Topic7\", \"Topic7\", \"Topic7\", \"Topic7\", \"Topic7\", \"Topic7\", \"Topic7\", \"Topic7\", \"Topic7\", \"Topic7\", \"Topic7\", \"Topic7\", \"Topic7\", \"Topic7\", \"Topic7\", \"Topic7\", \"Topic7\", \"Topic7\", \"Topic7\", \"Topic7\", \"Topic7\", \"Topic7\", \"Topic7\", \"Topic7\", \"Topic7\", \"Topic7\", \"Topic7\", \"Topic7\", \"Topic7\", \"Topic7\", \"Topic7\", \"Topic7\", \"Topic7\", \"Topic7\", \"Topic7\", \"Topic7\", \"Topic7\", \"Topic7\", \"Topic7\", \"Topic7\", \"Topic7\", \"Topic7\", \"Topic7\", \"Topic7\", \"Topic7\", \"Topic7\", \"Topic7\", \"Topic7\", \"Topic7\", \"Topic7\", \"Topic7\", \"Topic7\", \"Topic7\", \"Topic7\", \"Topic7\", \"Topic7\", \"Topic7\", \"Topic7\", \"Topic7\", \"Topic7\", \"Topic7\", \"Topic7\", \"Topic7\", \"Topic7\", \"Topic7\", \"Topic7\", \"Topic8\", \"Topic8\", \"Topic8\", \"Topic8\", \"Topic8\", \"Topic8\", \"Topic8\", \"Topic8\", \"Topic8\", \"Topic8\", \"Topic8\", \"Topic8\", \"Topic8\", \"Topic8\", \"Topic8\", \"Topic8\", \"Topic8\", \"Topic8\", \"Topic8\", \"Topic8\", \"Topic8\", \"Topic8\", \"Topic8\", \"Topic8\", \"Topic8\", \"Topic8\", \"Topic8\", \"Topic8\", \"Topic8\", \"Topic8\", \"Topic8\", \"Topic8\", \"Topic8\", \"Topic8\", \"Topic8\", \"Topic8\", \"Topic8\", \"Topic8\", \"Topic8\", \"Topic8\", \"Topic8\", \"Topic8\", \"Topic8\", \"Topic8\", \"Topic8\", \"Topic8\", \"Topic8\", \"Topic8\", \"Topic8\", \"Topic8\", \"Topic8\", \"Topic8\", \"Topic8\", \"Topic8\", \"Topic8\", \"Topic8\", \"Topic8\", \"Topic8\", \"Topic8\", \"Topic8\", \"Topic8\", \"Topic8\", \"Topic8\", \"Topic8\", \"Topic8\", \"Topic8\", \"Topic8\", \"Topic8\", \"Topic8\", \"Topic8\", \"Topic8\", \"Topic8\", \"Topic8\", \"Topic8\", \"Topic8\", \"Topic8\", \"Topic8\", \"Topic8\", \"Topic8\", \"Topic8\", \"Topic8\", \"Topic8\", \"Topic8\", \"Topic8\", \"Topic8\", \"Topic8\", \"Topic8\", \"Topic8\", \"Topic8\", \"Topic9\", \"Topic9\", \"Topic9\", \"Topic9\", \"Topic9\", \"Topic9\", \"Topic9\", \"Topic9\", \"Topic9\", \"Topic9\", \"Topic9\", \"Topic9\", \"Topic9\", \"Topic9\", \"Topic9\", \"Topic9\", \"Topic9\", \"Topic9\", \"Topic9\", \"Topic9\", \"Topic9\", \"Topic9\", \"Topic9\", \"Topic9\", \"Topic9\", \"Topic9\", \"Topic9\", \"Topic9\", \"Topic9\", \"Topic9\", \"Topic9\", \"Topic9\", \"Topic9\", \"Topic9\", \"Topic9\", \"Topic9\", \"Topic9\", \"Topic9\", \"Topic9\", \"Topic9\", \"Topic9\", \"Topic9\", \"Topic9\", \"Topic9\", \"Topic9\", \"Topic9\", \"Topic9\", \"Topic9\", \"Topic9\", \"Topic9\", \"Topic9\", \"Topic9\", \"Topic9\", \"Topic9\", \"Topic9\", \"Topic9\", \"Topic9\", \"Topic9\", \"Topic9\", \"Topic9\", \"Topic9\", \"Topic9\", \"Topic9\", \"Topic9\", \"Topic9\", \"Topic9\", \"Topic9\", \"Topic9\", \"Topic9\", \"Topic9\", \"Topic9\", \"Topic9\", \"Topic9\", \"Topic9\", \"Topic9\", \"Topic9\", \"Topic9\", \"Topic9\", \"Topic9\", \"Topic9\", \"Topic9\", \"Topic9\", \"Topic10\", \"Topic10\", \"Topic10\", \"Topic10\", \"Topic10\", \"Topic10\", \"Topic10\", \"Topic10\", \"Topic10\", \"Topic10\", \"Topic10\", \"Topic10\", \"Topic10\", \"Topic10\", \"Topic10\", \"Topic10\", \"Topic10\", \"Topic10\", \"Topic10\", \"Topic10\", \"Topic10\", \"Topic10\", \"Topic10\", \"Topic10\", \"Topic10\", \"Topic10\", \"Topic10\", \"Topic10\", \"Topic10\", \"Topic10\", \"Topic10\", \"Topic10\", \"Topic10\", \"Topic10\", \"Topic10\", \"Topic10\", \"Topic10\", \"Topic10\", \"Topic10\", \"Topic10\", \"Topic10\", \"Topic10\", \"Topic10\", \"Topic10\", \"Topic10\", \"Topic10\", \"Topic10\", \"Topic10\", \"Topic10\", \"Topic10\", \"Topic10\", \"Topic10\", \"Topic10\", \"Topic10\", \"Topic10\", \"Topic10\", \"Topic10\", \"Topic10\", \"Topic10\", \"Topic10\", \"Topic10\", \"Topic10\", \"Topic10\", \"Topic10\", \"Topic10\"], \"logprob\": [30.0, 29.0, 28.0, 27.0, 26.0, 25.0, 24.0, 23.0, 22.0, 21.0, 20.0, 19.0, 18.0, 17.0, 16.0, 15.0, 14.0, 13.0, 12.0, 11.0, 10.0, 9.0, 8.0, 7.0, 6.0, 5.0, 4.0, 3.0, 2.0, 1.0, -7.3895, -6.9253, -6.6257, -7.4068, -7.3968, -7.8948, -6.8687, -6.495, -7.3823, -7.74, -8.4298, -7.7792, -8.0235, -7.6853, -8.2494, -8.3669, -8.1916, -6.6086, -8.1966, -7.9376, -7.2219, -8.6355, -7.0722, -8.5751, -8.3043, -8.1928, -8.583, -8.7599, -7.9611, -8.7503, -7.6195, -8.1506, -6.3013, -6.593, -5.1767, -7.082, -5.8903, -6.4926, -6.6352, -7.2656, -7.3768, -5.0817, -6.5492, -5.3078, -6.478, -7.2073, -6.4017, -7.284, -6.4601, -6.1832, -6.1054, -7.0258, -6.6381, -4.9065, -6.1388, -6.1491, -5.5053, -6.3451, -6.6185, -6.0909, -6.8054, -5.4295, -5.0137, -5.8601, -4.9393, -5.6534, -5.5495, -5.4977, -5.5351, -5.861, -5.9915, -5.7145, -6.102, -5.6511, -5.5616, -5.9427, -6.0168, -5.8838, -6.1893, -6.0694, -6.1087, -6.1501, -6.894, -5.9824, -7.1857, -7.2678, -7.0254, -7.4063, -7.6129, -7.6626, -7.1746, -8.0637, -8.2096, -7.9218, -5.6946, -8.2962, -8.2145, -7.474, -8.0559, -8.1153, -8.7831, -8.1617, -7.5739, -8.2478, -7.641, -8.9674, -7.7994, -8.932, -8.3646, -5.9411, -7.8573, -7.5146, -5.9988, -7.8315, -6.5689, -5.3759, -5.0627, -7.0356, -6.8779, -5.5244, -6.2125, -6.8555, -5.688, -6.6397, -5.9661, -5.7018, -7.0271, -6.4525, -5.9844, -5.5338, -6.0642, -6.163, -5.7967, -6.5235, -6.0544, -4.6658, -5.0949, -6.5444, -5.2851, -6.7005, -4.8828, -5.5239, -5.3041, -5.5512, -5.6533, -5.4725, -5.3812, -5.4373, -5.823, -5.6905, -5.7953, -5.7073, -5.6215, -5.6412, -5.6934, -5.7889, -5.6877, -5.8507, -5.8813, -5.8748, -7.041, -7.7346, -7.8481, -7.1604, -7.717, -8.3238, -8.4783, -8.6646, -7.7222, -9.046, -9.1206, -8.8563, -8.3188, -7.5189, -8.0181, -8.2572, -6.8049, -7.9121, -9.5021, -7.2723, -9.0989, -7.7033, -8.2072, -7.6834, -8.075, -7.4627, -9.4332, -8.1819, -8.3061, -9.0875, -7.2514, -7.2608, -5.2502, -6.8999, -7.492, -5.0307, -7.1977, -5.654, -7.687, -7.514, -6.9235, -7.4399, -7.3027, -6.828, -6.5997, -6.7958, -5.9918, -5.7866, -6.0225, -6.1849, -6.3491, -6.5809, -6.5083, -5.1286, -6.5387, -4.8376, -5.9937, -5.3428, -5.82, -4.741, -5.5259, -5.5553, -5.9445, -6.476, -5.7252, -5.7955, -5.3024, -5.8963, -5.6843, -5.5194, -5.3448, -5.7331, -5.2996, -5.703, -5.9727, -5.773, -5.7975, -5.9441, -5.8946, -5.8716, -7.4192, -7.5355, -8.3139, -7.3698, -8.6461, -7.3119, -6.2669, -8.6811, -9.1803, -9.0214, -9.4351, -8.5829, -7.8228, -9.0913, -9.0786, -6.7244, -8.1968, -9.176, -8.7212, -9.0125, -9.304, -9.1196, -8.0572, -7.4774, -9.0912, -8.9624, -8.3928, -9.1574, -8.3465, -8.7587, -7.7995, -8.1521, -6.5336, -6.3051, -7.5178, -8.0148, -7.9553, -7.4093, -6.4418, -6.0487, -6.8208, -6.4042, -5.9583, -6.4494, -6.0868, -5.1985, -6.9454, -7.3533, -6.0914, -5.1173, -6.3579, -6.5875, -4.5959, -6.4286, -6.7657, -6.5056, -6.9507, -5.4145, -5.1426, -6.0513, -6.2087, -5.2795, -6.1736, -4.5533, -5.7268, -6.1347, -5.7625, -5.7699, -5.6994, -4.8907, -5.2398, -5.4071, -5.5574, -5.8534, -5.2654, -5.4894, -5.4901, -5.657, -5.6353, -5.5166, -5.6217, -5.5556, -5.8131, -5.8679, -5.8442, -5.8555, -5.8993, -5.9181, -7.8165, -7.7315, -6.1347, -8.7801, -8.4011, -8.822, -8.5819, -8.6251, -8.0575, -9.003, -8.5152, -8.6731, -8.9314, -7.9973, -7.7529, -8.6546, -8.6765, -8.7612, -8.8026, -7.4432, -9.1642, -9.1808, -8.5001, -8.5578, -9.2034, -8.1166, -8.9603, -9.4387, -7.4111, -8.6186, -6.9234, -8.3686, -6.4679, -7.492, -6.4141, -7.4817, -7.4099, -7.5434, -7.253, -3.832, -6.9833, -7.6051, -7.8792, -7.9042, -3.8543, -7.5031, -4.5352, -5.5133, -5.9931, -5.233, -6.8227, -4.9079, -6.7403, -6.0403, -6.9046, -6.3328, -5.5145, -6.683, -6.9478, -6.1972, -5.8418, -6.5609, -7.0576, -4.6138, -6.279, -6.503, -4.4076, -5.0626, -6.6081, -4.9182, -5.4668, -6.1957, -6.292, -5.3947, -5.6866, -5.2184, -5.2832, -5.8932, -5.3823, -5.6056, -5.7814, -5.7082, -5.8175, -5.5714, -5.7671, -5.8946, -5.8775, -5.934, -5.9446, -5.9597, -6.9287, -8.0121, -8.1724, -7.1851, -8.9313, -8.2715, -6.2715, -7.1446, -8.6024, -7.5634, -8.4484, -8.9986, -9.2716, -8.5788, -8.9431, -7.7353, -9.0434, -9.0704, -6.0431, -7.2803, -6.5178, -7.7517, -6.6123, -9.1265, -8.8853, -8.6575, -7.1737, -9.3154, -8.7937, -8.7356, -6.9484, -7.5656, -7.908, -7.8555, -6.1085, -4.2426, -8.2283, -6.5231, -7.3895, -6.9078, -6.65, -6.671, -5.4233, -6.7445, -6.9666, -4.2874, -5.6201, -5.9709, -4.6781, -4.3708, -5.9365, -6.3518, -4.8839, -5.0188, -5.4674, -5.0613, -6.0749, -5.4255, -5.2962, -5.4646, -4.6446, -5.5841, -5.5363, -5.7192, -6.1511, -5.271, -5.919, -5.4159, -5.5181, -5.5192, -5.7994, -5.483, -5.7421, -5.5224, -5.6263, -5.6644, -5.8694, -5.8622, -5.8988, -7.8953, -6.7931, -8.0493, -7.1298, -7.0537, -8.3902, -6.3051, -7.8047, -7.6047, -7.4137, -5.8625, -8.6101, -8.399, -6.1059, -7.7252, -7.9894, -7.4929, -8.5039, -8.699, -8.4163, -7.8937, -7.6365, -7.9271, -8.2203, -6.6558, -8.1581, -6.7262, -8.4237, -5.0494, -6.7083, -6.7681, -6.6758, -4.8255, -5.5174, -5.3865, -7.1413, -5.461, -6.097, -6.6055, -5.1088, -5.1008, -6.1502, -4.7736, -5.5627, -6.1172, -6.0029, -6.8316, -4.0162, -5.7809, -6.4401, -4.8903, -5.9738, -6.4556, -6.5133, -5.567, -4.8254, -6.2081, -5.2799, -4.7115, -5.4711, -5.4525, -5.6385, -6.0404, -5.0908, -5.2494, -5.4174, -5.1457, -5.3618, -5.7568, -5.7463, -5.605, -5.6133, -5.7232, -5.6841, -6.3099, -6.2664, -7.4786, -7.2663, -7.6895, -7.7655, -7.3847, -6.513, -7.0866, -7.8744, -8.0181, -6.6484, -8.0014, -7.859, -7.5372, -8.0513, -7.7504, -8.0854, -8.2023, -8.0077, -7.8706, -8.3499, -8.3511, -8.4158, -8.2059, -7.8838, -8.3219, -7.1315, -8.2656, -7.8183, -6.6789, -7.9899, -7.0339, -5.3759, -7.5187, -7.9324, -6.6262, -7.244, -7.4126, -6.799, -7.1475, -7.3076, -7.3461, -7.5955, -5.753, -7.3183, -7.3453, -5.7526, -6.7269, -6.1989, -4.2629, -6.2833, -5.9306, -6.2688, -6.7199, -6.5493, -5.0998, -6.5328, -5.6083, -5.7431, -6.3784, -6.3854, -6.5037, -5.5556, -5.901, -5.6688, -4.6502, -5.604, -5.7221, -5.7072, -5.5992, -6.1248, -5.3243, -5.3524, -6.0109, -5.7774, -6.1278, -5.4138, -5.5927, -5.7006, -5.6765, -5.736, -5.8315, -5.7538, -5.7153, -5.8083, -5.7809, -5.8454, -5.851, -5.8605, -7.0491, -7.2489, -6.9833, -7.2243, -7.6573, -7.5296, -7.4724, -7.0117, -7.5923, -7.7891, -7.7689, -7.9088, -5.9076, -8.0516, -8.1594, -8.1018, -7.2996, -7.8621, -7.4035, -8.0874, -7.0959, -8.1819, -7.9585, -7.3002, -7.8409, -7.0628, -7.1328, -8.3026, -7.7592, -6.6759, -5.8048, -6.8044, -7.1393, -7.3334, -6.604, -6.8256, -5.322, -6.4606, -7.3906, -6.2178, -6.7198, -6.7922, -6.6343, -5.4353, -6.3584, -5.9459, -7.0186, -5.5698, -6.6764, -6.1165, -6.1516, -5.734, -5.7377, -5.1752, -6.6141, -5.6786, -5.2585, -5.6334, -6.0831, -4.8318, -5.8486, -5.4302, -5.3633, -4.6759, -6.2102, -5.7592, -5.3585, -5.6787, -5.4882, -5.2825, -5.9738, -5.6563, -5.3596, -5.5011, -5.4158, -5.3415, -5.5977, -5.4803, -5.6602, -5.7534, -5.82, -7.1354, -5.4156, -6.8395, -6.8777, -5.6958, -7.2729, -5.8083, -8.0846, -7.8869, -7.2937, -7.3068, -6.8518, -7.6918, -7.0102, -8.3937, -4.744, -7.0322, -7.2902, -7.9285, -7.4551, -7.4361, -8.4301, -4.5139, -6.0581, -6.6072, -8.2929, -8.5741, -7.5044, -8.4189, -7.8444, -7.4308, -6.9294, -6.6981, -5.7369, -5.7757, -5.1402, -5.4429, -5.6821, -6.3065, -6.7808, -6.2819, -5.766, -6.9633, -6.9049, -5.8227, -6.6542, -5.814, -5.4849, -4.3698, -5.5818, -5.328, -4.9382, -5.9419, -5.9465, -5.3652, -5.1679, -5.4242, -5.3658, -5.3863, -5.6235, -5.6655, -5.7315, -5.7828, -5.7599, -5.8904], \"loglift\": [30.0, 29.0, 28.0, 27.0, 26.0, 25.0, 24.0, 23.0, 22.0, 21.0, 20.0, 19.0, 18.0, 17.0, 16.0, 15.0, 14.0, 13.0, 12.0, 11.0, 10.0, 9.0, 8.0, 7.0, 6.0, 5.0, 4.0, 3.0, 2.0, 1.0, 1.8121, 1.8101, 1.8093, 1.8083, 1.8071, 1.8069, 1.8066, 1.8062, 1.8045, 1.804, 1.8036, 1.8027, 1.8026, 1.8023, 1.8022, 1.802, 1.8009, 1.8, 1.7989, 1.7982, 1.7978, 1.7969, 1.7965, 1.7955, 1.795, 1.7944, 1.7941, 1.7941, 1.7938, 1.7933, 1.7914, 1.7896, 1.7666, 1.7667, 1.7339, 1.7688, 1.7267, 1.7451, 1.7472, 1.763, 1.7674, 1.6546, 1.7309, 1.6633, 1.7161, 1.7501, 1.6825, 1.7558, 1.6548, 1.6161, 1.5928, 1.7135, 1.6495, 1.2969, 1.5411, 1.5013, 1.1903, 1.4543, 1.54, 1.2784, 1.5986, 0.8177, 0.3154, 0.8883, 0.1909, 0.4097, 0.2452, 0.0079, -0.0542, 0.4334, 0.6739, 0.0929, 0.7364, -0.2861, -0.5855, 0.2031, 0.3261, -0.1168, 0.4605, -0.6434, -0.3059, -0.1289, 2.0725, 2.0722, 2.0692, 2.0688, 2.0671, 2.067, 2.0659, 2.0656, 2.0644, 2.06, 2.0554, 2.0542, 2.0528, 2.049, 2.0489, 2.0484, 2.0462, 2.0461, 2.0401, 2.0384, 2.0363, 2.0314, 2.0302, 2.0299, 2.0292, 2.0287, 2.0279, 2.0279, 2.0256, 2.0235, 2.0086, 2.0229, 2.0014, 1.9747, 1.951, 2.0034, 1.9962, 1.943, 1.9715, 1.9811, 1.8611, 1.9113, 1.8318, 1.7648, 1.9076, 1.771, 1.6555, 1.5006, 1.6255, 1.6076, 1.4818, 1.7171, 1.5331, 0.815, 1.0132, 1.6829, 0.8853, 1.7497, 0.2475, 0.7233, 0.4906, 0.5946, 0.6503, 0.3775, 0.261, 0.3297, 0.7759, 0.4918, 0.5409, 0.2623, -0.1527, -0.2762, -0.1879, 0.3169, -0.7116, 0.6419, 0.5882, -0.0674, 2.1062, 2.1022, 2.0978, 2.0885, 2.0875, 2.0731, 2.0711, 2.0708, 2.066, 2.0476, 2.0462, 2.0455, 2.0432, 2.0402, 2.038, 2.0378, 2.0365, 2.0362, 2.0294, 2.0284, 2.0266, 2.0231, 2.0207, 2.0094, 2.0073, 2.0065, 2.0048, 2.0031, 2.003, 2.0017, 2.0014, 1.9878, 1.966, 1.9714, 1.9876, 1.8514, 1.9519, 1.843, 1.9555, 1.9301, 1.8216, 1.905, 1.8767, 1.7753, 1.714, 1.7421, 1.543, 1.3268, 1.3749, 1.3394, 1.3856, 1.4687, 1.4247, 0.6742, 1.4291, 0.4915, 1.1322, 0.6569, 0.9299, 0.2351, 0.708, 0.6104, 0.9171, 1.348, 0.6966, 0.6739, 0.1785, 0.7567, 0.5058, 0.288, 0.0202, 0.418, -0.1693, 0.2666, 0.6054, 0.2533, 0.0411, 0.1233, -0.0446, -0.3661, 2.1888, 2.1873, 2.172, 2.1656, 2.1595, 2.1428, 2.1411, 2.141, 2.1354, 2.131, 2.1253, 2.1173, 2.1167, 2.1161, 2.1158, 2.1156, 2.1107, 2.1064, 2.1043, 2.1003, 2.0981, 2.0966, 2.0954, 2.0954, 2.0929, 2.0924, 2.084, 2.0761, 2.0698, 2.0694, 2.0645, 2.0636, 2.0093, 1.9994, 2.0317, 2.048, 2.0397, 2.0027, 1.9362, 1.8837, 1.9444, 1.9034, 1.8446, 1.871, 1.792, 1.681, 1.8913, 1.9442, 1.7327, 1.5694, 1.7714, 1.804, 1.3954, 1.7289, 1.806, 1.7325, 1.8367, 1.3771, 1.2811, 1.5458, 1.5746, 1.0463, 1.4793, 0.4228, 1.1429, 1.3914, 1.1343, 1.1235, 1.0622, 0.2395, 0.5253, 0.6141, 0.6398, 1.0098, 0.0637, 0.3606, 0.3484, 0.4778, 0.2736, -0.0111, 0.1452, -0.1906, 0.3769, 0.5768, 0.3215, 0.1443, 0.4436, 0.5352, 2.1896, 2.1771, 2.1766, 2.1669, 2.1595, 2.1591, 2.1584, 2.1582, 2.1564, 2.1559, 2.1555, 2.1543, 2.1541, 2.1512, 2.1481, 2.1463, 2.1426, 2.1403, 2.1375, 2.1351, 2.1311, 2.1285, 2.1246, 2.122, 2.1165, 2.1149, 2.1144, 2.113, 2.1127, 2.1112, 2.1081, 2.1096, 2.0885, 2.0882, 2.0538, 2.0845, 2.0698, 2.068, 2.0475, 1.8102, 2.0187, 2.0651, 2.0775, 2.0697, 1.5716, 2.0136, 1.6208, 1.7233, 1.7793, 1.6602, 1.8863, 1.5616, 1.8716, 1.7423, 1.8972, 1.7661, 1.5625, 1.7957, 1.8478, 1.5426, 1.3779, 1.6692, 1.8678, 0.7153, 1.5001, 1.6065, 0.5684, 0.8462, 1.6355, 0.5506, 0.8977, 1.3592, 1.4022, 0.6264, 0.8457, 0.2871, 0.1976, 0.8551, -0.0173, 0.1613, 0.4158, 0.1418, 0.3648, -0.4411, 0.0277, 0.4312, 0.2929, 0.2008, -0.1796, 0.1078, 2.2846, 2.2756, 2.233, 2.2322, 2.2264, 2.2225, 2.2142, 2.2102, 2.1818, 2.176, 2.1707, 2.1661, 2.165, 2.1566, 2.1521, 2.1504, 2.149, 2.1445, 2.1429, 2.1394, 2.1332, 2.1321, 2.1313, 2.1168, 2.1121, 2.1102, 2.1031, 2.0853, 2.0819, 2.0813, 2.0779, 2.0694, 2.0695, 2.065, 1.9465, 1.8205, 2.0658, 1.8847, 1.9729, 1.9112, 1.8592, 1.8141, 1.5702, 1.7622, 1.8108, 1.1814, 1.4933, 1.5599, 1.1605, 1.0551, 1.5211, 1.6127, 1.0857, 1.0486, 1.1855, 0.9651, 1.3451, 0.939, 0.8549, 0.916, 0.3314, 0.9482, 0.859, 1.0041, 1.3637, 0.5237, 1.0977, 0.3915, 0.4817, 0.4769, 0.8504, 0.3198, 0.4037, -0.3921, -0.2972, -0.1589, 0.2963, -0.4972, 0.6101, 2.3795, 2.3757, 2.3714, 2.3702, 2.3696, 2.3672, 2.367, 2.3638, 2.3624, 2.3579, 2.3543, 2.3519, 2.3514, 2.3508, 2.35, 2.3494, 2.3476, 2.3466, 2.3465, 2.3456, 2.3432, 2.3412, 2.3408, 2.3404, 2.3384, 2.3373, 2.3364, 2.3331, 2.3328, 2.3317, 2.3267, 2.3255, 2.2985, 2.3103, 2.2942, 2.3241, 2.2733, 2.287, 2.302, 2.2288, 2.227, 2.2704, 2.1955, 2.2072, 2.2388, 2.2228, 2.2791, 1.9799, 2.1597, 2.2259, 2.001, 2.1236, 2.1826, 2.1162, 1.5347, 1.0131, 1.8837, 0.9673, 0.4187, 1.1279, 1.0479, 1.2411, 1.6846, 0.4147, 0.5453, 0.7797, 0.3231, 0.6295, 1.1366, 0.9163, 0.3039, 0.1517, 0.0438, -0.708, 2.5271, 2.5254, 2.5234, 2.5213, 2.5192, 2.5177, 2.5119, 2.5119, 2.5113, 2.5111, 2.5107, 2.5107, 2.5089, 2.5077, 2.5056, 2.5048, 2.5044, 2.5034, 2.5023, 2.5002, 2.5001, 2.4988, 2.498, 2.4975, 2.4974, 2.4969, 2.4966, 2.4956, 2.4953, 2.4951, 2.4944, 2.4935, 2.4808, 2.4437, 2.4851, 2.4926, 2.4591, 2.4779, 2.476, 2.4495, 2.4585, 2.4634, 2.4629, 2.4768, 2.2982, 2.4444, 2.4439, 2.253, 2.3706, 2.2541, 1.9056, 2.2215, 2.1322, 2.2048, 2.2932, 2.235, 1.7895, 2.1776, 1.8147, 1.8402, 2.0891, 2.0876, 2.1309, 1.5762, 1.7672, 1.4886, 0.7148, 1.3805, 1.3639, 1.2125, 1.0248, 1.6127, 0.4831, 0.4126, 1.3382, 0.8419, 1.4328, -0.0847, 0.2101, 0.4342, 0.2323, 0.3698, 0.3586, 0.0131, -0.585, -0.3395, -0.8048, -0.3399, -0.3702, 2.6902, 2.6779, 2.6742, 2.6717, 2.6712, 2.6691, 2.6677, 2.6671, 2.6666, 2.6635, 2.662, 2.6605, 2.6598, 2.6597, 2.6588, 2.6583, 2.658, 2.6579, 2.6575, 2.6559, 2.6547, 2.6542, 2.6538, 2.6534, 2.6525, 2.6521, 2.6505, 2.6503, 2.649, 2.6489, 2.6382, 2.6164, 2.6279, 2.6327, 2.6315, 2.5992, 2.6052, 2.5111, 2.5757, 2.6261, 2.5358, 2.5651, 2.5703, 2.5547, 2.4306, 2.5243, 2.4755, 2.5914, 2.3633, 2.5022, 2.3704, 2.3772, 2.2381, 2.2234, 1.9822, 2.4559, 2.0589, 1.8733, 1.9498, 2.1163, 1.3367, 1.896, 1.5543, 1.4073, 0.6891, 2.0674, 1.5578, 1.0652, 1.4073, 1.1359, 0.8233, 1.6944, 1.159, 0.4054, 0.6337, 0.0897, -0.3655, 0.3112, -0.3501, 0.1068, 0.054, -0.3391, 3.1831, 3.1808, 3.1795, 3.1784, 3.163, 3.1622, 3.1497, 3.1428, 3.1148, 3.1145, 3.1065, 3.1033, 3.0859, 3.0671, 3.0638, 3.0593, 3.0564, 3.0416, 3.0204, 3.0127, 2.9952, 2.9948, 2.9906, 2.9803, 2.9784, 2.9778, 2.9758, 2.9614, 2.9583, 2.9504, 2.9349, 2.9102, 2.885, 2.8184, 2.8026, 2.6601, 2.6155, 2.5647, 2.6584, 2.7414, 2.5561, 2.3142, 2.7906, 2.7463, 2.1589, 2.5771, 1.8684, 1.5922, 0.6063, 1.5238, 1.0957, 0.4268, 1.6208, 1.6084, 0.3999, -0.0376, 0.3428, 0.1397, 0.0945, 0.5113, 0.1845, 0.0713, 0.0119, -0.334, 0.2154]}, \"token.table\": {\"Topic\": [1, 2, 3, 4, 5, 6, 7, 9, 10, 1, 2, 5, 8, 9, 10, 9, 8, 9, 1, 2, 4, 6, 7, 9, 1, 2, 4, 5, 6, 7, 8, 9, 10, 5, 3, 5, 1, 4, 7, 8, 9, 2, 8, 9, 1, 2, 3, 4, 5, 6, 7, 8, 9, 10, 3, 5, 7, 8, 9, 1, 2, 3, 4, 5, 6, 7, 8, 9, 10, 6, 8, 9, 10, 1, 2, 5, 6, 7, 10, 2, 3, 5, 6, 8, 1, 2, 3, 4, 5, 6, 7, 8, 9, 10, 1, 4, 5, 7, 9, 10, 1, 2, 7, 9, 1, 2, 3, 5, 8, 1, 2, 4, 5, 6, 7, 8, 9, 10, 1, 2, 3, 4, 5, 6, 7, 8, 9, 10, 1, 3, 4, 6, 7, 1, 2, 3, 4, 5, 6, 8, 9, 10, 2, 3, 5, 6, 8, 1, 2, 3, 4, 5, 6, 7, 8, 9, 10, 1, 2, 3, 5, 6, 7, 10, 2, 3, 5, 6, 10, 1, 2, 3, 4, 5, 6, 7, 1, 2, 3, 5, 6, 7, 1, 3, 4, 9, 1, 3, 4, 7, 8, 9, 10, 1, 2, 3, 4, 6, 7, 3, 7, 8, 9, 1, 2, 3, 4, 6, 7, 8, 9, 10, 1, 2, 3, 4, 5, 6, 7, 8, 9, 10, 1, 2, 5, 7, 10, 9, 1, 2, 4, 6, 7, 8, 9, 10, 1, 3, 4, 5, 10, 1, 2, 3, 4, 5, 6, 7, 8, 9, 10, 1, 4, 5, 4, 8, 9, 1, 2, 4, 5, 6, 7, 8, 9, 10, 1, 2, 3, 4, 5, 6, 7, 8, 9, 10, 1, 2, 3, 4, 5, 9, 10, 1, 2, 3, 4, 5, 6, 7, 8, 9, 10, 8, 1, 2, 3, 4, 5, 6, 7, 8, 9, 10, 2, 7, 1, 2, 3, 4, 6, 7, 8, 9, 10, 1, 2, 3, 4, 5, 6, 7, 8, 9, 10, 9, 1, 2, 3, 4, 5, 6, 7, 8, 9, 10, 7, 8, 9, 1, 2, 3, 5, 7, 8, 9, 2, 4, 5, 6, 7, 9, 3, 4, 5, 1, 2, 3, 4, 5, 6, 7, 8, 9, 10, 1, 2, 3, 4, 5, 6, 7, 10, 1, 2, 3, 4, 5, 6, 7, 8, 9, 10, 1, 2, 3, 4, 5, 6, 7, 8, 9, 10, 1, 2, 3, 4, 5, 6, 7, 8, 9, 10, 1, 4, 7, 9, 1, 2, 3, 4, 5, 6, 9, 1, 2, 3, 4, 5, 6, 7, 8, 9, 10, 1, 2, 3, 4, 5, 6, 7, 8, 9, 10, 3, 6, 1, 2, 3, 4, 5, 6, 7, 8, 9, 10, 2, 8, 2, 6, 1, 2, 3, 4, 5, 6, 7, 8, 9, 10, 1, 3, 4, 5, 6, 8, 10, 3, 3, 6, 1, 2, 3, 4, 5, 6, 7, 8, 9, 10, 2, 8, 10, 1, 2, 6, 7, 1, 2, 3, 4, 5, 6, 9, 10, 1, 5, 10, 8, 9, 3, 4, 4, 7, 10, 2, 3, 8, 1, 2, 4, 5, 6, 7, 8, 9, 10, 1, 2, 3, 4, 5, 6, 7, 8, 9, 10, 1, 3, 4, 5, 6, 7, 8, 9, 10, 3, 4, 5, 7, 8, 9, 1, 2, 3, 4, 5, 6, 7, 8, 9, 10, 3, 4, 10, 9, 3, 4, 5, 7, 8, 1, 2, 3, 4, 5, 6, 7, 8, 9, 10, 1, 2, 3, 4, 5, 6, 7, 8, 9, 10, 1, 2, 3, 4, 5, 6, 7, 8, 9, 10, 9, 10, 1, 2, 3, 4, 8, 1, 2, 3, 4, 5, 6, 7, 8, 9, 10, 1, 2, 3, 4, 5, 6, 10, 1, 2, 3, 4, 5, 6, 7, 8, 9, 10, 3, 5, 10, 1, 3, 4, 5, 6, 7, 8, 9, 10, 1, 2, 4, 7, 9, 1, 2, 3, 4, 5, 6, 7, 8, 9, 10, 1, 2, 3, 4, 5, 6, 7, 8, 9, 10, 9, 4, 10, 3, 6, 1, 2, 3, 4, 5, 6, 7, 9, 10, 1, 2, 3, 4, 5, 6, 7, 8, 9, 10, 1, 2, 3, 4, 5, 6, 7, 8, 9, 10, 7, 8, 2, 4, 3, 5, 1, 3, 5, 6, 3, 5, 6, 7, 10, 7, 2, 7, 9, 1, 2, 3, 4, 5, 6, 7, 8, 9, 10, 1, 4, 7, 8, 9, 2, 4, 10, 1, 2, 3, 4, 5, 6, 7, 8, 9, 10, 4, 8, 1, 3, 4, 5, 6, 7, 8, 10, 5, 5, 8, 3, 5, 1, 2, 3, 6, 8, 1, 2, 3, 4, 5, 6, 7, 9, 10, 4, 10, 1, 2, 3, 4, 5, 6, 7, 8, 9, 10, 1, 2, 3, 5, 6, 7, 5, 1, 2, 3, 4, 5, 6, 7, 8, 9, 10, 1, 5, 1, 2, 3, 4, 5, 6, 7, 8, 9, 10, 1, 2, 3, 4, 5, 6, 7, 8, 9, 10, 3, 4, 1, 2, 3, 4, 9, 10, 1, 2, 4, 7, 1, 2, 3, 4, 5, 6, 7, 8, 9, 10, 1, 2, 3, 4, 5, 6, 7, 8, 9, 10, 2, 5, 1, 2, 3, 4, 5, 6, 7, 8, 9, 10, 2, 5, 1, 6, 7, 1, 2, 3, 4, 5, 6, 7, 8, 9, 10, 1, 2, 3, 4, 5, 6, 7, 8, 9, 10, 2, 1, 2, 3, 4, 5, 6, 7, 8, 9, 10, 8, 2, 5, 6, 3, 4, 6, 8, 3, 1, 2, 3, 4, 5, 6, 8, 9, 10, 1, 2, 3, 4, 5, 6, 7, 8, 9, 10, 2, 3, 6, 1, 2, 3, 4, 5, 6, 7, 8, 9, 10, 1, 2, 3, 4, 5, 6, 7, 8, 9, 10, 8, 1, 2, 3, 4, 5, 6, 7, 8, 5, 9, 10, 1, 4, 7, 9, 10, 2, 3, 4, 5, 6, 8, 9, 1, 2, 3, 4, 5, 6, 7, 8, 9, 10, 1, 2, 3, 4, 5, 7, 8, 9, 10, 1, 2, 1, 2, 3, 4, 5, 6, 10, 1, 8, 9, 10, 2, 1, 2, 3, 4, 5, 6, 7, 8, 9, 10, 1, 5, 1, 4, 7, 9, 1, 2, 3, 4, 5, 6, 7, 8, 9, 10, 1, 2, 4, 5, 6, 7, 9, 10, 8, 1, 2, 3, 4, 5, 6, 7, 8, 9, 10, 1, 2, 3, 4, 5, 9, 10, 1, 2, 3, 4, 5, 6, 7, 8, 9, 10, 1, 2, 3, 4, 5, 6, 10, 2, 3, 4, 5, 6, 10, 1, 2, 3, 4, 5, 6, 7, 8, 9, 10, 1, 9, 10, 1, 2, 3, 4, 5, 6, 7, 8, 9, 10, 1, 2, 3, 4, 5, 6, 7, 8, 9, 10, 1, 2, 3, 4, 5, 6, 7, 8, 9, 10, 3, 4, 5, 8, 1, 2, 3, 4, 5, 6, 7, 8, 9, 10, 3, 4, 1, 2, 3, 4, 5, 6, 7, 8, 9, 10, 1, 2, 3, 4, 5, 6, 7, 8, 9, 10, 4, 7, 8, 1, 2, 3, 4, 5, 6, 7, 8, 9, 10, 3, 6, 1, 2, 3, 4, 5, 6, 7, 8, 9, 10, 1, 3, 4, 5, 2, 3, 4, 6, 3, 4, 6, 8, 1, 2, 3, 4, 5, 6, 7, 8, 9, 10, 5, 1, 2, 3, 4, 5, 6, 7, 8, 9, 10, 5, 1, 2, 3, 4, 5, 6, 7, 8, 9, 10, 1, 2, 1, 2, 3, 4, 5, 6, 7, 1, 2, 3, 4, 5, 6, 7, 8, 9, 10, 8, 1, 2, 3, 4, 5, 7, 8, 9, 10, 9, 10, 1, 2, 3, 4, 5, 6, 7, 8, 10, 3, 4, 5, 1, 2, 3, 4, 5, 6, 7, 8, 9, 10, 1, 2, 7, 2, 5, 1, 2, 3, 4, 8, 9, 10, 1, 2, 3, 4, 5, 6, 7, 8, 9, 10, 1, 2, 3, 4, 5, 6, 7, 8, 9, 10, 1, 6, 7, 8, 4, 7, 8, 1, 2, 3, 4, 5, 6, 7, 8, 9, 10, 8, 1, 2, 3, 4, 5, 6, 7, 8, 9, 10, 1, 2, 3, 4, 5, 6, 7, 8, 9, 10, 1, 8, 9, 3, 9, 1, 2, 4, 5, 7, 9, 10, 1, 4, 8, 9, 10, 1, 10, 7, 8, 9, 10, 9, 1, 2, 4, 6, 1, 2, 3, 4, 5, 6, 7, 8, 9, 10, 1, 2, 3, 4, 1, 2, 3, 4, 5, 6, 7, 8, 9, 1, 5, 1, 2, 3, 4, 5, 6, 7, 8, 9, 10, 2, 2, 1, 4, 1, 7, 8, 9, 4, 9, 3, 4, 6, 8, 1, 2, 3, 5, 6, 7, 8, 1, 2, 3, 4, 5, 6, 7, 8, 9, 10, 1, 2, 3, 4, 5, 5, 7, 10, 9, 1, 2, 5, 6, 7, 9, 2, 7, 2, 3, 5, 7, 1, 2, 3, 4, 5, 6, 7, 8, 9, 10, 1, 2, 3, 4, 5, 6, 8, 9, 10, 2, 3, 4, 10, 1, 2, 3, 4, 5, 6, 7, 8, 9, 10, 1, 2, 3, 4, 5, 6, 7, 8, 7, 1, 2, 3, 4, 5, 6, 9, 10, 1, 2, 3, 4, 5, 6, 8, 9, 10, 1, 2, 4, 5, 6, 7, 8, 9, 10, 1, 1, 2, 3, 4, 5, 6, 7, 8, 9, 10, 1, 2, 3, 4, 5, 6, 7, 8, 9, 10, 1, 2, 3, 4, 5, 6, 7, 8, 9, 10, 3, 5, 1, 2, 3, 4, 5, 6, 7, 8, 9, 10, 4, 10, 1, 2, 3, 4, 5, 6, 7, 8, 9, 10, 7, 8, 2, 3, 4, 7, 9, 4, 10, 1, 2, 3, 4, 5, 6, 7, 8, 10, 5, 6, 1, 2, 1, 8, 9, 7, 8, 1, 2, 3, 4, 5, 6, 7, 8, 9, 10, 7, 9, 1, 2, 3, 4, 5, 6, 7, 8, 9, 10, 1, 1, 5, 8, 8, 9, 1, 5, 1, 2, 5, 7, 9, 1, 2, 3, 4, 5, 6, 7, 8, 9, 10, 1, 2, 3, 4, 5, 6, 7, 8, 9, 10, 2, 4, 6, 7, 1, 3, 4, 6, 8, 9, 10, 4, 9, 10, 1, 2, 3, 4, 5, 6, 7, 8, 9, 10, 1, 2, 3, 4, 5, 6, 7, 9, 3, 6, 1, 2, 3, 4, 5, 6, 7, 8, 9, 10, 1, 2, 3, 4, 5, 6, 7, 9, 10, 2, 1, 4, 7, 1, 2, 3, 4, 5, 6, 7, 8, 9, 10, 1, 2, 3, 4, 5, 6, 7, 10, 1, 2, 3, 4, 5, 6, 7, 8, 9, 10, 7, 1, 7, 1, 2, 3, 4, 5, 6, 7, 8, 9, 10, 1, 2, 3, 4, 5, 6, 7, 8, 9, 10, 1, 7, 10, 1, 2, 7, 9, 4, 1, 2, 3, 5, 6, 7, 8, 9, 10, 1, 2, 3, 4, 5, 7, 8, 9, 1, 2, 3, 4, 5, 6, 7, 8, 9, 10, 1, 2, 3, 4, 5, 6, 7, 10, 1, 4, 7, 9, 1, 2, 10, 8, 1, 2, 3, 4, 5, 6, 7, 8, 9, 10, 1, 2, 3, 4, 5, 6, 7, 1, 4, 5, 1, 7, 1, 2, 3, 4, 5, 6, 7, 8, 9, 10, 3, 4, 8, 1, 2, 3, 4, 5, 6, 7, 8, 9, 10, 1, 4, 5, 6, 7, 8, 9, 10, 9, 5, 9, 9, 1, 7, 5, 1, 2, 3, 4, 5, 6, 7, 8, 9, 10, 1, 3, 6, 9, 1, 2, 6, 2, 1, 2, 3, 4, 5, 7, 8, 9, 10, 1, 2, 3, 4, 5, 6, 7, 8, 9, 10, 1, 2, 4, 5, 7, 1, 2, 3, 4, 5, 6, 7, 8, 9, 10, 3, 8, 10, 1, 2, 3, 4, 5, 6, 7, 8, 9, 10, 1, 2, 3, 4, 5, 6, 7, 8, 9, 10, 1, 2, 5, 6, 7, 8, 10, 1, 3, 4, 5, 1, 3, 5, 6, 7, 8, 9, 10, 1, 2, 7, 1, 2, 5, 7, 9, 1, 2, 3, 4, 5, 6, 7, 8, 9, 10, 1, 2, 3, 4, 5, 6, 7, 8, 9, 10, 1, 2, 3, 4, 5, 6, 9, 10, 2, 1, 2, 3, 4, 5, 6, 7, 8, 9, 10, 8, 1, 2, 3, 5, 6, 8, 9, 10, 1, 2, 3, 4, 5, 6, 7, 8, 9, 10, 1, 2, 3, 4, 5, 6, 7, 8, 9, 10, 1, 3, 6, 1, 9, 10, 1, 3, 4, 5, 6, 7, 8, 10, 1, 2, 3, 4, 5, 6, 7, 8, 9, 10, 1, 2, 3, 4, 5, 6, 7, 8, 9, 10, 1, 6, 1, 2, 3, 4, 5, 6, 7, 8, 9, 10, 3, 1, 4, 9, 1, 2, 3, 4, 5, 6, 7, 8, 9, 10, 1, 2, 4, 5, 6, 7, 8, 9, 10, 7, 1, 2, 3, 4, 5, 8, 9, 10, 3, 1, 2, 3, 4, 5, 6, 7, 8, 9, 10, 3, 5, 6, 9, 10, 3, 8, 9, 10, 1, 2, 3, 4, 5, 6, 7, 8, 9, 10, 2, 5, 1, 2, 3, 5, 6, 1, 2, 3, 4, 5, 6, 7, 8, 9, 10, 9, 10, 1, 2, 3, 4, 5, 6, 7, 8, 9, 10, 1, 2, 5, 1, 2, 4, 7, 9, 10, 2, 5, 6, 10, 2, 1, 2, 7, 1, 2, 3, 4, 5, 6, 7, 8, 9, 10, 1, 2, 3, 5, 7, 8, 9, 10, 4, 1, 2, 3, 5, 6, 7, 8, 10, 5, 7, 1, 2, 3, 5, 6, 7, 8, 10, 1, 2, 5, 6, 1, 2, 4, 5, 7, 1, 2, 3, 4, 5, 6, 7, 8, 9, 10, 1, 2, 3, 4, 5, 6, 7, 8, 9, 10, 1, 2, 7, 9, 1, 3, 4, 6, 7, 9, 1, 4, 5, 7, 9, 10, 1, 2, 3, 4, 5, 6, 7, 8, 9, 10, 1, 2, 1, 2, 3, 4, 5, 6, 7, 8, 9, 10, 1, 2, 4, 7, 10, 1, 2, 7, 8, 1, 4, 9, 10, 1, 2, 3, 4, 5, 6, 7, 8, 9, 10, 7, 1, 5, 7, 8, 9, 3, 4, 4, 6, 2, 3, 6, 10, 2, 3, 4, 5, 6, 3, 6, 8, 3, 4, 8, 9, 10, 1, 2, 3, 4, 5, 6, 7, 8, 9, 10, 1, 2, 3, 4, 5, 6, 7, 8, 9, 10, 1, 1, 2, 3, 4, 5, 6, 7, 8, 9, 10, 1, 2, 3, 4, 5, 6, 7, 8, 9, 10, 1, 5, 7, 1, 2, 3, 4, 5, 6, 7, 8, 9, 10, 1, 2, 4, 5, 3, 4, 1, 2, 3, 4, 5, 6, 7, 8, 9, 10, 1, 2, 3, 4, 5, 8, 3, 4, 1, 2, 3, 4, 5, 6, 7, 8, 9, 10, 3, 6, 7, 1, 2, 3, 4, 5, 1, 1, 2, 3, 4, 5, 6, 7, 8, 9, 10, 1, 2, 5, 6, 7, 10, 1, 2, 4, 5, 6, 7, 8, 10, 7, 1, 3, 4, 5, 6, 7, 8, 9, 10, 1, 4, 1, 2, 3, 4, 5, 6, 7, 8, 9, 10, 1, 2, 3, 4, 5, 6, 7, 8, 9, 10, 3, 5, 6, 1, 2, 3, 4, 5, 6, 7, 8, 9, 10, 5, 10, 1, 2, 6, 9, 4, 5, 7, 8, 9, 10, 8, 10, 8, 9, 1, 4, 7, 5, 5, 6, 7, 5, 1, 2, 3, 4, 5, 6, 7, 8, 9, 10, 1, 2, 3, 4, 5, 6, 7, 8, 9, 10, 1, 2, 3, 4, 5, 6, 7, 8, 9, 10, 1, 2, 3, 4, 5, 6, 7, 8, 9, 10, 1, 2, 3, 4, 5, 6, 7, 8, 9, 10, 1, 2, 3, 4, 5, 6, 7, 8, 9, 10, 1, 2, 3, 4, 5, 6, 7, 8, 9, 10, 9, 3, 8, 9, 10, 4, 7, 8, 9, 7, 8, 2, 1, 2, 3, 4, 5, 6, 7, 8, 9, 10, 1, 7, 8, 1, 2, 3, 4, 5, 6, 7, 8, 9, 10, 8, 1, 3, 6, 8, 3, 4, 5, 6, 8, 9, 10, 1, 2, 3, 4, 5, 6, 7, 8, 9, 10, 1, 2, 3, 4, 5, 6, 7, 8, 9, 10, 2, 3, 5, 6, 10, 1, 2, 5, 7, 8, 9, 1, 7, 8, 9, 9, 10, 8, 1, 2, 3, 4, 5, 6, 7, 8, 9, 10, 1, 4, 6, 7, 10, 1, 3, 5, 6, 8, 1, 2, 4, 7, 8, 9, 1, 2, 3, 4, 5, 6, 7, 8, 9, 10, 1, 2, 3, 4, 5, 6, 7, 8, 9, 10, 1, 2, 3, 4, 5, 6, 8, 9, 10, 1, 2, 3, 4, 6, 7, 8, 9, 10, 1, 2, 3, 4, 5, 6, 7, 8, 9, 10, 2, 3, 4, 5, 7, 8, 9, 10, 7, 8, 9, 1, 2, 3, 4, 5, 6, 7, 8, 9, 10, 2, 3, 6, 7, 1, 2, 6, 1, 6, 7, 3, 10, 1, 2, 3, 4, 5, 6, 7, 8, 9, 10, 4, 6, 8, 1, 2, 1, 2, 3, 4, 5, 6, 7, 8, 9, 10, 1, 2, 4, 5, 7, 10, 4, 7, 10, 1, 3, 4, 7, 8, 9, 10, 1, 2, 3, 4, 5, 6, 7, 8, 9, 10, 1, 1, 2, 3, 4, 5, 6, 7, 8, 9, 10, 1, 2, 3, 4, 5, 6, 7, 8, 9, 10, 1, 2, 3, 4, 5, 6, 8, 9, 10, 1, 2, 3, 4, 5, 6, 7, 8, 9, 10, 1, 1, 6, 1, 2, 3, 4, 5, 6, 7, 8, 9, 10, 9, 1, 2, 3, 6, 7, 9, 7, 8, 1, 1, 2, 5, 6, 1, 2, 3, 4, 5, 6, 7, 8, 9, 10, 1, 2, 3, 4, 5, 6, 1, 2, 3, 4, 5, 6, 7, 8, 9, 10, 9, 1, 2, 4, 6, 7, 9, 1, 2, 4, 5, 6, 7, 8, 9, 10, 1, 2, 4, 6, 7, 9, 1, 2, 2, 10, 9, 1, 2, 3, 4, 5, 6, 7, 9, 10, 1, 4, 7, 10, 1, 2, 3, 4, 5, 6, 7, 8, 9, 10, 3, 8, 2, 3, 4, 5, 9, 9, 1, 2, 3, 4, 5, 6, 7, 8, 3, 8, 9, 10, 1, 2, 3, 4, 5, 6, 7, 8, 9, 10, 1, 3, 4, 5, 8, 9, 10, 1, 2, 3, 4, 6, 7, 8, 9, 10, 1, 2, 3, 4, 5, 6, 7, 8, 9, 10, 9, 1, 10, 2, 1, 2, 3, 4, 5, 6, 7, 8, 9, 10, 2, 5, 7, 7, 1, 6, 9, 10, 1, 2, 1, 4, 8, 9, 1, 2, 4, 5, 6, 7, 8, 9, 10, 1, 2, 3, 4, 5, 6, 7, 9, 1, 2, 7, 3, 4, 10, 2, 3, 5, 6, 8, 1, 2, 3, 4, 5, 6, 7, 8, 9, 10, 1, 2, 3, 5, 6, 10, 1, 2, 3, 4, 5, 6, 7, 8, 9, 10, 1, 2, 3, 4, 5, 6, 7, 8, 9, 10, 1, 2, 3, 5, 6, 5, 3, 4, 5, 8, 1, 3, 4, 5, 7, 9, 10, 1, 2, 3, 4, 5, 6, 7, 8, 9, 10, 1, 2, 3, 4, 6, 8, 9, 10, 3, 4, 8, 9, 10, 1, 2, 3, 4, 5, 6, 7, 8, 9, 10, 1, 2, 3, 4, 5, 6, 7, 8, 9, 10, 1, 2, 3, 5, 8, 9, 2, 1, 2, 3, 5, 4, 5, 10, 5, 7, 10, 8, 9, 10, 1, 2, 3, 4, 5, 6, 7, 8, 9, 10, 1, 2, 3, 4, 5, 6, 7, 8, 9, 10, 1, 2, 3, 4, 5, 6, 7, 8, 9, 10, 1, 2, 3, 4, 5, 6, 7, 8, 9, 10, 1, 2, 3, 4, 5, 6, 7, 8, 9, 10, 1, 2, 3, 4, 5, 6, 7, 8, 9, 10, 4, 6, 7, 10, 1, 2, 3, 4, 5, 6, 7, 8, 9, 10, 10, 4, 9, 1, 2, 3, 4, 5, 6, 7, 8, 9, 10, 1, 2, 3, 4, 5, 6, 7, 8, 9, 10, 8, 9, 10, 3, 7, 10, 1, 2, 1, 2, 7, 9, 10, 1, 2, 3, 4, 5, 8, 10, 9, 1, 2, 10, 1, 2, 3, 4, 5, 6, 7, 8, 9, 10, 1, 2, 3, 4, 5, 6, 7, 8, 9, 10, 1, 2, 3, 4, 5, 6, 7, 8, 9, 10, 1, 2, 4, 5, 9, 10, 1, 1, 2, 3, 4, 5, 6, 8, 10, 2, 3, 6, 4, 8, 9, 1, 2, 3, 4, 5, 6, 7, 8, 9, 10, 1, 1, 4, 5, 6, 7, 1, 6, 1, 2, 5, 6, 10, 2, 5, 1, 10, 1, 2, 3, 4, 5, 6, 7, 8, 9, 10, 4, 9, 1, 2, 3, 4, 5, 6, 7, 8, 9, 10, 1, 2, 3, 4, 5, 6, 7, 8, 9, 10, 1, 2, 3, 4, 5, 6, 7, 8, 9, 10, 4, 8, 9, 10, 1, 2, 3, 4, 5, 6, 7, 8, 9, 10, 1, 2, 3, 4, 5, 6, 7, 8, 9, 10, 8, 9, 1, 2, 3, 4, 5, 6, 7, 8, 9, 10, 3, 5, 6, 1, 2, 3, 6, 8, 9, 10, 1, 2, 3, 4, 5, 6, 8, 9, 10, 4, 1, 2, 5, 6, 7, 8, 9, 10, 1, 2, 3, 6, 7, 2, 3, 7, 8, 1, 2, 3, 4, 5, 6, 7, 8, 9, 10, 3, 4, 10, 2, 2, 5, 10, 1, 2, 3, 4, 5, 6, 7, 8, 9, 10, 8, 1, 2, 3, 4, 6, 7, 8, 8, 1, 2, 3, 4, 5, 6, 7, 8, 9, 10, 3, 3, 4, 8, 1, 2, 3, 4, 5, 6, 7, 8, 9, 10, 2, 5, 7, 1, 2, 3, 6, 7, 1, 2, 5, 6, 1, 2, 3, 4, 5, 6, 7, 8, 9, 10, 1, 2, 3, 4, 5, 6, 7, 8, 9, 10], \"Freq\": [0.793122200056189, 0.16356216577034247, 0.0015430392997202121, 0.0030860785994404243, 0.016973432296922334, 0.0015430392997202121, 0.013887353697481909, 0.0015430392997202121, 0.00771519649860106, 0.02487316369744306, 0.04974632739488612, 0.8954338931079501, 0.09804913309336656, 0.8748999568331169, 0.007542241007182043, 0.9666269606906316, 0.9879670683962914, 0.004819351553152641, 0.007831484312613723, 0.003915742156306861, 0.03524167940676175, 0.1722926548775019, 0.7479067518546104, 0.027410195094148028, 0.003331557972053973, 0.003331557972053973, 0.003331557972053973, 0.8562103988178711, 0.003331557972053973, 0.04331025363670165, 0.003331557972053973, 0.00999467391616192, 0.07662583335724138, 0.9449559957153789, 0.014071227383821244, 0.9709146894836658, 0.00678155810937504, 0.00678155810937504, 0.01356311621875008, 0.14919427840625088, 0.8273500893437549, 0.9259715677119358, 0.02359163229839327, 0.035387448447589905, 0.12702596972189434, 0.23989543076996311, 0.14271291176586323, 0.0914433938660625, 0.11133902767792546, 0.07652166850716527, 0.04438256773415585, 0.08455644370041762, 0.047443434474442464, 0.03519996751329602, 0.024978341976602963, 0.012489170988301481, 0.03746751296490444, 0.9117094821460081, 0.012489170988301481, 0.06132354937599049, 0.05997577906003465, 0.21766490602686733, 0.3436814305687379, 0.03504202821485171, 0.15634135665087684, 0.026955406319116696, 0.014825473475514184, 0.03436814305687379, 0.04986750169036589, 0.005815052600871535, 0.9711137843455464, 0.01163010520174307, 0.005815052600871535, 0.01832905765285577, 0.0549871729585673, 0.870630238510649, 0.009164528826427884, 0.009164528826427884, 0.04582264413213942, 0.8979692800348575, 0.0025082940783096577, 0.0025082940783096577, 0.0025082940783096577, 0.09029858681914768, 0.057273086907818335, 0.07659412827431127, 0.011730632258227852, 0.33742818672196584, 0.1248967316905436, 0.023461264516455704, 0.28153517419746843, 0.008970483491586004, 0.040022157116306786, 0.037952045541325405, 0.030452680775157653, 0.7613170193789414, 0.054814825395283776, 0.11876545502311485, 0.006090536155031531, 0.027407412697641888, 0.023615411477868775, 0.03542311721680316, 0.9269049005063494, 0.005903852869467194, 0.010133021460775367, 0.07093115022542756, 0.010133021460775367, 0.881572867087457, 0.010133021460775367, 0.08074337873076505, 0.011874026283936037, 0.6459470298461204, 0.0023748052567872076, 0.004749610513574415, 0.20185844682691265, 0.004749610513574415, 0.04512129987895694, 0.0023748052567872076, 0.032595374717372165, 0.016297687358686083, 0.08614491889591214, 0.02328241051240869, 0.5471366470416041, 0.22118289986788253, 0.0046564821024817375, 0.009312964204963475, 0.02328241051240869, 0.0372518568198539, 0.009826407727510299, 0.1375697081851442, 0.8352446568383755, 0.009826407727510299, 0.009826407727510299, 0.0024502354963702963, 0.8735089544560105, 0.0049004709927405925, 0.0012251177481851481, 0.07228194714292373, 0.0024502354963702963, 0.028177708208258406, 0.0012251177481851481, 0.014701412978221777, 0.905641859816333, 0.014451731805579782, 0.004817243935193261, 0.028903463611159565, 0.03853795148154609, 0.10145906970944142, 0.09983138409912952, 0.25663176455917536, 0.09332064165788194, 0.03201115033613392, 0.3173986940108194, 0.033638835946445816, 0.03635164529696564, 0.01356404675259912, 0.016276856103118943, 0.0378655522913699, 0.11359665687410969, 0.03313235825494866, 0.14199582109263711, 0.657913971062552, 0.004733194036421237, 0.009466388072842474, 0.060411604305724134, 0.0431511459326601, 0.0431511459326601, 0.8198717727205419, 0.02589068755959606, 0.0067831927443181205, 0.030524367349431543, 0.0033915963721590603, 0.0033915963721590603, 0.06444033107102215, 0.8885982495056738, 0.0033915963721590603, 0.010053195611439634, 0.10807185282297606, 0.007539896708579725, 0.04523938025147835, 0.8268753390409098, 0.0025132989028599085, 0.003138032321809013, 0.05648458179256223, 0.9319955995772767, 0.003138032321809013, 0.022989358385451866, 0.0172420187890889, 0.0172420187890889, 0.022989358385451866, 0.7816381851053634, 0.1206941315236223, 0.005747339596362967, 0.03443745185631408, 0.00860936296407852, 0.01721872592815704, 0.00860936296407852, 0.9039831112282447, 0.025828088892235562, 0.010439734764287034, 0.0313192042928611, 0.041758939057148135, 0.8978171897286849, 0.004395839689132675, 0.004395839689132675, 0.7428969074634221, 0.1582502288087763, 0.013187519067398025, 0.004395839689132675, 0.043958396891326745, 0.0175833587565307, 0.013187519067398025, 0.15220678053835257, 0.04261789855073872, 0.07305925465840923, 0.008117694962045471, 0.02029423740511368, 0.034500203588693254, 0.030441356107670518, 0.0040588474810227355, 0.6331802070395467, 0.0020294237405113678, 0.0032418328212917404, 0.9757916792088138, 0.0016209164106458702, 0.017830080517104573, 0.0016209164106458702, 0.98580589171483, 0.0403665292189639, 0.022425849566091057, 0.7669640551603142, 0.004485169913218211, 0.08521822835114601, 0.008970339826436422, 0.06279237878505496, 0.004485169913218211, 0.039969844836206435, 0.039969844836206435, 0.009992461209051609, 0.8793365863965416, 0.009992461209051609, 0.0590286623206469, 0.03632533065885963, 0.1089759919765789, 0.04086599699121708, 0.03178466432650218, 0.5948272895388265, 0.07719132765007672, 0.013621998997072362, 0.03178466432650218, 0.004540666332357454, 0.03519874726033694, 0.9151674287687604, 0.03519874726033694, 0.9793283126927268, 0.010418386305241775, 0.010418386305241775, 0.26762507263539936, 0.09607053889475874, 0.0022873937832085414, 0.0022873937832085414, 0.004574787566417083, 0.5947223836342208, 0.0022873937832085414, 0.025161331615293957, 0.004574787566417083, 0.002343534817992162, 0.004687069635984324, 0.044527161541851074, 0.008202371862972567, 0.30231599152098887, 0.12537911276258065, 0.004687069635984324, 0.48393993991538137, 0.019920045952933375, 0.0035153022269882425, 0.00714861140991394, 0.01429722281982788, 0.00714861140991394, 0.0357430570495697, 0.3931736275452667, 0.00714861140991394, 0.5289972443336315, 0.013272703711181884, 0.08627257412268224, 0.04866658027433358, 0.09954527783386413, 0.1504239753933947, 0.03318175927795471, 0.013272703711181884, 0.0022121172851969806, 0.004424234570393961, 0.5508172040140482, 0.9731324858890678, 0.059137188260067065, 0.10718615372137155, 0.011088222798762575, 0.6689894421920086, 0.07761755959133802, 0.007392148532508383, 0.02217644559752515, 0.029568594130033533, 0.0036960742662541916, 0.011088222798762575, 0.03908403187615518, 0.9380167650277245, 0.044937447264135254, 0.003456726712625789, 0.006913453425251578, 0.010370180137877365, 0.003456726712625789, 0.010370180137877365, 0.7259126096514156, 0.18666324248179259, 0.010370180137877365, 0.024312563023410293, 0.23534561006661164, 0.01069752773030053, 0.019450050418728236, 0.6146215932318122, 0.023340060502473885, 0.0038900100837456473, 0.013615035293109765, 0.044735115963074945, 0.009725025209364118, 0.9830160444873844, 0.03990086357586019, 0.008866858572413375, 0.01773371714482675, 0.008866858572413375, 0.004433429286206688, 0.008866858572413375, 0.004433429286206688, 0.03990086357586019, 0.8512184229516839, 0.01773371714482675, 0.0066509064763210475, 0.971032345542873, 0.0066509064763210475, 0.006359033506075127, 0.019077100518225382, 0.028615650777338072, 0.012718067012150254, 0.0031795167530375636, 0.006359033506075127, 0.9252393751339311, 0.03825843167293667, 0.860814712641075, 0.019129215836468334, 0.03825843167293667, 0.019129215836468334, 0.019129215836468334, 0.04516055372601794, 0.04516055372601794, 0.9032110745203588, 0.02927496951426126, 0.0058549939028522515, 0.0058549939028522515, 0.04293662195424985, 0.08196991463993153, 0.001951664634284084, 0.09172823781135195, 0.015613317074272671, 0.7162609207822588, 0.007806658537136336, 0.09412292228190418, 0.009412292228190417, 0.012549722970920557, 0.05961118411187264, 0.1600089678792371, 0.6400358715169484, 0.003137430742730139, 0.021962015199110976, 0.1839530715679555, 0.05998469725042028, 0.08664456269505151, 0.18750772029390636, 0.07020431233752891, 0.039545467076202996, 0.1261900297712545, 0.09197653578397776, 0.09330952905620932, 0.060429028341164134, 0.130593317893316, 0.1717176559799131, 0.09417787348075672, 0.06090169151755602, 0.11018811197248538, 0.07722585625422052, 0.037357223147366836, 0.1142691531566515, 0.15382386001856932, 0.049914272944801066, 0.128545524549602, 0.11247733398090175, 0.14461371511830226, 0.30127857316312967, 0.08167996872422627, 0.050882603467550795, 0.05021309552718828, 0.04619604788501322, 0.03481441289885054, 0.05021309552718828, 0.04691906063754396, 0.8914621521133352, 0.9464736333517054, 0.039436401389654395, 0.9236919878467941, 0.002646681913601129, 0.007940045740803387, 0.002646681913601129, 0.002646681913601129, 0.05822700209922484, 0.002646681913601129, 0.14339104636517414, 0.17403780666475116, 0.08545301047035339, 0.12683732182379678, 0.12885061264639674, 0.03534443888564355, 0.09440096968190873, 0.07986053596313131, 0.07516285737706477, 0.05681954099337634, 0.11976113952336939, 0.12097084800340344, 0.06774367488190593, 0.317548476008934, 0.11915628528335238, 0.012097084800340344, 0.1657300617646627, 0.012097084800340344, 0.03024271200085086, 0.03447669168096998, 0.0490742830037971, 0.8833370940683477, 0.09578306528577758, 0.02612265416884843, 0.1393208222338583, 0.08381018212505538, 0.05006842049029282, 0.07183729896433319, 0.005442219618510089, 0.30041052294175696, 0.19265457449525716, 0.034830205558464576, 0.94241306740195, 0.03886239453203917, 0.9580772504325473, 0.020384622349628668, 0.027740670788408382, 0.009246890262802794, 0.013870335394204191, 0.13407990881064052, 0.6981402148416109, 0.023117225657006985, 0.013870335394204191, 0.013870335394204191, 0.023117225657006985, 0.04161100618261258, 0.006587408119444479, 0.8497756474083378, 0.09881112179166719, 0.013174816238888958, 0.006587408119444479, 0.019762224358333438, 0.006587408119444479, 0.9650519124075114, 0.9319450728568628, 0.062129671523790855, 0.842657015613191, 0.0046814278645177275, 0.06319927617098932, 0.023407139322588637, 0.0046814278645177275, 0.014044283593553182, 0.007022141796776591, 0.023407139322588637, 0.011703569661294318, 0.0023407139322588638, 0.03356084358246421, 0.03356084358246421, 0.8725819331440694, 0.01732363672470675, 0.008661818362353375, 0.008661818362353375, 0.9614618382212246, 0.004823766119230784, 0.06753272566923098, 0.004823766119230784, 0.004823766119230784, 0.37625375730000116, 0.019295064476923137, 0.004823766119230784, 0.5209667408769246, 0.03198969890230758, 0.8957115692646124, 0.03198969890230758, 0.02401893690803219, 0.9607574763212875, 0.03105378461234229, 0.9005597537579263, 0.8999290096182254, 0.05293700056577797, 0.05293700056577797, 0.9545230814638246, 0.011099105598416564, 0.02219821119683313, 0.05660949560827704, 0.6364743290011688, 0.19889822781286529, 0.06884938655060721, 0.004589959103373814, 0.02447978188466034, 0.0015299863677912713, 0.004589959103373814, 0.006119945471165085, 0.03946817063991416, 0.03289014219992847, 0.5218569229055317, 0.07674366513316642, 0.05920225595987124, 0.1885701486129232, 0.00877070458664759, 0.01096338073330949, 0.037275494493252265, 0.02192676146661898, 0.0033301931858359946, 0.0033301931858359946, 0.013320772743343978, 0.023311352300851962, 0.006660386371671989, 0.0033301931858359946, 0.636066898494675, 0.2497644889376996, 0.0599434773450479, 0.003348628708271216, 0.003348628708271216, 0.003348628708271216, 0.003348628708271216, 0.6362394545715311, 0.3482573856602065, 0.810922453965713, 0.010243230997461638, 0.006828820664974426, 0.07682423248096229, 0.003414410332487213, 0.003414410332487213, 0.0819458479796931, 0.0017072051662436066, 0.0017072051662436066, 0.003414410332487213, 0.929584236663808, 0.016308495380066804, 0.03261699076013361, 0.9558934172053626, 0.00948980573514128, 0.00948980573514128, 0.01897961147028256, 0.01897961147028256, 0.9394907677789868, 0.0031803631107758246, 0.0031803631107758246, 0.0031803631107758246, 0.006360726221551649, 0.009541089332327474, 0.0031803631107758246, 0.006360726221551649, 0.16219851864956705, 0.8014515039155078, 0.006360726221551649, 0.15733557561260914, 0.0995113897037015, 0.032273964228227515, 0.025550221680680114, 0.021515976152151676, 0.11026937777977734, 0.016136982114113758, 0.330808133339332, 0.19364378536936508, 0.014792233604604278, 0.3921456360252197, 0.16115574083228207, 0.014921827854840933, 0.03461864062323096, 0.2578491853316513, 0.02864990948129459, 0.04954046847807189, 0.002387492456774549, 0.02208430522516458, 0.03760300619419915, 0.9724078946856383, 0.011177102237765957, 0.010783462118697525, 0.0431338484747901, 0.8518935073771045, 0.0431338484747901, 0.0431338484747901, 0.025427636084548077, 0.039412835931049515, 0.006356909021137019, 0.0050855272169096155, 0.08645396268746346, 0.029241781497230286, 0.0012713818042274039, 0.0012713818042274039, 0.006356909021137019, 0.8009705366632643, 0.005438921101557462, 0.005438921101557462, 0.010877842203114925, 0.010877842203114925, 0.02175568440622985, 0.005438921101557462, 0.9409333505694409, 0.010284943337357515, 0.02056988667471503, 0.022284043897607946, 0.011999100560250433, 0.05485303113257341, 0.010284943337357515, 0.003428314445785838, 0.001714157222892919, 0.003428314445785838, 0.8587927686693524, 0.17197010763514547, 0.02456715823359221, 0.7861490634749507, 0.060195319844985905, 0.11330883735526757, 0.042490814008225346, 0.010622703502056336, 0.014163604669408447, 0.007081802334704223, 0.014163604669408447, 0.7258847393071829, 0.014163604669408447, 0.9700204369125834, 0.00497446377903889, 0.00497446377903889, 0.00497446377903889, 0.014923391337116669, 0.09741236312976381, 0.14344238087239947, 0.2440661405888588, 0.1309536163685836, 0.09098956995637279, 0.09598507575789915, 0.054950563816789845, 0.059589247775350025, 0.046743661428567986, 0.03603900613958295, 0.17467786688414721, 0.14246062342424687, 0.22048675992869302, 0.046815681902667695, 0.0996720969540667, 0.1545420897217095, 0.05335980948045996, 0.06594467020698352, 0.02567311588210809, 0.016612016159011117, 0.9750313848895814, 0.14769806712204037, 0.8123393691712221, 0.09883417272626599, 0.8400904681732609, 0.923711298784516, 0.009175940054150821, 0.006117293369433881, 0.006117293369433881, 0.0030586466847169406, 0.015293233423584702, 0.030586466847169404, 0.0030586466847169406, 0.0030586466847169406, 0.0864149254854932, 0.2046847646793643, 0.09556474112513366, 0.10640896706841124, 0.15791904029897974, 0.07014858657057683, 0.114203254465142, 0.040326965226563496, 0.08573716136403836, 0.03829367286219895, 0.061488488543500176, 0.22732107885778854, 0.04006068192985618, 0.048445475822151654, 0.15558450889037168, 0.13089594909639052, 0.25759950124663333, 0.030744244271750088, 0.029346778623034177, 0.01909869719911748, 0.02256358848188981, 0.947670716239372, 0.9869474576095388, 0.919550717275974, 0.028796018353312178, 0.9214725873059897, 0.08590786092606705, 0.028635953642022347, 0.028635953642022347, 0.8590786092606704, 0.9615259711096776, 0.9134799596841363, 0.01943574382306673, 0.03887148764613346, 0.01943574382306673, 0.9649975173062466, 0.01662331075568653, 0.9475287130741322, 0.01662331075568653, 0.017411876563107026, 0.09203420469070857, 0.020728424479889315, 0.019070150521498172, 0.5231854338724063, 0.021557561459084888, 0.06467268437725467, 0.004974821875173436, 0.03731116406380077, 0.19816373802774187, 0.01370431238592598, 0.00685215619296299, 0.034260780964814955, 0.06166940573666691, 0.8702238365062998, 0.9784430900276931, 0.8772010982678368, 0.06265722130484548, 0.08789950049963202, 0.06269302609164931, 0.06624778530303149, 0.17676848078418647, 0.13411137024760034, 0.07174150408425849, 0.08434474128824984, 0.12183129297191644, 0.12732501175314345, 0.0672172650879539, 0.9815798830098145, 0.011685474797735887, 0.008149640418382557, 0.016299280836765115, 0.04074820209191279, 0.17929208920441625, 0.7008690759808999, 0.024448921255147672, 0.008149640418382557, 0.03259856167353023, 0.9539158684125835, 0.9334997689017801, 0.9670359085283681, 0.027010241898954502, 0.9453584664634076, 0.030646483363298293, 0.007661620840824573, 0.9117328800581243, 0.03830810420412287, 0.007661620840824573, 0.018608669783300013, 0.02791300467495002, 0.09769551636232507, 0.06047817679572504, 0.7303902889945255, 0.009304334891650006, 0.004652167445825003, 0.02791300467495002, 0.018608669783300013, 0.8854430139015103, 0.08854430139015103, 0.12210097452561133, 0.6980990500051257, 0.015926214068558, 0.0026543690114263336, 0.11679223650275868, 0.0026543690114263336, 0.015926214068558, 0.0026543690114263336, 0.02123495209141067, 0.0026543690114263336, 0.008778277479590337, 0.04389138739795169, 0.021945693698975845, 0.10095019101528889, 0.8163798056019014, 0.004389138739795169, 0.9009406155947058, 0.017502385770169673, 0.02625357865525451, 0.23803244647430755, 0.6195844562640064, 0.005250715731050902, 0.024503340078237543, 0.008751192885084837, 0.04025548727139025, 0.007000954308067869, 0.014001908616135738, 0.03798333200217447, 0.9495833000543616, 0.31643690667201785, 0.18129197778084355, 0.09833716370536665, 0.03076469925977951, 0.09778779407572773, 0.06702309481594822, 0.03570902592652979, 0.05713444148244766, 0.09009661926078286, 0.025271002963390313, 0.033249867467418794, 0.13824944894347815, 0.46374815151926213, 0.04199983259042374, 0.06999972098403957, 0.13999944196807915, 0.006999972098403957, 0.07699969308244352, 0.010499958147605935, 0.02099991629521187, 0.9118025874991034, 0.037991774479129305, 0.00763735135991054, 0.01527470271982108, 0.038186756799552704, 0.763735135991054, 0.1298349731184792, 0.045824108159463244, 0.09504750919281899, 0.0126730012257092, 0.0063365006128546, 0.8807735851867893, 0.22322376677045927, 0.12295212822116205, 0.09907792856656748, 0.17109843085792778, 0.09987373522172063, 0.03461758949916213, 0.14682632787575664, 0.041779849395540504, 0.03700500946462159, 0.023874199654594575, 0.12165310280178311, 0.01199396788186594, 0.0017134239831237059, 0.6939367131651009, 0.10794571093679346, 0.0017134239831237059, 0.03940875161184523, 0.0017134239831237059, 0.0068536959324948235, 0.01199396788186594, 0.03947257131791693, 0.9473417116300062, 0.1210721358906649, 0.09503189899947122, 0.1227183577630967, 0.0906918595176056, 0.1077527043773532, 0.05896467433982939, 0.046393525495804847, 0.1611800869644575, 0.13439156740397662, 0.06165849194926321, 0.030154648612419573, 0.9347941069850068, 0.0625676448836688, 0.7508117386040256, 0.1251352897673376, 0.107856097304146, 0.12874968683426852, 0.2320882512670367, 0.12677326620304072, 0.10700905989076266, 0.15698426728038004, 0.0762333672045011, 0.03190507590410602, 0.010164448960600148, 0.022587664356889216, 0.02310254692576575, 0.16250765914448898, 0.028433903908634768, 0.02310254692576575, 0.670368776179271, 0.028631361574666954, 0.02408983525592668, 0.01105762929780241, 0.0167839016127358, 0.01204491762796334, 0.9880999920207754, 0.123963420819662, 0.3448322568993643, 0.06355485026794853, 0.02737263353124516, 0.08715194813971161, 0.10823202223848662, 0.10823202223848662, 0.055689150977360845, 0.04278940414079703, 0.03838461253806793, 0.9888080819235726, 0.7201373912025631, 0.17676099602244733, 0.09820055334580406, 0.8958563719373097, 0.034019862225467455, 0.045359816300623274, 0.011339954075155818, 0.9786469523872203, 0.017866075234289517, 0.010719645140573709, 0.6860572889967174, 0.035732150468579034, 0.017866075234289517, 0.18223396738975306, 0.04645179560915274, 0.0035732150468579032, 0.0035732150468579032, 0.1504334289165696, 0.22807648900254102, 0.00727903688305982, 0.06551133194753837, 0.0024263456276866066, 0.444021249866649, 0.03396883878761249, 0.004852691255373213, 0.027902974718395975, 0.035182011601455794, 0.9928249454082831, 0.9226014784220664, 0.0595226760272301, 0.02663304226765691, 0.05736347565341488, 0.010243477795252658, 0.21716172925935634, 0.2704278137946702, 0.006146086677151595, 0.03687652006290957, 0.004097391118101063, 0.02458434670860638, 0.34827824503859034, 0.18238706358877863, 0.12643740881637552, 0.08546640177831655, 0.19516296900924862, 0.13833221731129586, 0.10969656723093206, 0.06784446326732345, 0.04801978244245621, 0.022467971601516205, 0.023789616989840688, 0.9605447952759704, 0.7237167242780846, 0.24418084599626433, 0.0014709689517847248, 0.0014709689517847248, 0.0014709689517847248, 0.0014709689517847248, 0.025006472180340324, 0.0014709689517847248, 0.02331087593057372, 0.04662175186114744, 0.909124161292375, 0.03449526043530906, 0.7129020489963873, 0.19547314246675135, 0.031620655399033304, 0.02299684029020604, 0.017051580324274018, 0.06820632129709607, 0.05115474097282205, 0.8241597156732441, 0.005683860108091339, 0.011367720216182677, 0.017051580324274018, 0.009043486617926094, 0.03391307481722285, 0.20347844890333713, 0.2667828552288198, 0.0022608716544815235, 0.04295656143514895, 0.009043486617926094, 0.006782614963444571, 0.018086973235852188, 0.40695689780667427, 0.04957798156580966, 0.04957798156580966, 0.01377166154605824, 0.005508664618423296, 0.03580632001975142, 0.005508664618423296, 0.2754332309211648, 0.5343404679870597, 0.03305198771053977, 0.02283002230518272, 0.9588609368176743, 0.10570403570030827, 0.7825508449426047, 0.0051147114048536255, 0.0017049038016178752, 0.10229422809707252, 0.0017049038016178752, 0.0017049038016178752, 0.012737225763232078, 0.9298174807159416, 0.012737225763232078, 0.025474451526464156, 0.9613347357534519, 0.02626734658109275, 0.20751203799063273, 0.0420277545297484, 0.007880203974327826, 0.5831350941002591, 0.0840555090594968, 0.0105069386324371, 0.002626734658109275, 0.00525346931621855, 0.034147550555420576, 0.03527117666804483, 0.9523217700372104, 0.023380184815886062, 0.8650668381877843, 0.023380184815886062, 0.046760369631772124, 0.0846724824664148, 0.09620594353326865, 0.001687823570759099, 0.003094343213058348, 0.001687823570759099, 0.15640498422367652, 0.653750329740691, 0.00028130392845984986, 0.0005626078569196997, 0.0014065196422992493, 0.002829541746723533, 0.011318166986894132, 0.8092489395629304, 0.04527266794757653, 0.005659083493447066, 0.10186350288204718, 0.014147708733617665, 0.005659083493447066, 0.9760674588894072, 0.10732560458116004, 0.07415223589243784, 0.4995519049595813, 0.042930241832464015, 0.029270619431225466, 0.10537422995241168, 0.0273192448024771, 0.07024948663494111, 0.03122199405997383, 0.011708247772490186, 0.08130208767101832, 0.02032552191775458, 0.06097656575326374, 0.02032552191775458, 0.08130208767101832, 0.01016276095887729, 0.7215560280802876, 0.001364504502771423, 0.005458018011085692, 0.766169278306154, 0.08050576566351396, 0.0020467567541571346, 0.07231873864688541, 0.0006822522513857115, 0.06413171163025688, 0.001364504502771423, 0.005458018011085692, 0.0028554178747184624, 0.017132507248310773, 0.6681677826841201, 0.005710835749436925, 0.19702383335557389, 0.09422878986570925, 0.01142167149887385, 0.03665153008222569, 0.8796367219734167, 0.045814412602782115, 0.018325765041112847, 0.009162882520556423, 0.009162882520556423, 0.25527838793157687, 0.19524469924427806, 0.17685600180852887, 0.025960514026940017, 0.0443492114626892, 0.22715449773572516, 0.03785908295595419, 0.017307009351293347, 0.005949284464507087, 0.013521101055697926, 0.20002357204383453, 0.02222484133820384, 0.7556446054989305, 0.061990248969652044, 0.09163775934644215, 0.045818879673221076, 0.2614371369589673, 0.049861721997328814, 0.012128526972323226, 0.07546639005001118, 0.07007593361786753, 0.12667572615537592, 0.20348973031342302, 0.12651834610139864, 0.0031162154212167155, 0.05172917599219747, 0.43502367280185344, 0.007478917010920116, 0.22748372574882023, 0.06606376692979436, 0.00997188934789349, 0.015581077106083576, 0.057961606834630905, 0.8671549715856882, 0.004540078385265383, 0.024970431118959607, 0.009080156770530767, 0.006810117577898075, 0.0544809406231846, 0.018160313541061533, 0.009080156770530767, 0.0022700391926326917, 0.004540078385265383, 0.06766710577486758, 0.9086725632625076, 0.009666729396409654, 0.004833364698204827, 0.07637210676748216, 0.0014974922895584736, 0.01647241518514321, 0.03294483037028642, 0.010482446026909316, 0.007487461447792368, 0.013477430606026262, 0.4612276251840099, 0.36688561094182603, 0.013477430606026262, 0.9763620798330466, 0.012680027010818787, 0.16706807198306858, 0.09085402883615327, 0.24155976387242648, 0.05554582805622641, 0.04994818646916483, 0.15931749132406026, 0.07104698937424309, 0.10893871704050606, 0.028849383564086586, 0.027127032306529176, 0.2204635226840182, 0.23802665447016638, 0.07395002857325558, 0.06609283803734717, 0.10029472625247787, 0.11600910732429469, 0.07071471482317565, 0.06239533660868439, 0.03189094982221647, 0.020336257857645285, 0.8980662639645421, 0.05388397583787253, 0.03592265055858169, 0.07896594517923312, 0.09072683063145932, 0.0991274630973352, 0.5292398453501794, 0.028562150383977938, 0.04200316232937932, 0.03528265635667863, 0.06720505972700691, 0.015121138438576555, 0.013441011945401381, 0.2140598464667831, 0.7706154472804192, 0.1551520769523681, 0.11405774305687601, 0.11279975324374869, 0.07380206903680211, 0.12328300168647627, 0.22895414598917022, 0.055770881715310694, 0.07296340916138391, 0.03396572495443734, 0.029353095639637207, 0.9719408874007123, 0.00578536242500424, 0.00578536242500424, 0.00578536242500424, 0.007272835275680382, 0.8800130683573262, 0.09454685858384497, 0.014545670551360764, 0.7873038714352154, 0.07465812573954629, 0.12216784211925756, 0.968139055649388, 0.029411622622409855, 0.5507072787575362, 0.08924906175076094, 0.05070969417656872, 0.06997937796366482, 0.024340653204752982, 0.022312265437690236, 0.12778842932495316, 0.00709935718471962, 0.02839742873887848, 0.9374088353402366, 0.06379798358852869, 0.055403512063722286, 0.04700904053891588, 0.055403512063722286, 0.626227575750558, 0.0453301462339546, 0.03189899179426434, 0.006715577219845125, 0.006715577219845125, 0.06044019497860613, 0.9772735919414484, 0.12739653899092593, 0.16273880464647314, 0.15698541256301196, 0.048766847183623264, 0.07835572075570929, 0.2873956331214652, 0.046575078770876153, 0.05890377609257866, 0.013698552579669456, 0.01917797361153724, 0.9807270886113519, 0.0069555112667471775, 0.01532162126541148, 0.03064324253082296, 0.05362567442894018, 0.03064324253082296, 0.8503499802303371, 0.00766081063270574, 0.00766081063270574, 0.002658652817285658, 0.8055718036375544, 0.011963937677785462, 0.001329326408642829, 0.0412091186679277, 0.018610569720999608, 0.001329326408642829, 0.09837015423956935, 0.001329326408642829, 0.018610569720999608, 0.9679523989316722, 0.03950169020458687, 0.0035910627458715333, 0.09336763139265987, 0.8187623060587096, 0.0035910627458715333, 0.014364250983486133, 0.014364250983486133, 0.0071821254917430665, 0.0035910627458715333, 0.9592371569651874, 0.025243083078031248, 0.010982268177061858, 0.01757162908329897, 0.06589360906237114, 0.02855389726036083, 0.01317872181247423, 0.05710779452072166, 0.01757162908329897, 0.786330401477629, 0.0021964536354123713, 0.8820923654261721, 0.042004398353627244, 0.042004398353627244, 0.1032853681349204, 0.07161118857354482, 0.042002716374867625, 0.02203421186878302, 0.014459951538888856, 0.054396960551058075, 0.6679120472724852, 0.012394244176190448, 0.006197122088095224, 0.006197122088095224, 0.027012392573673442, 0.027012392573673442, 0.9454337400785705, 0.9755172442000644, 0.019127789101962046, 0.005001208032799884, 0.9202222780351788, 0.010002416065599769, 0.025006040163999422, 0.005001208032799884, 0.020004832131199538, 0.010002416065599769, 0.004669398641032375, 0.8809598769414414, 0.0007782331068387291, 0.0007782331068387291, 0.02490345941883933, 0.00933879728206475, 0.07004097961548562, 0.0031129324273549163, 0.004669398641032375, 0.0007782331068387291, 0.002180121653414358, 0.9014803036868371, 0.001090060826707179, 0.003270182480121537, 0.007630425786950253, 0.003270182480121537, 0.07521419704279535, 0.001090060826707179, 0.001090060826707179, 0.003270182480121537, 0.9838576766076144, 0.004353352551361126, 0.004353352551361126, 0.004353352551361126, 0.0046057963799385985, 0.0046057963799385985, 0.9856404253068601, 0.11871229437413476, 0.09552629937918657, 0.2360334290485726, 0.0848607416815104, 0.09274397997979278, 0.1335513311709016, 0.04660384993984587, 0.09738117897878242, 0.05124104893883551, 0.04335781064055312, 0.9727494725922171, 0.8433197235990306, 0.0300764376947906, 0.02712776733255623, 0.015922819956065613, 0.03715324656415309, 0.010615213304043742, 0.016512554028512486, 0.015922819956065613, 0.002358936289787498, 0.001179468144893749, 0.1525274848934035, 0.07466826666329794, 0.13146720455247332, 0.06956274415640579, 0.12699987235894267, 0.12699987235894267, 0.05871350882925992, 0.019145709400845628, 0.21507013560283256, 0.024889422221099317, 0.014706174069318949, 0.014706174069318949, 0.9559013145057317, 0.9409576970816379, 0.9601935666884247, 0.03704122325798488, 0.006173537209664147, 0.6667420186437278, 0.0463015290724811, 0.11729720698361878, 0.0030867686048320735, 0.12038397558845086, 0.9741512533877389, 0.9274906876822382, 0.06950390402544127, 0.9105011427332805, 0.013900780805088251, 0.016309010523403774, 0.9622316208808227, 0.036787177069550696, 0.9319418190952844, 0.0122623923565169, 0.0122623923565169, 0.971264914638071, 0.1655251105003981, 0.02069063881254976, 0.04138127762509952, 0.7655536360643411, 0.24868614866591215, 0.09970191630965686, 0.07051162142051777, 0.14746785340097535, 0.09174092679443711, 0.0602760634723781, 0.14253962179631552, 0.06596248455467792, 0.04587046339721856, 0.02691572645621915, 0.9832746989727478, 0.003223851472041796, 0.003223851472041796, 0.003223851472041796, 0.7530799262635225, 0.03667597043491181, 0.022005582260947086, 0.02689571165226866, 0.051346358608876534, 0.01711545286962551, 0.05623648800019811, 0.012225323478303936, 0.024450646956607872, 0.019096485949135975, 0.9548242974567988, 0.14906362617559207, 0.08489273777713091, 0.30080103936778674, 0.08622963128543219, 0.075534483219022, 0.13770003135503125, 0.026069423411874848, 0.07352914295657009, 0.027406316920176123, 0.038769911740736955, 0.9840369906417172, 0.9928154754406561, 0.9744149110159867, 0.010150155323083195, 0.005882020101482814, 0.005882020101482814, 0.09411232162372503, 0.8881850353239049, 0.8894603406841253, 0.05559127129275783, 0.024325510096402606, 0.024325510096402606, 0.012162755048201303, 0.9122066286150977, 0.006253333918664443, 0.06878667310530888, 0.006253333918664443, 0.031266669593322215, 0.01876000175599333, 0.01876000175599333, 0.8442000790196998, 0.04838728324470095, 0.1077531937802164, 0.13377660661770263, 0.056926215582001116, 0.2691796765377481, 0.24803565360729057, 0.022363870407214725, 0.07197100112867284, 0.015858017197843167, 0.026023412837486225, 0.028733397995160902, 0.009577799331720302, 0.028733397995160902, 0.019155598663440604, 0.9098909365134286, 0.084238220957058, 0.0168476441914116, 0.8592298537619917, 0.9584042922921401, 0.2684836930325203, 0.005264386137892554, 0.7106921286154949, 0.005264386137892554, 0.005264386137892554, 0.005264386137892554, 0.01824900215366405, 0.9671971141441947, 0.022174290804780967, 0.09978430862151436, 0.8647973413864577, 0.011087145402390483, 0.15142986084195148, 0.09098930900915524, 0.18263558053823217, 0.065367770732209, 0.07160891467146513, 0.22796599441282936, 0.057484220493148615, 0.09164627152907694, 0.03284812599608492, 0.028249388356633032, 0.0036358987403601346, 0.07998977228792296, 0.04726668362468175, 0.11271286095116417, 0.043630784884321615, 0.01817949370180067, 0.010907696221080404, 0.010907696221080404, 0.676277165706985, 0.010878393055537675, 0.06527035833322606, 0.2828382194439796, 0.6309467972211852, 0.017036295348249363, 0.04193549624184459, 0.5635082307497866, 0.05110888604474809, 0.1454637525888984, 0.14153229981622548, 0.00786290554534586, 0.02752016940871051, 0.0013104842575576434, 0.00393145277267293, 0.1626971696022999, 0.14913907213544159, 0.02711619493371665, 0.006779048733429162, 0.016947621833572905, 0.5965562885417663, 0.03389524366714581, 0.006779048733429162, 0.9579361134532185, 0.02543904165342271, 0.1059960068892613, 0.04663824303127497, 0.004239840275570452, 0.7250126871225473, 0.05935776385798633, 0.02543904165342271, 0.012719520826711355, 0.0036204159461175707, 0.8471773313915115, 0.0036204159461175707, 0.0036204159461175707, 0.03620415946117571, 0.007240831892235141, 0.07964915081458655, 0.0036204159461175707, 0.018102079730587854, 0.05112781908636264, 0.005899363740734151, 0.0707923648888098, 0.007865818320978867, 0.045228455345628485, 0.7826489229373973, 0.011798727481468301, 0.01966454580244717, 0.0019664545802447167, 0.9794625651564595, 0.23141200381569688, 0.0031700274495300943, 0.0015850137247650472, 0.08717575486207758, 0.0015850137247650472, 0.09034578231160768, 0.48659921350286944, 0.0031700274495300943, 0.09034578231160768, 0.0031700274495300943, 0.017660368611843263, 0.0017660368611843262, 0.02825658977894922, 0.054747142696714116, 0.0017660368611843262, 0.008830184305921631, 0.04944903211316114, 0.0017660368611843262, 0.8318033616178176, 0.0017660368611843262, 0.08976807072885883, 0.06146830605840503, 0.15214927242179463, 0.1673641996639741, 0.19363530736880397, 0.13510855391055362, 0.04442758754716403, 0.035298631201856355, 0.04686197590591274, 0.073843113548711, 0.03497533820116469, 0.9443341314314466, 0.07549737438557422, 0.003451308543340536, 0.024590573371301317, 0.3947434146445738, 0.013805234173362144, 0.02415915980338375, 0.053495282421778305, 0.0940481578060296, 0.1958617598345754, 0.12036438544900119, 0.8844343087927016, 0.05202554757604127, 0.10254607481592011, 0.01709101246932002, 0.0871641635935321, 0.03247292369170804, 0.049563936161028055, 0.011963708728524014, 0.020509214963184023, 0.05298213865489206, 0.049563936161028055, 0.5759671202160846, 0.019893491528468425, 0.9747810848949527, 0.9771180986307973, 0.026180222004669622, 0.03490696267289283, 0.017453481336446416, 0.9163077701634368, 0.04198668100458892, 0.9237069821009561, 0.10390314658399925, 0.08312251726719941, 0.031170943975199778, 0.006926876438933284, 0.1974159785095986, 0.5645404297730626, 0.003463438219466642, 0.003463438219466642, 0.006926876438933284, 0.06938205143561142, 0.9019666686629485, 0.006222186377522138, 0.98932763402602, 0.9741121238338325, 0.010920342994394745, 0.9719105265011323, 0.01031401857899788, 0.9695177464258007, 0.1351198823765182, 0.0773327628695796, 0.03739166556331321, 0.05438787718300104, 0.029743370334453692, 0.03569204440134443, 0.41895661642530485, 0.04673958195414152, 0.11982329191879916, 0.045039960792172734, 0.9201956579574492, 0.032864130641337475, 0.9062426562279422, 0.001422672929714195, 0.024185439805141314, 0.01138138343771356, 0.001422672929714195, 0.009958710507999366, 0.00284534585942839, 0.01991742101599873, 0.018494748086284533, 0.004268018789142585, 0.9853680433742055, 0.9706361582046028, 0.9587231787683099, 0.9789742677089447, 0.9441548198483151, 0.030955895732731643, 0.9846575161461536, 0.007033267972472525, 0.00612730058402557, 0.003063650292012785, 0.003063650292012785, 0.8884585846837076, 0.09497315905239632, 0.009093731376730033, 0.007794626894340029, 0.08704000032013033, 0.44039641953021164, 0.06235701515472023, 0.0064955224119500245, 0.16888358271070064, 0.12081671686227045, 0.049365970330820186, 0.046767761366040175, 0.071693654418883, 0.005338889158852989, 0.06788016216255943, 0.21660636015917842, 0.005338889158852989, 0.4660087537227395, 0.1319468320687953, 0.0030507938050588507, 0.01144047676897069, 0.019830159732882532, 0.05346049203015404, 0.05346049203015404, 0.8019073804523106, 0.05346049203015404, 0.1571056128745388, 0.0074812196606923245, 0.022443658982076974, 0.7930092840333863, 0.0074812196606923245, 0.0662276530966905, 0.8609594902569765, 0.061118883978320854, 0.12223776795664171, 0.794545491718171, 0.12194908831905042, 0.10401539886036654, 0.30487272079762606, 0.09684192307689297, 0.08189718186132308, 0.07352812678060393, 0.05021433048431488, 0.11358003323833127, 0.032280641025630996, 0.020922637701797867, 0.8402453268748787, 0.0500808472971782, 0.002782269294287678, 0.002782269294287678, 0.005564538588575356, 0.008346807882863034, 0.06955673235719194, 0.022258154354301424, 0.10133313374514136, 0.8444427812095113, 0.02912371230436833, 0.0026476102094880297, 0.021180881675904237, 0.619540789020199, 0.0026476102094880297, 0.04500937356129651, 0.005295220418976059, 0.02382849188539227, 0.2118088167590424, 0.037066542932832416, 0.05753358004617905, 0.7307988784589126, 0.004896474897547153, 0.011017068519481095, 0.1456701282020278, 0.02203413703896219, 0.018361780865801824, 0.0012241187243867884, 0.008568831070707519, 0.9482533874850319, 0.05038292034150734, 0.9068925661471322, 0.05038292034150734, 0.12124044387777087, 0.10109062362766247, 0.1994490682383611, 0.15983247249238527, 0.08264841526315649, 0.073085788703783, 0.06898752017833723, 0.11304390682687931, 0.05840032648760231, 0.022198954512831288, 0.7969766684010703, 0.06563337269185285, 0.025003189596896323, 0.025003189596896323, 0.012501594798448161, 0.03437938569573245, 0.031253986996120406, 0.0031253986996120403, 0.013295239643501502, 0.13960001625676577, 0.006647619821750751, 0.016619049554376878, 0.6498048375761359, 0.0016619049554376878, 0.0016619049554376878, 0.006647619821750751, 0.013295239643501502, 0.1512333509448296, 0.9537249020163221, 0.02014620325530922, 0.9737331573399457, 0.06916381380991994, 0.1321797330589581, 0.09682933933388792, 0.02459157824352709, 0.44572235566392854, 0.15216039038182388, 0.041498288285951965, 0.0061478945608817726, 0.015369736402204431, 0.016906710042424875, 0.02751626914319454, 0.03668835885759272, 0.05961858314358817, 0.6879067285798635, 0.00458604485719909, 0.01375813457159727, 0.05503253828638908, 0.00458604485719909, 0.05961858314358817, 0.05044649342918999, 0.014919490527253904, 0.9548473937442499, 0.014919490527253904, 0.006236536088651325, 0.006236536088651325, 0.9230073411203961, 0.062365360886513246, 0.9542369869744834, 0.006355588122210701, 0.009533382183316052, 0.0031777940611053507, 0.07626705746652841, 0.0031777940611053507, 0.8738933668039713, 0.012711176244421403, 0.012711176244421403, 0.0031777940611053507, 0.010342482787142861, 0.01551372418071429, 0.005171241393571431, 0.02585620696785715, 0.005171241393571431, 0.8997960024814289, 0.010342482787142861, 0.020684965574285723, 0.009651619720363394, 0.3040260211914469, 0.03378066902127188, 0.03217206573454465, 0.5131444484659871, 0.06756133804254376, 0.011260223007090625, 0.004825809860181697, 0.008043016433636162, 0.01447742958054509, 0.05606137553413018, 0.008008767933447168, 0.808885561278164, 0.016017535866894337, 0.008008767933447168, 0.032035071733788674, 0.04004383966723585, 0.024026303800341507, 0.045170518785383466, 0.009034103757076693, 0.9214785832218226, 0.018068207514153386, 0.9604677588186734, 0.9606392261904334, 0.0313251921583837, 0.9569619227838589, 0.20607977092759378, 0.20446977271722194, 0.031049965485742365, 0.047379947333799466, 0.11269987472602785, 0.16375981796924863, 0.1557098269173895, 0.020009977757478415, 0.018169979802767754, 0.04070995474797332, 0.9112777699193856, 0.01656868672580701, 0.0027614477876345017, 0.0027614477876345017, 0.013807238938172508, 0.005522895575269003, 0.04418316460215203, 0.9326002334132288, 0.017707599368605612, 0.035415198737211225, 0.9653434054349039, 0.012066792567936298, 0.10165632082111761, 0.11798799203500208, 0.22164410933128922, 0.15131793328782753, 0.0593272954300293, 0.1303200702985475, 0.052328007766935955, 0.07799206253161155, 0.05666090012980326, 0.030330246540071156, 0.9630883949251845, 0.02293067606964725, 0.9655271442284055, 0.1416291712533436, 0.12432214421627512, 0.04932502705564512, 0.2027806667843188, 0.20508827038926128, 0.10961117123476692, 0.1047075135742642, 0.016730126135832846, 0.023364486500042424, 0.022499135148189, 0.0018247211471049195, 0.0018247211471049195, 0.003649442294209839, 0.0018247211471049195, 0.005474163441314758, 0.2153170953583805, 0.7663828817840662, 0.0018247211471049195, 0.9722437544881064, 0.02482480815365519, 0.9557551139157248, 0.9592458465477038, 0.02163665427653427, 0.9520127881675078, 0.9234316623297065, 0.10303156429495194, 0.053076866454975245, 0.08585963691245996, 0.08117638398996214, 0.11786186521619503, 0.29036168119486455, 0.053076866454975245, 0.1194229495236943, 0.06634608306871906, 0.02888005968873653, 0.008740047996840881, 0.026220143990522644, 0.026220143990522644, 0.9351851356619744, 0.9435354070249081, 0.03276164607725376, 0.006552329215450751, 0.9733575621439634, 0.17658100594794277, 0.006791577151843952, 0.003395788575921976, 0.020374731455531855, 0.05433261721475162, 0.003395788575921976, 0.006791577151843952, 0.7233029666713809, 0.010187365727765928, 0.05044611742750619, 0.005044611742750619, 0.035312282199254336, 0.005044611742750619, 0.020178446971002476, 0.005044611742750619, 0.005044611742750619, 0.025223058713753094, 0.8424501610393533, 0.010089223485501238, 0.8959257233321452, 0.05681480196740433, 0.004370369382108025, 0.02622221629264815, 0.013111108146324074, 0.10718154429149163, 0.005050439259808506, 0.03535307481865954, 0.5269291627733541, 0.002805799588782503, 0.0813681880746926, 0.10942618396251763, 0.023568716545773027, 0.033108435147633536, 0.0757565888971276, 0.009850315745564053, 0.03447610510947419, 0.9505554694469311, 0.010492317824408126, 0.006295390694644876, 0.0020984635648816255, 0.004196927129763251, 0.0020984635648816255, 0.0020984635648816255, 0.0020984635648816255, 0.7512499562276218, 0.21824021074768904, 0.004196927129763251, 0.010696759237526722, 0.18986747646609933, 0.0561579859970153, 0.006685474523454202, 0.4265332745963781, 0.08423697899552295, 0.009359664332835882, 0.009359664332835882, 0.005348379618763361, 0.20056423570362605, 0.009509483201685737, 0.06656638241180016, 0.8178155553449733, 0.05705689921011442, 0.009509483201685737, 0.009509483201685737, 0.02852844960505721, 0.029216688982163164, 0.8911090139559765, 0.05843337796432633, 0.014608344491081582, 0.01454488034376022, 0.00727244017188011, 0.02181732051564033, 0.00727244017188011, 0.02181732051564033, 0.9163274616568938, 0.01454488034376022, 0.00727244017188011, 0.009352511092497549, 0.018705022184995097, 0.9633086425272476, 0.012259018786137, 0.008172679190757998, 0.008172679190757998, 0.9643761445094439, 0.004086339595378999, 0.6898000112231126, 0.1092752493026713, 0.010244554622125434, 0.010244554622125434, 0.05463762465133565, 0.05634505042168989, 0.03756336694779326, 0.001707425770354239, 0.020489109244250868, 0.010244554622125434, 0.0747354503767277, 0.03652665098798267, 0.1254402093139931, 0.15547857361332096, 0.0050464452022870795, 0.3095153057402742, 0.24871765639843463, 0.008170435089417175, 0.017782711665202088, 0.01874393932278058, 0.18167985024387245, 0.009562097381256443, 0.009562097381256443, 0.009562097381256443, 0.086058876431308, 0.019124194762512887, 0.057372584287538664, 0.6215363297816688, 0.9605808643915857, 0.010322932796893152, 0.0029494093705409005, 0.08553287174568612, 0.48222843208343724, 0.007373523426352252, 0.004424114055811351, 0.04424114055811351, 0.30378916516571275, 0.045715845243383964, 0.011797637482163602, 0.9824328746366771, 0.0021020283217582287, 0.9333005748606535, 0.008408113287032915, 0.025224339861098746, 0.0021020283217582287, 0.008408113287032915, 0.0021020283217582287, 0.01681622657406583, 0.010348600849115165, 0.22835912540380798, 0.05381272441539886, 0.019317388251681642, 0.5767620206573518, 0.029665989100796805, 0.027596268930973774, 0.006209160509469099, 0.005519253786194754, 0.04277421684300935, 0.04587878120766671, 0.05677086595481061, 0.09142749924117755, 0.07030345609520151, 0.5545061325818711, 0.0257449275841583, 0.06799301387611038, 0.013202526966235025, 0.02805536980324943, 0.046208844381822586, 0.0351037252416558, 0.0070207450483311595, 0.9548213265730378, 0.015679861180378986, 0.9251118096423601, 0.04703958354113696, 0.010102917044400528, 0.0033676390148001762, 0.0033676390148001762, 0.6600572469008346, 0.05388222423680282, 0.0033676390148001762, 0.22226417497681164, 0.03704402916280194, 0.018392443569170074, 0.01664078227686816, 0.015764951630717203, 0.04817068553830257, 0.011385798399962425, 0.026274919384528674, 0.024523258092226764, 0.38186216172181675, 0.43966698436777985, 0.017516612923019117, 0.08797672137955424, 0.09180179622214356, 0.1166647826989741, 0.16065314338875122, 0.43510226334453456, 0.04685716682171911, 0.03729447971524582, 0.002868806131941986, 0.005737612263883972, 0.015300299370357259, 0.02055780713824213, 0.945659128359138, 0.18814655543791284, 0.2150246347861861, 0.1569205514891836, 0.05296562695100908, 0.08656322613635066, 0.09486380946449387, 0.042688714259022244, 0.1098839126297054, 0.035969194421953926, 0.016996432529055153, 0.9822893348759558, 0.0515679010226231, 0.9282222184072157, 0.9683196761058163, 0.1517568528501581, 0.16983618911028525, 0.007670021443690302, 0.17641049320487695, 0.1128588869571573, 0.007122162769140994, 0.2257177739143146, 0.02629721637836675, 0.07505663841325509, 0.04711584601124043, 0.012130587263944333, 0.004548970223979125, 0.006065293631972167, 0.0181958808959165, 0.0015163234079930417, 0.8946308107158946, 0.0015163234079930417, 0.028810144751867793, 0.03032646815986083, 0.9470261877287999, 0.049292314765865035, 0.01643077158862168, 0.049292314765865035, 0.04381539090299114, 0.24098464996645128, 0.005476923862873893, 0.01643077158862168, 0.5750770056017588, 0.9205442058884131, 0.1973493756968161, 0.2267557396251496, 0.08821909178500056, 0.040188697368722485, 0.09508057670161173, 0.1453981327567602, 0.07384264719781529, 0.0715554855589449, 0.03528763671400023, 0.02646572753550017, 0.17450369092878987, 0.03490073818575798, 0.7678162400866755, 0.9608227530900212, 0.02315235549614509, 0.007872314758102272, 0.6652105970596419, 0.31489259032409084, 0.003936157379051136, 0.09141101853696693, 0.07225823370065004, 0.37347930430817916, 0.02698801499662833, 0.02698801499662833, 0.20023365965240375, 0.0322115017701693, 0.13929298062775913, 0.0313409206412458, 0.005223486773540968, 0.03434564620948502, 0.9273324476560955, 0.9418958360156566, 0.023921164089286517, 0.0029901455111608147, 0.023921164089286517, 0.0029901455111608147, 0.1527484314919454, 0.28281145236627514, 0.14384230732354814, 0.06083050847093975, 0.13359186252595884, 0.04150589942630419, 0.037809017696026084, 0.054444985482277566, 0.04805946249361538, 0.04419454068468827, 0.9758060538747451, 0.9470516943181668, 0.11207854021015193, 0.012736197751153628, 0.012736197751153628, 0.0050944791004614515, 0.0025472395502307258, 0.0025472395502307258, 0.015283437301384354, 0.25472395502307255, 0.5603927010507597, 0.020377916401845806, 0.9777209925980337, 0.0068372097384477885, 0.0068372097384477885, 0.01641758269470455, 0.01641758269470455, 0.8537143001246367, 0.0328351653894091, 0.0328351653894091, 0.04925274808411365, 0.16370808373226448, 0.1451048923990526, 0.022323829599854246, 0.665994249728985, 0.9847683666057937, 0.020156298003591117, 0.020156298003591117, 0.9473460061687825, 0.035750813931696955, 0.56168500999355, 0.09056872862696562, 0.017478175699940732, 0.027806188613542077, 0.14856449344949624, 0.016683713168125246, 0.04925667697256025, 0.01588925063630976, 0.035750813931696955, 0.8969308791874248, 0.03800554572828071, 0.0025337030485520474, 0.0025337030485520474, 0.005067406097104095, 0.0025337030485520474, 0.02280332743696843, 0.02787073353407252, 0.9662171441852314, 0.004001156795363691, 0.03601041115827322, 0.004001156795363691, 0.09602776308872858, 0.8202371430495566, 0.03200925436290953, 0.004001156795363691, 0.004001156795363691, 0.9357253986459985, 0.041898152178179035, 0.05731942696910241, 0.033068900174482156, 0.08818373379861909, 0.13007100735296315, 0.679014750249367, 0.002204593344965477, 0.002204593344965477, 0.008818373379861908, 0.010113903031553044, 0.040455612126212175, 0.9304790789028801, 0.010113903031553044, 0.04181478336655056, 0.01045369584163764, 0.03136108752491292, 0.8676567548559242, 0.04181478336655056, 0.05915185569387962, 0.01848495490433738, 0.06100035118431336, 0.6580643945944108, 0.014787963923469904, 0.02957592784693981, 0.09797026099298811, 0.005545486471301214, 0.03696990980867476, 0.020333450394771118, 0.0707270036203114, 0.10741871207122411, 0.060433402154444475, 0.033869269339304044, 0.19026560128844333, 0.3161131805001711, 0.12468539840106539, 0.05611673057198416, 0.03054875273741149, 0.009629498145488405, 0.02454130079774348, 0.01227065039887174, 0.9571107311119957, 0.01227065039887174, 0.041257885584580004, 0.08251577116916001, 0.027505257056386668, 0.8389103402197934, 0.10596458088058348, 0.8803211334694628, 0.17073707345998565, 0.02626724207076702, 0.02626724207076702, 0.01313362103538351, 0.01313362103538351, 0.7354827779814767, 0.5786492161466806, 0.34430183686270827, 0.0011106510866538976, 0.004442604346615591, 0.01999171955977016, 0.0022213021733077953, 0.044426043466155904, 0.0011106510866538976, 0.0011106510866538976, 0.0033319532599616927, 0.9585666031856497, 0.014523736411903783, 0.9126044451531122, 0.03861018806417013, 0.011232054709576765, 0.0028080136773941913, 0.003510017096742739, 0.005616027354788383, 0.01895409232241079, 0.0014040068386970957, 0.0014040068386970957, 0.004212020516091287, 0.9397375022077934, 0.02334751558280232, 0.01167375779140116, 0.00583687889570058, 0.01751063668710174, 0.9791204799437304, 0.009236985659846514, 0.025003913612261463, 0.9501487172659355, 0.003788614511860369, 0.015154458047441475, 0.003788614511860369, 0.9698853150362544, 0.18801282846680148, 0.06810371805144202, 0.06053663826794846, 0.1536699279109461, 0.07450663171439811, 0.2648477924222745, 0.1437745158863776, 0.013969993446449645, 0.007567079783493557, 0.02561165465182435, 0.9741726064926043, 0.02530461384169132, 0.02530461384169132, 0.936270712142579, 0.9433700574070997, 0.023584251435177492, 0.9857825052190029, 0.006571883368126686, 0.06485636768879537, 0.8431327799543398, 0.014642205279808845, 0.9224589326279572, 0.02928441055961769, 0.014642205279808845, 0.9630988984390636, 0.9244783365012936, 0.05324220786133105, 0.009680401429332918, 0.004840200714666459, 0.9481993363248828, 0.012476307056906354, 0.024952614113812707, 0.18053616903271735, 0.013129903202379443, 0.7516869583362231, 0.03938970960713833, 0.009847427401784582, 0.13886029249558635, 0.02692189344302184, 0.041091311044612285, 0.063762379207157, 0.04534213632508942, 0.11335534081272354, 0.07864026768882695, 0.2649681091497413, 0.17003301121908532, 0.057386141286441296, 0.01863524329473178, 0.026621776135331114, 0.029283953748864226, 0.005324355227066223, 0.5617194764554866, 0.23959598521798003, 0.007986532840599334, 0.08785186124659268, 0.005324355227066223, 0.01597306568119867, 0.9735334744347509, 0.5897716458189638, 0.10314081599416151, 0.05018596751393765, 0.010383303623573306, 0.03772600316564968, 0.11283189937616327, 0.07233701524422737, 0.002422770845500438, 0.0044994315702151, 0.016959395918503067, 0.056485556304470955, 0.008847135324796656, 0.0006805488711382042, 0.5893553224056849, 0.0013610977422764084, 0.010208233067073063, 0.3123719318524357, 0.0013610977422764084, 0.006805488711382043, 0.012249879680487677, 0.04523341549036496, 0.015077805163454989, 0.9348239201342093, 0.5299267652578777, 0.08096103358106464, 0.015852510071816855, 0.027175731551686035, 0.06567468458324126, 0.013587865775843018, 0.19023012086180224, 0.01302170470184956, 0.03906511410554868, 0.02434492618171874, 0.009688196366725564, 0.01937639273345113, 0.9591314403058309, 0.009688196366725564, 0.9101300861269714, 0.07745787967038055, 0.06396850679982673, 0.13935996124247965, 0.4763369167058526, 0.07653374920693555, 0.12222553977824036, 0.041122611514174325, 0.020561305757087162, 0.015992126699956682, 0.013707537171391442, 0.029699663871348123, 0.9295507722167566, 0.005435969428168167, 0.016307908284504503, 0.005435969428168167, 0.032615816569009005, 0.016307908284504503, 0.90281962835966, 0.047516822545245266, 0.08478113385447539, 0.03499408902060898, 0.02322334998640414, 0.004612857189080274, 0.52809261612919, 0.27868019983684966, 0.007316945886127331, 0.006998817804121795, 0.002545024656044289, 0.028790591421501022, 0.10160680159182736, 0.8128544127346189, 0.05080340079591368, 0.037103643192413265, 0.018551821596206632, 0.8904874366179183, 0.018551821596206632, 0.018551821596206632, 0.9718560692277513, 0.05669200991725576, 0.08163649428084829, 0.013606082380141382, 0.006803041190070691, 0.0597155837795094, 0.10582508517887741, 0.01738554970795843, 0.31369578820881516, 0.3197429359333225, 0.024944484363592534, 0.0077759307342645766, 0.0025919769114215257, 0.015551861468529153, 0.0025919769114215257, 0.9512555264916999, 0.018143838379950677, 0.003640099285858643, 0.05460148928787965, 0.003640099285858643, 0.8845441264636502, 0.01092029785757593, 0.01092029785757593, 0.014560397143434572, 0.018200496429293216, 0.9627595769802849, 0.0017423047830670705, 0.003484609566134141, 0.0017423047830670705, 0.012196133481469492, 0.0017423047830670705, 0.013938438264536564, 0.9077407919779437, 0.05226914349201211, 0.006969219132268282, 0.05090610352759537, 0.9163098634967166, 0.3363550880813575, 0.16850410237862182, 0.09078321794817222, 0.08686451789285543, 0.052902450746776616, 0.08947698459639995, 0.07249595102336054, 0.054861800774435004, 0.028084017063103636, 0.019593500276583933, 0.18264910525141081, 0.1422400111692403, 0.02424545644930232, 0.011314546343007749, 0.12769273729965888, 0.021012728922728676, 0.03394363902902325, 0.004849091289860464, 0.44934912619373635, 0.0032327275265736427, 0.8706326943192176, 0.04582277338522198, 0.04582277338522198, 0.365230523957884, 0.25819266743161307, 0.00433937256187585, 0.02242009156969189, 0.03796950991641368, 0.02820592165219302, 0.23758064776270277, 0.001808071900781604, 0.01337973206578387, 0.03109883669344359, 0.12891637154449265, 0.8379564150392023, 0.9798495865548038, 0.008199578130165723, 0.004099789065082861, 0.004099789065082861, 0.006177129700525918, 0.030885648502629585, 0.012354259401051835, 0.9203923253783617, 0.006177129700525918, 0.018531389101577752, 0.9492106893981356, 0.021093570875514125, 0.01636364324491311, 0.9654549514498735, 0.07256460237888013, 0.9143139899738896, 0.014512920475776025, 0.9136809732761101, 0.8712199106679457, 0.09012619765530473, 0.015021032942550788, 0.8732803426237928, 0.06986717493817704, 0.05439842771939246, 0.07012498739182345, 0.14411716158834306, 0.2557499540172385, 0.05594530244127092, 0.12246091548204464, 0.09951560710751417, 0.09203904595176829, 0.036093743510497364, 0.010427967795434272, 0.010427967795434272, 0.0017379946325723787, 0.006951978530289515, 0.02954590875373044, 0.0017379946325723787, 0.899412222356206, 0.0008689973162861893, 0.02520092217229949, 0.01477295437686522, 0.02009665815039605, 0.023073940839343613, 0.002232962016710672, 0.004465924033421344, 0.050613805712108564, 0.00967616873907958, 0.8113095327382108, 0.018608016805922268, 0.03498307159513386, 0.025306902856054282, 0.2734101989875465, 0.07361043818895481, 0.06426308095861134, 0.04323152719033854, 0.028042071691030405, 0.3727258695599458, 0.08529463472688416, 0.03622100926758094, 0.011684196537929336, 0.011684196537929336, 0.1951512050688837, 0.16035772156964065, 0.10154016613044403, 0.13941062436091267, 0.07053372845424784, 0.06556323081149883, 0.1371620659034786, 0.04390606251094958, 0.047574763152026224, 0.03881721968623035, 0.0032099157708972417, 0.0016049578854486208, 0.004814873656345863, 0.011234705198140345, 0.006419831541794483, 0.0016049578854486208, 0.0016049578854486208, 0.39642459770580935, 0.5296361021980449, 0.04654377867801, 0.10858599081930452, 0.027490124258051776, 0.038486173961272484, 0.17662404835798265, 0.07834685413544756, 0.018555833874184947, 0.04123518638707766, 0.47214288413203925, 0.035049908429016015, 0.003436265532256472, 0.9715723472379082, 0.04125916738501882, 0.07662416800074924, 0.08251833477003764, 0.7957125138539344, 0.9524442325766652, 0.012275975007950397, 0.03682792502385119, 0.9329741006042301, 0.049725342642096874, 0.9447815101998407, 0.9925249002651776, 0.14386206311828148, 0.06037068720142169, 0.0655086180270746, 0.03468103307315714, 0.06936206614631428, 0.3789223983919021, 0.03468103307315714, 0.1271637879349095, 0.053948273669355555, 0.03211206766033069, 0.013793684025589401, 0.027587368051178802, 0.9379705137400792, 0.17679685993223104, 0.11693283753093542, 0.1604914841809054, 0.05310893816146071, 0.058932286644077014, 0.14348730661166578, 0.06056282421920958, 0.1278807326782541, 0.07127778542722359, 0.03028141210960479, 0.974939716495833, 0.05196200189441059, 0.05196200189441059, 0.8313920303105694, 0.9438147435105504, 0.8627928767344676, 0.034910694434342616, 0.004987242062048945, 0.01994896824819578, 0.03989793649639156, 0.01994896824819578, 0.004987242062048945, 0.14171255606891897, 0.14480821870149244, 0.039555689193994374, 0.20809732141188342, 0.16613389461477635, 0.05881759001889598, 0.1967465584257807, 0.00825510035352926, 0.017886050765980065, 0.018230013280710448, 0.16241917987370746, 0.10368647538067009, 0.08336254831269821, 0.10850910214256172, 0.14622893288735697, 0.08267360163242797, 0.1367559160336413, 0.056149154442024, 0.0738895314589825, 0.04633166424817318, 0.1808392239080367, 0.012055948260535779, 0.012055948260535779, 0.1205594826053578, 0.6510212060689321, 0.006589134193359965, 0.006589134193359965, 0.0032945670966799826, 0.9488353238438351, 0.006589134193359965, 0.02635653677343986, 0.0181162912224671, 0.9360083798274669, 0.012077527481644734, 0.030193818704111832, 0.17069038748151152, 0.7851757824149531, 0.9608268344793737, 0.08715658390388091, 0.0017970429670903282, 0.010782257802541969, 0.00449260741772582, 0.0017970429670903282, 0.007188171868361313, 0.014376343736722625, 0.34952485709906883, 0.48969420853211443, 0.03234677340762591, 0.07670785280124173, 0.8437863808136591, 0.015341570560248347, 0.015341570560248347, 0.04602471168074504, 0.041806148555129055, 0.041806148555129055, 0.12541844566538715, 0.7943168225474521, 0.9733575625089188, 0.022557816252281877, 0.005639454063070469, 0.016918362189211406, 0.9361493744696978, 0.011278908126140939, 0.005639454063070469, 0.007845302768560129, 0.0549171193799209, 0.002615100922853376, 0.005230201845706752, 0.06276242214848103, 0.010460403691413505, 0.834217194390227, 0.01307550461426688, 0.007845302768560129, 0.002615100922853376, 0.002911452037967243, 0.6550767085426298, 0.04221605455052503, 0.004367178056950865, 0.037848876493574164, 0.06259621881629573, 0.002911452037967243, 0.16595276616413288, 0.002911452037967243, 0.02474734232272157, 0.010476935042746029, 0.6731430764964323, 0.0707193115385357, 0.005238467521373014, 0.09953088290608728, 0.013096168803432536, 0.04714620769235713, 0.013096168803432536, 0.06286161025647617, 0.06670430516184402, 0.00230014845385669, 0.01840118763085352, 0.05060326598484719, 0.00230014845385669, 0.7544486928649944, 0.013800890723140143, 0.08510549279269754, 0.00920059381542676, 0.1640842808319246, 0.3033884865994361, 0.0636245170572769, 0.11485899658234723, 0.1470061209902345, 0.028128733856901365, 0.0870651286046947, 0.01741302572093894, 0.025784672702159582, 0.048555552491079734, 0.01698384349430028, 0.19106823931087813, 0.06368941310362605, 0.01273788262072521, 0.00849192174715014, 0.6963375832663115, 0.00424596087357507, 0.00424596087357507, 0.011675593511070967, 0.9457230743967483, 0.0350267805332129, 0.13705296307371434, 0.117473968348898, 0.13052663149877555, 0.0704843810093388, 0.007831597889926534, 0.4620642755056655, 0.04176852207960818, 0.002610532629975511, 0.002610532629975511, 0.02741059261474287, 0.09967331746676228, 0.033224439155587426, 0.7973865397340982, 0.033224439155587426, 0.05053856820547317, 0.025269284102736586, 0.8844249435957805, 0.09219821194050636, 0.8297839074645572, 0.04609910597025318, 0.9147827062163612, 0.0820958838912119, 0.029746573540715433, 0.028409648887200132, 0.05414544846736966, 0.009024241411228278, 0.011363859554880054, 0.025401568416790705, 0.011363859554880054, 0.5304248562821954, 0.2570237646383165, 0.043115820075868436, 0.037012187294375824, 0.7772559331818923, 0.18506093647187913, 0.9659362044435773, 0.9603310912749036, 0.16860927890913444, 0.2719338675089394, 0.01644968574723263, 0.04061016168848055, 0.055003636717309096, 0.12491480114304776, 0.27861655234375265, 0.001542158038803059, 0.019534001824838745, 0.022618317902444864, 0.07707572800653463, 0.008563969778503848, 0.8135771289578655, 0.02569190933551154, 0.05994778844952693, 0.008563969778503848, 0.8823448238381157, 0.03529379295352463, 0.07058758590704926, 0.006701743448662424, 0.003350871724331212, 0.01675435862165606, 0.030157845518980906, 0.713735677282548, 0.21110491863286635, 0.01675435862165606, 0.23473198535972262, 0.00900152156246724, 0.07962884459105635, 0.3413653946381807, 0.04085305939888978, 0.05054700569693142, 0.18972437754738644, 0.007616672091318433, 0.02977426362969933, 0.01592576891821127, 0.9669862264298122, 0.24273954353464794, 0.06346721646321031, 0.036997476895615486, 0.004812679921380876, 0.02827449453811265, 0.5988778577168328, 0.01714517221991937, 0.00571505740663979, 0.0009023774852589143, 0.0009023774852589143, 0.1297370322316917, 0.09544348549528912, 0.11692859911327629, 0.04999420668800859, 0.1322160838029979, 0.2425338787261243, 0.03594624778394006, 0.10907826913747327, 0.04958103142612422, 0.038425299355246266, 0.006944265865050935, 0.0034721329325254676, 0.0972197221107131, 0.006944265865050935, 0.17707877955879886, 0.6215117949220587, 0.05555412692040748, 0.024304930527678275, 0.0034721329325254676, 0.16964803909775963, 0.12448992797101785, 0.08238304056905593, 0.056142516535949226, 0.11167478832694248, 0.05126055857630147, 0.03783517418727013, 0.06956790092498057, 0.2758306247200984, 0.021358566073458946, 0.9666540206074216, 0.9708156805444603, 0.011839215616395858, 0.7530202703254183, 0.08636248573148661, 0.053029596501790024, 0.016666444614848293, 0.007575656643112861, 0.033332889229696586, 0.009090787971735433, 0.016666444614848293, 0.010605919300358004, 0.012121050628980577, 0.9851005588963023, 0.9423852293854934, 0.00446628070798812, 0.00223314035399406, 0.01339884212396436, 0.031263964955916844, 0.00223314035399406, 0.0256233056960253, 0.9736856164489613, 0.9840824023482939, 0.9430090632663906, 0.01954422929049514, 0.01954422929049514, 0.014658171967871355, 0.009458209782584664, 0.009458209782584664, 0.45313423231110167, 0.012897558794433633, 0.07050665474290387, 0.4316383009870456, 0.0008598372529622422, 0.008598372529622422, 0.0008598372529622422, 0.0025795117588867265, 0.05306106508290466, 0.008843510847150777, 0.831290019632173, 0.017687021694301554, 0.02653053254145233, 0.05306106508290466, 0.013332093935273187, 0.011110078279394323, 0.002222015655878864, 0.04444031311757729, 0.028886203526425236, 0.008888062623515457, 0.01999814090290978, 0.6643826811077804, 0.19553737771734006, 0.008888062623515457, 0.9529495423774701, 0.004061614352304661, 0.04873937222765593, 0.004061614352304661, 0.10154035880761653, 0.8366925565747602, 0.004061614352304661, 0.03765558061787581, 0.015062232247150323, 0.030124464494300646, 0.0010758737319393088, 0.03873145434981512, 0.8381056371807216, 0.0021517474638786177, 0.03442795942205788, 0.0021517474638786177, 0.015806877263503293, 0.005268959087834432, 0.010537918175668863, 0.0017563196959448104, 0.9097736024994119, 0.05444591057428912, 0.03896945727213684, 0.9482567936219963, 0.023825487285505948, 0.953019491420238, 0.9725624339358854, 0.09081716624295672, 0.01135214578036959, 0.031218400896016373, 0.7350514392789309, 0.005676072890184795, 0.025542328005831578, 0.06811287468221754, 0.008514109335277192, 0.02270429156073918, 0.020968572060413422, 0.9016485985977771, 0.020968572060413422, 0.041937144120826844, 0.15979173012020265, 0.02928120709008949, 0.13385694669755197, 0.03513744850810739, 0.009202665085456698, 0.019241936087773095, 0.004183029584298499, 0.3087075833212292, 0.27607995256370094, 0.02509817750579099, 0.9676113088536794, 0.021825818996699536, 0.040975082872139364, 0.005853583267448481, 0.040975082872139364, 0.9014518231870661, 0.005853583267448481, 0.9779327496610705, 0.0045717711785089035, 0.0045717711785089035, 0.1234378218197404, 0.027430627071053423, 0.027430627071053423, 0.009143542357017807, 0.06400479649912465, 0.7360551597399335, 0.007359563385456545, 0.01471912677091309, 0.9641028034948073, 0.007359563385456545, 0.0012967660799655257, 0.0012967660799655257, 0.45905519230779607, 0.2904756019122777, 0.0012967660799655257, 0.19970197631469094, 0.010374128639724206, 0.019451491199482883, 0.005187064319862103, 0.01167089471968973, 0.0407514653635829, 0.0815029307271658, 0.010187866340895725, 0.030563599022687175, 0.030563599022687175, 0.010187866340895725, 0.7946535745898665, 0.002007051173391925, 0.002007051173391925, 0.002007051173391925, 0.00401410234678385, 0.006021153520175775, 0.01204230704035155, 0.33919164830323534, 0.6241929149248887, 0.0080282046935677, 0.09282792084061904, 0.007328520066364661, 0.041528280376066415, 0.6180385255967531, 0.004885680044243107, 0.017099880154850877, 0.1636702814821441, 0.007328520066364661, 0.03419976030970175, 0.017099880154850877, 0.976629913085488, 0.015714529414693392, 0.9743008237109904, 0.9672141533415892, 0.005502014490748874, 0.0013755036226872186, 0.0013755036226872186, 0.005502014490748874, 0.0013755036226872186, 0.0041265108680616554, 0.005502014490748874, 0.4965568077900859, 0.4745487498270904, 0.0041265108680616554, 0.03577131968243949, 0.9479399715846464, 0.017885659841219745, 0.9683543025122262, 0.9813513123287517, 0.005639950070854894, 0.005639950070854894, 0.005639950070854894, 0.002203796907962439, 0.9939124054910599, 0.06034622106655005, 0.8951356124871591, 0.030173110533275024, 0.010057703511091675, 0.014915348448763553, 0.07670750630792685, 0.013849966416709013, 0.007457674224381776, 0.027699932833418026, 0.837390277194868, 0.0031961460961636183, 0.015980730480818092, 0.0010653820320545395, 0.03039850223942132, 0.01759913287545445, 0.001599921170495859, 0.036798186921404755, 0.014399290534462731, 0.01759913287545445, 0.8767568014317307, 0.004799763511487577, 0.03998782390039123, 0.9463784989759259, 0.9383786983220351, 0.044687666599735186, 0.9384409985944389, 0.008937533319947037, 0.15075490676802328, 0.015075490676802326, 0.030150981353604653, 0.7688500245169186, 0.015075490676802326, 0.006749603129577561, 0.014624140114084716, 0.0033748015647887806, 0.002249867709859187, 0.014624140114084716, 0.004499735419718374, 0.9303202980267739, 0.004499735419718374, 0.016874007823943903, 0.002249867709859187, 0.0028487663952256634, 0.011395065580902653, 0.0028487663952256634, 0.9657318079814998, 0.014243831976128316, 0.0028487663952256634, 0.03277115573700546, 0.01191678390436562, 0.05958391952182811, 0.014895979880457027, 0.00595839195218281, 0.01191678390436562, 0.8460916572099592, 0.008937587928274216, 0.002979195976091405, 0.002979195976091405, 0.026525914402935263, 0.0215523054523849, 0.00828934825091727, 0.011605087551284178, 0.01657869650183454, 0.06631478600733816, 0.8206454768408097, 0.006631478600733816, 0.018236566152017995, 0.003315739300366908, 0.024263789721182382, 0.008087929907060795, 0.07279136916354716, 0.008087929907060795, 0.8815843598696266, 0.945902029757879, 0.9300274069904663, 0.022143509690249197, 0.022143509690249197, 0.022143509690249197, 0.007765884399299868, 0.015531768798599736, 0.007765884399299868, 0.007765884399299868, 0.007765884399299868, 0.9474378967145839, 0.007765884399299868, 0.021452445037031937, 0.00630954265795057, 0.7596689360172486, 0.11104795077993003, 0.015142902379081368, 0.06561924364268593, 0.001261908531590114, 0.017666719442261596, 0.001261908531590114, 0.002523817063180228, 0.007629822718377325, 0.0038149113591886626, 0.7095735128090912, 0.1525964543675465, 0.08011313854296191, 0.0305192908735093, 0.007629822718377325, 0.0038149113591886626, 0.897753585230116, 0.07254574426101948, 0.009068218032627435, 0.009068218032627435, 0.009068218032627435, 0.03341881397113333, 0.22535119150804772, 0.03928968669579189, 0.022580279710225224, 0.5229592780888161, 0.08896630205828739, 0.004967661536249549, 0.00406445034784054, 0.0031612391594315315, 0.05554748808715405, 0.012123525952839474, 0.008082350635226315, 0.5031263270428381, 0.2283264054451434, 0.024247051905678947, 0.1636676003633329, 0.0020205876588065786, 0.038391165517325, 0.004041175317613157, 0.01616470127045263, 0.0147647733146488, 0.9264895254942122, 0.0073823866573244, 0.018455966643311, 0.0295295466292976, 0.0036911933286622, 0.9868920883889983, 0.9666748012599468, 0.008554644258937582, 0.008554644258937582, 0.008554644258937582, 0.09493002511493376, 0.07119751883620032, 0.8069052134769369, 0.07263852967981126, 0.07263852967981126, 0.7990238264779238, 0.9657630734070617, 0.1282014991320825, 0.8333097443585362, 0.08386251143249177, 0.03510523734383376, 0.0097514548177316, 0.7216076565121384, 0.04680698312511168, 0.01755261867191688, 0.0390058192709264, 0.0078011638541852805, 0.01365203674482424, 0.02535378252610216, 0.10435216849348886, 0.14756872312210545, 0.11173060464959413, 0.03900030539655644, 0.11173060464959413, 0.07062217463700761, 0.04954092847670683, 0.03372999385648125, 0.3204349416365718, 0.012648747696180468, 0.24450612765035787, 0.5801840317127136, 0.008288343310181624, 0.01795807717206018, 0.09393455751539173, 0.0013813905516969372, 0.020720858275454057, 0.0013813905516969372, 0.01795807717206018, 0.01519529606866631, 0.03916247564806844, 0.06450290106740685, 0.06680657610552852, 0.04146615068619012, 0.6404216605978251, 0.052984525876798486, 0.004607350076243346, 0.0069110251143650195, 0.01612572526685171, 0.06680657610552852, 0.030685646297620342, 0.00836881262662373, 0.005579208417749153, 0.5146819765373594, 0.0027896042088745767, 0.0027896042088745767, 0.19387749251678307, 0.06276609469967798, 0.15482303359253902, 0.023711635775433903, 0.06562082014359237, 0.10883453096986052, 0.48015234251409056, 0.10563351535309992, 0.04321371082626815, 0.0880279294609166, 0.012804062467042415, 0.07042234356873328, 0.012804062467042415, 0.012804062467042415, 0.8693694144712893, 0.07451737838325337, 0.024839126127751122, 0.024839126127751122, 0.00782745233628648, 0.735780519610929, 0.06261961869029184, 0.020873206230097276, 0.0026091507787621595, 0.00782745233628648, 0.005218301557524319, 0.11741178504429718, 0.01565490467257296, 0.028700658566383756, 0.9753194486548777, 0.023189387611949025, 0.95076489208991, 0.14178627398299146, 0.11018156260436963, 0.15512404208773092, 0.06523908312100833, 0.07393762753714278, 0.2545773999122014, 0.0820562689922016, 0.06755869496531086, 0.015657379949042, 0.03421427470346215, 0.10702142247743193, 0.02885381488362135, 0.07397068906528383, 0.1878121041515717, 0.11436602990235373, 0.08446298538660069, 0.04721533344592585, 0.18309057080697913, 0.12485832622367059, 0.048264563078057536, 0.19467505262927773, 0.7847838059117759, 0.006083595394664929, 0.8873263153108328, 0.05022601784778299, 0.033484011898521994, 0.9772143795029378, 0.009772143795029378, 0.033316233009456665, 0.016658116504728333, 0.06663246601891333, 0.016658116504728333, 0.8662220582458733, 0.12553842350446004, 0.15491975666507835, 0.0026710302873289367, 0.04807854517192087, 0.018697212011302557, 0.12553842350446004, 0.5235219363164716, 0.9953522410560692, 0.03982204759825611, 0.11946614279476835, 0.8362629995633784, 0.041825990824019006, 0.028441673760332926, 0.020076475595529126, 0.041825990824019006, 0.4918736520904636, 0.16395788403015452, 0.026768634127372164, 0.05855638715362661, 0.09034414017988106, 0.03680687192513673, 0.2670843431287419, 0.6254086792517745, 0.04976726890597675, 0.0033178179270651168, 0.024883634452988374, 0.014930180671793025, 0.00995345378119535, 0.0033178179270651168, 0.0016589089635325584, 0.0016589089635325584, 0.1539102598988489, 0.019238782487356113, 0.01539102598988489, 0.057716347462068336, 0.7118349520321762, 0.011543269492413667, 0.0038477564974712226, 0.023086538984827334, 0.0038477564974712226, 0.0038477564974712226, 0.029528435422828587, 0.014764217711414293, 0.029528435422828587, 0.8710888449734433, 0.04429265313424288, 0.014764217711414293, 0.9559109272777343, 0.004028012644018415, 0.06646220862630385, 0.07451823391434068, 0.0020140063220092075, 0.3021009483013811, 0.48738952992622825, 0.0020140063220092075, 0.06444820230429464, 0.06433865096432327, 0.06433865096432327, 0.8364024625362025, 0.010619585981850414, 0.9557627383665372, 0.010619585981850414, 0.850942272283483, 0.046984542641419304, 0.017898873387207356, 0.006712077520202758, 0.005220504737935478, 0.03430617399214743, 0.011932582258138235, 0.007457863911336397, 0.011932582258138235, 0.006712077520202758, 0.9858377017278567, 0.9765253979101015, 0.0031399530479424486, 0.0031399530479424486, 0.006279906095884897, 0.009419859143827345, 0.9742618985040497, 0.015222842164125776, 0.015941582815573146, 0.8449038892253768, 0.03188316563114629, 0.06376633126229259, 0.03719702656967068, 0.9463805502753266, 0.027431320297835557, 0.06957502195048355, 0.9044752853562862, 0.21234529872408223, 0.1493933738811021, 0.13623924033182266, 0.03382491484100425, 0.08127375371519077, 0.17852038388307798, 0.03946240064783829, 0.10382369694252694, 0.03335512435710141, 0.0319457529053929, 0.014776174977401987, 0.9604513735311292, 0.1193022702676125, 0.06454057243985595, 0.021904679131102625, 0.3121416776182124, 0.16897895329707738, 0.03833318847942959, 0.13338384970903563, 0.03129239875871803, 0.060629022595016194, 0.04889437306049693, 0.1159498970371089, 0.18255424040852994, 0.11497757085650422, 0.15727375971280808, 0.1264024034786093, 0.0498317167559902, 0.09212790561229407, 0.06393044637475816, 0.048373227485083166, 0.048373227485083166, 0.09128165205054474, 0.09554714980991598, 0.23374927721354447, 0.07166036235743699, 0.027299185659975994, 0.16123581530423323, 0.04009567893808974, 0.04265497759371249, 0.05203907266432924, 0.18512260275671222, 0.020237788050233532, 0.9579219677110539, 0.006745929350077845, 0.006745929350077845, 0.02581903203579157, 0.05619436384260518, 0.19440212356360712, 0.07897586269771538, 0.25059648740621226, 0.09871982837214423, 0.018225199084088164, 0.007593832951703403, 0.010631366132384763, 0.26122785353859707, 0.11540426707682318, 0.1021116289842048, 0.13624954044933837, 0.05226423613688589, 0.12205058612313237, 0.27672855665541896, 0.043503179212205596, 0.08610004219082358, 0.031116857353174838, 0.03444001687632943, 0.029773565538772417, 0.9378673144713311, 0.22090505634004726, 0.03537368549236051, 0.1966488148595715, 0.11694973570943679, 0.2242258513046362, 0.07204681249260365, 0.03537368549236051, 0.07247995966189787, 0.019058475448945254, 0.006930354708707365, 0.023293625795861216, 0.192172412815855, 0.7745130577123853, 0.002022950862003021, 0.95078690514142, 0.004045901724006042, 0.002022950862003021, 0.032367213792048335, 0.002022950862003021, 0.004045901724006042, 0.003811750815367768, 0.001905875407683884, 0.8595498088654316, 0.060035075342042346, 0.013341127853787188, 0.04288219667288739, 0.013341127853787188, 0.000952937703841942, 0.006670563926893594, 0.9471932624262684, 0.011359208295994884, 0.005679604147997442, 0.011359208295994884, 0.005679604147997442, 0.9257754761235831, 0.005679604147997442, 0.005679604147997442, 0.03407762488798465, 0.07120006608626095, 0.01424001321725219, 0.1281601189552697, 0.7689607137316182, 0.01424001321725219, 0.010397231829973238, 0.04158892731989295, 0.010397231829973238, 0.9253536328676182, 0.11114729466701181, 0.06215289525460107, 0.023237343721314814, 0.4429093706881932, 0.0884698869389817, 0.014558335825402053, 0.16938063796862002, 0.01091875186905154, 0.04535481545606024, 0.03219631961386992, 0.9092899262932767, 0.16482246042943488, 0.7691714820040294, 0.979976806184264, 0.029483482019494522, 0.044225223029241784, 0.899246201594583, 0.05337995148335771, 0.09281378951610846, 0.049051847309031414, 0.04953274777284544, 0.2553581462852518, 0.25054914164711145, 0.1019508983285751, 0.06540246307870855, 0.05001364823665948, 0.031258530147912175, 0.9878529032823832, 0.09875893814333621, 0.051354647834534826, 0.01580143010293379, 0.02765250268013414, 0.003950357525733448, 0.80192257772389, 0.003950357525733448, 0.9849627768093299, 0.150831571381697, 0.1237360795167215, 0.23618237075636989, 0.12644562870321904, 0.06231963128944368, 0.11380106583289715, 0.03386936483121939, 0.07677056028409729, 0.05328780066778517, 0.023031168085229186, 0.927112481950106, 0.12112856913201524, 0.8613587138276639, 0.9723133736201741, 0.06744596931795739, 0.004817569236996956, 0.004817569236996956, 0.7274529547865404, 0.033722984658978696, 0.004817569236996956, 0.08189867702894825, 0.014452707710990867, 0.009635138473993912, 0.04817569236996956, 0.030428509488038356, 0.9128552846411506, 0.030428509488038356, 0.04752231611062015, 0.04752231611062015, 0.011880579027655037, 0.8554016899911627, 0.023761158055310073, 0.06863913666747794, 0.0960947913344691, 0.013727827333495587, 0.8236696400097352, 0.0977915295909244, 0.06943645137620431, 0.09354943127533635, 0.1855359842238771, 0.09176328461614139, 0.07658103801298417, 0.10515938456010362, 0.11922528950126399, 0.10114055457691495, 0.060059181415430735, 0.1428481750424669, 0.053765733779821495, 0.071687645039762, 0.06588937963213418, 0.09224513148498785, 0.0695791848915337, 0.04058785785339466, 0.21980697045279962, 0.2103188997857723, 0.0337353623716527], \"Term\": [\"abgeordnet\", \"abgeordnet\", \"abgeordnet\", \"abgeordnet\", \"abgeordnet\", \"abgeordnet\", \"abgeordnet\", \"abgeordnet\", \"abgeordnet\", \"abschreib\", \"abschreib\", \"abschreib\", \"achtelfinal\", \"achtelfinal\", \"achtelfinal\", \"aden\", \"admira\", \"admira\", \"afghan\", \"afghan\", \"afghan\", \"afghan\", \"afghan\", \"afghan\", \"akti\", \"akti\", \"akti\", \"akti\", \"akti\", \"akti\", \"akti\", \"akti\", \"akti\", \"aktienkur\", \"aktionar\", \"aktionar\", \"alaba\", \"alaba\", \"alaba\", \"alaba\", \"alaba\", \"alexis\", \"alexis\", \"alexis\", \"allerding\", \"allerding\", \"allerding\", \"allerding\", \"allerding\", \"allerding\", \"allerding\", \"allerding\", \"allerding\", \"allerding\", \"alm\", \"alm\", \"alm\", \"alm\", \"alm\", \"alt\", \"alt\", \"alt\", \"alt\", \"alt\", \"alt\", \"alt\", \"alt\", \"alt\", \"alt\", \"altach\", \"altach\", \"altach\", \"altach\", \"analyst\", \"analyst\", \"analyst\", \"analyst\", \"analyst\", \"analyst\", \"android\", \"android\", \"android\", \"android\", \"android\", \"angab\", \"angab\", \"angab\", \"angab\", \"angab\", \"angab\", \"angab\", \"angab\", \"angab\", \"angab\", \"angeklagt\", \"angeklagt\", \"angeklagt\", \"angeklagt\", \"angeklagt\", \"angeklagt\", \"ankara\", \"ankara\", \"ankara\", \"ankara\", \"anleih\", \"anleih\", \"anleih\", \"anleih\", \"anleih\", \"anschlag\", \"anschlag\", \"anschlag\", \"anschlag\", \"anschlag\", \"anschlag\", \"anschlag\", \"anschlag\", \"anschlag\", \"anteil\", \"anteil\", \"anteil\", \"anteil\", \"anteil\", \"anteil\", \"anteil\", \"anteil\", \"anteil\", \"anteil\", \"antik\", \"antik\", \"antik\", \"antik\", \"antik\", \"appl\", \"appl\", \"appl\", \"appl\", \"appl\", \"appl\", \"appl\", \"appl\", \"appl\", \"apps\", \"apps\", \"apps\", \"apps\", \"apps\", \"arbeit\", \"arbeit\", \"arbeit\", \"arbeit\", \"arbeit\", \"arbeit\", \"arbeit\", \"arbeit\", \"arbeit\", \"arbeit\", \"arbeitnehm\", \"arbeitnehm\", \"arbeitnehm\", \"arbeitnehm\", \"arbeitnehm\", \"arbeitnehm\", \"arbeitnehm\", \"arbeitskraft\", \"arbeitskraft\", \"arbeitskraft\", \"arbeitskraft\", \"arbeitskraft\", \"arbeitslos\", \"arbeitslos\", \"arbeitslos\", \"arbeitslos\", \"arbeitslos\", \"arbeitslos\", \"arbeitslos\", \"arbeitsmarkt\", \"arbeitsmarkt\", \"arbeitsmarkt\", \"arbeitsmarkt\", \"arbeitsmarkt\", \"arbeitsmarkt\", \"archaolog\", \"archaolog\", \"archaolog\", \"archaolog\", \"arena\", \"arena\", \"arena\", \"arena\", \"arena\", \"arena\", \"arena\", \"armut\", \"armut\", \"armut\", \"armut\", \"armut\", \"armut\", \"arnautovic\", \"arnautovic\", \"arnautovic\", \"arnautovic\", \"art\", \"art\", \"art\", \"art\", \"art\", \"art\", \"art\", \"art\", \"art\", \"artikel\", \"artikel\", \"artikel\", \"artikel\", \"artikel\", \"artikel\", \"artikel\", \"artikel\", \"artikel\", \"artikel\", \"ath\", \"ath\", \"ath\", \"ath\", \"ath\", \"atletico\", \"attentat\", \"attentat\", \"attentat\", \"attentat\", \"attentat\", \"attentat\", \"attentat\", \"attentat\", \"aufsichtsrat\", \"aufsichtsrat\", \"aufsichtsrat\", \"aufsichtsrat\", \"aufsichtsrat\", \"ausbild\", \"ausbild\", \"ausbild\", \"ausbild\", \"ausbild\", \"ausbild\", \"ausbild\", \"ausbild\", \"ausbild\", \"ausbild\", \"ausgesagt\", \"ausgesagt\", \"ausgesagt\", \"ausgrab\", \"ausgrab\", \"ausgrab\", \"aussenminist\", \"aussenminist\", \"aussenminist\", \"aussenminist\", \"aussenminist\", \"aussenminist\", \"aussenminist\", \"aussenminist\", \"aussenminist\", \"austria\", \"austria\", \"austria\", \"austria\", \"austria\", \"austria\", \"austria\", \"austria\", \"austria\", \"austria\", \"autobau\", \"autobau\", \"autobau\", \"autobau\", \"autobau\", \"autobau\", \"autobau\", \"autos\", \"autos\", \"autos\", \"autos\", \"autos\", \"autos\", \"autos\", \"autos\", \"autos\", \"autos\", \"avdijaj\", \"bahn\", \"bahn\", \"bahn\", \"bahn\", \"bahn\", \"bahn\", \"bahn\", \"bahn\", \"bahn\", \"bahn\", \"balkanstaat\", \"balkanstaat\", \"ball\", \"ball\", \"ball\", \"ball\", \"ball\", \"ball\", \"ball\", \"ball\", \"ball\", \"bank\", \"bank\", \"bank\", \"bank\", \"bank\", \"bank\", \"bank\", \"bank\", \"bank\", \"bank\", \"barca\", \"barcelona\", \"barcelona\", \"barcelona\", \"barcelona\", \"barcelona\", \"barcelona\", \"barcelona\", \"barcelona\", \"barcelona\", \"barcelona\", \"barisic\", \"barisic\", \"barisic\", \"basier\", \"basier\", \"basier\", \"basier\", \"basier\", \"basier\", \"basier\", \"bauarbeit\", \"bauarbeit\", \"bauarbeit\", \"bauarbeit\", \"bauarbeit\", \"bauarbeit\", \"bawag\", \"bawag\", \"bawag\", \"bay\", \"bay\", \"bay\", \"bay\", \"bay\", \"bay\", \"bay\", \"bay\", \"bay\", \"bay\", \"befragt\", \"befragt\", \"befragt\", \"befragt\", \"befragt\", \"befragt\", \"befragt\", \"befragt\", \"beid\", \"beid\", \"beid\", \"beid\", \"beid\", \"beid\", \"beid\", \"beid\", \"beid\", \"beid\", \"beim\", \"beim\", \"beim\", \"beim\", \"beim\", \"beim\", \"beim\", \"beim\", \"beim\", \"beim\", \"bekannt\", \"bekannt\", \"bekannt\", \"bekannt\", \"bekannt\", \"bekannt\", \"bekannt\", \"bekannt\", \"bekannt\", \"bekannt\", \"belagert\", \"belagert\", \"belgrad\", \"belgrad\", \"bell\", \"bell\", \"bell\", \"bell\", \"bell\", \"bell\", \"bell\", \"bereit\", \"bereit\", \"bereit\", \"bereit\", \"bereit\", \"bereit\", \"bereit\", \"bereit\", \"bereit\", \"bereit\", \"berichtet\", \"berichtet\", \"berichtet\", \"berichtet\", \"berichtet\", \"berichtet\", \"berichtet\", \"berichtet\", \"berichtet\", \"berichtet\", \"berufsbild\", \"berufsbild\", \"best\", \"best\", \"best\", \"best\", \"best\", \"best\", \"best\", \"best\", \"best\", \"best\", \"betriebssyst\", \"betriebssyst\", \"betriebssystem\", \"betriebssystem\", \"betrug\", \"betrug\", \"betrug\", \"betrug\", \"betrug\", \"betrug\", \"betrug\", \"betrug\", \"betrug\", \"betrug\", \"biolog\", \"biolog\", \"biolog\", \"biolog\", \"biolog\", \"biolog\", \"biolog\", \"biologi\", \"biology\", \"biology\", \"blau\", \"blau\", \"blau\", \"blau\", \"blau\", \"blau\", \"blau\", \"blau\", \"blau\", \"blau\", \"blockbust\", \"blockbust\", \"blockbust\", \"bohmermann\", \"bohmermann\", \"bohmermann\", \"bohmermann\", \"bors\", \"bors\", \"bors\", \"bors\", \"bors\", \"bors\", \"bors\", \"bors\", \"borsennotiert\", \"borsennotiert\", \"borsennotiert\", \"borussia\", \"borussia\", \"boz\", \"boz\", \"brandstift\", \"brandstift\", \"brandstift\", \"brows\", \"brows\", \"brows\", \"brussel\", \"brussel\", \"brussel\", \"brussel\", \"brussel\", \"brussel\", \"brussel\", \"brussel\", \"brussel\", \"buch\", \"buch\", \"buch\", \"buch\", \"buch\", \"buch\", \"buch\", \"buch\", \"buch\", \"buch\", \"bull\", \"bull\", \"bull\", \"bull\", \"bull\", \"bull\", \"bull\", \"bull\", \"bull\", \"bundesliga\", \"bundesliga\", \"bundesliga\", \"bundesliga\", \"bundesliga\", \"bundesliga\", \"burgermeist\", \"burgermeist\", \"burgermeist\", \"burgermeist\", \"burgermeist\", \"burgermeist\", \"burgermeist\", \"burgermeist\", \"burgermeist\", \"burgermeist\", \"cambridg\", \"cambridg\", \"cambridg\", \"cavali\", \"celsius\", \"celsius\", \"celsius\", \"celsius\", \"celsius\", \"champion\", \"champion\", \"champion\", \"champion\", \"champion\", \"champion\", \"champion\", \"champion\", \"champion\", \"champion\", \"chanc\", \"chanc\", \"chanc\", \"chanc\", \"chanc\", \"chanc\", \"chanc\", \"chanc\", \"chanc\", \"chanc\", \"chef\", \"chef\", \"chef\", \"chef\", \"chef\", \"chef\", \"chef\", \"chef\", \"chef\", \"chef\", \"chelsea\", \"chelsea\", \"chemisch\", \"chemisch\", \"chemisch\", \"chemisch\", \"chemisch\", \"china\", \"china\", \"china\", \"china\", \"china\", \"china\", \"china\", \"china\", \"china\", \"china\", \"chinas\", \"chinas\", \"chinas\", \"chinas\", \"chinas\", \"chinas\", \"chinas\", \"chines\", \"chines\", \"chines\", \"chines\", \"chines\", \"chines\", \"chines\", \"chines\", \"chines\", \"chines\", \"christi\", \"christi\", \"christi\", \"city\", \"city\", \"city\", \"city\", \"city\", \"city\", \"city\", \"city\", \"city\", \"clinton\", \"clinton\", \"clinton\", \"clinton\", \"clinton\", \"dabei\", \"dabei\", \"dabei\", \"dabei\", \"dabei\", \"dabei\", \"dabei\", \"dabei\", \"dabei\", \"dabei\", \"dafur\", \"dafur\", \"dafur\", \"dafur\", \"dafur\", \"dafur\", \"dafur\", \"dafur\", \"dafur\", \"dafur\", \"dallas\", \"delhi\", \"delhi\", \"demograf\", \"demograf\", \"demokrat\", \"demokrat\", \"demokrat\", \"demokrat\", \"demokrat\", \"demokrat\", \"demokrat\", \"demokrat\", \"demokrat\", \"deutsch\", \"deutsch\", \"deutsch\", \"deutsch\", \"deutsch\", \"deutsch\", \"deutsch\", \"deutsch\", \"deutsch\", \"deutsch\", \"deutschland\", \"deutschland\", \"deutschland\", \"deutschland\", \"deutschland\", \"deutschland\", \"deutschland\", \"deutschland\", \"deutschland\", \"deutschland\", \"dibon\", \"dibon\", \"dijsselblo\", \"dilma\", \"diskont\", \"diskont\", \"diskrepanz\", \"diskrepanz\", \"diskrepanz\", \"diskrepanz\", \"dissertation\", \"divid\", \"divid\", \"divid\", \"divid\", \"diyarbakir\", \"dmitri\", \"dmitri\", \"dmitri\", \"dollar\", \"dollar\", \"dollar\", \"dollar\", \"dollar\", \"dollar\", \"dollar\", \"dollar\", \"dollar\", \"dollar\", \"dortmund\", \"dortmund\", \"dortmund\", \"dortmund\", \"dortmund\", \"draghi\", \"dreharbeit\", \"dreharbeit\", \"drei\", \"drei\", \"drei\", \"drei\", \"drei\", \"drei\", \"drei\", \"drei\", \"drei\", \"drei\", \"durchmess\", \"durchmess\", \"durchschnitt\", \"durchschnitt\", \"durchschnitt\", \"durchschnitt\", \"durchschnitt\", \"durchschnitt\", \"durchschnitt\", \"durchschnitt\", \"ebit\", \"ebitda\", \"edomwonyi\", \"eigenkapital\", \"eigenkapital\", \"eigenschaft\", \"eigenschaft\", \"eigenschaft\", \"eigenschaft\", \"eigenschaft\", \"eigentum\", \"eigentum\", \"eigentum\", \"eigentum\", \"eigentum\", \"eigentum\", \"eigentum\", \"eigentum\", \"eigentum\", \"eingeliefert\", \"eingeliefert\", \"einig\", \"einig\", \"einig\", \"einig\", \"einig\", \"einig\", \"einig\", \"einig\", \"einig\", \"einig\", \"einkomm\", \"einkomm\", \"einkomm\", \"einkomm\", \"einkomm\", \"einkomm\", \"einkunft\", \"entdeckt\", \"entdeckt\", \"entdeckt\", \"entdeckt\", \"entdeckt\", \"entdeckt\", \"entdeckt\", \"entdeckt\", \"entdeckt\", \"entdeckt\", \"entfiel\", \"entfiel\", \"entscheid\", \"entscheid\", \"entscheid\", \"entscheid\", \"entscheid\", \"entscheid\", \"entscheid\", \"entscheid\", \"entscheid\", \"entscheid\", \"entwickelt\", \"entwickelt\", \"entwickelt\", \"entwickelt\", \"entwickelt\", \"entwickelt\", \"entwickelt\", \"entwickelt\", \"entwickelt\", \"entwickelt\", \"epoch\", \"epoch\", \"erdbeb\", \"erdbeb\", \"erdbeb\", \"erdbeb\", \"erdbeb\", \"erdbeb\", \"erdogan\", \"erdogan\", \"erdogan\", \"erdogan\", \"erklart\", \"erklart\", \"erklart\", \"erklart\", \"erklart\", \"erklart\", \"erklart\", \"erklart\", \"erklart\", \"erklart\", \"ermittl\", \"ermittl\", \"ermittl\", \"ermittl\", \"ermittl\", \"ermittl\", \"ermittl\", \"ermittl\", \"ermittl\", \"ermittl\", \"ersparnis\", \"ersparnis\", \"erst\", \"erst\", \"erst\", \"erst\", \"erst\", \"erst\", \"erst\", \"erst\", \"erst\", \"erst\", \"erwirtschaftet\", \"erwirtschaftet\", \"erzieh\", \"erzieh\", \"erzieh\", \"etwa\", \"etwa\", \"etwa\", \"etwa\", \"etwa\", \"etwa\", \"etwa\", \"etwa\", \"etwa\", \"etwa\", \"euro\", \"euro\", \"euro\", \"euro\", \"euro\", \"euro\", \"euro\", \"euro\", \"euro\", \"euro\", \"eurogrupp\", \"europa\", \"europa\", \"europa\", \"europa\", \"europa\", \"europa\", \"europa\", \"europa\", \"europa\", \"europa\", \"euroraum\", \"eurozon\", \"eurozon\", \"eurozon\", \"evolution\", \"evolution\", \"evolution\", \"evolution\", \"evolutionar\", \"experiment\", \"experiment\", \"experiment\", \"experiment\", \"experiment\", \"experiment\", \"experiment\", \"experiment\", \"experiment\", \"facebook\", \"facebook\", \"facebook\", \"facebook\", \"facebook\", \"facebook\", \"facebook\", \"facebook\", \"facebook\", \"facebook\", \"fachblatt\", \"fachjournal\", \"fachjournal\", \"fahrzeug\", \"fahrzeug\", \"fahrzeug\", \"fahrzeug\", \"fahrzeug\", \"fahrzeug\", \"fahrzeug\", \"fahrzeug\", \"fahrzeug\", \"fahrzeug\", \"fall\", \"fall\", \"fall\", \"fall\", \"fall\", \"fall\", \"fall\", \"fall\", \"fall\", \"fall\", \"fallout\", \"faymann\", \"faymann\", \"faymann\", \"faymann\", \"faymann\", \"faymann\", \"faymann\", \"faymann\", \"ferrari\", \"ferrari\", \"ferrari\", \"festgenomm\", \"festgenomm\", \"festgenomm\", \"festgenomm\", \"festgenomm\", \"filial\", \"filial\", \"filial\", \"filial\", \"filial\", \"filial\", \"filial\", \"film\", \"film\", \"film\", \"film\", \"film\", \"film\", \"film\", \"film\", \"film\", \"film\", \"final\", \"final\", \"final\", \"final\", \"final\", \"final\", \"final\", \"final\", \"final\", \"finanzhilf\", \"finanzhilf\", \"finanzminist\", \"finanzminist\", \"finanzminist\", \"finanzminist\", \"finanzminist\", \"finanzminist\", \"finanzminist\", \"fink\", \"fink\", \"fink\", \"fink\", \"firefox\", \"firm\", \"firm\", \"firm\", \"firm\", \"firm\", \"firm\", \"firm\", \"firm\", \"firm\", \"firm\", \"fiskus\", \"fiskus\", \"flamm\", \"flamm\", \"flamm\", \"flamm\", \"fluchtling\", \"fluchtling\", \"fluchtling\", \"fluchtling\", \"fluchtling\", \"fluchtling\", \"fluchtling\", \"fluchtling\", \"fluchtling\", \"fluchtling\", \"flughaf\", \"flughaf\", \"flughaf\", \"flughaf\", \"flughaf\", \"flughaf\", \"flughaf\", \"flughaf\", \"foda\", \"form\", \"form\", \"form\", \"form\", \"form\", \"form\", \"form\", \"form\", \"form\", \"form\", \"formel\", \"formel\", \"formel\", \"formel\", \"formel\", \"formel\", \"formel\", \"forsch\", \"forsch\", \"forsch\", \"forsch\", \"forsch\", \"forsch\", \"forsch\", \"forsch\", \"forsch\", \"forsch\", \"forschung\", \"forschung\", \"forschung\", \"forschung\", \"forschung\", \"forschung\", \"forschung\", \"fossil\", \"fossil\", \"fossil\", \"fossil\", \"fossil\", \"fossil\", \"frag\", \"frag\", \"frag\", \"frag\", \"frag\", \"frag\", \"frag\", \"frag\", \"frag\", \"frag\", \"franziskus\", \"franziskus\", \"franziskus\", \"franzos\", \"franzos\", \"franzos\", \"franzos\", \"franzos\", \"franzos\", \"franzos\", \"franzos\", \"franzos\", \"franzos\", \"frau\", \"frau\", \"frau\", \"frau\", \"frau\", \"frau\", \"frau\", \"frau\", \"frau\", \"frau\", \"freiheit\", \"freiheit\", \"freiheit\", \"freiheit\", \"freiheit\", \"freiheit\", \"freiheit\", \"freiheit\", \"freiheit\", \"freiheit\", \"fund\", \"fund\", \"fund\", \"fund\", \"fussball\", \"fussball\", \"fussball\", \"fussball\", \"fussball\", \"fussball\", \"fussball\", \"fussball\", \"fussball\", \"fussball\", \"galaxi\", \"galaxi\", \"ganz\", \"ganz\", \"ganz\", \"ganz\", \"ganz\", \"ganz\", \"ganz\", \"ganz\", \"ganz\", \"ganz\", \"geb\", \"geb\", \"geb\", \"geb\", \"geb\", \"geb\", \"geb\", \"geb\", \"geb\", \"geb\", \"geborg\", \"geborg\", \"geborg\", \"gefund\", \"gefund\", \"gefund\", \"gefund\", \"gefund\", \"gefund\", \"gefund\", \"gefund\", \"gefund\", \"gefund\", \"gehirn\", \"gehirn\", \"geht\", \"geht\", \"geht\", \"geht\", \"geht\", \"geht\", \"geht\", \"geht\", \"geht\", \"geht\", \"gemeinderat\", \"gemeinderat\", \"gemeinderat\", \"gemeinderat\", \"gen\", \"gen\", \"gen\", \"gen\", \"genet\", \"genet\", \"genet\", \"geodynam\", \"gerat\", \"gerat\", \"gerat\", \"gerat\", \"gerat\", \"gerat\", \"gerat\", \"gerat\", \"gerat\", \"gerat\", \"gesamtjahr\", \"geschaft\", \"geschaft\", \"geschaft\", \"geschaft\", \"geschaft\", \"geschaft\", \"geschaft\", \"geschaft\", \"geschaft\", \"geschaft\", \"geschaftsjahr\", \"gibt\", \"gibt\", \"gibt\", \"gibt\", \"gibt\", \"gibt\", \"gibt\", \"gibt\", \"gibt\", \"gibt\", \"glawischn\", \"glawischn\", \"gmbh\", \"gmbh\", \"gmbh\", \"gmbh\", \"gmbh\", \"gmbh\", \"gmbh\", \"googl\", \"googl\", \"googl\", \"googl\", \"googl\", \"googl\", \"googl\", \"googl\", \"googl\", \"googl\", \"gorgon\", \"grab\", \"grab\", \"grab\", \"grab\", \"grab\", \"grab\", \"grab\", \"grab\", \"grab\", \"grabn\", \"grabn\", \"grad\", \"grad\", \"grad\", \"grad\", \"grad\", \"grad\", \"grad\", \"grad\", \"grad\", \"grant\", \"grant\", \"grant\", \"grenz\", \"grenz\", \"grenz\", \"grenz\", \"grenz\", \"grenz\", \"grenz\", \"grenz\", \"grenz\", \"grenz\", \"grenzubertritt\", \"grenzubertritt\", \"grenzubertritt\", \"grexit\", \"grexit\", \"griech\", \"griech\", \"griech\", \"griech\", \"griech\", \"griech\", \"griech\", \"griechenland\", \"griechenland\", \"griechenland\", \"griechenland\", \"griechenland\", \"griechenland\", \"griechenland\", \"griechenland\", \"griechenland\", \"griechenland\", \"griechisch\", \"griechisch\", \"griechisch\", \"griechisch\", \"griechisch\", \"griechisch\", \"griechisch\", \"griechisch\", \"griechisch\", \"griechisch\", \"griss\", \"griss\", \"griss\", \"griss\", \"grodig\", \"grodig\", \"grodig\", \"gross\", \"gross\", \"gross\", \"gross\", \"gross\", \"gross\", \"gross\", \"gross\", \"gross\", \"gross\", \"grozurek\", \"grun\", \"grun\", \"grun\", \"grun\", \"grun\", \"grun\", \"grun\", \"grun\", \"grun\", \"grun\", \"grund\", \"grund\", \"grund\", \"grund\", \"grund\", \"grund\", \"grund\", \"grund\", \"grund\", \"grund\", \"guardiola\", \"guardiola\", \"guardiola\", \"gustav\", \"hadi\", \"haft\", \"haft\", \"haft\", \"haft\", \"haft\", \"haft\", \"haft\", \"haimbuchn\", \"hakenkreuz\", \"halbfinal\", \"halbfinal\", \"halbfinal\", \"hamilton\", \"hamilton\", \"happel\", \"happel\", \"happel\", \"happel\", \"hasenhuttl\", \"hassposting\", \"hassposting\", \"hassposting\", \"hassposting\", \"hatt\", \"hatt\", \"hatt\", \"hatt\", \"hatt\", \"hatt\", \"hatt\", \"hatt\", \"hatt\", \"hatt\", \"haupl\", \"haupl\", \"haupl\", \"haupl\", \"heinz\", \"heinz\", \"heinz\", \"heinz\", \"heinz\", \"heinz\", \"heinz\", \"heinz\", \"heinz\", \"heta\", \"heta\", \"heut\", \"heut\", \"heut\", \"heut\", \"heut\", \"heut\", \"heut\", \"heut\", \"heut\", \"heut\", \"hilfspaket\", \"hilfsprogramm\", \"hillary\", \"hillary\", \"hinspiel\", \"hinspiel\", \"hinspiel\", \"hinspiel\", \"hinterblieb\", \"hinterblieb\", \"hirsch\", \"hirsch\", \"hirsch\", \"hirsch\", \"hofmann\", \"hofmann\", \"hofmann\", \"hofmann\", \"hofmann\", \"hofmann\", \"hofmann\", \"hoh\", \"hoh\", \"hoh\", \"hoh\", \"hoh\", \"hoh\", \"hoh\", \"hoh\", \"hoh\", \"hoh\", \"holding\", \"holding\", \"holding\", \"holding\", \"holding\", \"hongkong\", \"hongkong\", \"hongkong\", \"houthi\", \"hypo\", \"hypo\", \"hypo\", \"hypo\", \"hypo\", \"hypo\", \"idomeni\", \"idomeni\", \"ikea\", \"ikea\", \"ikea\", \"ikea\", \"imm\", \"imm\", \"imm\", \"imm\", \"imm\", \"imm\", \"imm\", \"imm\", \"imm\", \"imm\", \"indi\", \"indi\", \"indi\", \"indi\", \"indi\", \"indi\", \"indi\", \"indi\", \"indi\", \"indisch\", \"indisch\", \"indisch\", \"indisch\", \"institut\", \"institut\", \"institut\", \"institut\", \"institut\", \"institut\", \"institut\", \"institut\", \"institut\", \"institut\", \"integration\", \"integration\", \"integration\", \"integration\", \"integration\", \"integration\", \"integration\", \"integration\", \"interfax\", \"investor\", \"investor\", \"investor\", \"investor\", \"investor\", \"investor\", \"investor\", \"investor\", \"iphon\", \"iphon\", \"iphon\", \"iphon\", \"iphon\", \"iphon\", \"iphon\", \"iphon\", \"iphon\", \"irak\", \"irak\", \"irak\", \"irak\", \"irak\", \"irak\", \"irak\", \"irak\", \"irak\", \"irmgard\", \"islam\", \"islam\", \"islam\", \"islam\", \"islam\", \"islam\", \"islam\", \"islam\", \"islam\", \"islam\", \"israel\", \"israel\", \"israel\", \"israel\", \"israel\", \"israel\", \"israel\", \"israel\", \"israel\", \"israel\", \"jahr\", \"jahr\", \"jahr\", \"jahr\", \"jahr\", \"jahr\", \"jahr\", \"jahr\", \"jahr\", \"jahr\", \"jahresumsatz\", \"jahresumsatz\", \"jahrig\", \"jahrig\", \"jahrig\", \"jahrig\", \"jahrig\", \"jahrig\", \"jahrig\", \"jahrig\", \"jahrig\", \"jahrig\", \"jakarta\", \"jakarta\", \"japan\", \"japan\", \"japan\", \"japan\", \"japan\", \"japan\", \"japan\", \"japan\", \"japan\", \"japan\", \"jelic\", \"jelic\", \"jero\", \"jerusal\", \"jerusal\", \"jerusal\", \"jerusal\", \"jinping\", \"jinping\", \"job\", \"job\", \"job\", \"job\", \"job\", \"job\", \"job\", \"job\", \"job\", \"jobsuch\", \"jobsuch\", \"junck\", \"junck\", \"juraczka\", \"juventus\", \"juventus\", \"kainz\", \"kainz\", \"kampf\", \"kampf\", \"kampf\", \"kampf\", \"kampf\", \"kampf\", \"kampf\", \"kampf\", \"kampf\", \"kampf\", \"kampfjet\", \"kampfjet\", \"kandidat\", \"kandidat\", \"kandidat\", \"kandidat\", \"kandidat\", \"kandidat\", \"kandidat\", \"kandidat\", \"kandidat\", \"kandidat\", \"kandidatur\", \"kandidi\", \"kapitalerhoh\", \"kayod\", \"keita\", \"keita\", \"khol\", \"khol\", \"kiew\", \"kiew\", \"kiew\", \"kiew\", \"kiew\", \"kilomet\", \"kilomet\", \"kilomet\", \"kilomet\", \"kilomet\", \"kilomet\", \"kilomet\", \"kilomet\", \"kilomet\", \"kilomet\", \"kind\", \"kind\", \"kind\", \"kind\", \"kind\", \"kind\", \"kind\", \"kind\", \"kind\", \"kind\", \"kinderbetreu\", \"kinderbetreu\", \"kinderbetreu\", \"kinderbetreu\", \"kindergart\", \"kindergart\", \"kindergart\", \"kindergart\", \"kindergart\", \"kinofilm\", \"kinofilm\", \"kinostart\", \"kinostart\", \"kinostart\", \"klein\", \"klein\", \"klein\", \"klein\", \"klein\", \"klein\", \"klein\", \"klein\", \"klein\", \"klein\", \"koalition\", \"koalition\", \"koalition\", \"koalition\", \"koalition\", \"koalition\", \"koalition\", \"koalition\", \"kognitiv\", \"kognitiv\", \"koln\", \"koln\", \"koln\", \"koln\", \"koln\", \"koln\", \"koln\", \"koln\", \"koln\", \"koln\", \"kommission\", \"kommission\", \"kommission\", \"kommission\", \"kommission\", \"kommission\", \"kommission\", \"kommission\", \"kommission\", \"kommissionschef\", \"kompliz\", \"kompliz\", \"kompliz\", \"konnt\", \"konnt\", \"konnt\", \"konnt\", \"konnt\", \"konnt\", \"konnt\", \"konnt\", \"konnt\", \"konnt\", \"konservativ\", \"konservativ\", \"konservativ\", \"konservativ\", \"konservativ\", \"konservativ\", \"konservativ\", \"konservativ\", \"konz\", \"konz\", \"konz\", \"konz\", \"konz\", \"konz\", \"konz\", \"konz\", \"konz\", \"konz\", \"kosovar\", \"kosovo\", \"kosovo\", \"kost\", \"kost\", \"kost\", \"kost\", \"kost\", \"kost\", \"kost\", \"kost\", \"kost\", \"kost\", \"krankenhaus\", \"krankenhaus\", \"krankenhaus\", \"krankenhaus\", \"krankenhaus\", \"krankenhaus\", \"krankenhaus\", \"krankenhaus\", \"krankenhaus\", \"krankenhaus\", \"kreml\", \"kreml\", \"kreml\", \"krim\", \"krim\", \"krim\", \"krim\", \"kriminalist\", \"kroati\", \"kroati\", \"kroati\", \"kroati\", \"kroati\", \"kroati\", \"kroati\", \"kroati\", \"kroati\", \"kroatisch\", \"kroatisch\", \"kroatisch\", \"kroatisch\", \"kroatisch\", \"kroatisch\", \"kroatisch\", \"kroatisch\", \"kund\", \"kund\", \"kund\", \"kund\", \"kund\", \"kund\", \"kund\", \"kund\", \"kund\", \"kund\", \"kunst\", \"kunst\", \"kunst\", \"kunst\", \"kunst\", \"kunst\", \"kunst\", \"kunst\", \"kurdisch\", \"kurdisch\", \"kurdisch\", \"kurdisch\", \"labour\", \"lagard\", \"lagard\", \"laim\", \"land\", \"land\", \"land\", \"land\", \"land\", \"land\", \"land\", \"land\", \"land\", \"land\", \"landeshauptmann\", \"landeshauptmann\", \"landeshauptmann\", \"landeshauptmann\", \"landeshauptmann\", \"landeshauptmann\", \"landeshauptmann\", \"landtag\", \"landtag\", \"landtag\", \"landtagswahl\", \"landtagswahl\", \"lang\", \"lang\", \"lang\", \"lang\", \"lang\", \"lang\", \"lang\", \"lang\", \"lang\", \"lang\", \"larg\", \"larg\", \"lask\", \"laut\", \"laut\", \"laut\", \"laut\", \"laut\", \"laut\", \"laut\", \"laut\", \"laut\", \"laut\", \"leagu\", \"leagu\", \"leagu\", \"leagu\", \"leagu\", \"leagu\", \"leagu\", \"leagu\", \"leic\", \"leverkus\", \"leverkus\", \"lewandowski\", \"libysch\", \"libysch\", \"liegenschaft\", \"liegt\", \"liegt\", \"liegt\", \"liegt\", \"liegt\", \"liegt\", \"liegt\", \"liegt\", \"liegt\", \"liegt\", \"liverpool\", \"liverpool\", \"liverpool\", \"liverpool\", \"lopatka\", \"lopatka\", \"lopatka\", \"lumia\", \"madrid\", \"madrid\", \"madrid\", \"madrid\", \"madrid\", \"madrid\", \"madrid\", \"madrid\", \"madrid\", \"manch\", \"manch\", \"manch\", \"manch\", \"manch\", \"manch\", \"manch\", \"manch\", \"manch\", \"manch\", \"mandat\", \"mandat\", \"mandat\", \"mandat\", \"mandat\", \"mann\", \"mann\", \"mann\", \"mann\", \"mann\", \"mann\", \"mann\", \"mann\", \"mann\", \"mann\", \"mannch\", \"mannch\", \"mannch\", \"mannschaft\", \"mannschaft\", \"mannschaft\", \"mannschaft\", \"mannschaft\", \"mannschaft\", \"mannschaft\", \"mannschaft\", \"mannschaft\", \"mannschaft\", \"markt\", \"markt\", \"markt\", \"markt\", \"markt\", \"markt\", \"markt\", \"markt\", \"markt\", \"markt\", \"marktanteil\", \"marktanteil\", \"marktanteil\", \"marktanteil\", \"marktanteil\", \"marktanteil\", \"marktanteil\", \"materi\", \"materi\", \"materi\", \"materi\", \"mattersburg\", \"mattersburg\", \"mattersburg\", \"mattersburg\", \"mattersburg\", \"mattersburg\", \"mattersburg\", \"mattersburg\", \"mazedon\", \"mazedon\", \"mazedon\", \"mazedoni\", \"mazedoni\", \"mazedoni\", \"mazedoni\", \"mazedoni\", \"mehrheit\", \"mehrheit\", \"mehrheit\", \"mehrheit\", \"mehrheit\", \"mehrheit\", \"mehrheit\", \"mehrheit\", \"mehrheit\", \"mehrheit\", \"mensch\", \"mensch\", \"mensch\", \"mensch\", \"mensch\", \"mensch\", \"mensch\", \"mensch\", \"mensch\", \"mensch\", \"merced\", \"merced\", \"merced\", \"merced\", \"merced\", \"merced\", \"merced\", \"merced\", \"messeng\", \"met\", \"met\", \"met\", \"met\", \"met\", \"met\", \"met\", \"met\", \"met\", \"met\", \"meteorologi\", \"microsoft\", \"microsoft\", \"microsoft\", \"microsoft\", \"microsoft\", \"microsoft\", \"microsoft\", \"microsoft\", \"milliard\", \"milliard\", \"milliard\", \"milliard\", \"milliard\", \"milliard\", \"milliard\", \"milliard\", \"milliard\", \"milliard\", \"million\", \"million\", \"million\", \"million\", \"million\", \"million\", \"million\", \"million\", \"million\", \"million\", \"mindestlohn\", \"mindestlohn\", \"mindestlohn\", \"minnesota\", \"minnesota\", \"minnesota\", \"minus\", \"minus\", \"minus\", \"minus\", \"minus\", \"minus\", \"minus\", \"minus\", \"minut\", \"minut\", \"minut\", \"minut\", \"minut\", \"minut\", \"minut\", \"minut\", \"minut\", \"minut\", \"mitarbeit\", \"mitarbeit\", \"mitarbeit\", \"mitarbeit\", \"mitarbeit\", \"mitarbeit\", \"mitarbeit\", \"mitarbeit\", \"mitarbeit\", \"mitarbeit\", \"mittelschicht\", \"mittelschicht\", \"moglich\", \"moglich\", \"moglich\", \"moglich\", \"moglich\", \"moglich\", \"moglich\", \"moglich\", \"moglich\", \"moglich\", \"molekul\", \"molenbeek\", \"molenbeek\", \"monchengladbach\", \"montag\", \"montag\", \"montag\", \"montag\", \"montag\", \"montag\", \"montag\", \"montag\", \"montag\", \"montag\", \"moskau\", \"moskau\", \"moskau\", \"moskau\", \"moskau\", \"moskau\", \"moskau\", \"moskau\", \"moskau\", \"moskaus\", \"motor\", \"motor\", \"motor\", \"motor\", \"motor\", \"motor\", \"motor\", \"motor\", \"mozart\", \"muss\", \"muss\", \"muss\", \"muss\", \"muss\", \"muss\", \"muss\", \"muss\", \"muss\", \"muss\", \"muttersprach\", \"muttersprach\", \"muttersprach\", \"nadal\", \"nadal\", \"nasa\", \"nasa\", \"nasa\", \"nasa\", \"natur\", \"natur\", \"natur\", \"natur\", \"natur\", \"natur\", \"natur\", \"natur\", \"natur\", \"natur\", \"negativzins\", \"negativzins\", \"neos\", \"neos\", \"neos\", \"neos\", \"neos\", \"neu\", \"neu\", \"neu\", \"neu\", \"neu\", \"neu\", \"neu\", \"neu\", \"neu\", \"neu\", \"neymar\", \"nico\", \"niederlag\", \"niederlag\", \"niederlag\", \"niederlag\", \"niederlag\", \"niederlag\", \"niederlag\", \"niederlag\", \"niederlag\", \"niederlag\", \"niessl\", \"niessl\", \"niessl\", \"nordrhein\", \"nordrhein\", \"nordrhein\", \"nordrhein\", \"nordrhein\", \"nordrhein\", \"notenbank\", \"notenbank\", \"notenbank\", \"notenbank\", \"nothilf\", \"notquarti\", \"notquarti\", \"notquarti\", \"nutz\", \"nutz\", \"nutz\", \"nutz\", \"nutz\", \"nutz\", \"nutz\", \"nutz\", \"nutz\", \"nutz\", \"obama\", \"obama\", \"obama\", \"obama\", \"obama\", \"obama\", \"obama\", \"obama\", \"obduktion\", \"oecd\", \"oecd\", \"oecd\", \"oecd\", \"oecd\", \"oecd\", \"oecd\", \"oecd\", \"offshor\", \"offshor\", \"okonom\", \"okonom\", \"okonom\", \"okonom\", \"okonom\", \"okonom\", \"okonom\", \"okonom\", \"olpreis\", \"olpreis\", \"olpreis\", \"olpreis\", \"operativ\", \"operativ\", \"operativ\", \"operativ\", \"operativ\", \"opf\", \"opf\", \"opf\", \"opf\", \"opf\", \"opf\", \"opf\", \"opf\", \"opf\", \"opf\", \"osterreich\", \"osterreich\", \"osterreich\", \"osterreich\", \"osterreich\", \"osterreich\", \"osterreich\", \"osterreich\", \"osterreich\", \"osterreich\", \"ostukrain\", \"ostukrain\", \"ostukrain\", \"ostukrain\", \"padagog\", \"padagog\", \"padagog\", \"padagog\", \"palastinens\", \"palastinens\", \"papst\", \"papst\", \"papst\", \"papst\", \"papst\", \"papst\", \"parlament\", \"parlament\", \"parlament\", \"parlament\", \"parlament\", \"parlament\", \"parlament\", \"parlament\", \"parlament\", \"parlament\", \"parlamentswahl\", \"parlamentswahl\", \"partei\", \"partei\", \"partei\", \"partei\", \"partei\", \"partei\", \"partei\", \"partei\", \"partei\", \"partei\", \"parteichef\", \"parteichef\", \"parteichef\", \"parteichef\", \"parteichef\", \"parteitag\", \"parteitag\", \"pavelic\", \"pavelic\", \"peking\", \"peking\", \"peking\", \"peking\", \"person\", \"person\", \"person\", \"person\", \"person\", \"person\", \"person\", \"person\", \"person\", \"person\", \"peskow\", \"petro\", \"petro\", \"petro\", \"pfeifenberg\", \"pfeifenberg\", \"pfeiff\", \"pfeiff\", \"pflichtschul\", \"pflichtschul\", \"philosoph\", \"philosoph\", \"philosoph\", \"philosoph\", \"phon\", \"physik\", \"physik\", \"physik\", \"physik\", \"planck\", \"planck\", \"planck\", \"planet\", \"planet\", \"planet\", \"planet\", \"planet\", \"platz\", \"platz\", \"platz\", \"platz\", \"platz\", \"platz\", \"platz\", \"platz\", \"platz\", \"platz\", \"plus\", \"plus\", \"plus\", \"plus\", \"plus\", \"plus\", \"plus\", \"plus\", \"plus\", \"plus\", \"podemos\", \"polit\", \"polit\", \"polit\", \"polit\", \"polit\", \"polit\", \"polit\", \"polit\", \"polit\", \"polit\", \"polizei\", \"polizei\", \"polizei\", \"polizei\", \"polizei\", \"polizei\", \"polizei\", \"polizei\", \"polizei\", \"polizei\", \"poroschenko\", \"poroschenko\", \"poroschenko\", \"prasident\", \"prasident\", \"prasident\", \"prasident\", \"prasident\", \"prasident\", \"prasident\", \"prasident\", \"prasident\", \"prasident\", \"princ\", \"princ\", \"princ\", \"princ\", \"produktivitat\", \"produktivitat\", \"projekt\", \"projekt\", \"projekt\", \"projekt\", \"projekt\", \"projekt\", \"projekt\", \"projekt\", \"projekt\", \"projekt\", \"proll\", \"proll\", \"proll\", \"proll\", \"proll\", \"proll\", \"promoviert\", \"promoviert\", \"prozent\", \"prozent\", \"prozent\", \"prozent\", \"prozent\", \"prozent\", \"prozent\", \"prozent\", \"prozent\", \"prozent\", \"psychologi\", \"psychologi\", \"psychologi\", \"publikation\", \"publikation\", \"publikation\", \"publikation\", \"publikation\", \"puhring\", \"punkt\", \"punkt\", \"punkt\", \"punkt\", \"punkt\", \"punkt\", \"punkt\", \"punkt\", \"punkt\", \"punkt\", \"putin\", \"putin\", \"putin\", \"putin\", \"putin\", \"putin\", \"quartal\", \"quartal\", \"quartal\", \"quartal\", \"quartal\", \"quartal\", \"quartal\", \"quartal\", \"radkersburg\", \"rapid\", \"rapid\", \"rapid\", \"rapid\", \"rapid\", \"rapid\", \"rapid\", \"rapid\", \"rapid\", \"razzi\", \"razzi\", \"recht\", \"recht\", \"recht\", \"recht\", \"recht\", \"recht\", \"recht\", \"recht\", \"recht\", \"recht\", \"rechtlich\", \"rechtlich\", \"rechtlich\", \"rechtlich\", \"rechtlich\", \"rechtlich\", \"rechtlich\", \"rechtlich\", \"rechtlich\", \"rechtlich\", \"reflektiert\", \"reflektiert\", \"reflektiert\", \"regier\", \"regier\", \"regier\", \"regier\", \"regier\", \"regier\", \"regier\", \"regier\", \"regier\", \"regier\", \"renault\", \"renault\", \"republikan\", \"republikan\", \"republikan\", \"republikan\", \"ried\", \"ried\", \"ried\", \"ried\", \"ried\", \"ried\", \"riesentorlauf\", \"riesentorlauf\", \"ronaldo\", \"ronaldo\", \"rousseff\", \"rousseff\", \"rousseff\", \"ruckkauf\", \"rucklauf\", \"rucklauf\", \"rucklauf\", \"ruckstell\", \"rund\", \"rund\", \"rund\", \"rund\", \"rund\", \"rund\", \"rund\", \"rund\", \"rund\", \"rund\", \"russisch\", \"russisch\", \"russisch\", \"russisch\", \"russisch\", \"russisch\", \"russisch\", \"russisch\", \"russisch\", \"russisch\", \"russland\", \"russland\", \"russland\", \"russland\", \"russland\", \"russland\", \"russland\", \"russland\", \"russland\", \"russland\", \"sag\", \"sag\", \"sag\", \"sag\", \"sag\", \"sag\", \"sag\", \"sag\", \"sag\", \"sag\", \"sagt\", \"sagt\", \"sagt\", \"sagt\", \"sagt\", \"sagt\", \"sagt\", \"sagt\", \"sagt\", \"sagt\", \"saison\", \"saison\", \"saison\", \"saison\", \"saison\", \"saison\", \"saison\", \"saison\", \"saison\", \"saison\", \"salzburg\", \"salzburg\", \"salzburg\", \"salzburg\", \"salzburg\", \"salzburg\", \"salzburg\", \"salzburg\", \"salzburg\", \"salzburg\", \"sanaa\", \"satellit\", \"satellit\", \"satellit\", \"satellit\", \"schadel\", \"schalk\", \"schalk\", \"schalk\", \"schaub\", \"schaub\", \"schaubl\", \"schlecht\", \"schlecht\", \"schlecht\", \"schlecht\", \"schlecht\", \"schlecht\", \"schlecht\", \"schlecht\", \"schlecht\", \"schlecht\", \"schobesberg\", \"schobesberg\", \"schobesberg\", \"schon\", \"schon\", \"schon\", \"schon\", \"schon\", \"schon\", \"schon\", \"schon\", \"schon\", \"schon\", \"schottel\", \"schulsyst\", \"schulsyst\", \"schulsyst\", \"schwegl\", \"scienc\", \"scienc\", \"scienc\", \"scienc\", \"scienc\", \"scienc\", \"scienc\", \"seien\", \"seien\", \"seien\", \"seien\", \"seien\", \"seien\", \"seien\", \"seien\", \"seien\", \"seien\", \"seit\", \"seit\", \"seit\", \"seit\", \"seit\", \"seit\", \"seit\", \"seit\", \"seit\", \"seit\", \"selbstfahr\", \"selbstfahr\", \"selbstfahr\", \"selbstfahr\", \"selbstfahr\", \"serbi\", \"serbi\", \"serbi\", \"serbi\", \"serbi\", \"serbi\", \"serbisch\", \"serbisch\", \"serbisch\", \"serbisch\", \"shanghai\", \"shanghai\", \"siebenhandl\", \"sieg\", \"sieg\", \"sieg\", \"sieg\", \"sieg\", \"sieg\", \"sieg\", \"sieg\", \"sieg\", \"sieg\", \"silvesternacht\", \"silvesternacht\", \"silvesternacht\", \"silvesternacht\", \"silvesternacht\", \"skandinav\", \"skandinav\", \"skandinav\", \"skandinav\", \"slalom\", \"slowen\", \"slowen\", \"slowen\", \"slowen\", \"slowen\", \"slowen\", \"sloweni\", \"sloweni\", \"sloweni\", \"sloweni\", \"sloweni\", \"sloweni\", \"sloweni\", \"sloweni\", \"sloweni\", \"sloweni\", \"smartphon\", \"smartphon\", \"smartphon\", \"smartphon\", \"smartphon\", \"smartphon\", \"smartphon\", \"smartphon\", \"smartphon\", \"smartphon\", \"softwar\", \"softwar\", \"softwar\", \"softwar\", \"softwar\", \"softwar\", \"softwar\", \"softwar\", \"softwar\", \"soldat\", \"soldat\", \"soldat\", \"soldat\", \"soldat\", \"soldat\", \"soldat\", \"soldat\", \"soldat\", \"soll\", \"soll\", \"soll\", \"soll\", \"soll\", \"soll\", \"soll\", \"soll\", \"soll\", \"soll\", \"sonn\", \"sonn\", \"sonn\", \"sonn\", \"sonn\", \"sonn\", \"sonn\", \"sonn\", \"soriano\", \"soriano\", \"soriano\", \"sozial\", \"sozial\", \"sozial\", \"sozial\", \"sozial\", \"sozial\", \"sozial\", \"sozial\", \"sozial\", \"sozial\", \"sozialhilf\", \"sozialhilf\", \"sozialhilf\", \"sozialhilf\", \"sozialstaat\", \"sozialstaat\", \"sozialstaat\", \"sozialsyst\", \"sozialsyst\", \"sozialsyst\", \"spezi\", \"spezi\", \"spiel\", \"spiel\", \"spiel\", \"spiel\", \"spiel\", \"spiel\", \"spiel\", \"spiel\", \"spiel\", \"spiel\", \"spitzenfeld\", \"spitzenfeld\", \"spitzenfeld\", \"spitzenkandidat\", \"spotify\", \"staat\", \"staat\", \"staat\", \"staat\", \"staat\", \"staat\", \"staat\", \"staat\", \"staat\", \"staat\", \"staatsanwalt\", \"staatsanwalt\", \"staatsanwalt\", \"staatsanwalt\", \"staatsanwalt\", \"staatsanwalt\", \"staatsanwaltin\", \"staatsanwaltin\", \"staatsanwaltin\", \"stadion\", \"stadion\", \"stadion\", \"stadion\", \"stadion\", \"stadion\", \"stadion\", \"stadt\", \"stadt\", \"stadt\", \"stadt\", \"stadt\", \"stadt\", \"stadt\", \"stadt\", \"stadt\", \"stadt\", \"stadtrat\", \"standard\", \"standard\", \"standard\", \"standard\", \"standard\", \"standard\", \"standard\", \"standard\", \"standard\", \"standard\", \"stark\", \"stark\", \"stark\", \"stark\", \"stark\", \"stark\", \"stark\", \"stark\", \"stark\", \"stark\", \"statist\", \"statist\", \"statist\", \"statist\", \"statist\", \"statist\", \"statist\", \"statist\", \"statist\", \"steht\", \"steht\", \"steht\", \"steht\", \"steht\", \"steht\", \"steht\", \"steht\", \"steht\", \"steht\", \"stenzel\", \"stichwahl\", \"stichwahl\", \"stimm\", \"stimm\", \"stimm\", \"stimm\", \"stimm\", \"stimm\", \"stimm\", \"stimm\", \"stimm\", \"stimm\", \"stok\", \"strach\", \"strach\", \"strach\", \"strach\", \"strach\", \"strach\", \"strebing\", \"strebing\", \"strolz\", \"stronach\", \"stronach\", \"stronach\", \"stronach\", \"studi\", \"studi\", \"studi\", \"studi\", \"studi\", \"studi\", \"studi\", \"studi\", \"studi\", \"studi\", \"studier\", \"studier\", \"studier\", \"studier\", \"studier\", \"studier\", \"sturm\", \"sturm\", \"sturm\", \"sturm\", \"sturm\", \"sturm\", \"sturm\", \"sturm\", \"sturm\", \"sturm\", \"suarez\", \"syr\", \"syr\", \"syr\", \"syr\", \"syr\", \"syr\", \"syri\", \"syri\", \"syri\", \"syri\", \"syri\", \"syri\", \"syri\", \"syri\", \"syri\", \"syrisch\", \"syrisch\", \"syrisch\", \"syrisch\", \"syrisch\", \"syrisch\", \"syriza\", \"syriza\", \"taiwan\", \"taiwan\", \"tampa\", \"tat\", \"tat\", \"tat\", \"tat\", \"tat\", \"tat\", \"tat\", \"tat\", \"tat\", \"tatverdacht\", \"tatverdacht\", \"tatverdacht\", \"tatverdacht\", \"team\", \"team\", \"team\", \"team\", \"team\", \"team\", \"team\", \"team\", \"team\", \"team\", \"teilch\", \"teilch\", \"telekom\", \"telekom\", \"telekom\", \"telekom\", \"telekom\", \"tempelberg\", \"temperatur\", \"temperatur\", \"temperatur\", \"temperatur\", \"temperatur\", \"temperatur\", \"temperatur\", \"temperatur\", \"thiem\", \"thiem\", \"thiem\", \"thiem\", \"tier\", \"tier\", \"tier\", \"tier\", \"tier\", \"tier\", \"tier\", \"tier\", \"tier\", \"tier\", \"tokio\", \"tokio\", \"tokio\", \"tokio\", \"tokio\", \"tokio\", \"tokio\", \"tor\", \"tor\", \"tor\", \"tor\", \"tor\", \"tor\", \"tor\", \"tor\", \"tor\", \"tot\", \"tot\", \"tot\", \"tot\", \"tot\", \"tot\", \"tot\", \"tot\", \"tot\", \"tot\", \"tottenham\", \"toyota\", \"toyota\", \"tragfah\", \"train\", \"train\", \"train\", \"train\", \"train\", \"train\", \"train\", \"train\", \"train\", \"train\", \"transaktion\", \"transaktion\", \"transaktion\", \"transitland\", \"trump\", \"trump\", \"trump\", \"trump\", \"tsipras\", \"tsipras\", \"tunnel\", \"tunnel\", \"tunnel\", \"tunnel\", \"turkei\", \"turkei\", \"turkei\", \"turkei\", \"turkei\", \"turkei\", \"turkei\", \"turkei\", \"turkei\", \"turkisch\", \"turkisch\", \"turkisch\", \"turkisch\", \"turkisch\", \"turkisch\", \"turkisch\", \"turkisch\", \"tusk\", \"tusk\", \"uberfahrt\", \"uberr\", \"uberr\", \"uberr\", \"uberstund\", \"uberstund\", \"uberstund\", \"uberstund\", \"uberstund\", \"ukrain\", \"ukrain\", \"ukrain\", \"ukrain\", \"ukrain\", \"ukrain\", \"ukrain\", \"ukrain\", \"ukrain\", \"ukrain\", \"umsatz\", \"umsatz\", \"umsatz\", \"umsatz\", \"umsatz\", \"umsatz\", \"ungar\", \"ungar\", \"ungar\", \"ungar\", \"ungar\", \"ungar\", \"ungar\", \"ungar\", \"ungar\", \"ungar\", \"ungarn\", \"ungarn\", \"ungarn\", \"ungarn\", \"ungarn\", \"ungarn\", \"ungarn\", \"ungarn\", \"ungarn\", \"ungarn\", \"ungleich\", \"ungleich\", \"ungleich\", \"ungleich\", \"ungleich\", \"unicredit\", \"unis\", \"unis\", \"unis\", \"unis\", \"united\", \"united\", \"united\", \"united\", \"united\", \"united\", \"united\", \"universitat\", \"universitat\", \"universitat\", \"universitat\", \"universitat\", \"universitat\", \"universitat\", \"universitat\", \"universitat\", \"universitat\", \"university\", \"university\", \"university\", \"university\", \"university\", \"university\", \"university\", \"university\", \"universum\", \"universum\", \"universum\", \"universum\", \"universum\", \"unternehm\", \"unternehm\", \"unternehm\", \"unternehm\", \"unternehm\", \"unternehm\", \"unternehm\", \"unternehm\", \"unternehm\", \"unternehm\", \"untersucht\", \"untersucht\", \"untersucht\", \"untersucht\", \"untersucht\", \"untersucht\", \"untersucht\", \"untersucht\", \"untersucht\", \"untersucht\", \"updat\", \"updat\", \"updat\", \"updat\", \"updat\", \"updat\", \"varoufakis\", \"vassilakou\", \"vassilakou\", \"vassilakou\", \"vassilakou\", \"vatikan\", \"vatikan\", \"vatikan\", \"vatikanstadt\", \"vatikanstadt\", \"vatikanstadt\", \"venuto\", \"verbuss\", \"verbuss\", \"verdacht\", \"verdacht\", \"verdacht\", \"verdacht\", \"verdacht\", \"verdacht\", \"verdacht\", \"verdacht\", \"verdacht\", \"verdacht\", \"verfug\", \"verfug\", \"verfug\", \"verfug\", \"verfug\", \"verfug\", \"verfug\", \"verfug\", \"verfug\", \"verfug\", \"verhandl\", \"verhandl\", \"verhandl\", \"verhandl\", \"verhandl\", \"verhandl\", \"verhandl\", \"verhandl\", \"verhandl\", \"verhandl\", \"verkauf\", \"verkauf\", \"verkauf\", \"verkauf\", \"verkauf\", \"verkauf\", \"verkauf\", \"verkauf\", \"verkauf\", \"verkauf\", \"verletzt\", \"verletzt\", \"verletzt\", \"verletzt\", \"verletzt\", \"verletzt\", \"verletzt\", \"verletzt\", \"verletzt\", \"verletzt\", \"verschied\", \"verschied\", \"verschied\", \"verschied\", \"verschied\", \"verschied\", \"verschied\", \"verschied\", \"verschied\", \"verschied\", \"verschuttet\", \"verschuttet\", \"verschuttet\", \"verschuttet\", \"version\", \"version\", \"version\", \"version\", \"version\", \"version\", \"version\", \"version\", \"version\", \"version\", \"vettel\", \"vidal\", \"vidal\", \"viel\", \"viel\", \"viel\", \"viel\", \"viel\", \"viel\", \"viel\", \"viel\", \"viel\", \"viel\", \"vier\", \"vier\", \"vier\", \"vier\", \"vier\", \"vier\", \"vier\", \"vier\", \"vier\", \"vier\", \"viertelfinal\", \"viertelfinal\", \"viertelfinal\", \"vogeln\", \"vogeln\", \"vogeln\", \"volkspartei\", \"volkspartei\", \"volksrepubl\", \"volksrepubl\", \"volksrepubl\", \"volksrepubl\", \"volksrepubl\", \"volkswag\", \"volkswag\", \"volkswag\", \"volkswag\", \"volkswag\", \"volkswag\", \"volkswag\", \"volltext\", \"vollzug\", \"vollzug\", \"vollzug\", \"vorjahr\", \"vorjahr\", \"vorjahr\", \"vorjahr\", \"vorjahr\", \"vorjahr\", \"vorjahr\", \"vorjahr\", \"vorjahr\", \"vorjahr\", \"vorschlag\", \"vorschlag\", \"vorschlag\", \"vorschlag\", \"vorschlag\", \"vorschlag\", \"vorschlag\", \"vorschlag\", \"vorschlag\", \"vorschlag\", \"vorstand\", \"vorstand\", \"vorstand\", \"vorstand\", \"vorstand\", \"vorstand\", \"vorstand\", \"vorstand\", \"vorstand\", \"vorstand\", \"vorstandschef\", \"vorstandschef\", \"vorstandschef\", \"vorstandschef\", \"vorstandschef\", \"vorstandschef\", \"vov\", \"wachstum\", \"wachstum\", \"wachstum\", \"wachstum\", \"wachstum\", \"wachstum\", \"wachstum\", \"wachstum\", \"wachstumsrat\", \"wachstumsrat\", \"wachstumsrat\", \"wack\", \"wack\", \"wack\", \"wahl\", \"wahl\", \"wahl\", \"wahl\", \"wahl\", \"wahl\", \"wahl\", \"wahl\", \"wahl\", \"wahl\", \"wahlergebnis\", \"wahlkampf\", \"wahlkampf\", \"wahlkampf\", \"wahlkampf\", \"wahlkampf\", \"wahlkart\", \"wahlkart\", \"wahrungsfond\", \"wahrungsfond\", \"wahrungsfond\", \"wahrungsfond\", \"wahrungsfond\", \"wahrungsunion\", \"wahrungsunion\", \"wang\", \"wang\", \"war\", \"war\", \"war\", \"war\", \"war\", \"war\", \"war\", \"war\", \"war\", \"war\", \"warrior\", \"warrior\", \"weg\", \"weg\", \"weg\", \"weg\", \"weg\", \"weg\", \"weg\", \"weg\", \"weg\", \"weg\", \"weit\", \"weit\", \"weit\", \"weit\", \"weit\", \"weit\", \"weit\", \"weit\", \"weit\", \"weit\", \"welt\", \"welt\", \"welt\", \"welt\", \"welt\", \"welt\", \"welt\", \"welt\", \"welt\", \"welt\", \"weltcup\", \"weltcup\", \"weltcup\", \"weltcup\", \"weltweit\", \"weltweit\", \"weltweit\", \"weltweit\", \"weltweit\", \"weltweit\", \"weltweit\", \"weltweit\", \"weltweit\", \"weltweit\", \"wenig\", \"wenig\", \"wenig\", \"wenig\", \"wenig\", \"wenig\", \"wenig\", \"wenig\", \"wenig\", \"wenig\", \"werd\", \"werd\", \"wien\", \"wien\", \"wien\", \"wien\", \"wien\", \"wien\", \"wien\", \"wien\", \"wien\", \"wien\", \"wifo\", \"wifo\", \"wifo\", \"windows\", \"windows\", \"windows\", \"windows\", \"windows\", \"windows\", \"windows\", \"wissenschaft\", \"wissenschaft\", \"wissenschaft\", \"wissenschaft\", \"wissenschaft\", \"wissenschaft\", \"wissenschaft\", \"wissenschaft\", \"wissenschaft\", \"witw\", \"wladimir\", \"wladimir\", \"wladimir\", \"wladimir\", \"wladimir\", \"wladimir\", \"wladimir\", \"wladimir\", \"wohlstand\", \"wohlstand\", \"wohlstand\", \"wohlstand\", \"wohlstand\", \"wolk\", \"wolk\", \"wolk\", \"wolk\", \"word\", \"word\", \"word\", \"word\", \"word\", \"word\", \"word\", \"word\", \"word\", \"word\", \"workshops\", \"xinhua\", \"xinhua\", \"yanis\", \"yuan\", \"yuan\", \"yuan\", \"zahl\", \"zahl\", \"zahl\", \"zahl\", \"zahl\", \"zahl\", \"zahl\", \"zahl\", \"zahl\", \"zahl\", \"zamg\", \"zaun\", \"zaun\", \"zaun\", \"zaun\", \"zaun\", \"zaun\", \"zaun\", \"zeidl\", \"zeit\", \"zeit\", \"zeit\", \"zeit\", \"zeit\", \"zeit\", \"zeit\", \"zeit\", \"zeit\", \"zeit\", \"zeitgeschicht\", \"zeitrechn\", \"zeitrechn\", \"zentralanstalt\", \"zeug\", \"zeug\", \"zeug\", \"zeug\", \"zeug\", \"zeug\", \"zeug\", \"zeug\", \"zeug\", \"zeug\", \"zukauf\", \"zukauf\", \"zukauf\", \"zuwand\", \"zuwand\", \"zuwand\", \"zuwand\", \"zuwand\", \"zuwander\", \"zuwander\", \"zuwander\", \"zuwander\", \"zwei\", \"zwei\", \"zwei\", \"zwei\", \"zwei\", \"zwei\", \"zwei\", \"zwei\", \"zwei\", \"zwei\", \"zweit\", \"zweit\", \"zweit\", \"zweit\", \"zweit\", \"zweit\", \"zweit\", \"zweit\", \"zweit\", \"zweit\"]}, \"R\": 30, \"lambda.step\": 0.01, \"plot.opts\": {\"xlab\": \"PC1\", \"ylab\": \"PC2\"}, \"topic.order\": [1, 6, 4, 9, 3, 2, 7, 5, 8, 10]};\n",
              "\n",
              "function LDAvis_load_lib(url, callback){\n",
              "  var s = document.createElement('script');\n",
              "  s.src = url;\n",
              "  s.async = true;\n",
              "  s.onreadystatechange = s.onload = callback;\n",
              "  s.onerror = function(){console.warn(\"failed to load library \" + url);};\n",
              "  document.getElementsByTagName(\"head\")[0].appendChild(s);\n",
              "}\n",
              "\n",
              "if(typeof(LDAvis) !== \"undefined\"){\n",
              "   // already loaded: just create the visualization\n",
              "   !function(LDAvis){\n",
              "       new LDAvis(\"#\" + \"ldavis_el381139518597932624267150493\", ldavis_el381139518597932624267150493_data);\n",
              "   }(LDAvis);\n",
              "}else if(typeof define === \"function\" && define.amd){\n",
              "   // require.js is available: use it to load d3/LDAvis\n",
              "   require.config({paths: {d3: \"https://d3js.org/d3.v5\"}});\n",
              "   require([\"d3\"], function(d3){\n",
              "      window.d3 = d3;\n",
              "      LDAvis_load_lib(\"https://cdn.jsdelivr.net/gh/bmabey/pyLDAvis@3.4.0/pyLDAvis/js/ldavis.v3.0.0.js\", function(){\n",
              "        new LDAvis(\"#\" + \"ldavis_el381139518597932624267150493\", ldavis_el381139518597932624267150493_data);\n",
              "      });\n",
              "    });\n",
              "}else{\n",
              "    // require.js not available: dynamically load d3 & LDAvis\n",
              "    LDAvis_load_lib(\"https://d3js.org/d3.v5.js\", function(){\n",
              "         LDAvis_load_lib(\"https://cdn.jsdelivr.net/gh/bmabey/pyLDAvis@3.4.0/pyLDAvis/js/ldavis.v3.0.0.js\", function(){\n",
              "                 new LDAvis(\"#\" + \"ldavis_el381139518597932624267150493\", ldavis_el381139518597932624267150493_data);\n",
              "            })\n",
              "         });\n",
              "}\n",
              "</script>"
            ]
          },
          "metadata": {},
          "execution_count": 32
        }
      ]
    },
    {
      "cell_type": "markdown",
      "metadata": {
        "id": "syy0tnTQmxZP"
      },
      "source": [
        "# Your turn - Do it yourself:\n",
        "\n",
        "Replace the given corpus with one in another language - maybe your own native language? You can find corpus online, for example:\n",
        "- https://www.corpusdata.org/intro.asp\n",
        "- or here: https://www.clarin.eu/resource-families/newspaper-corpora\n",
        "- or even in nltk: https://www.nltk.org/nltk_data/\n",
        "- In this github, there are many datasets that can be loaded through their `raw` url: https://github.com/selva86/datasets\n",
        "\n",
        "Careful: You will need to change the [Stemming](https://snowballstem.org/algorithms/) and the [Stopwords](https://www.kaggle.com/rtatman/stopword-lists-for-19-languages) to support your language. Make a web-search after the appropriate ones (if they exist..)\n",
        "\n",
        "Use the notebook to reproduce the result.  \n",
        "Try changing the parameters to get a *satisfying level of clustering*.  \n",
        "Which parameters worked best for the language you chose?"
      ]
    },
    {
      "cell_type": "code",
      "source": [
        "df = pd.read_parquet(\"hf://datasets/bunkalab/arxiv_topic_modeling/data/train-00000-of-00001.parquet\")"
      ],
      "metadata": {
        "colab": {
          "base_uri": "https://localhost:8080/"
        },
        "id": "8oXxDMoWq61n",
        "outputId": "332a28d3-376e-4b33-cf1d-b5b9611c4ea5"
      },
      "execution_count": 39,
      "outputs": [
        {
          "output_type": "stream",
          "name": "stderr",
          "text": [
            "/usr/local/lib/python3.10/dist-packages/ipykernel/ipkernel.py:283: DeprecationWarning: `should_run_async` will not call `transform_cell` automatically in the future. Please pass the result to `transformed_cell` argument and any exception that happen during thetransform in `preprocessing_exc_tuple` in IPython 7.17 and above.\n",
            "  and should_run_async(code)\n"
          ]
        }
      ]
    },
    {
      "cell_type": "code",
      "source": [
        "df"
      ],
      "metadata": {
        "colab": {
          "base_uri": "https://localhost:8080/",
          "height": 686
        },
        "id": "HgHMeuO7rIet",
        "outputId": "710823f4-bbd7-4649-b782-ca8752961fa5"
      },
      "execution_count": 34,
      "outputs": [
        {
          "output_type": "stream",
          "name": "stderr",
          "text": [
            "/usr/local/lib/python3.10/dist-packages/ipykernel/ipkernel.py:283: DeprecationWarning: `should_run_async` will not call `transform_cell` automatically in the future. Please pass the result to `transformed_cell` argument and any exception that happen during thetransform in `preprocessing_exc_tuple` in IPython 7.17 and above.\n",
            "  and should_run_async(code)\n"
          ]
        },
        {
          "output_type": "execute_result",
          "data": {
            "text/plain": [
              "                                                  Title  \\\n",
              "0     Enhancing Knowledge Retrieval with Topic Model...   \n",
              "1     Inferring Discussion Topics about Exploitation...   \n",
              "2     Identifying Narrative Patterns and Outliers in...   \n",
              "3     A Named Entity Recognition and Topic Modeling-...   \n",
              "4     Addressing Topic Granularity and Hallucination...   \n",
              "...                                                 ...   \n",
              "1435  Text Modeling using Unsupervised Topic Models ...   \n",
              "1436  Modeling Loosely Annotated Images with Imagine...   \n",
              "1437  Modeling Online Reviews with Multi-grain Topic...   \n",
              "1438    Correction: A correlated topic model of Science   \n",
              "1439                A correlated topic model of Science   \n",
              "\n",
              "                                                Authors  \\\n",
              "0                               Nhat Tran, Diane Litman   \n",
              "1                                    Felipe Moreno-Vera   \n",
              "2     Maxim Ifergan, Renana Keydar, Omri Abend, Amit...   \n",
              "3     Ayaz Mehmood, Muhammad Tayyab Zamir, Muhammad ...   \n",
              "4     Yida Mu, Peizhen Bai, Kalina Bontcheva, Xingyi...   \n",
              "...                                                 ...   \n",
              "1435  Chaitanya Chemudugunta, Padhraic Smyth, Mark S...   \n",
              "1436             Hong Tang, Nozha Boujemma, Yunhao Chen   \n",
              "1437                          Ivan Titov, Ryan McDonald   \n",
              "1438                    David M. Blei, John D. Lafferty   \n",
              "1439                    David M. Blei, John D. Lafferty   \n",
              "\n",
              "                                               Abstract  \\\n",
              "0     Knowledge retrieval is one of the major challe...   \n",
              "1     The increasing sophistication of cyber threats...   \n",
              "2     The vast collection of Holocaust survivor test...   \n",
              "3     Over the last decade, similar to other applica...   \n",
              "4     Large language models (LLMs) with their strong...   \n",
              "...                                                 ...   \n",
              "1435  Statistical topic models provide a general dat...   \n",
              "1436  In this paper, we present an approach to learn...   \n",
              "1437  In this paper we present a novel framework for...   \n",
              "1438  Correction to Annals of Applied Statistics 1 (...   \n",
              "1439  Topic models, such as latent Dirichlet allocat...   \n",
              "\n",
              "                               entry_id                      Date  \\\n",
              "0     http://arxiv.org/abs/2405.04713v1 2024-05-07 23:32:32+00:00   \n",
              "1     http://arxiv.org/abs/2405.04561v1 2024-05-07 14:54:32+00:00   \n",
              "2     http://arxiv.org/abs/2405.02650v1 2024-05-04 12:29:00+00:00   \n",
              "3     http://arxiv.org/abs/2405.00903v1 2024-05-01 23:19:49+00:00   \n",
              "4     http://arxiv.org/abs/2405.00611v1 2024-05-01 16:32:07+00:00   \n",
              "...                                 ...                       ...   \n",
              "1435   http://arxiv.org/abs/0808.0973v1 2008-08-07 07:59:29+00:00   \n",
              "1436   http://arxiv.org/abs/0805.4508v1 2008-05-29 10:35:29+00:00   \n",
              "1437   http://arxiv.org/abs/0801.1063v1 2008-01-07 17:01:34+00:00   \n",
              "1438   http://arxiv.org/abs/0712.1486v1 2007-12-10 14:16:00+00:00   \n",
              "1439   http://arxiv.org/abs/0708.3601v2 2007-08-27 14:40:55+00:00   \n",
              "\n",
              "                           Categories  year  \n",
              "0                               cs.IR  2024  \n",
              "1          cs.CR, cs.AI, cs.CY, cs.LG  2024  \n",
              "2                        cs.CL, cs.AI  2024  \n",
              "3                               cs.CL  2024  \n",
              "4                               cs.CL  2024  \n",
              "...                               ...   ...  \n",
              "1435                     cs.AI, cs.IR  2008  \n",
              "1436              cs.IR, cs.AI, H.3.3  2008  \n",
              "1437  cs.IR, cs.DB, H.2.8; H.3.1; H.4  2008  \n",
              "1438                          stat.AP  2007  \n",
              "1439                          stat.AP  2007  \n",
              "\n",
              "[1440 rows x 7 columns]"
            ],
            "text/html": [
              "\n",
              "  <div id=\"df-c43c00eb-537b-4386-87e5-c576669bcc0c\" class=\"colab-df-container\">\n",
              "    <div>\n",
              "<style scoped>\n",
              "    .dataframe tbody tr th:only-of-type {\n",
              "        vertical-align: middle;\n",
              "    }\n",
              "\n",
              "    .dataframe tbody tr th {\n",
              "        vertical-align: top;\n",
              "    }\n",
              "\n",
              "    .dataframe thead th {\n",
              "        text-align: right;\n",
              "    }\n",
              "</style>\n",
              "<table border=\"1\" class=\"dataframe\">\n",
              "  <thead>\n",
              "    <tr style=\"text-align: right;\">\n",
              "      <th></th>\n",
              "      <th>Title</th>\n",
              "      <th>Authors</th>\n",
              "      <th>Abstract</th>\n",
              "      <th>entry_id</th>\n",
              "      <th>Date</th>\n",
              "      <th>Categories</th>\n",
              "      <th>year</th>\n",
              "    </tr>\n",
              "  </thead>\n",
              "  <tbody>\n",
              "    <tr>\n",
              "      <th>0</th>\n",
              "      <td>Enhancing Knowledge Retrieval with Topic Model...</td>\n",
              "      <td>Nhat Tran, Diane Litman</td>\n",
              "      <td>Knowledge retrieval is one of the major challe...</td>\n",
              "      <td>http://arxiv.org/abs/2405.04713v1</td>\n",
              "      <td>2024-05-07 23:32:32+00:00</td>\n",
              "      <td>cs.IR</td>\n",
              "      <td>2024</td>\n",
              "    </tr>\n",
              "    <tr>\n",
              "      <th>1</th>\n",
              "      <td>Inferring Discussion Topics about Exploitation...</td>\n",
              "      <td>Felipe Moreno-Vera</td>\n",
              "      <td>The increasing sophistication of cyber threats...</td>\n",
              "      <td>http://arxiv.org/abs/2405.04561v1</td>\n",
              "      <td>2024-05-07 14:54:32+00:00</td>\n",
              "      <td>cs.CR, cs.AI, cs.CY, cs.LG</td>\n",
              "      <td>2024</td>\n",
              "    </tr>\n",
              "    <tr>\n",
              "      <th>2</th>\n",
              "      <td>Identifying Narrative Patterns and Outliers in...</td>\n",
              "      <td>Maxim Ifergan, Renana Keydar, Omri Abend, Amit...</td>\n",
              "      <td>The vast collection of Holocaust survivor test...</td>\n",
              "      <td>http://arxiv.org/abs/2405.02650v1</td>\n",
              "      <td>2024-05-04 12:29:00+00:00</td>\n",
              "      <td>cs.CL, cs.AI</td>\n",
              "      <td>2024</td>\n",
              "    </tr>\n",
              "    <tr>\n",
              "      <th>3</th>\n",
              "      <td>A Named Entity Recognition and Topic Modeling-...</td>\n",
              "      <td>Ayaz Mehmood, Muhammad Tayyab Zamir, Muhammad ...</td>\n",
              "      <td>Over the last decade, similar to other applica...</td>\n",
              "      <td>http://arxiv.org/abs/2405.00903v1</td>\n",
              "      <td>2024-05-01 23:19:49+00:00</td>\n",
              "      <td>cs.CL</td>\n",
              "      <td>2024</td>\n",
              "    </tr>\n",
              "    <tr>\n",
              "      <th>4</th>\n",
              "      <td>Addressing Topic Granularity and Hallucination...</td>\n",
              "      <td>Yida Mu, Peizhen Bai, Kalina Bontcheva, Xingyi...</td>\n",
              "      <td>Large language models (LLMs) with their strong...</td>\n",
              "      <td>http://arxiv.org/abs/2405.00611v1</td>\n",
              "      <td>2024-05-01 16:32:07+00:00</td>\n",
              "      <td>cs.CL</td>\n",
              "      <td>2024</td>\n",
              "    </tr>\n",
              "    <tr>\n",
              "      <th>...</th>\n",
              "      <td>...</td>\n",
              "      <td>...</td>\n",
              "      <td>...</td>\n",
              "      <td>...</td>\n",
              "      <td>...</td>\n",
              "      <td>...</td>\n",
              "      <td>...</td>\n",
              "    </tr>\n",
              "    <tr>\n",
              "      <th>1435</th>\n",
              "      <td>Text Modeling using Unsupervised Topic Models ...</td>\n",
              "      <td>Chaitanya Chemudugunta, Padhraic Smyth, Mark S...</td>\n",
              "      <td>Statistical topic models provide a general dat...</td>\n",
              "      <td>http://arxiv.org/abs/0808.0973v1</td>\n",
              "      <td>2008-08-07 07:59:29+00:00</td>\n",
              "      <td>cs.AI, cs.IR</td>\n",
              "      <td>2008</td>\n",
              "    </tr>\n",
              "    <tr>\n",
              "      <th>1436</th>\n",
              "      <td>Modeling Loosely Annotated Images with Imagine...</td>\n",
              "      <td>Hong Tang, Nozha Boujemma, Yunhao Chen</td>\n",
              "      <td>In this paper, we present an approach to learn...</td>\n",
              "      <td>http://arxiv.org/abs/0805.4508v1</td>\n",
              "      <td>2008-05-29 10:35:29+00:00</td>\n",
              "      <td>cs.IR, cs.AI, H.3.3</td>\n",
              "      <td>2008</td>\n",
              "    </tr>\n",
              "    <tr>\n",
              "      <th>1437</th>\n",
              "      <td>Modeling Online Reviews with Multi-grain Topic...</td>\n",
              "      <td>Ivan Titov, Ryan McDonald</td>\n",
              "      <td>In this paper we present a novel framework for...</td>\n",
              "      <td>http://arxiv.org/abs/0801.1063v1</td>\n",
              "      <td>2008-01-07 17:01:34+00:00</td>\n",
              "      <td>cs.IR, cs.DB, H.2.8; H.3.1; H.4</td>\n",
              "      <td>2008</td>\n",
              "    </tr>\n",
              "    <tr>\n",
              "      <th>1438</th>\n",
              "      <td>Correction: A correlated topic model of Science</td>\n",
              "      <td>David M. Blei, John D. Lafferty</td>\n",
              "      <td>Correction to Annals of Applied Statistics 1 (...</td>\n",
              "      <td>http://arxiv.org/abs/0712.1486v1</td>\n",
              "      <td>2007-12-10 14:16:00+00:00</td>\n",
              "      <td>stat.AP</td>\n",
              "      <td>2007</td>\n",
              "    </tr>\n",
              "    <tr>\n",
              "      <th>1439</th>\n",
              "      <td>A correlated topic model of Science</td>\n",
              "      <td>David M. Blei, John D. Lafferty</td>\n",
              "      <td>Topic models, such as latent Dirichlet allocat...</td>\n",
              "      <td>http://arxiv.org/abs/0708.3601v2</td>\n",
              "      <td>2007-08-27 14:40:55+00:00</td>\n",
              "      <td>stat.AP</td>\n",
              "      <td>2007</td>\n",
              "    </tr>\n",
              "  </tbody>\n",
              "</table>\n",
              "<p>1440 rows × 7 columns</p>\n",
              "</div>\n",
              "    <div class=\"colab-df-buttons\">\n",
              "\n",
              "  <div class=\"colab-df-container\">\n",
              "    <button class=\"colab-df-convert\" onclick=\"convertToInteractive('df-c43c00eb-537b-4386-87e5-c576669bcc0c')\"\n",
              "            title=\"Convert this dataframe to an interactive table.\"\n",
              "            style=\"display:none;\">\n",
              "\n",
              "  <svg xmlns=\"http://www.w3.org/2000/svg\" height=\"24px\" viewBox=\"0 -960 960 960\">\n",
              "    <path d=\"M120-120v-720h720v720H120Zm60-500h600v-160H180v160Zm220 220h160v-160H400v160Zm0 220h160v-160H400v160ZM180-400h160v-160H180v160Zm440 0h160v-160H620v160ZM180-180h160v-160H180v160Zm440 0h160v-160H620v160Z\"/>\n",
              "  </svg>\n",
              "    </button>\n",
              "\n",
              "  <style>\n",
              "    .colab-df-container {\n",
              "      display:flex;\n",
              "      gap: 12px;\n",
              "    }\n",
              "\n",
              "    .colab-df-convert {\n",
              "      background-color: #E8F0FE;\n",
              "      border: none;\n",
              "      border-radius: 50%;\n",
              "      cursor: pointer;\n",
              "      display: none;\n",
              "      fill: #1967D2;\n",
              "      height: 32px;\n",
              "      padding: 0 0 0 0;\n",
              "      width: 32px;\n",
              "    }\n",
              "\n",
              "    .colab-df-convert:hover {\n",
              "      background-color: #E2EBFA;\n",
              "      box-shadow: 0px 1px 2px rgba(60, 64, 67, 0.3), 0px 1px 3px 1px rgba(60, 64, 67, 0.15);\n",
              "      fill: #174EA6;\n",
              "    }\n",
              "\n",
              "    .colab-df-buttons div {\n",
              "      margin-bottom: 4px;\n",
              "    }\n",
              "\n",
              "    [theme=dark] .colab-df-convert {\n",
              "      background-color: #3B4455;\n",
              "      fill: #D2E3FC;\n",
              "    }\n",
              "\n",
              "    [theme=dark] .colab-df-convert:hover {\n",
              "      background-color: #434B5C;\n",
              "      box-shadow: 0px 1px 3px 1px rgba(0, 0, 0, 0.15);\n",
              "      filter: drop-shadow(0px 1px 2px rgba(0, 0, 0, 0.3));\n",
              "      fill: #FFFFFF;\n",
              "    }\n",
              "  </style>\n",
              "\n",
              "    <script>\n",
              "      const buttonEl =\n",
              "        document.querySelector('#df-c43c00eb-537b-4386-87e5-c576669bcc0c button.colab-df-convert');\n",
              "      buttonEl.style.display =\n",
              "        google.colab.kernel.accessAllowed ? 'block' : 'none';\n",
              "\n",
              "      async function convertToInteractive(key) {\n",
              "        const element = document.querySelector('#df-c43c00eb-537b-4386-87e5-c576669bcc0c');\n",
              "        const dataTable =\n",
              "          await google.colab.kernel.invokeFunction('convertToInteractive',\n",
              "                                                    [key], {});\n",
              "        if (!dataTable) return;\n",
              "\n",
              "        const docLinkHtml = 'Like what you see? Visit the ' +\n",
              "          '<a target=\"_blank\" href=https://colab.research.google.com/notebooks/data_table.ipynb>data table notebook</a>'\n",
              "          + ' to learn more about interactive tables.';\n",
              "        element.innerHTML = '';\n",
              "        dataTable['output_type'] = 'display_data';\n",
              "        await google.colab.output.renderOutput(dataTable, element);\n",
              "        const docLink = document.createElement('div');\n",
              "        docLink.innerHTML = docLinkHtml;\n",
              "        element.appendChild(docLink);\n",
              "      }\n",
              "    </script>\n",
              "  </div>\n",
              "\n",
              "\n",
              "<div id=\"df-7303c4a9-f435-4673-8142-1991bbcda938\">\n",
              "  <button class=\"colab-df-quickchart\" onclick=\"quickchart('df-7303c4a9-f435-4673-8142-1991bbcda938')\"\n",
              "            title=\"Suggest charts\"\n",
              "            style=\"display:none;\">\n",
              "\n",
              "<svg xmlns=\"http://www.w3.org/2000/svg\" height=\"24px\"viewBox=\"0 0 24 24\"\n",
              "     width=\"24px\">\n",
              "    <g>\n",
              "        <path d=\"M19 3H5c-1.1 0-2 .9-2 2v14c0 1.1.9 2 2 2h14c1.1 0 2-.9 2-2V5c0-1.1-.9-2-2-2zM9 17H7v-7h2v7zm4 0h-2V7h2v10zm4 0h-2v-4h2v4z\"/>\n",
              "    </g>\n",
              "</svg>\n",
              "  </button>\n",
              "\n",
              "<style>\n",
              "  .colab-df-quickchart {\n",
              "      --bg-color: #E8F0FE;\n",
              "      --fill-color: #1967D2;\n",
              "      --hover-bg-color: #E2EBFA;\n",
              "      --hover-fill-color: #174EA6;\n",
              "      --disabled-fill-color: #AAA;\n",
              "      --disabled-bg-color: #DDD;\n",
              "  }\n",
              "\n",
              "  [theme=dark] .colab-df-quickchart {\n",
              "      --bg-color: #3B4455;\n",
              "      --fill-color: #D2E3FC;\n",
              "      --hover-bg-color: #434B5C;\n",
              "      --hover-fill-color: #FFFFFF;\n",
              "      --disabled-bg-color: #3B4455;\n",
              "      --disabled-fill-color: #666;\n",
              "  }\n",
              "\n",
              "  .colab-df-quickchart {\n",
              "    background-color: var(--bg-color);\n",
              "    border: none;\n",
              "    border-radius: 50%;\n",
              "    cursor: pointer;\n",
              "    display: none;\n",
              "    fill: var(--fill-color);\n",
              "    height: 32px;\n",
              "    padding: 0;\n",
              "    width: 32px;\n",
              "  }\n",
              "\n",
              "  .colab-df-quickchart:hover {\n",
              "    background-color: var(--hover-bg-color);\n",
              "    box-shadow: 0 1px 2px rgba(60, 64, 67, 0.3), 0 1px 3px 1px rgba(60, 64, 67, 0.15);\n",
              "    fill: var(--button-hover-fill-color);\n",
              "  }\n",
              "\n",
              "  .colab-df-quickchart-complete:disabled,\n",
              "  .colab-df-quickchart-complete:disabled:hover {\n",
              "    background-color: var(--disabled-bg-color);\n",
              "    fill: var(--disabled-fill-color);\n",
              "    box-shadow: none;\n",
              "  }\n",
              "\n",
              "  .colab-df-spinner {\n",
              "    border: 2px solid var(--fill-color);\n",
              "    border-color: transparent;\n",
              "    border-bottom-color: var(--fill-color);\n",
              "    animation:\n",
              "      spin 1s steps(1) infinite;\n",
              "  }\n",
              "\n",
              "  @keyframes spin {\n",
              "    0% {\n",
              "      border-color: transparent;\n",
              "      border-bottom-color: var(--fill-color);\n",
              "      border-left-color: var(--fill-color);\n",
              "    }\n",
              "    20% {\n",
              "      border-color: transparent;\n",
              "      border-left-color: var(--fill-color);\n",
              "      border-top-color: var(--fill-color);\n",
              "    }\n",
              "    30% {\n",
              "      border-color: transparent;\n",
              "      border-left-color: var(--fill-color);\n",
              "      border-top-color: var(--fill-color);\n",
              "      border-right-color: var(--fill-color);\n",
              "    }\n",
              "    40% {\n",
              "      border-color: transparent;\n",
              "      border-right-color: var(--fill-color);\n",
              "      border-top-color: var(--fill-color);\n",
              "    }\n",
              "    60% {\n",
              "      border-color: transparent;\n",
              "      border-right-color: var(--fill-color);\n",
              "    }\n",
              "    80% {\n",
              "      border-color: transparent;\n",
              "      border-right-color: var(--fill-color);\n",
              "      border-bottom-color: var(--fill-color);\n",
              "    }\n",
              "    90% {\n",
              "      border-color: transparent;\n",
              "      border-bottom-color: var(--fill-color);\n",
              "    }\n",
              "  }\n",
              "</style>\n",
              "\n",
              "  <script>\n",
              "    async function quickchart(key) {\n",
              "      const quickchartButtonEl =\n",
              "        document.querySelector('#' + key + ' button');\n",
              "      quickchartButtonEl.disabled = true;  // To prevent multiple clicks.\n",
              "      quickchartButtonEl.classList.add('colab-df-spinner');\n",
              "      try {\n",
              "        const charts = await google.colab.kernel.invokeFunction(\n",
              "            'suggestCharts', [key], {});\n",
              "      } catch (error) {\n",
              "        console.error('Error during call to suggestCharts:', error);\n",
              "      }\n",
              "      quickchartButtonEl.classList.remove('colab-df-spinner');\n",
              "      quickchartButtonEl.classList.add('colab-df-quickchart-complete');\n",
              "    }\n",
              "    (() => {\n",
              "      let quickchartButtonEl =\n",
              "        document.querySelector('#df-7303c4a9-f435-4673-8142-1991bbcda938 button');\n",
              "      quickchartButtonEl.style.display =\n",
              "        google.colab.kernel.accessAllowed ? 'block' : 'none';\n",
              "    })();\n",
              "  </script>\n",
              "</div>\n",
              "\n",
              "  <div id=\"id_ab4e5d8d-22a4-443c-82a1-792341a7e060\">\n",
              "    <style>\n",
              "      .colab-df-generate {\n",
              "        background-color: #E8F0FE;\n",
              "        border: none;\n",
              "        border-radius: 50%;\n",
              "        cursor: pointer;\n",
              "        display: none;\n",
              "        fill: #1967D2;\n",
              "        height: 32px;\n",
              "        padding: 0 0 0 0;\n",
              "        width: 32px;\n",
              "      }\n",
              "\n",
              "      .colab-df-generate:hover {\n",
              "        background-color: #E2EBFA;\n",
              "        box-shadow: 0px 1px 2px rgba(60, 64, 67, 0.3), 0px 1px 3px 1px rgba(60, 64, 67, 0.15);\n",
              "        fill: #174EA6;\n",
              "      }\n",
              "\n",
              "      [theme=dark] .colab-df-generate {\n",
              "        background-color: #3B4455;\n",
              "        fill: #D2E3FC;\n",
              "      }\n",
              "\n",
              "      [theme=dark] .colab-df-generate:hover {\n",
              "        background-color: #434B5C;\n",
              "        box-shadow: 0px 1px 3px 1px rgba(0, 0, 0, 0.15);\n",
              "        filter: drop-shadow(0px 1px 2px rgba(0, 0, 0, 0.3));\n",
              "        fill: #FFFFFF;\n",
              "      }\n",
              "    </style>\n",
              "    <button class=\"colab-df-generate\" onclick=\"generateWithVariable('df')\"\n",
              "            title=\"Generate code using this dataframe.\"\n",
              "            style=\"display:none;\">\n",
              "\n",
              "  <svg xmlns=\"http://www.w3.org/2000/svg\" height=\"24px\"viewBox=\"0 0 24 24\"\n",
              "       width=\"24px\">\n",
              "    <path d=\"M7,19H8.4L18.45,9,17,7.55,7,17.6ZM5,21V16.75L18.45,3.32a2,2,0,0,1,2.83,0l1.4,1.43a1.91,1.91,0,0,1,.58,1.4,1.91,1.91,0,0,1-.58,1.4L9.25,21ZM18.45,9,17,7.55Zm-12,3A5.31,5.31,0,0,0,4.9,8.1,5.31,5.31,0,0,0,1,6.5,5.31,5.31,0,0,0,4.9,4.9,5.31,5.31,0,0,0,6.5,1,5.31,5.31,0,0,0,8.1,4.9,5.31,5.31,0,0,0,12,6.5,5.46,5.46,0,0,0,6.5,12Z\"/>\n",
              "  </svg>\n",
              "    </button>\n",
              "    <script>\n",
              "      (() => {\n",
              "      const buttonEl =\n",
              "        document.querySelector('#id_ab4e5d8d-22a4-443c-82a1-792341a7e060 button.colab-df-generate');\n",
              "      buttonEl.style.display =\n",
              "        google.colab.kernel.accessAllowed ? 'block' : 'none';\n",
              "\n",
              "      buttonEl.onclick = () => {\n",
              "        google.colab.notebook.generateWithVariable('df');\n",
              "      }\n",
              "      })();\n",
              "    </script>\n",
              "  </div>\n",
              "\n",
              "    </div>\n",
              "  </div>\n"
            ],
            "application/vnd.google.colaboratory.intrinsic+json": {
              "type": "dataframe",
              "variable_name": "df",
              "summary": "{\n  \"name\": \"df\",\n  \"rows\": 1440,\n  \"fields\": [\n    {\n      \"column\": \"Title\",\n      \"properties\": {\n        \"dtype\": \"string\",\n        \"num_unique_values\": 1437,\n        \"samples\": [\n          \"Paying down metadata debt: learning the representation of concepts using topic models\",\n          \"Cross-domain recommender system using Generalized Canonical Correlation Analysis\",\n          \"Welcome to Gab Alt Right Discourses\"\n        ],\n        \"semantic_type\": \"\",\n        \"description\": \"\"\n      }\n    },\n    {\n      \"column\": \"Authors\",\n      \"properties\": {\n        \"dtype\": \"string\",\n        \"num_unique_values\": 1369,\n        \"samples\": [\n          \"Elaine Zosa, Ravi Shekhar, Mladen Karan, Matthew Purver\",\n          \"George Mathew, Amritanshu Agrawal, Tim Menzies\",\n          \"Federico Bianchi, Silvia Terragni, Dirk Hovy\"\n        ],\n        \"semantic_type\": \"\",\n        \"description\": \"\"\n      }\n    },\n    {\n      \"column\": \"Abstract\",\n      \"properties\": {\n        \"dtype\": \"string\",\n        \"num_unique_values\": 1440,\n        \"samples\": [\n          \"As the e-commerce market continues to expand and online transactions proliferate, customer reviews have emerged as a critical element in shaping the purchasing decisions of prospective buyers. Previous studies have endeavored to identify key aspects of customer reviews through the development of sentiment analysis models and topic models. However, extracting specific dissatisfaction factors remains a challenging task. In this study, we delineate the pain point detection problem and propose Painsight, an unsupervised framework for automatically extracting distinct dissatisfaction factors from customer reviews without relying on ground truth labels. Painsight employs pre-trained language models to construct sentiment analysis and topic models, leveraging attribution scores derived from model gradients to extract dissatisfaction factors. Upon application of the proposed methodology to customer review data spanning five product categories, we successfully identified and categorized dissatisfaction factors within each group, as well as isolated factors for each type. Notably, Painsight outperformed benchmark methods, achieving substantial performance enhancements and exceptional results in human evaluations.\",\n          \"Advances on deep generative models have attracted significant research interest in neural topic modeling. The recently proposed Adversarial-neural Topic Model models topics with an adversarially trained generator network and employs Dirichlet prior to capture the semantic patterns in latent topics. It is effective in discovering coherent topics but unable to infer topic distributions for given documents or utilize available document labels. To overcome such limitations, we propose Topic Modeling with Cycle-consistent Adversarial Training (ToMCAT) and its supervised version sToMCAT. ToMCAT employs a generator network to interpret topics and an encoder network to infer document topics. Adversarial training and cycle-consistent constraints are used to encourage the generator and the encoder to produce realistic samples that coordinate with each other. sToMCAT extends ToMCAT by incorporating document labels into the topic modeling process to help discover more coherent topics. The effectiveness of the proposed models is evaluated on unsupervised/supervised topic modeling and text classification. The experimental results show that our models can produce both coherent and informative topics, outperforming a number of competitive baselines.\",\n          \"Understanding how attitudes towards the Climate Emergency vary can hold the key to driving policy changes for effective action to mitigate climate related risk. The Oil and Gas industry account for a significant proportion of global emissions and so it could be speculated that there is a relationship between Crude Oil Futures and sentiment towards the Climate Emergency. Using Latent Dirichlet Allocation for Topic Modelling on a bespoke Twitter dataset, this study shows that it is possible to split the conversation surrounding the Climate Emergency into 3 distinct topics. Forecasting Crude Oil Futures using Seasonal AutoRegressive Integrated Moving Average Modelling gives promising results with a root mean squared error of 0.196 and 0.209 on the training and testing data respectively. Understanding variation in attitudes towards climate emergency provides inconclusive results which could be improved using spatial-temporal analysis methods such as Density Based Clustering (DBSCAN).\"\n        ],\n        \"semantic_type\": \"\",\n        \"description\": \"\"\n      }\n    },\n    {\n      \"column\": \"entry_id\",\n      \"properties\": {\n        \"dtype\": \"string\",\n        \"num_unique_values\": 1440,\n        \"samples\": [\n          \"http://arxiv.org/abs/2306.02043v1\",\n          \"http://arxiv.org/abs/2009.13971v1\",\n          \"http://arxiv.org/abs/2101.10376v1\"\n        ],\n        \"semantic_type\": \"\",\n        \"description\": \"\"\n      }\n    },\n    {\n      \"column\": \"Date\",\n      \"properties\": {\n        \"dtype\": \"date\",\n        \"min\": \"2007-08-27 14:40:55+00:00\",\n        \"max\": \"2024-05-07 23:32:32+00:00\",\n        \"num_unique_values\": 1437,\n        \"samples\": [\n          \"2020-10-13 09:30:04+00:00\",\n          \"2019-09-16 22:21:27+00:00\",\n          \"2020-07-22 10:09:26+00:00\"\n        ],\n        \"semantic_type\": \"\",\n        \"description\": \"\"\n      }\n    },\n    {\n      \"column\": \"Categories\",\n      \"properties\": {\n        \"dtype\": \"category\",\n        \"num_unique_values\": 505,\n        \"samples\": [\n          \"q-fin.GN, econ.GN, q-fin.EC, I.2; I.7\",\n          \"cs.SI, cs.CL, cs.IR\",\n          \"stat.ML, cs.LG, cs.SI, physics.soc-ph, q-fin.ST\"\n        ],\n        \"semantic_type\": \"\",\n        \"description\": \"\"\n      }\n    },\n    {\n      \"column\": \"year\",\n      \"properties\": {\n        \"dtype\": \"int32\",\n        \"num_unique_values\": 18,\n        \"samples\": [\n          2024,\n          2023,\n          2016\n        ],\n        \"semantic_type\": \"\",\n        \"description\": \"\"\n      }\n    }\n  ]\n}"
            }
          },
          "metadata": {},
          "execution_count": 34
        }
      ]
    },
    {
      "cell_type": "code",
      "source": [
        "df['Categories'].cat.categories"
      ],
      "metadata": {
        "colab": {
          "base_uri": "https://localhost:8080/",
          "height": 341
        },
        "id": "_4HUQx4ErOj0",
        "outputId": "4f6876ea-efc9-40da-bd84-75db9cd750b3"
      },
      "execution_count": 41,
      "outputs": [
        {
          "output_type": "stream",
          "name": "stderr",
          "text": [
            "/usr/local/lib/python3.10/dist-packages/ipykernel/ipkernel.py:283: DeprecationWarning: `should_run_async` will not call `transform_cell` automatically in the future. Please pass the result to `transformed_cell` argument and any exception that happen during thetransform in `preprocessing_exc_tuple` in IPython 7.17 and above.\n",
            "  and should_run_async(code)\n"
          ]
        },
        {
          "output_type": "error",
          "ename": "AttributeError",
          "evalue": "Can only use .cat accessor with a 'category' dtype",
          "traceback": [
            "\u001b[0;31m---------------------------------------------------------------------------\u001b[0m",
            "\u001b[0;31mAttributeError\u001b[0m                            Traceback (most recent call last)",
            "\u001b[0;32m<ipython-input-41-8e5b5ed435af>\u001b[0m in \u001b[0;36m<cell line: 1>\u001b[0;34m()\u001b[0m\n\u001b[0;32m----> 1\u001b[0;31m \u001b[0mdf\u001b[0m\u001b[0;34m[\u001b[0m\u001b[0;34m'Categories'\u001b[0m\u001b[0;34m]\u001b[0m\u001b[0;34m.\u001b[0m\u001b[0mcat\u001b[0m\u001b[0;34m.\u001b[0m\u001b[0mcategories\u001b[0m\u001b[0;34m\u001b[0m\u001b[0;34m\u001b[0m\u001b[0m\n\u001b[0m",
            "\u001b[0;32m/usr/local/lib/python3.10/dist-packages/pandas/core/generic.py\u001b[0m in \u001b[0;36m__getattr__\u001b[0;34m(self, name)\u001b[0m\n\u001b[1;32m   6297\u001b[0m         ):\n\u001b[1;32m   6298\u001b[0m             \u001b[0;32mreturn\u001b[0m \u001b[0mself\u001b[0m\u001b[0;34m[\u001b[0m\u001b[0mname\u001b[0m\u001b[0;34m]\u001b[0m\u001b[0;34m\u001b[0m\u001b[0;34m\u001b[0m\u001b[0m\n\u001b[0;32m-> 6299\u001b[0;31m         \u001b[0;32mreturn\u001b[0m \u001b[0mobject\u001b[0m\u001b[0;34m.\u001b[0m\u001b[0m__getattribute__\u001b[0m\u001b[0;34m(\u001b[0m\u001b[0mself\u001b[0m\u001b[0;34m,\u001b[0m \u001b[0mname\u001b[0m\u001b[0;34m)\u001b[0m\u001b[0;34m\u001b[0m\u001b[0;34m\u001b[0m\u001b[0m\n\u001b[0m\u001b[1;32m   6300\u001b[0m \u001b[0;34m\u001b[0m\u001b[0m\n\u001b[1;32m   6301\u001b[0m     \u001b[0;34m@\u001b[0m\u001b[0mfinal\u001b[0m\u001b[0;34m\u001b[0m\u001b[0;34m\u001b[0m\u001b[0m\n",
            "\u001b[0;32m/usr/local/lib/python3.10/dist-packages/pandas/core/accessor.py\u001b[0m in \u001b[0;36m__get__\u001b[0;34m(self, obj, cls)\u001b[0m\n\u001b[1;32m    222\u001b[0m             \u001b[0;31m# we're accessing the attribute of the class, i.e., Dataset.geo\u001b[0m\u001b[0;34m\u001b[0m\u001b[0;34m\u001b[0m\u001b[0m\n\u001b[1;32m    223\u001b[0m             \u001b[0;32mreturn\u001b[0m \u001b[0mself\u001b[0m\u001b[0;34m.\u001b[0m\u001b[0m_accessor\u001b[0m\u001b[0;34m\u001b[0m\u001b[0;34m\u001b[0m\u001b[0m\n\u001b[0;32m--> 224\u001b[0;31m         \u001b[0maccessor_obj\u001b[0m \u001b[0;34m=\u001b[0m \u001b[0mself\u001b[0m\u001b[0;34m.\u001b[0m\u001b[0m_accessor\u001b[0m\u001b[0;34m(\u001b[0m\u001b[0mobj\u001b[0m\u001b[0;34m)\u001b[0m\u001b[0;34m\u001b[0m\u001b[0;34m\u001b[0m\u001b[0m\n\u001b[0m\u001b[1;32m    225\u001b[0m         \u001b[0;31m# Replace the property with the accessor object. Inspired by:\u001b[0m\u001b[0;34m\u001b[0m\u001b[0;34m\u001b[0m\u001b[0m\n\u001b[1;32m    226\u001b[0m         \u001b[0;31m# https://www.pydanny.com/cached-property.html\u001b[0m\u001b[0;34m\u001b[0m\u001b[0;34m\u001b[0m\u001b[0m\n",
            "\u001b[0;32m/usr/local/lib/python3.10/dist-packages/pandas/core/arrays/categorical.py\u001b[0m in \u001b[0;36m__init__\u001b[0;34m(self, data)\u001b[0m\n\u001b[1;32m   2896\u001b[0m \u001b[0;34m\u001b[0m\u001b[0m\n\u001b[1;32m   2897\u001b[0m     \u001b[0;32mdef\u001b[0m \u001b[0m__init__\u001b[0m\u001b[0;34m(\u001b[0m\u001b[0mself\u001b[0m\u001b[0;34m,\u001b[0m \u001b[0mdata\u001b[0m\u001b[0;34m)\u001b[0m \u001b[0;34m->\u001b[0m \u001b[0;32mNone\u001b[0m\u001b[0;34m:\u001b[0m\u001b[0;34m\u001b[0m\u001b[0;34m\u001b[0m\u001b[0m\n\u001b[0;32m-> 2898\u001b[0;31m         \u001b[0mself\u001b[0m\u001b[0;34m.\u001b[0m\u001b[0m_validate\u001b[0m\u001b[0;34m(\u001b[0m\u001b[0mdata\u001b[0m\u001b[0;34m)\u001b[0m\u001b[0;34m\u001b[0m\u001b[0;34m\u001b[0m\u001b[0m\n\u001b[0m\u001b[1;32m   2899\u001b[0m         \u001b[0mself\u001b[0m\u001b[0;34m.\u001b[0m\u001b[0m_parent\u001b[0m \u001b[0;34m=\u001b[0m \u001b[0mdata\u001b[0m\u001b[0;34m.\u001b[0m\u001b[0mvalues\u001b[0m\u001b[0;34m\u001b[0m\u001b[0;34m\u001b[0m\u001b[0m\n\u001b[1;32m   2900\u001b[0m         \u001b[0mself\u001b[0m\u001b[0;34m.\u001b[0m\u001b[0m_index\u001b[0m \u001b[0;34m=\u001b[0m \u001b[0mdata\u001b[0m\u001b[0;34m.\u001b[0m\u001b[0mindex\u001b[0m\u001b[0;34m\u001b[0m\u001b[0;34m\u001b[0m\u001b[0m\n",
            "\u001b[0;32m/usr/local/lib/python3.10/dist-packages/pandas/core/arrays/categorical.py\u001b[0m in \u001b[0;36m_validate\u001b[0;34m(data)\u001b[0m\n\u001b[1;32m   2905\u001b[0m     \u001b[0;32mdef\u001b[0m \u001b[0m_validate\u001b[0m\u001b[0;34m(\u001b[0m\u001b[0mdata\u001b[0m\u001b[0;34m)\u001b[0m\u001b[0;34m:\u001b[0m\u001b[0;34m\u001b[0m\u001b[0;34m\u001b[0m\u001b[0m\n\u001b[1;32m   2906\u001b[0m         \u001b[0;32mif\u001b[0m \u001b[0;32mnot\u001b[0m \u001b[0misinstance\u001b[0m\u001b[0;34m(\u001b[0m\u001b[0mdata\u001b[0m\u001b[0;34m.\u001b[0m\u001b[0mdtype\u001b[0m\u001b[0;34m,\u001b[0m \u001b[0mCategoricalDtype\u001b[0m\u001b[0;34m)\u001b[0m\u001b[0;34m:\u001b[0m\u001b[0;34m\u001b[0m\u001b[0;34m\u001b[0m\u001b[0m\n\u001b[0;32m-> 2907\u001b[0;31m             \u001b[0;32mraise\u001b[0m \u001b[0mAttributeError\u001b[0m\u001b[0;34m(\u001b[0m\u001b[0;34m\"Can only use .cat accessor with a 'category' dtype\"\u001b[0m\u001b[0;34m)\u001b[0m\u001b[0;34m\u001b[0m\u001b[0;34m\u001b[0m\u001b[0m\n\u001b[0m\u001b[1;32m   2908\u001b[0m \u001b[0;34m\u001b[0m\u001b[0m\n\u001b[1;32m   2909\u001b[0m     \u001b[0;32mdef\u001b[0m \u001b[0m_delegate_property_get\u001b[0m\u001b[0;34m(\u001b[0m\u001b[0mself\u001b[0m\u001b[0;34m,\u001b[0m \u001b[0mname\u001b[0m\u001b[0;34m:\u001b[0m \u001b[0mstr\u001b[0m\u001b[0;34m)\u001b[0m\u001b[0;34m:\u001b[0m\u001b[0;34m\u001b[0m\u001b[0;34m\u001b[0m\u001b[0m\n",
            "\u001b[0;31mAttributeError\u001b[0m: Can only use .cat accessor with a 'category' dtype"
          ]
        }
      ]
    },
    {
      "cell_type": "code",
      "source": [],
      "metadata": {
        "id": "-YQTidn0sR8o"
      },
      "execution_count": null,
      "outputs": []
    },
    {
      "cell_type": "markdown",
      "source": [
        "##### Help note\n",
        "\n",
        "If your corpus is a csv, [pandas' read_csv method](https://pandas.pydata.org/docs/reference/api/pandas.read_csv.html) would be the best way to tackle it.\n",
        "\n",
        "If it is, however a text file or a zip of text files, you will need another way to load them. Luckily, python is working well with both - text and zip files, with a built-in support."
      ],
      "metadata": {
        "id": "vB0wRwUpX3yB"
      }
    },
    {
      "cell_type": "markdown",
      "source": [
        "###### Example with text\n",
        "For the sake of this example, let's download two files: one text file, and one gzip file, from this website:\n",
        "\n",
        "https://lindat.mff.cuni.cz/repository/xmlui/handle/11858/00-097C-0000-0023-6260-A"
      ],
      "metadata": {
        "id": "hHe2aaI-bFHU"
      }
    },
    {
      "cell_type": "code",
      "source": [
        "!curl --remote-name-all https://lindat.mff.cuni.cz/repository/xmlui/bitstream/handle/11858/00-097C-0000-0023-6260-A{/README.txt,/hindmonocorp05.plaintext.gz}\n"
      ],
      "metadata": {
        "colab": {
          "base_uri": "https://localhost:8080/"
        },
        "id": "JeiBbArnXZ_u",
        "outputId": "7d40e071-7998-4802-df74-fe156d48ee09"
      },
      "execution_count": null,
      "outputs": [
        {
          "output_type": "stream",
          "name": "stderr",
          "text": [
            "/usr/local/lib/python3.10/dist-packages/ipykernel/ipkernel.py:283: DeprecationWarning: `should_run_async` will not call `transform_cell` automatically in the future. Please pass the result to `transformed_cell` argument and any exception that happen during thetransform in `preprocessing_exc_tuple` in IPython 7.17 and above.\n",
            "  and should_run_async(code)\n"
          ]
        },
        {
          "output_type": "stream",
          "name": "stdout",
          "text": [
            "  % Total    % Received % Xferd  Average Speed   Time    Time     Time  Current\n",
            "                                 Dload  Upload   Total   Spent    Left  Speed\n",
            "100  4472  100  4472    0     0   3258      0  0:00:01  0:00:01 --:--:--  3259\n",
            "  % Total    % Received % Xferd  Average Speed   Time    Time     Time  Current\n",
            "                                 Dload  Upload   Total   Spent    Left  Speed\n",
            "100 2353M  100 2353M    0     0  19.3M      0  0:02:01  0:02:01 --:--:-- 20.0M\n"
          ]
        }
      ]
    },
    {
      "cell_type": "markdown",
      "source": [
        "Files are accessed using the `Path` package of python's pathlib:"
      ],
      "metadata": {
        "id": "2xk8Q5phbKR4"
      }
    },
    {
      "cell_type": "code",
      "source": [
        "from pathlib import Path"
      ],
      "metadata": {
        "id": "ZA1ibqJoZjgx",
        "colab": {
          "base_uri": "https://localhost:8080/"
        },
        "outputId": "b6bf1c87-66bf-4bfd-ae3d-d9849d073d25"
      },
      "execution_count": null,
      "outputs": [
        {
          "output_type": "stream",
          "name": "stderr",
          "text": [
            "/usr/local/lib/python3.10/dist-packages/ipykernel/ipkernel.py:283: DeprecationWarning: `should_run_async` will not call `transform_cell` automatically in the future. Please pass the result to `transformed_cell` argument and any exception that happen during thetransform in `preprocessing_exc_tuple` in IPython 7.17 and above.\n",
            "  and should_run_async(code)\n"
          ]
        }
      ]
    },
    {
      "cell_type": "markdown",
      "source": [
        "To access a file, we use its path in Path, like so:\n",
        "\n",
        "`Path('Folder/filename.extension')`\n",
        "\n",
        "Path has many methods for files and folder. Including looping over files in folder, checking if a file exists, etc.\n",
        "\n",
        "Read more about it here: https://docs.python.org/3/library/pathlib.html"
      ],
      "metadata": {
        "id": "icYkPSu5bQhG"
      }
    },
    {
      "cell_type": "code",
      "source": [
        "readme_file = Path('README.txt')\n",
        "\n",
        "if readme_file.exists():\n",
        "  # read the text content into a variable\n",
        "  file_content = readme_file.read_text()\n",
        "  print(file_content)\n",
        "else:\n",
        "  print(\"README.txt was not found...\")"
      ],
      "metadata": {
        "colab": {
          "base_uri": "https://localhost:8080/"
        },
        "id": "kteZ2w0QapcU",
        "outputId": "2f800598-e0d0-4e86-a689-2aa366df5422"
      },
      "execution_count": null,
      "outputs": [
        {
          "output_type": "stream",
          "name": "stdout",
          "text": [
            "HindEnCorp 0.5 and HindMonoCorp 0.5 File Formats\n",
            "================================================\n",
            "\n",
            "This file describes the file formats of the Hindi-English and Hindi-only\n",
            "corpora released in 2014 under the names HindEnCorp 0.5 and HindMonoCorp 0.5.\n",
            "\n",
            "More details about the preparation of the corpora can be found in the paper:\n",
            "\n",
            "  Ondřej Bojar, Vojtěch Diatka, Pavel Rychlý, Pavel Straňák, Aleš Tamchyna\n",
            "  and Dan Zeman. HindEnCorp - Hindi-English and Hindi-only Corpus for\n",
            "  Machine Translation. In Proc. of LREC 2014. Reykjavik, Iceland. ISBN\n",
            "  978-2-9517408-8-4. ELRA. 2014.\n",
            "\n",
            "or on the corpora web page:\n",
            "  http://ufal.mff.cuni.cz/hindencorp\n",
            "\n",
            "Please cite this paper if you make any use of the corpora. BibTeX citation\n",
            "format below.\n",
            "\n",
            "\n",
            "Common Properties\n",
            "-----------------\n",
            "\n",
            "All the files are plain text:\n",
            "\n",
            "- compressed with gzip\n",
            "- encoded in UTF-8\n",
            "- with unix line breaks (LF)\n",
            "- with tab-delimited columns\n",
            "\n",
            "The monolingual and parallel corpora have different columns.\n",
            "\n",
            "The actual corpus text is stored in one (monolingual corpus) or two (parallel\n",
            "corpus) of the columns.\n",
            "\n",
            "\n",
            "Plaintext vs. Export File Format\n",
            "--------------------------------\n",
            "\n",
            "Both the monolingual and the parallel corpus come in a simple plain text format\n",
            "and in a tokenized, tagged and lemmatized format.\n",
            "\n",
            "The plaintext format preserves the original tokenization (as much as possible\n",
            "given the diverse sources included in our corpus).\n",
            "\n",
            "The 'export' format is tokenized and represents each token as a '|'-delimited\n",
            "triple of: the word form, the lemma, and part-of-speech tag. If there was the\n",
            "character '|' (this character is also used instead of the proper Devanagari\n",
            "Danda in some sources), we escape it as '&pipe;'.\n",
            "\n",
            "There is exactly the same number of lines in the plaintext and export file\n",
            "formats.\n",
            "\n",
            "\n",
            "HindEnCorp Columns\n",
            "------------------\n",
            "\n",
            "The files hindencorp05.plaintext.gz and hindencorp05.export.gz each contain the\n",
            "parallel corpus and differ only in the processing of the corpus texts. The\n",
            "files have these columns:\n",
            "\n",
            "- source identifier (where do the segments come from)\n",
            "- alignment type (number of English segments - number of Hindi segments)\n",
            "- alignment quality, which is one of the following:\n",
            "    \"manual\"  ... for sources that were sentence-aligned manually\n",
            "    \"implied\" ... for sources where one side was constructed by translating\n",
            "                  segment by segment\n",
            "    float     ... a value somehow reflecting the goodness of the automatic\n",
            "                  alignment; not really reliable\n",
            "- English segment or segments\n",
            "- Hindi segment or segments\n",
            "\n",
            "Each of the segments field is in the plaintext or export format as described\n",
            "above.\n",
            "\n",
            "If there are more than one segments on a line (e.g. for lines with alignment\n",
            "type 2-1 where there are two English segments), then the segments are delimited\n",
            "with '<s>' in the text field.\n",
            "\n",
            "HindMonoCorp Columns\n",
            "--------------------\n",
            "\n",
            "The files hindmonocorp05.plaintext.gz and hindmonocorp05.export.gz each contain\n",
            "the monolingual corpus and differ only in the processing of the corpus text.\n",
            "Each input segment (usually one Hindi sentence) is stored on a separate line.\n",
            "The files have these columns:\n",
            "\n",
            "- source identifier (where does the segment come from)\n",
            "- segment type, which is one of the following:\n",
            "    <s>  ... this segment is a sentence from a 'text body'\n",
            "    <h>  ... this segment comes from a 'headline' (e.g. of an article)\n",
            "    <a>  ... anything, the source here does not allow to distinguish between\n",
            "             body and headlines\n",
            "- Hindi segment\n",
            "\n",
            "\n",
            "BibTeX Citation for HindEnCorp and HindMonoCorp 0.5\n",
            "---------------------------------------------------\n",
            "\n",
            "@InProceedings{hindencorp05:lrec:2014,\n",
            "  author = {Ond{\\v{r}}ej Bojar and Vojt{\\v{e}}ch Diatka\n",
            "            and Pavel Rychl{\\'{y}} and Pavel Stra{\\v{n}}{\\'{a}}k\n",
            "            and V{\\'{\\i}}t Suchomel and Ale{\\v{s}} Tamchyna and Daniel Zeman},\n",
            "  title = \"{HindEnCorp - Hindi-English and Hindi-only Corpus for Machine\n",
            "            Translation}\",\n",
            "  booktitle = {Proceedings of the Ninth International Conference on Language\n",
            "               Resources and Evaluation (LREC'14)},\n",
            "  year = {2014},\n",
            "  month = {may},\n",
            "  date = {26-31},\n",
            "  address = {Reykjavik, Iceland},\n",
            "  editor = {Nicoletta Calzolari (Conference Chair) and Khalid Choukri and\n",
            "     Thierry Declerck and Hrafn Loftsson and Bente Maegaard and Joseph Mariani\n",
            "     and Asuncion Moreno and Jan Odijk and Stelios Piperidis},\n",
            "  publisher = {European Language Resources Association (ELRA)},\n",
            "  isbn = {978-2-9517408-8-4},\n",
            "  language = {english}\n",
            "}\n",
            "\n",
            "\n"
          ]
        },
        {
          "output_type": "stream",
          "name": "stderr",
          "text": [
            "/usr/local/lib/python3.10/dist-packages/ipykernel/ipkernel.py:283: DeprecationWarning: `should_run_async` will not call `transform_cell` automatically in the future. Please pass the result to `transformed_cell` argument and any exception that happen during thetransform in `preprocessing_exc_tuple` in IPython 7.17 and above.\n",
            "  and should_run_async(code)\n"
          ]
        }
      ]
    },
    {
      "cell_type": "markdown",
      "source": [
        "If the file is a `.zip` file, you can open it and read its data without actually extracting all the files from it.\n",
        "\n",
        "https://docs.python.org/3/library/gzip.html\n",
        "\n",
        "Also, [requests](https://requests.readthedocs.io/en/latest/) is a great package of retrieving content from a URL."
      ],
      "metadata": {
        "id": "z4pDENv4cEqR"
      }
    },
    {
      "cell_type": "markdown",
      "source": [
        "###### Example with zipped files"
      ],
      "metadata": {
        "id": "79u_AizrnqqK"
      }
    },
    {
      "cell_type": "code",
      "source": [
        "import gzip\n"
      ],
      "metadata": {
        "id": "GjCxwaYDaWqX",
        "colab": {
          "base_uri": "https://localhost:8080/"
        },
        "outputId": "24fcc914-dc15-4d57-8a46-b04580198e36"
      },
      "execution_count": null,
      "outputs": [
        {
          "output_type": "stream",
          "name": "stderr",
          "text": [
            "/usr/local/lib/python3.10/dist-packages/ipykernel/ipkernel.py:283: DeprecationWarning: `should_run_async` will not call `transform_cell` automatically in the future. Please pass the result to `transformed_cell` argument and any exception that happen during thetransform in `preprocessing_exc_tuple` in IPython 7.17 and above.\n",
            "  and should_run_async(code)\n"
          ]
        }
      ]
    },
    {
      "cell_type": "code",
      "source": [
        "\n",
        "# this would download the file (but it's 2 GB, so go easy on your internet provider...):\n",
        "# file = requests.get('https://lindat.mff.cuni.cz/repository/xmlui/bitstream/handle/11858/00-097C-0000-0023-6260-A/hindmonocorp05.plaintext.gz')\n",
        "# with gzip.open(file.content, 'rb') as gz:\n",
        "#  ..."
      ],
      "metadata": {
        "id": "tBOjd-J6e5Kt",
        "colab": {
          "base_uri": "https://localhost:8080/"
        },
        "outputId": "788c6ef9-0269-4cd2-cf44-fc62f3db2566"
      },
      "execution_count": null,
      "outputs": [
        {
          "output_type": "stream",
          "name": "stderr",
          "text": [
            "/usr/local/lib/python3.10/dist-packages/ipykernel/ipkernel.py:283: DeprecationWarning: `should_run_async` will not call `transform_cell` automatically in the future. Please pass the result to `transformed_cell` argument and any exception that happen during thetransform in `preprocessing_exc_tuple` in IPython 7.17 and above.\n",
            "  and should_run_async(code)\n"
          ]
        }
      ]
    },
    {
      "cell_type": "markdown",
      "source": [
        "In this example, we will open the zip and read the text lines.\n",
        "The text is in hindi, so we have to decode it into `UTF-8` format:"
      ],
      "metadata": {
        "id": "_8CXmJU4i3Ng"
      }
    },
    {
      "cell_type": "code",
      "source": [
        "with gzip.open('hindmonocorp05.plaintext.gz', 'rb') as gz:\n",
        "  for i in range(10):\n",
        "    line = gz.readline()\n",
        "    words = line.decode('utf8').split()\n",
        "    print(words)\n"
      ],
      "metadata": {
        "colab": {
          "base_uri": "https://localhost:8080/"
        },
        "id": "FaShXt80f691",
        "outputId": "6bca3e9d-e1bc-4090-fb75-eb8f4227438d"
      },
      "execution_count": null,
      "outputs": [
        {
          "output_type": "stream",
          "name": "stdout",
          "text": [
            "['hwt2013', '<s>', 'लेकिन', 'गांव', 'के', 'जगदीश', 'मेघवाल,', 'मोहन...']\n",
            "['spiderling', '<s>', 'विटामिन', 'सी', 'शरीर', 'में', 'रोग', 'पैदा', 'करने', 'वाले', 'विषाणुओं', 'से', 'लड़ने', 'की', 'ताकत', 'पैदा', 'करता', 'है', 'और', 'शरीर', 'में', 'इसकी', 'संतुलित', 'मात्रा', 'बने', 'रहने', 'से', 'रोग', 'प्रतिरोधक', 'क्षमता', 'मजबूत', 'रहती', 'है।']\n",
            "['spiderling', '<s>', 'इन', 'बोतलों', 'के', 'बहुत', 'कम', 'पैसे', 'मिलते', 'हैं।']\n",
            "['commoncrawl', '<a>', 'कार्टून', ':-', 'रे', 'लोकपाल', 'आ', 'गया', 'तू', '?', 'शाबाश....', '19', '0']\n",
            "['spiderling', '<s>', 'प्रखर', 'बुद्धि', 'तेजस्वी', 'बालक', 'राजेन्द्र', 'बाल्यावस्था', 'में', 'ही', 'फारसी', 'में', 'शिक्षा', 'ग्रहण', 'करने', 'लगा', 'और', 'उसके', 'पश्चात', 'प्राथमिक', 'शिक्षा', 'के', 'लिए', 'छपरा', 'के', 'जिला', 'स्कूल', 'में', 'नामांकित', 'हो', 'गया।']\n",
            "['commoncrawl', '<a>', 'निदेशक', 'स्तर', 'का', 'एक', 'वैज्ञानिक', 'संस्थान', 'या', 'सहोदर', 'संस्थान', 'से', '(']\n",
            "['commoncrawl', '<a>', 'गज़ब', 'का', 'बतंगड़', 'है!', ':)', 'हिट', 'तो', 'वैसे', 'भी', 'है', 'जैसे', 'आपने', 'लिख', 'दिया', 'है,', 'जबर-रोचक', '(इस', 'शब्द', 'की']\n",
            "['w2cweb', '<a>', '2005', 'में', 'वर्ल्ड', 'वाइल्ड', 'लाइफ', 'फंड', 'की', 'संस्तुति', 'पर', 'गंगा', 'नदी', 'में', '165', 'किलोमीटर', 'के', 'हिस्से', 'में', \"'रामसर\", \"साइट'\", 'की', 'घोषणा', 'की', 'थी,', 'जिसमें', 'राष्ट्रीय', 'जल', 'जीव', 'डोलफिन', 'से', 'लेकर', 'सभी', 'प्रकार', 'के', 'जल', 'जीवों', 'की', 'रक्षा', 'के', 'लिए', 'सुरक्षा', 'के', 'व्यापक', 'प्रबंध', 'किए', 'गये', 'थे', 'और', 'उस', 'क्षेत्र', 'में', 'इन', 'जल', 'जीवों', 'को', 'किसी', 'भी', 'प्रकार', 'से', 'मारने', 'पर', 'वाइल्ड', 'लाइफ', 'प्रोटेक्शन', 'एक्ट', '1972', 'के', 'अंतर्गत', 'कार्रवाई', 'तक', 'करने', 'की', 'संस्तुति', 'की', 'गई', 'थी।']\n",
            "['spiderling', '<s>', 'पुराना', 'कैदीः', '”', 'अरे', '!', 'इतना', 'छोटा', 'काम', 'को', 'हमारे', 'बच्चे', 'ही', 'कर', 'लेते', 'हैं।']\n",
            "['spiderling', '<s>', 'इन', 'महाशय', 'का', 'सधवा', 'रूप', 'भी', 'विधवा', 'की', 'तरह', 'ही', 'बीता', 'था', '.....']\n"
          ]
        },
        {
          "output_type": "stream",
          "name": "stderr",
          "text": [
            "/usr/local/lib/python3.10/dist-packages/ipykernel/ipkernel.py:283: DeprecationWarning: `should_run_async` will not call `transform_cell` automatically in the future. Please pass the result to `transformed_cell` argument and any exception that happen during thetransform in `preprocessing_exc_tuple` in IPython 7.17 and above.\n",
            "  and should_run_async(code)\n"
          ]
        }
      ]
    },
    {
      "cell_type": "markdown",
      "source": [
        "**IMPORTANT NOTE**: If your corpus, like that file example is very large (2.3GB zipped), then please don't load all the text: it will not fit in the memory and will only cause you trouble.  \n",
        "Instead, you can use only the first 10 to 20k sentences, or so. For this exercise we just want you to get a hold of the steps and the proces involved in using LDA."
      ],
      "metadata": {
        "id": "SZLMI43toL76"
      }
    },
    {
      "cell_type": "markdown",
      "source": [
        "# Afterword\n",
        "\n",
        "Gensim is not the only library that implements the LDA algorithm.\n",
        "Another package that does LDA is [tomotopy](https://bab2min.github.io/tomotopy/v0.12.3/en/) - sometimes even faster than gensim. Additionaly, it is implemented as part of [Scikit-Learn](https://scikit-learn.org/stable/modules/generated/sklearn.decomposition.LatentDirichletAllocation.html) - which we use often in the course.\n",
        "\n",
        "Here's a jupyter example using Scikit-learn and spaCy: https://nbviewer.org/github/bmabey/pyLDAvis/blob/master/notebooks/sklearn.ipynb\n",
        "\n",
        "Since we won't dive deeper into the LDA topic in this course, if you wish to know more about the statistics behind it, [this video](https://www.youtube.com/watch?v=0jQo8lVRHRY) of a lesson by the researcher [Nando de Freitas](https://linkedin.com/in/nandodefreitas) gives a good overview."
      ],
      "metadata": {
        "id": "gvufRXnxoiwI"
      }
    },
    {
      "cell_type": "code",
      "source": [],
      "metadata": {
        "id": "c6YoKZ45q6AK",
        "colab": {
          "base_uri": "https://localhost:8080/"
        },
        "outputId": "abd26d7d-7821-4288-eaac-c5c054cd2294"
      },
      "execution_count": null,
      "outputs": [
        {
          "output_type": "stream",
          "name": "stderr",
          "text": [
            "/usr/local/lib/python3.10/dist-packages/ipykernel/ipkernel.py:283: DeprecationWarning: `should_run_async` will not call `transform_cell` automatically in the future. Please pass the result to `transformed_cell` argument and any exception that happen during thetransform in `preprocessing_exc_tuple` in IPython 7.17 and above.\n",
            "  and should_run_async(code)\n"
          ]
        }
      ]
    }
  ]
}